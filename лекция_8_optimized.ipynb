{
  "nbformat": 4,
  "nbformat_minor": 0,
  "metadata": {
    "kernelspec": {
      "name": "python3",
      "display_name": "Python 3"
    },
    "language_info": {
      "codemirror_mode": {
        "name": "ipython",
        "version": 3
      },
      "file_extension": ".py",
      "mimetype": "text/x-python",
      "name": "python",
      "nbconvert_exporter": "python",
      "pygments_lexer": "ipython3",
      "version": "3.6.6"
    },
    "colab": {
      "name": "лекция_8_optimized.ipynb",
      "provenance": [],
      "collapsed_sections": []
    },
    "accelerator": "GPU",
    "widgets": {
      "application/vnd.jupyter.widget-state+json": {
        "3a735e8f7aa94e8fa341f8e5b9ab3abb": {
          "model_module": "@jupyter-widgets/controls",
          "model_name": "HBoxModel",
          "state": {
            "_view_name": "HBoxView",
            "_dom_classes": [],
            "_model_name": "HBoxModel",
            "_view_module": "@jupyter-widgets/controls",
            "_model_module_version": "1.5.0",
            "_view_count": null,
            "_view_module_version": "1.5.0",
            "box_style": "",
            "layout": "IPY_MODEL_a63e480fce3a41e9babf21ebc4dc0406",
            "_model_module": "@jupyter-widgets/controls",
            "children": [
              "IPY_MODEL_dbe1df0f97074c7eb05b105a205abdb6",
              "IPY_MODEL_19cd98ef16ad43e2aaeed32431c30e66"
            ]
          }
        },
        "a63e480fce3a41e9babf21ebc4dc0406": {
          "model_module": "@jupyter-widgets/base",
          "model_name": "LayoutModel",
          "state": {
            "_view_name": "LayoutView",
            "grid_template_rows": null,
            "right": null,
            "justify_content": null,
            "_view_module": "@jupyter-widgets/base",
            "overflow": null,
            "_model_module_version": "1.2.0",
            "_view_count": null,
            "flex_flow": null,
            "width": null,
            "min_width": null,
            "border": null,
            "align_items": null,
            "bottom": null,
            "_model_module": "@jupyter-widgets/base",
            "top": null,
            "grid_column": null,
            "overflow_y": null,
            "overflow_x": null,
            "grid_auto_flow": null,
            "grid_area": null,
            "grid_template_columns": null,
            "flex": null,
            "_model_name": "LayoutModel",
            "justify_items": null,
            "grid_row": null,
            "max_height": null,
            "align_content": null,
            "visibility": null,
            "align_self": null,
            "height": null,
            "min_height": null,
            "padding": null,
            "grid_auto_rows": null,
            "grid_gap": null,
            "max_width": null,
            "order": null,
            "_view_module_version": "1.2.0",
            "grid_template_areas": null,
            "object_position": null,
            "object_fit": null,
            "grid_auto_columns": null,
            "margin": null,
            "display": null,
            "left": null
          }
        },
        "dbe1df0f97074c7eb05b105a205abdb6": {
          "model_module": "@jupyter-widgets/controls",
          "model_name": "FloatProgressModel",
          "state": {
            "_view_name": "ProgressView",
            "style": "IPY_MODEL_896aa68faa8c4643aa51826ce56c892f",
            "_dom_classes": [],
            "description": "100%",
            "_model_name": "FloatProgressModel",
            "bar_style": "success",
            "max": 75000,
            "_view_module": "@jupyter-widgets/controls",
            "_model_module_version": "1.5.0",
            "value": 75000,
            "_view_count": null,
            "_view_module_version": "1.5.0",
            "orientation": "horizontal",
            "min": 0,
            "description_tooltip": null,
            "_model_module": "@jupyter-widgets/controls",
            "layout": "IPY_MODEL_d49933bfd36e42bb966fe21aeaf63d34"
          }
        },
        "19cd98ef16ad43e2aaeed32431c30e66": {
          "model_module": "@jupyter-widgets/controls",
          "model_name": "HTMLModel",
          "state": {
            "_view_name": "HTMLView",
            "style": "IPY_MODEL_7c531d146e4c45bc94285baa10bea47a",
            "_dom_classes": [],
            "description": "",
            "_model_name": "HTMLModel",
            "placeholder": "​",
            "_view_module": "@jupyter-widgets/controls",
            "_model_module_version": "1.5.0",
            "value": " 75000/75000 [2:33:05&lt;00:00,  8.16it/s]",
            "_view_count": null,
            "_view_module_version": "1.5.0",
            "description_tooltip": null,
            "_model_module": "@jupyter-widgets/controls",
            "layout": "IPY_MODEL_4f1030f2cb1944c084f168622c0269d8"
          }
        },
        "896aa68faa8c4643aa51826ce56c892f": {
          "model_module": "@jupyter-widgets/controls",
          "model_name": "ProgressStyleModel",
          "state": {
            "_view_name": "StyleView",
            "_model_name": "ProgressStyleModel",
            "description_width": "initial",
            "_view_module": "@jupyter-widgets/base",
            "_model_module_version": "1.5.0",
            "_view_count": null,
            "_view_module_version": "1.2.0",
            "bar_color": null,
            "_model_module": "@jupyter-widgets/controls"
          }
        },
        "d49933bfd36e42bb966fe21aeaf63d34": {
          "model_module": "@jupyter-widgets/base",
          "model_name": "LayoutModel",
          "state": {
            "_view_name": "LayoutView",
            "grid_template_rows": null,
            "right": null,
            "justify_content": null,
            "_view_module": "@jupyter-widgets/base",
            "overflow": null,
            "_model_module_version": "1.2.0",
            "_view_count": null,
            "flex_flow": null,
            "width": null,
            "min_width": null,
            "border": null,
            "align_items": null,
            "bottom": null,
            "_model_module": "@jupyter-widgets/base",
            "top": null,
            "grid_column": null,
            "overflow_y": null,
            "overflow_x": null,
            "grid_auto_flow": null,
            "grid_area": null,
            "grid_template_columns": null,
            "flex": null,
            "_model_name": "LayoutModel",
            "justify_items": null,
            "grid_row": null,
            "max_height": null,
            "align_content": null,
            "visibility": null,
            "align_self": null,
            "height": null,
            "min_height": null,
            "padding": null,
            "grid_auto_rows": null,
            "grid_gap": null,
            "max_width": null,
            "order": null,
            "_view_module_version": "1.2.0",
            "grid_template_areas": null,
            "object_position": null,
            "object_fit": null,
            "grid_auto_columns": null,
            "margin": null,
            "display": null,
            "left": null
          }
        },
        "7c531d146e4c45bc94285baa10bea47a": {
          "model_module": "@jupyter-widgets/controls",
          "model_name": "DescriptionStyleModel",
          "state": {
            "_view_name": "StyleView",
            "_model_name": "DescriptionStyleModel",
            "description_width": "",
            "_view_module": "@jupyter-widgets/base",
            "_model_module_version": "1.5.0",
            "_view_count": null,
            "_view_module_version": "1.2.0",
            "_model_module": "@jupyter-widgets/controls"
          }
        },
        "4f1030f2cb1944c084f168622c0269d8": {
          "model_module": "@jupyter-widgets/base",
          "model_name": "LayoutModel",
          "state": {
            "_view_name": "LayoutView",
            "grid_template_rows": null,
            "right": null,
            "justify_content": null,
            "_view_module": "@jupyter-widgets/base",
            "overflow": null,
            "_model_module_version": "1.2.0",
            "_view_count": null,
            "flex_flow": null,
            "width": null,
            "min_width": null,
            "border": null,
            "align_items": null,
            "bottom": null,
            "_model_module": "@jupyter-widgets/base",
            "top": null,
            "grid_column": null,
            "overflow_y": null,
            "overflow_x": null,
            "grid_auto_flow": null,
            "grid_area": null,
            "grid_template_columns": null,
            "flex": null,
            "_model_name": "LayoutModel",
            "justify_items": null,
            "grid_row": null,
            "max_height": null,
            "align_content": null,
            "visibility": null,
            "align_self": null,
            "height": null,
            "min_height": null,
            "padding": null,
            "grid_auto_rows": null,
            "grid_gap": null,
            "max_width": null,
            "order": null,
            "_view_module_version": "1.2.0",
            "grid_template_areas": null,
            "object_position": null,
            "object_fit": null,
            "grid_auto_columns": null,
            "margin": null,
            "display": null,
            "left": null
          }
        }
      }
    }
  },
  "cells": [
    {
      "cell_type": "code",
      "metadata": {
        "id": "ERVUpOKzB8zy"
      },
      "source": [
        "from IPython.display import clear_output"
      ],
      "execution_count": 1,
      "outputs": []
    },
    {
      "cell_type": "code",
      "metadata": {
        "id": "IW0yNoELCoMh"
      },
      "source": [
        "!pip install pycodestyle pycodestyle_magic\n",
        "!pip install flake8\n",
        "clear_output()"
      ],
      "execution_count": 2,
      "outputs": []
    },
    {
      "cell_type": "code",
      "metadata": {
        "id": "H1r_fo7eCp55"
      },
      "source": [
        "%load_ext pycodestyle_magic"
      ],
      "execution_count": 3,
      "outputs": []
    },
    {
      "cell_type": "code",
      "metadata": {
        "id": "mzibvYIIT724"
      },
      "source": [
        "!wget https://download.pytorch.org/tutorial/data.zip\n",
        "!unzip data.zip\n",
        "!rm *.zip\n",
        "!rm -r data/names\n",
        "clear_output()"
      ],
      "execution_count": 4,
      "outputs": []
    },
    {
      "cell_type": "code",
      "metadata": {
        "id": "MIEGXF8oM9tt"
      },
      "source": [
        "import re\n",
        "import unicodedata\n",
        "import pandas as pd\n",
        "import numpy as np\n",
        "import matplotlib.pyplot as plt\n",
        "import matplotlib.ticker as ticker\n",
        "import torch\n",
        "import torch.nn as nn\n",
        "import torch.nn.functional as F\n",
        "from torch import optim\n",
        "from tqdm.notebook import tqdm\n",
        "from datetime import datetime, timedelta\n",
        "\n",
        "%matplotlib inline"
      ],
      "execution_count": 5,
      "outputs": []
    },
    {
      "cell_type": "code",
      "metadata": {
        "id": "WLFu9aC8EF_q"
      },
      "source": [
        "device = torch.device('cuda' if torch.cuda.is_available() else 'cpu')"
      ],
      "execution_count": 6,
      "outputs": []
    },
    {
      "cell_type": "code",
      "metadata": {
        "id": "81jz9PoZamGt"
      },
      "source": [
        "pd.options.display.max_colwidth = 100"
      ],
      "execution_count": 7,
      "outputs": []
    },
    {
      "cell_type": "code",
      "metadata": {
        "id": "hZxRKG1rEljc"
      },
      "source": [
        "plt.switch_backend('agg')"
      ],
      "execution_count": 8,
      "outputs": []
    },
    {
      "cell_type": "markdown",
      "metadata": {
        "id": "4K9DHQfpVh_F"
      },
      "source": [
        "# Data preparation"
      ]
    },
    {
      "cell_type": "code",
      "metadata": {
        "id": "YTUONo3ZVl6Q"
      },
      "source": [
        "df = pd.read_csv('data/eng-fra.txt', sep='\\t', header=None)"
      ],
      "execution_count": 9,
      "outputs": []
    },
    {
      "cell_type": "code",
      "metadata": {
        "id": "twIcAJnyRkW-",
        "colab": {
          "base_uri": "https://localhost:8080/",
          "height": 514
        },
        "outputId": "7ce8538a-ee87-4774-ce83-35556e05b386"
      },
      "source": [
        "df.head(15)"
      ],
      "execution_count": 10,
      "outputs": [
        {
          "output_type": "execute_result",
          "data": {
            "text/html": [
              "<div>\n",
              "<style scoped>\n",
              "    .dataframe tbody tr th:only-of-type {\n",
              "        vertical-align: middle;\n",
              "    }\n",
              "\n",
              "    .dataframe tbody tr th {\n",
              "        vertical-align: top;\n",
              "    }\n",
              "\n",
              "    .dataframe thead th {\n",
              "        text-align: right;\n",
              "    }\n",
              "</style>\n",
              "<table border=\"1\" class=\"dataframe\">\n",
              "  <thead>\n",
              "    <tr style=\"text-align: right;\">\n",
              "      <th></th>\n",
              "      <th>0</th>\n",
              "      <th>1</th>\n",
              "    </tr>\n",
              "  </thead>\n",
              "  <tbody>\n",
              "    <tr>\n",
              "      <th>0</th>\n",
              "      <td>Go.</td>\n",
              "      <td>Va !</td>\n",
              "    </tr>\n",
              "    <tr>\n",
              "      <th>1</th>\n",
              "      <td>Run!</td>\n",
              "      <td>Cours !</td>\n",
              "    </tr>\n",
              "    <tr>\n",
              "      <th>2</th>\n",
              "      <td>Run!</td>\n",
              "      <td>Courez !</td>\n",
              "    </tr>\n",
              "    <tr>\n",
              "      <th>3</th>\n",
              "      <td>Wow!</td>\n",
              "      <td>Ça alors !</td>\n",
              "    </tr>\n",
              "    <tr>\n",
              "      <th>4</th>\n",
              "      <td>Fire!</td>\n",
              "      <td>Au feu !</td>\n",
              "    </tr>\n",
              "    <tr>\n",
              "      <th>5</th>\n",
              "      <td>Help!</td>\n",
              "      <td>À l'aide !</td>\n",
              "    </tr>\n",
              "    <tr>\n",
              "      <th>6</th>\n",
              "      <td>Jump.</td>\n",
              "      <td>Saute.</td>\n",
              "    </tr>\n",
              "    <tr>\n",
              "      <th>7</th>\n",
              "      <td>Stop!</td>\n",
              "      <td>Ça suffit !</td>\n",
              "    </tr>\n",
              "    <tr>\n",
              "      <th>8</th>\n",
              "      <td>Stop!</td>\n",
              "      <td>Stop !</td>\n",
              "    </tr>\n",
              "    <tr>\n",
              "      <th>9</th>\n",
              "      <td>Stop!</td>\n",
              "      <td>Arrête-toi !</td>\n",
              "    </tr>\n",
              "    <tr>\n",
              "      <th>10</th>\n",
              "      <td>Wait!</td>\n",
              "      <td>Attends !</td>\n",
              "    </tr>\n",
              "    <tr>\n",
              "      <th>11</th>\n",
              "      <td>Wait!</td>\n",
              "      <td>Attendez !</td>\n",
              "    </tr>\n",
              "    <tr>\n",
              "      <th>12</th>\n",
              "      <td>I see.</td>\n",
              "      <td>Je comprends.</td>\n",
              "    </tr>\n",
              "    <tr>\n",
              "      <th>13</th>\n",
              "      <td>I try.</td>\n",
              "      <td>J'essaye.</td>\n",
              "    </tr>\n",
              "    <tr>\n",
              "      <th>14</th>\n",
              "      <td>I won!</td>\n",
              "      <td>J'ai gagné !</td>\n",
              "    </tr>\n",
              "  </tbody>\n",
              "</table>\n",
              "</div>"
            ],
            "text/plain": [
              "         0              1\n",
              "0      Go.           Va !\n",
              "1     Run!        Cours !\n",
              "2     Run!       Courez !\n",
              "3     Wow!     Ça alors !\n",
              "4    Fire!       Au feu !\n",
              "5    Help!     À l'aide !\n",
              "6    Jump.         Saute.\n",
              "7    Stop!    Ça suffit !\n",
              "8    Stop!         Stop !\n",
              "9    Stop!   Arrête-toi !\n",
              "10   Wait!      Attends !\n",
              "11   Wait!     Attendez !\n",
              "12  I see.  Je comprends.\n",
              "13  I try.      J'essaye.\n",
              "14  I won!   J'ai gagné !"
            ]
          },
          "metadata": {
            "tags": []
          },
          "execution_count": 10
        }
      ]
    },
    {
      "cell_type": "code",
      "metadata": {
        "colab": {
          "base_uri": "https://localhost:8080/"
        },
        "id": "IWlUrl0sWKni",
        "outputId": "9faeedd7-9440-437c-fab6-f94f1589145e"
      },
      "source": [
        "df.info()"
      ],
      "execution_count": 11,
      "outputs": [
        {
          "output_type": "stream",
          "text": [
            "<class 'pandas.core.frame.DataFrame'>\n",
            "RangeIndex: 135842 entries, 0 to 135841\n",
            "Data columns (total 2 columns):\n",
            " #   Column  Non-Null Count   Dtype \n",
            "---  ------  --------------   ----- \n",
            " 0   0       135842 non-null  object\n",
            " 1   1       135842 non-null  object\n",
            "dtypes: object(2)\n",
            "memory usage: 2.1+ MB\n"
          ],
          "name": "stdout"
        }
      ]
    },
    {
      "cell_type": "code",
      "metadata": {
        "id": "GyKEXsj6WMZY"
      },
      "source": [
        "!rm -r data"
      ],
      "execution_count": 12,
      "outputs": []
    },
    {
      "cell_type": "code",
      "metadata": {
        "id": "1cZXGl3xXVdK"
      },
      "source": [
        "# Turn a Unicode string to plain ASCII, thanks to\n",
        "# http://stackoverflow.com/a/518232/2809427\n",
        "\n",
        "def unicode_to_ascii(string):\n",
        "    return ''.join(\n",
        "        char for char in unicodedata.normalize('NFD', string)\n",
        "        if unicodedata.category(char) != 'Mn'\n",
        "        )"
      ],
      "execution_count": 13,
      "outputs": []
    },
    {
      "cell_type": "code",
      "metadata": {
        "id": "k9n44_0zXtt1"
      },
      "source": [
        "df[0] = df[0].apply(\n",
        "    lambda x: re.sub(r'[^a-z .?!]+', '',\n",
        "                     unicode_to_ascii(x.lower().replace(\"'\", ' ')))\n",
        "    )\n",
        "df[1] = df[1].apply(\n",
        "    lambda x: re.sub(r'[^a-z .?!]+', '',\n",
        "                     unicode_to_ascii(x.lower().replace(\"'\", ' ')))\n",
        "    )\n",
        "df[0] = df[0].apply(lambda x: re.sub(r'([.!?])', r' \\1 ', x))\n",
        "df[1] = df[1].apply(lambda x: re.sub(r'([.!?])', r' \\1 ', x))\n",
        "df[0] = df[0].apply(lambda x: re.sub(r'\\s\\s+', ' ', x))\n",
        "df[1] = df[1].apply(lambda x: re.sub(r'\\s\\s+', ' ', x))"
      ],
      "execution_count": 14,
      "outputs": []
    },
    {
      "cell_type": "code",
      "metadata": {
        "colab": {
          "base_uri": "https://localhost:8080/",
          "height": 514
        },
        "id": "E-hQjqlNZKxF",
        "outputId": "5e0de0c2-d69a-45e2-a53c-01868db0f7f1"
      },
      "source": [
        "df.sample(n=15)"
      ],
      "execution_count": 15,
      "outputs": [
        {
          "output_type": "execute_result",
          "data": {
            "text/html": [
              "<div>\n",
              "<style scoped>\n",
              "    .dataframe tbody tr th:only-of-type {\n",
              "        vertical-align: middle;\n",
              "    }\n",
              "\n",
              "    .dataframe tbody tr th {\n",
              "        vertical-align: top;\n",
              "    }\n",
              "\n",
              "    .dataframe thead th {\n",
              "        text-align: right;\n",
              "    }\n",
              "</style>\n",
              "<table border=\"1\" class=\"dataframe\">\n",
              "  <thead>\n",
              "    <tr style=\"text-align: right;\">\n",
              "      <th></th>\n",
              "      <th>0</th>\n",
              "      <th>1</th>\n",
              "    </tr>\n",
              "  </thead>\n",
              "  <tbody>\n",
              "    <tr>\n",
              "      <th>22088</th>\n",
              "      <td>you can t back out .</td>\n",
              "      <td>vous ne pouvez pas vous dedire .</td>\n",
              "    </tr>\n",
              "    <tr>\n",
              "      <th>32696</th>\n",
              "      <td>he was chosen captain .</td>\n",
              "      <td>il a ete choisi comme capitaine .</td>\n",
              "    </tr>\n",
              "    <tr>\n",
              "      <th>100740</th>\n",
              "      <td>this isn t supposed to be happening .</td>\n",
              "      <td>ce n est pas suppose arriver .</td>\n",
              "    </tr>\n",
              "    <tr>\n",
              "      <th>75982</th>\n",
              "      <td>my credit cards are maxed out .</td>\n",
              "      <td>j ai excede le plafond de mes cartes de credit .</td>\n",
              "    </tr>\n",
              "    <tr>\n",
              "      <th>108829</th>\n",
              "      <td>the problem disappeared as if by magic .</td>\n",
              "      <td>le probleme disparut comme par magie .</td>\n",
              "    </tr>\n",
              "    <tr>\n",
              "      <th>94158</th>\n",
              "      <td>tom tried to control his emotions .</td>\n",
              "      <td>tom a essaye de controler ses emotions .</td>\n",
              "    </tr>\n",
              "    <tr>\n",
              "      <th>73160</th>\n",
              "      <td>all the sails were taken down .</td>\n",
              "      <td>toutes les voiles furent affalees .</td>\n",
              "    </tr>\n",
              "    <tr>\n",
              "      <th>31779</th>\n",
              "      <td>are you in a bad mood ?</td>\n",
              "      <td>estu de mauvaise humeur ?</td>\n",
              "    </tr>\n",
              "    <tr>\n",
              "      <th>28422</th>\n",
              "      <td>i know you re scared .</td>\n",
              "      <td>je sais que vous avez peur .</td>\n",
              "    </tr>\n",
              "    <tr>\n",
              "      <th>97327</th>\n",
              "      <td>the mountain was covered with snow .</td>\n",
              "      <td>la montagne etait recouverte de neige .</td>\n",
              "    </tr>\n",
              "    <tr>\n",
              "      <th>20043</th>\n",
              "      <td>i was just leaving .</td>\n",
              "      <td>je m appretais a partir .</td>\n",
              "    </tr>\n",
              "    <tr>\n",
              "      <th>19459</th>\n",
              "      <td>i can ride a horse .</td>\n",
              "      <td>je sais monter a cheval .</td>\n",
              "    </tr>\n",
              "    <tr>\n",
              "      <th>92664</th>\n",
              "      <td>i want you all to be very careful .</td>\n",
              "      <td>je veux que vous soyez tous tres prudents .</td>\n",
              "    </tr>\n",
              "    <tr>\n",
              "      <th>16749</th>\n",
              "      <td>make up your mind .</td>\n",
              "      <td>faites votre choix .</td>\n",
              "    </tr>\n",
              "    <tr>\n",
              "      <th>26384</th>\n",
              "      <td>why can t you do it ?</td>\n",
              "      <td>pourquoi ne pouvezvous pas le faire ?</td>\n",
              "    </tr>\n",
              "  </tbody>\n",
              "</table>\n",
              "</div>"
            ],
            "text/plain": [
              "                                                0                                                  1\n",
              "22088                       you can t back out .                   vous ne pouvez pas vous dedire . \n",
              "32696                    he was chosen captain .                  il a ete choisi comme capitaine . \n",
              "100740     this isn t supposed to be happening .                     ce n est pas suppose arriver . \n",
              "75982            my credit cards are maxed out .   j ai excede le plafond de mes cartes de credit . \n",
              "108829  the problem disappeared as if by magic .             le probleme disparut comme par magie . \n",
              "94158        tom tried to control his emotions .           tom a essaye de controler ses emotions . \n",
              "73160            all the sails were taken down .                toutes les voiles furent affalees . \n",
              "31779                    are you in a bad mood ?                          estu de mauvaise humeur ? \n",
              "28422                     i know you re scared .                       je sais que vous avez peur . \n",
              "97327       the mountain was covered with snow .            la montagne etait recouverte de neige . \n",
              "20043                       i was just leaving .                          je m appretais a partir . \n",
              "19459                       i can ride a horse .                          je sais monter a cheval . \n",
              "92664        i want you all to be very careful .        je veux que vous soyez tous tres prudents . \n",
              "16749                        make up your mind .                               faites votre choix . \n",
              "26384                      why can t you do it ?              pourquoi ne pouvezvous pas le faire ? "
            ]
          },
          "metadata": {
            "tags": []
          },
          "execution_count": 15
        }
      ]
    },
    {
      "cell_type": "code",
      "metadata": {
        "id": "0fx20uZtfsJL"
      },
      "source": [
        "pairs = list(zip(df[0].tolist(), df[1].tolist()))"
      ],
      "execution_count": 16,
      "outputs": []
    },
    {
      "cell_type": "code",
      "metadata": {
        "id": "2I3IYH-Wfua7"
      },
      "source": [
        "del df"
      ],
      "execution_count": 17,
      "outputs": []
    },
    {
      "cell_type": "markdown",
      "metadata": {
        "id": "cNEJNoAefwB0"
      },
      "source": [
        "Отфильтруем пары."
      ]
    },
    {
      "cell_type": "code",
      "metadata": {
        "id": "IE7vdtfuf9zh"
      },
      "source": [
        "MAX_LEN = 10"
      ],
      "execution_count": 18,
      "outputs": []
    },
    {
      "cell_type": "code",
      "metadata": {
        "id": "Cy9POVcHf0J8"
      },
      "source": [
        "eng_prefixes = (\n",
        "    'i am ', 'i m',\n",
        "    'he is', 'he s',\n",
        "    'she is', 'she s',\n",
        "    'you are', 'you re',\n",
        "    'we are', 'we re',\n",
        "    'they are', 'they re'\n",
        ")\n",
        "\n",
        "pairs = [\n",
        "    pair for pair in pairs\n",
        "    if len(pair[0].split()) <= MAX_LEN and len(pair[1].split()) <= MAX_LEN\n",
        "    and pair[0].startswith(eng_prefixes)\n",
        "    ]"
      ],
      "execution_count": 19,
      "outputs": []
    },
    {
      "cell_type": "code",
      "metadata": {
        "colab": {
          "base_uri": "https://localhost:8080/"
        },
        "id": "YS7xf7wllA6x",
        "outputId": "e7c96772-cf1e-4bbd-aab9-bfcfca00a102"
      },
      "source": [
        "len(pairs)"
      ],
      "execution_count": 20,
      "outputs": [
        {
          "output_type": "execute_result",
          "data": {
            "text/plain": [
              "12965"
            ]
          },
          "metadata": {
            "tags": []
          },
          "execution_count": 20
        }
      ]
    },
    {
      "cell_type": "code",
      "metadata": {
        "colab": {
          "base_uri": "https://localhost:8080/"
        },
        "id": "qWOXQ-X8lCyw",
        "outputId": "2c799ad5-8eb3-4ecf-d311-225b3738a100"
      },
      "source": [
        "pairs[np.random.randint(12965)]"
      ],
      "execution_count": 21,
      "outputs": [
        {
          "output_type": "execute_result",
          "data": {
            "text/plain": [
              "('we re not sure . ', 'nous n en sommes pas surs . ')"
            ]
          },
          "metadata": {
            "tags": []
          },
          "execution_count": 21
        }
      ]
    },
    {
      "cell_type": "markdown",
      "metadata": {
        "id": "RoAeb0AgZj9e"
      },
      "source": [
        "Составим словари для английского и французского."
      ]
    },
    {
      "cell_type": "code",
      "metadata": {
        "id": "obzFCHjdbTwE"
      },
      "source": [
        "eng_words = ['SOS', 'EOS'] + sorted(\n",
        "    set(' '.join([pair[0] for pair in pairs]).split())\n",
        "    )\n",
        "\n",
        "fr_words = ['SOS', 'EOS'] + sorted(\n",
        "    set(' '.join([pair[1] for pair in pairs]).split())\n",
        "    )"
      ],
      "execution_count": 22,
      "outputs": []
    },
    {
      "cell_type": "code",
      "metadata": {
        "colab": {
          "base_uri": "https://localhost:8080/"
        },
        "id": "7PKFm2nKcfxY",
        "outputId": "402918da-8404-4b05-a8d4-2161ddfd971d"
      },
      "source": [
        "len(eng_words)"
      ],
      "execution_count": 23,
      "outputs": [
        {
          "output_type": "execute_result",
          "data": {
            "text/plain": [
              "3463"
            ]
          },
          "metadata": {
            "tags": []
          },
          "execution_count": 23
        }
      ]
    },
    {
      "cell_type": "code",
      "metadata": {
        "colab": {
          "base_uri": "https://localhost:8080/"
        },
        "id": "zkd4e9Sed0MB",
        "outputId": "c4b48543-0650-4007-b5f3-1e7d0cc5511e"
      },
      "source": [
        "len(fr_words)"
      ],
      "execution_count": 24,
      "outputs": [
        {
          "output_type": "execute_result",
          "data": {
            "text/plain": [
              "5330"
            ]
          },
          "metadata": {
            "tags": []
          },
          "execution_count": 24
        }
      ]
    },
    {
      "cell_type": "code",
      "metadata": {
        "colab": {
          "base_uri": "https://localhost:8080/"
        },
        "id": "-nHSppj0eKAN",
        "outputId": "9c562224-fc8f-43f5-a89f-c80bb8edbeba"
      },
      "source": [
        "print(eng_words[:10])"
      ],
      "execution_count": 25,
      "outputs": [
        {
          "output_type": "stream",
          "text": [
            "['SOS', 'EOS', '!', '.', '?', 'a', 'ability', 'able', 'aboard', 'about']\n"
          ],
          "name": "stdout"
        }
      ]
    },
    {
      "cell_type": "code",
      "metadata": {
        "colab": {
          "base_uri": "https://localhost:8080/"
        },
        "id": "boLYtCv-eQGs",
        "outputId": "d39cf769-4329-4a33-ab8f-20ef9a83cb2c"
      },
      "source": [
        "print(fr_words[:10])"
      ],
      "execution_count": 26,
      "outputs": [
        {
          "output_type": "stream",
          "text": [
            "['SOS', 'EOS', '!', '.', '?', 'a', 'aapprendre', 'abandonne', 'abandonner', 'abandonnons']\n"
          ],
          "name": "stdout"
        }
      ]
    },
    {
      "cell_type": "code",
      "metadata": {
        "id": "Qd_dZTZ1ejq0"
      },
      "source": [
        "eng_to_idx = {elem: i for i, elem in enumerate(eng_words)}\n",
        "fr_to_idx = {elem: i for i, elem in enumerate(fr_words)}"
      ],
      "execution_count": 27,
      "outputs": []
    },
    {
      "cell_type": "code",
      "metadata": {
        "id": "z6gGPtXFM9uQ"
      },
      "source": [
        "def tensors_from_pair(pair):\n",
        "    eng_idx = [0] + [eng_to_idx[w] for w in pair[0].split()[:MAX_LEN]] + [1]\n",
        "    fr_idx = [0] + [fr_to_idx[w] for w in pair[1].split()[:MAX_LEN]] + [1]\n",
        "\n",
        "    eng_tensor = torch.tensor(eng_idx, dtype=torch.long,\n",
        "                              device=device).view(-1, 1)\n",
        "    fr_tensor = torch.tensor(fr_idx, dtype=torch.long,\n",
        "                             device=device).view(-1, 1)\n",
        "\n",
        "    return (eng_tensor, fr_tensor)"
      ],
      "execution_count": 28,
      "outputs": []
    },
    {
      "cell_type": "markdown",
      "metadata": {
        "id": "vgtWqznCM9uH"
      },
      "source": [
        "# Encoder\n",
        "\n",
        "\n",
        "\n"
      ]
    },
    {
      "cell_type": "code",
      "metadata": {
        "id": "m9vm9QBWM9uI"
      },
      "source": [
        "class EncoderRNN(nn.Module):\n",
        "    def __init__(self, input_size, hidden_size, rnn_type='gru', rnn_n=1):\n",
        "        super(EncoderRNN, self).__init__()\n",
        "        self.hidden_size = hidden_size\n",
        "        self.rnn_n = rnn_n\n",
        "\n",
        "        self.embedding = nn.Embedding(input_size, hidden_size)\n",
        "        if rnn_type == 'gru':\n",
        "            self.rnn = nn.GRU(hidden_size, hidden_size)\n",
        "        elif rnn_type == 'lstm':\n",
        "            self.rnn = nn.LSTM(hidden_size, hidden_size)\n",
        "        if self.rnn_n == 2:\n",
        "            if rnn_type == 'gru':\n",
        "                self.rnn_2 = nn.GRU(hidden_size, hidden_size)\n",
        "            elif rnn_type == 'lstm':\n",
        "                self.rnn_2 = nn.LSTM(hidden_size, hidden_size)\n",
        "\n",
        "    def forward(self, input, hidden):\n",
        "        output = self.embedding(input).view(1, 1, -1)\n",
        "        output, hidden = self.rnn(output, hidden)\n",
        "        if self.rnn_n == 2:\n",
        "            output, hidden = self.rnn_2(output, hidden)\n",
        "        return output, hidden\n",
        "\n",
        "    def initHidden(self):\n",
        "        if isinstance(self.rnn, nn.LSTM):\n",
        "            return (torch.zeros(1, 1, self.hidden_size, device=device),\n",
        "                    torch.zeros(1, 1, self.hidden_size, device=device))\n",
        "        return torch.zeros(1, 1, self.hidden_size, device=device)"
      ],
      "execution_count": 29,
      "outputs": []
    },
    {
      "cell_type": "markdown",
      "metadata": {
        "id": "FwLTlgSyM9uK"
      },
      "source": [
        "# Decoder\n",
        "\n",
        "\n"
      ]
    },
    {
      "cell_type": "code",
      "metadata": {
        "id": "PFbuUL1LM9uL"
      },
      "source": [
        "class DecoderRNN(nn.Module):\n",
        "    def __init__(self, hidden_size, output_size, rnn_type='gru', rnn_n=1):\n",
        "        super(DecoderRNN, self).__init__()\n",
        "        self.hidden_size = hidden_size\n",
        "        self.rnn_n = rnn_n\n",
        "\n",
        "        self.embedding = nn.Embedding(output_size, hidden_size)\n",
        "        if rnn_type == 'gru':\n",
        "            self.rnn = nn.GRU(hidden_size, hidden_size)\n",
        "        elif rnn_type == 'lstm':\n",
        "            self.rnn = nn.LSTM(hidden_size, hidden_size)\n",
        "        if self.rnn_n == 2:\n",
        "            if rnn_type == 'gru':\n",
        "                self.rnn_2 = nn.GRU(hidden_size, hidden_size)\n",
        "            elif rnn_type == 'lstm':\n",
        "                self.rnn_2 = nn.LSTM(hidden_size, hidden_size)\n",
        "        self.out = nn.Linear(hidden_size, output_size)\n",
        "        self.softmax = nn.LogSoftmax(dim=1)\n",
        "\n",
        "    def forward(self, input, hidden):\n",
        "        output = self.embedding(input).view(1, 1, -1)\n",
        "        output = F.relu(output)\n",
        "        output, hidden = self.rnn(output, hidden)\n",
        "        if self.rnn_n == 2:\n",
        "            output, hidden = self.rnn_2(output, hidden)\n",
        "        output = self.softmax(self.out(output[0]))\n",
        "        return output, hidden\n",
        "\n",
        "    def initHidden(self):\n",
        "        if isinstance(self.rnn, nn.LSTM):\n",
        "            return (torch.zeros(1, 1, self.hidden_size, device=device),\n",
        "                    torch.zeros(1, 1, self.hidden_size, device=device))\n",
        "        return torch.zeros(1, 1, self.hidden_size, device=device)"
      ],
      "execution_count": 30,
      "outputs": []
    },
    {
      "cell_type": "markdown",
      "metadata": {
        "id": "lnfHom8Jmbm1"
      },
      "source": [
        "# Функции для обучения и оценки качества"
      ]
    },
    {
      "cell_type": "code",
      "metadata": {
        "id": "-P7nG_1XmgG-"
      },
      "source": [
        "teacher_forcing_ratio = 0.5"
      ],
      "execution_count": 31,
      "outputs": []
    },
    {
      "cell_type": "code",
      "metadata": {
        "id": "8Fn8VDv8M9uS"
      },
      "source": [
        "def train(input_tensor, target_tensor, encoder, decoder,\n",
        "          encoder_optimizer, decoder_optimizer, criterion, max_len=MAX_LEN):\n",
        "    encoder_hidden = encoder.initHidden()\n",
        "\n",
        "    encoder_optimizer.zero_grad()\n",
        "    decoder_optimizer.zero_grad()\n",
        "\n",
        "    encoder_outputs = torch.zeros(max_len + 2, encoder.hidden_size,\n",
        "                                  device=device)\n",
        "    loss = 0\n",
        "\n",
        "    for i in range(input_tensor.size(0)):\n",
        "        encoder_output, encoder_hidden = encoder(input_tensor[i],\n",
        "                                                 encoder_hidden)\n",
        "        encoder_outputs[i] = encoder_output[0, 0]\n",
        "\n",
        "    decoder_input = torch.tensor([[0]], device=device)\n",
        "    decoder_hidden = encoder_hidden\n",
        "\n",
        "    if np.random.random() < teacher_forcing_ratio:\n",
        "        use_teacher_forcing = True\n",
        "    else:\n",
        "        use_teacher_forcing = False\n",
        "\n",
        "    for i in range(target_tensor.size(0)):\n",
        "        decoder_output, decoder_hidden = decoder(decoder_input, decoder_hidden)\n",
        "        loss += criterion(decoder_output, target_tensor[i])\n",
        "        if use_teacher_forcing:\n",
        "            # teacher forcing: feed the target as the next input\n",
        "            decoder_input = target_tensor[i]\n",
        "        else:\n",
        "            # use its own predictions as the next input\n",
        "            topv, topi = decoder_output.topk(1)\n",
        "            decoder_input = topi.squeeze().detach()\n",
        "            if decoder_input.item() == 1:\n",
        "                break\n",
        "\n",
        "    loss.backward()\n",
        "\n",
        "    encoder_optimizer.step()\n",
        "    decoder_optimizer.step()\n",
        "\n",
        "    return loss.item() / target_tensor.size(0)"
      ],
      "execution_count": 32,
      "outputs": []
    },
    {
      "cell_type": "markdown",
      "metadata": {
        "id": "Cg7SFwldnEkB"
      },
      "source": [
        "Функция `train_epochs()` возвращает `losses`, т. к., сделать так, чтобы в одной и той же ячейке ноутбука выводился и прогресс обучения, и график лоссов, у меня не получилось (даже с `plt.show()`, которую в лекционном ноутбуке почему-то вообще забыли)."
      ]
    },
    {
      "cell_type": "code",
      "metadata": {
        "id": "C_z_k5IiM9uX"
      },
      "source": [
        "def train_epochs(encoder, decoder, n_epochs=75000, learning_rate=0.01):\n",
        "    start = datetime.now()\n",
        "    losses = []\n",
        "    print_loss = 0  # reset every 5000 epochs\n",
        "    plot_loss = 0  # reset every 100 epochs\n",
        "\n",
        "    encoder_optimizer = optim.SGD(encoder.parameters(), lr=learning_rate)\n",
        "    decoder_optimizer = optim.SGD(decoder.parameters(), lr=learning_rate)\n",
        "    training_pairs = [tensors_from_pair(pairs[np.random.randint(12965)])\n",
        "                      for epoch in range(n_epochs)]\n",
        "    criterion = nn.NLLLoss()\n",
        "\n",
        "    for epoch in tqdm(range(n_epochs)):\n",
        "        training_pair = training_pairs[epoch]\n",
        "        input_tensor = training_pair[0]\n",
        "        target_tensor = training_pair[1]\n",
        "\n",
        "        loss = train(input_tensor, target_tensor, encoder, decoder,\n",
        "                     encoder_optimizer, decoder_optimizer, criterion)\n",
        "        print_loss += loss\n",
        "        plot_loss += loss\n",
        "\n",
        "        if (epoch + 1) % 5000 == 0:\n",
        "            print_loss /= 5000\n",
        "            delta = datetime.now() - start\n",
        "            stats = f'''\n",
        "            Epoch {epoch + 1} ({(epoch + 1) * 100 / n_epochs:.1f}%)\n",
        "            Time: {delta.seconds // 60}m {delta.seconds % 60}s\n",
        "            Loss: {print_loss:.4f}\n",
        "            '''\n",
        "            print(stats)\n",
        "            print_loss = 0\n",
        "\n",
        "        if (epoch + 1) % 100 == 0:\n",
        "            plot_loss /= 100\n",
        "            losses.append(plot_loss)\n",
        "            plot_loss = 0\n",
        "\n",
        "    return losses"
      ],
      "execution_count": 33,
      "outputs": []
    },
    {
      "cell_type": "code",
      "metadata": {
        "id": "0JXG-RzCM9uZ"
      },
      "source": [
        "def plot_loss(losses):\n",
        "    plt.figure(figsize=(14, 12))\n",
        "    fig, ax = plt.subplots()\n",
        "    loc = ticker.MultipleLocator(base=0.2)\n",
        "    ax.yaxis.set_major_locator(loc)\n",
        "    plt.plot(losses)\n",
        "    plt.grid()\n",
        "    plt.xlabel('Epoch', fontsize='xx-large')\n",
        "    plt.ylabel('Loss function', fontsize='xx-large')\n",
        "    plt.show()"
      ],
      "execution_count": 34,
      "outputs": []
    },
    {
      "cell_type": "code",
      "metadata": {
        "id": "3Bxf45h6M9ud"
      },
      "source": [
        "def evaluate(encoder, decoder, sent, max_len=MAX_LEN):\n",
        "    with torch.no_grad():\n",
        "        idx = [0] + [eng_to_idx[w] for w in sent.split()[:max_len]] + [1]\n",
        "        input_tensor = torch.tensor(idx, dtype=torch.long,\n",
        "                                    device=device).view(-1, 1)\n",
        "        encoder_hidden = encoder.initHidden()\n",
        "        encoder_outputs = torch.zeros(max_len + 2, encoder.hidden_size,\n",
        "                                      device=device)\n",
        "\n",
        "        for i in range(input_tensor.size()[0]):\n",
        "            encoder_output, encoder_hidden = encoder(input_tensor[i],\n",
        "                                                     encoder_hidden)\n",
        "            encoder_outputs[i] += encoder_output[0, 0]\n",
        "\n",
        "        decoder_input = torch.tensor([[0]], device=device)\n",
        "        decoder_hidden = encoder_hidden\n",
        "        decoded_words = []\n",
        "\n",
        "        for i in range(max_len):\n",
        "            decoder_output, decoder_hidden = decoder(decoder_input,\n",
        "                                                     decoder_hidden)\n",
        "            topv, topi = decoder_output.data.topk(1)\n",
        "            decoded_words.append(fr_words[topi.item()])\n",
        "            if topi.item() == 1:\n",
        "                break\n",
        "            decoder_input = topi.squeeze().detach()\n",
        "\n",
        "        return decoded_words"
      ],
      "execution_count": 42,
      "outputs": []
    },
    {
      "cell_type": "code",
      "metadata": {
        "id": "1qUmQIGwM9uf"
      },
      "source": [
        "def evaluate_random(encoder, decoder, n=10):\n",
        "    for i in range(n):\n",
        "        pair = pairs[np.random.randint(12965)]\n",
        "        res = f'''\n",
        "        Eng:  {pair[0]}\n",
        "        Fr:   {pair[1]}\n",
        "        Pred: {\" \".join(evaluate(encoder, decoder, pair[0])[1:-1])}\n",
        "        '''\n",
        "        print(res)"
      ],
      "execution_count": 43,
      "outputs": []
    },
    {
      "cell_type": "markdown",
      "metadata": {
        "id": "IdzjLSf6sOus"
      },
      "source": [
        "# Обучение и оценка качества"
      ]
    },
    {
      "cell_type": "code",
      "metadata": {
        "id": "nLs3uCMitIch"
      },
      "source": [
        "hidden_size = 256"
      ],
      "execution_count": 37,
      "outputs": []
    },
    {
      "cell_type": "code",
      "metadata": {
        "id": "jvCZkkP7tLow"
      },
      "source": [
        "encoder = EncoderRNN(len(eng_words), hidden_size).to(device)\n",
        "decoder = DecoderRNN(hidden_size, len(fr_words)).to(device)"
      ],
      "execution_count": 38,
      "outputs": []
    },
    {
      "cell_type": "code",
      "metadata": {
        "id": "s_56t10oM9uh",
        "colab": {
          "base_uri": "https://localhost:8080/",
          "height": 1000,
          "referenced_widgets": [
            "3a735e8f7aa94e8fa341f8e5b9ab3abb",
            "a63e480fce3a41e9babf21ebc4dc0406",
            "dbe1df0f97074c7eb05b105a205abdb6",
            "19cd98ef16ad43e2aaeed32431c30e66",
            "896aa68faa8c4643aa51826ce56c892f",
            "d49933bfd36e42bb966fe21aeaf63d34",
            "7c531d146e4c45bc94285baa10bea47a",
            "4f1030f2cb1944c084f168622c0269d8"
          ]
        },
        "outputId": "be7088f2-5222-439b-84bf-b8ad7d50d556"
      },
      "source": [
        "losses = train_epochs(encoder, decoder)"
      ],
      "execution_count": 39,
      "outputs": [
        {
          "output_type": "display_data",
          "data": {
            "application/vnd.jupyter.widget-view+json": {
              "model_id": "3a735e8f7aa94e8fa341f8e5b9ab3abb",
              "version_minor": 0,
              "version_major": 2
            },
            "text/plain": [
              "HBox(children=(FloatProgress(value=0.0, max=75000.0), HTML(value='')))"
            ]
          },
          "metadata": {
            "tags": []
          }
        },
        {
          "output_type": "stream",
          "text": [
            "\n",
            "            Epoch 5000 (6.7%)\n",
            "            Time: 10m 0s\n",
            "            Loss: 3.2755\n",
            "            \n",
            "\n",
            "            Epoch 10000 (13.3%)\n",
            "            Time: 20m 18s\n",
            "            Loss: 2.7835\n",
            "            \n",
            "\n",
            "            Epoch 15000 (20.0%)\n",
            "            Time: 30m 32s\n",
            "            Loss: 2.4998\n",
            "            \n",
            "\n",
            "            Epoch 20000 (26.7%)\n",
            "            Time: 40m 53s\n",
            "            Loss: 2.2698\n",
            "            \n",
            "\n",
            "            Epoch 25000 (33.3%)\n",
            "            Time: 51m 7s\n",
            "            Loss: 2.1089\n",
            "            \n",
            "\n",
            "            Epoch 30000 (40.0%)\n",
            "            Time: 61m 30s\n",
            "            Loss: 1.9528\n",
            "            \n",
            "\n",
            "            Epoch 35000 (46.7%)\n",
            "            Time: 71m 33s\n",
            "            Loss: 1.7949\n",
            "            \n",
            "\n",
            "            Epoch 40000 (53.3%)\n",
            "            Time: 81m 35s\n",
            "            Loss: 1.6950\n",
            "            \n",
            "\n",
            "            Epoch 45000 (60.0%)\n",
            "            Time: 91m 36s\n",
            "            Loss: 1.5859\n",
            "            \n",
            "\n",
            "            Epoch 50000 (66.7%)\n",
            "            Time: 101m 33s\n",
            "            Loss: 1.4910\n",
            "            \n",
            "\n",
            "            Epoch 55000 (73.3%)\n",
            "            Time: 111m 31s\n",
            "            Loss: 1.4058\n",
            "            \n",
            "\n",
            "            Epoch 60000 (80.0%)\n",
            "            Time: 121m 39s\n",
            "            Loss: 1.3616\n",
            "            \n",
            "\n",
            "            Epoch 65000 (86.7%)\n",
            "            Time: 131m 51s\n",
            "            Loss: 1.2395\n",
            "            \n",
            "\n",
            "            Epoch 70000 (93.3%)\n",
            "            Time: 142m 19s\n",
            "            Loss: 1.1762\n",
            "            \n",
            "\n",
            "            Epoch 75000 (100.0%)\n",
            "            Time: 152m 48s\n",
            "            Loss: 1.1063\n",
            "            \n",
            "\n"
          ],
          "name": "stdout"
        }
      ]
    },
    {
      "cell_type": "markdown",
      "metadata": {
        "id": "Xg7kMHDaUXNC"
      },
      "source": [
        "Лосс очень маленький!"
      ]
    },
    {
      "cell_type": "code",
      "metadata": {
        "id": "DTVKncu1tmqs"
      },
      "source": [
        "plot_loss(losses)"
      ],
      "execution_count": 40,
      "outputs": []
    },
    {
      "cell_type": "code",
      "metadata": {
        "id": "xEoEylSyM9uj",
        "colab": {
          "base_uri": "https://localhost:8080/"
        },
        "outputId": "a3335c21-957e-42fa-9b26-0f25f67541f5"
      },
      "source": [
        "evaluate_random(encoder, decoder)"
      ],
      "execution_count": 44,
      "outputs": [
        {
          "output_type": "stream",
          "text": [
            "\n",
            "        Eng:  she isn t afraid of death . \n",
            "        Fr:   elle n a pas peur de la mort . \n",
            "        Pred: elle n craint pas peur de la mort\n",
            "        \n",
            "\n",
            "        Eng:  i am so sorry to have kept you waiting . \n",
            "        Fr:   je suis vraiment desole de t avoir fait attendre . \n",
            "        Pred: je suis tellement desolee de t avoir fait\n",
            "        \n",
            "\n",
            "        Eng:  i m trustworthy . \n",
            "        Fr:   on peut me faire confiance . \n",
            "        Pred: nous sommes fiable .\n",
            "        \n",
            "\n",
            "        Eng:  i m not scared of anybody . \n",
            "        Fr:   je ne crains personne . \n",
            "        Pred: je ne crains pas . .\n",
            "        \n",
            "\n",
            "        Eng:  i m very impressed . \n",
            "        Fr:   je suis fort impressionnee . \n",
            "        Pred: je suis fort impressionnee .\n",
            "        \n",
            "\n",
            "        Eng:  you re very emotional . \n",
            "        Fr:   tu es fort emotive . \n",
            "        Pred: vous etes tres emotif .\n",
            "        \n",
            "\n",
            "        Eng:  they re dead . \n",
            "        Fr:   elles sont decedees . \n",
            "        Pred: ils sont decedes .\n",
            "        \n",
            "\n",
            "        Eng:  you re wasting both of our time . \n",
            "        Fr:   vous gaspillez notre temps a tous les deux . \n",
            "        Pred: vous gaspilles notre temps a temps tous .\n",
            "        \n",
            "\n",
            "        Eng:  you re grounded . \n",
            "        Fr:   vous etes terreaterre . \n",
            "        Pred: vous etes gare .\n",
            "        \n",
            "\n",
            "        Eng:  we re jealous . \n",
            "        Fr:   nous sommes jalouses . \n",
            "        Pred: nous sommes jalouses .\n",
            "        \n"
          ],
          "name": "stdout"
        }
      ]
    },
    {
      "cell_type": "markdown",
      "metadata": {
        "id": "zNmEcN1pUVDt"
      },
      "source": [
        "Предсказания почти совпадают с французскими предложениями!"
      ]
    }
  ]
}