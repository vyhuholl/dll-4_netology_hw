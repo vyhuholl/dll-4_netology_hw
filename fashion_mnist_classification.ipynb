{
  "nbformat": 4,
  "nbformat_minor": 0,
  "metadata": {
    "colab": {
      "name": "fashion_mnist_classification.ipynb",
      "provenance": [],
      "collapsed_sections": []
    },
    "kernelspec": {
      "name": "python3",
      "display_name": "Python 3"
    },
    "accelerator": "GPU"
  },
  "cells": [
    {
      "cell_type": "markdown",
      "metadata": {
        "id": "f6z1GSRKwCkU"
      },
      "source": [
        "# Fashion MNIST classification\n",
        "Dataset: [GitHub](https://github.com/zalandoresearch/fashion-mnist), [Kaggle](https://www.kaggle.com/zalando-research/fashionmnist), [Tensorflow Datasets](https://www.tensorflow.org/datasets/catalog/fashion_mnist), [torchvision.datasets](https://pytorch.org/docs/stable/torchvision/datasets.html#fashion-mnist). <br>\n",
        "Цель – accuracy на тестовой выборке >= 0.88"
      ]
    },
    {
      "cell_type": "code",
      "metadata": {
        "id": "im98LQL8xc0h"
      },
      "source": [
        "from IPython.display import clear_output\n",
        "!pip install pycodestyle pycodestyle_magic\n",
        "!pip install flake8\n",
        "clear_output()"
      ],
      "execution_count": 1,
      "outputs": []
    },
    {
      "cell_type": "code",
      "metadata": {
        "id": "7P2znpfoxp8M"
      },
      "source": [
        "%load_ext pycodestyle_magic"
      ],
      "execution_count": 2,
      "outputs": []
    },
    {
      "cell_type": "code",
      "metadata": {
        "id": "PHIey7QqyJRS"
      },
      "source": [
        "import time\n",
        "import torch\n",
        "import numpy as np\n",
        "import matplotlib.pyplot as plt\n",
        "from tqdm import tqdm\n",
        "from itertools import chain\n",
        "from torchvision import datasets, transforms\n",
        "from sklearn.metrics import classification_report\n",
        "\n",
        "%matplotlib inline"
      ],
      "execution_count": 3,
      "outputs": []
    },
    {
      "cell_type": "code",
      "metadata": {
        "id": "CiEjp-wOAls1"
      },
      "source": [
        "torch.manual_seed(42)\n",
        "np.random.seed(42)\n",
        "clear_output()"
      ],
      "execution_count": 4,
      "outputs": []
    },
    {
      "cell_type": "markdown",
      "metadata": {
        "id": "NFY8xWUS5f7k"
      },
      "source": [
        "# Данные и препроцессинг\n",
        "Преобразуем данные в тензоры."
      ]
    },
    {
      "cell_type": "code",
      "metadata": {
        "id": "NRgBi0LVQF-i"
      },
      "source": [
        "mnist_train = datasets.FashionMNIST('.', train=True,\n",
        "                                    transform=transforms.ToTensor(),\n",
        "                                    download=True)\n",
        "\n",
        "mnist_test = datasets.FashionMNIST('.', train=False,\n",
        "                                   transform=transforms.ToTensor(),\n",
        "                                   download=True)\n",
        "\n",
        "train_loader = torch.utils.data.DataLoader(mnist_train, batch_size=100)\n",
        "test_loader = torch.utils.data.DataLoader(mnist_test, batch_size=100)\n",
        "\n",
        "clear_output()"
      ],
      "execution_count": 5,
      "outputs": []
    },
    {
      "cell_type": "code",
      "metadata": {
        "colab": {
          "base_uri": "https://localhost:8080/"
        },
        "id": "yZVobN3ybdhz",
        "outputId": "f95397c8-955d-480c-a563-5f68b024b83c"
      },
      "source": [
        "mnist_train"
      ],
      "execution_count": 6,
      "outputs": [
        {
          "output_type": "execute_result",
          "data": {
            "text/plain": [
              "Dataset FashionMNIST\n",
              "    Number of datapoints: 60000\n",
              "    Root location: .\n",
              "    Split: Train\n",
              "    StandardTransform\n",
              "Transform: ToTensor()"
            ]
          },
          "metadata": {
            "tags": []
          },
          "execution_count": 6
        }
      ]
    },
    {
      "cell_type": "code",
      "metadata": {
        "colab": {
          "base_uri": "https://localhost:8080/"
        },
        "id": "wyfGaixt2134",
        "outputId": "f844cdfc-b6c8-4e5f-84d5-4af28e91a8f9"
      },
      "source": [
        "mnist_test"
      ],
      "execution_count": 7,
      "outputs": [
        {
          "output_type": "execute_result",
          "data": {
            "text/plain": [
              "Dataset FashionMNIST\n",
              "    Number of datapoints: 10000\n",
              "    Root location: .\n",
              "    Split: Test\n",
              "    StandardTransform\n",
              "Transform: ToTensor()"
            ]
          },
          "metadata": {
            "tags": []
          },
          "execution_count": 7
        }
      ]
    },
    {
      "cell_type": "code",
      "metadata": {
        "colab": {
          "base_uri": "https://localhost:8080/",
          "height": 333
        },
        "id": "3QszscRInplC",
        "outputId": "d90cab2b-4e2c-4f10-b146-98bfd59e997d"
      },
      "source": [
        "plt.imshow(mnist_train[0][0].numpy().reshape(28,28))"
      ],
      "execution_count": 8,
      "outputs": [
        {
          "output_type": "stream",
          "text": [
            "\n"
          ],
          "name": "stdout"
        },
        {
          "output_type": "execute_result",
          "data": {
            "text/plain": [
              "<matplotlib.image.AxesImage at 0x7f4010e8cdd8>"
            ]
          },
          "metadata": {
            "tags": []
          },
          "execution_count": 8
        },
        {
          "output_type": "display_data",
          "data": {
            "image/png": "[encoded data removed]",
            "text/plain": [
              "<Figure size 432x288 with 1 Axes>"
            ]
          },
          "metadata": {
            "tags": [],
            "needs_background": "light"
          }
        },
        {
          "output_type": "stream",
          "text": [
            "\n",
            "\n"
          ],
          "name": "stdout"
        }
      ]
    },
    {
      "cell_type": "code",
      "metadata": {
        "colab": {
          "base_uri": "https://localhost:8080/",
          "height": 282
        },
        "id": "_A37HvWR2b2D",
        "outputId": "1cf48faa-1a39-4093-b5ee-7b87826d2ad2"
      },
      "source": [
        "plt.imshow(mnist_test[0][0].numpy().reshape(28,28))"
      ],
      "execution_count": 9,
      "outputs": [
        {
          "output_type": "execute_result",
          "data": {
            "text/plain": [
              "<matplotlib.image.AxesImage at 0x7f40109e63c8>"
            ]
          },
          "metadata": {
            "tags": []
          },
          "execution_count": 9
        },
        {
          "output_type": "display_data",
          "data": {
            "image/png": "[encoded data removed]",
            "text/plain": [
              "<Figure size 432x288 with 1 Axes>"
            ]
          },
          "metadata": {
            "tags": [],
            "needs_background": "light"
          }
        }
      ]
    },
    {
      "cell_type": "markdown",
      "metadata": {
        "id": "4MBMU6Q35D3y"
      },
      "source": [
        "# Архитектура нейронной сети\n",
        "2 слоя конволюции (активация – ReLU), 2 слоя пулинга, между ними 2 слоя batch нормализации, затем 3 dense слоя и между ними 1 дропаут."
      ]
    },
    {
      "cell_type": "code",
      "metadata": {
        "id": "8Q0wF4D1RdOg"
      },
      "source": [
        "class CNNModel(torch.nn.Module):\n",
        "    def __init__(self):\n",
        "        super(CNNModel, self).__init__()\n",
        "        self.conv_1 = torch.nn.Sequential(\n",
        "            torch.nn.Conv2d(1, 32, kernel_size=3, padding=1),\n",
        "            torch.nn.BatchNorm2d(32),\n",
        "            torch.nn.ReLU(),\n",
        "            torch.nn.MaxPool2d(kernel_size=2, stride=2)\n",
        "        )\n",
        "        self.conv_2 = torch.nn.Sequential(\n",
        "            torch.nn.Conv2d(32, 64, kernel_size=3),\n",
        "            torch.nn.BatchNorm2d(64),\n",
        "            torch.nn.ReLU(),\n",
        "            torch.nn.MaxPool2d(kernel_size=2)\n",
        "        )\n",
        "        self.dense_1 = torch.nn.Linear(64 * 6 * 6, 600)\n",
        "        self.dropout = torch.nn.Dropout2d(0.25)\n",
        "        self.dense_2 = torch.nn.Linear(600, 120)\n",
        "        self.dense_3 = torch.nn.Linear(120, 10)\n",
        "\n",
        "    def forward(self, x):\n",
        "        out = self.conv_1(x)\n",
        "        out = self.conv_2(out)\n",
        "        out = out.view(out.size(0), -1)\n",
        "        out = self.dense_1(out)\n",
        "        out = self.dropout(out)\n",
        "        out = self.dense_2(out)\n",
        "        out = self.dense_3(out)\n",
        "        return out"
      ],
      "execution_count": 10,
      "outputs": []
    },
    {
      "cell_type": "markdown",
      "metadata": {
        "id": "zjkOEJFB5X6j"
      },
      "source": [
        "# Обучение"
      ]
    },
    {
      "cell_type": "code",
      "metadata": {
        "id": "cQR7pAORGb95"
      },
      "source": [
        "model = CNNModel()"
      ],
      "execution_count": 11,
      "outputs": []
    },
    {
      "cell_type": "code",
      "metadata": {
        "id": "CC-YPG-Vw6S3"
      },
      "source": [
        "criterion = torch.nn.CrossEntropyLoss()\n",
        "optimizer = torch.optim.Adam(model.parameters(), lr=0.001)\n",
        "n_epochs = 10"
      ],
      "execution_count": 12,
      "outputs": []
    },
    {
      "cell_type": "markdown",
      "metadata": {
        "id": "4EKzVCdVhs1N"
      },
      "source": [
        "Чтобы не писать один и тот же кусок кода дважды, напишем функцию train_model, которую будем использовать и на обучающей, и на тестовой выборке (с аргументом train=True)."
      ]
    },
    {
      "cell_type": "code",
      "metadata": {
        "id": "kCRQEoRQie2Y"
      },
      "source": [
        "def train_model(model, loader, criterion, optimizer, train=True):\n",
        "    curr_loss, curr_acc = 0.0, 0.0\n",
        "    if train:\n",
        "        model.train()\n",
        "    else:\n",
        "        model.eval()\n",
        "    for X, y in loader:\n",
        "        with torch.set_grad_enabled(train):\n",
        "            y_pred = model(X)\n",
        "        loss = criterion(y_pred, y)\n",
        "        curr_loss += loss.item()\n",
        "        curr_acc += (y_pred.argmax(dim=1) == y).sum().item()\n",
        "        if train:\n",
        "            optimizer.zero_grad()\n",
        "            loss.backward()\n",
        "            optimizer.step()\n",
        "    return curr_loss / len(loader), curr_acc / len(loader.dataset)"
      ],
      "execution_count": 13,
      "outputs": []
    },
    {
      "cell_type": "code",
      "metadata": {
        "colab": {
          "base_uri": "https://localhost:8080/"
        },
        "id": "oblZMRmsxZZh",
        "outputId": "99bf4741-b277-46b1-a674-f243b25a8cb8"
      },
      "source": [
        "train_losses = []\n",
        "test_losses = []\n",
        "\n",
        "for epoch in tqdm(range(1, n_epochs + 1)):\n",
        "    start = time.time()\n",
        "    train_loss, train_acc = train_model(model, train_loader, criterion,\n",
        "                                        optimizer)\n",
        "    test_loss, test_acc = train_model(model, test_loader, criterion, optimizer,\n",
        "                                      train=False)\n",
        "    train_losses.append(train_loss)\n",
        "    test_losses.append(test_loss)\n",
        "    stats = \"\"\"\n",
        "    Epoch: {}, time: {:.1f}s\n",
        "    train_loss: {:.3f}, train_acc: {:.3f}\\ttest_loss: {:.3f}, test_acc: {:.3f}\n",
        "    \"\"\".format(epoch, time.time() - start, train_loss, train_acc,\n",
        "               test_loss, test_acc)\n",
        "    print(stats)"
      ],
      "execution_count": 14,
      "outputs": [
        {
          "output_type": "stream",
          "text": [
            " 10%|█         | 1/10 [01:46<15:56, 106.32s/it]"
          ],
          "name": "stderr"
        },
        {
          "output_type": "stream",
          "text": [
            "\n",
            "    Epoch: 1, time: 106.3s\n",
            "    train_loss: 0.427, train_acc: 0.847\ttest_loss: 0.410, test_acc: 0.856\n",
            "    \n"
          ],
          "name": "stdout"
        },
        {
          "output_type": "stream",
          "text": [
            "\r 20%|██        | 2/10 [03:31<14:08, 106.12s/it]"
          ],
          "name": "stderr"
        },
        {
          "output_type": "stream",
          "text": [
            "\n",
            "    Epoch: 2, time: 105.7s\n",
            "    train_loss: 0.295, train_acc: 0.895\ttest_loss: 0.364, test_acc: 0.872\n",
            "    \n"
          ],
          "name": "stdout"
        },
        {
          "output_type": "stream",
          "text": [
            "\r 30%|███       | 3/10 [05:19<12:25, 106.46s/it]"
          ],
          "name": "stderr"
        },
        {
          "output_type": "stream",
          "text": [
            "\n",
            "    Epoch: 3, time: 107.2s\n",
            "    train_loss: 0.255, train_acc: 0.908\ttest_loss: 0.308, test_acc: 0.895\n",
            "    \n"
          ],
          "name": "stdout"
        },
        {
          "output_type": "stream",
          "text": [
            "\r 40%|████      | 4/10 [07:05<10:38, 106.50s/it]"
          ],
          "name": "stderr"
        },
        {
          "output_type": "stream",
          "text": [
            "\n",
            "    Epoch: 4, time: 106.6s\n",
            "    train_loss: 0.230, train_acc: 0.918\ttest_loss: 0.282, test_acc: 0.904\n",
            "    \n"
          ],
          "name": "stdout"
        },
        {
          "output_type": "stream",
          "text": [
            "\r 50%|█████     | 5/10 [08:51<08:50, 106.18s/it]"
          ],
          "name": "stderr"
        },
        {
          "output_type": "stream",
          "text": [
            "\n",
            "    Epoch: 5, time: 105.4s\n",
            "    train_loss: 0.208, train_acc: 0.925\ttest_loss: 0.300, test_acc: 0.901\n",
            "    \n"
          ],
          "name": "stdout"
        },
        {
          "output_type": "stream",
          "text": [
            "\r 60%|██████    | 6/10 [10:36<07:03, 105.80s/it]"
          ],
          "name": "stderr"
        },
        {
          "output_type": "stream",
          "text": [
            "\n",
            "    Epoch: 6, time: 104.9s\n",
            "    train_loss: 0.193, train_acc: 0.930\ttest_loss: 0.298, test_acc: 0.906\n",
            "    \n"
          ],
          "name": "stdout"
        },
        {
          "output_type": "stream",
          "text": [
            "\r 70%|███████   | 7/10 [12:20<05:16, 105.47s/it]"
          ],
          "name": "stderr"
        },
        {
          "output_type": "stream",
          "text": [
            "\n",
            "    Epoch: 7, time: 104.7s\n",
            "    train_loss: 0.179, train_acc: 0.935\ttest_loss: 0.282, test_acc: 0.908\n",
            "    \n"
          ],
          "name": "stdout"
        },
        {
          "output_type": "stream",
          "text": [
            "\r 80%|████████  | 8/10 [14:05<03:30, 105.33s/it]"
          ],
          "name": "stderr"
        },
        {
          "output_type": "stream",
          "text": [
            "\n",
            "    Epoch: 8, time: 105.0s\n",
            "    train_loss: 0.169, train_acc: 0.940\ttest_loss: 0.312, test_acc: 0.901\n",
            "    \n"
          ],
          "name": "stdout"
        },
        {
          "output_type": "stream",
          "text": [
            "\r 90%|█████████ | 9/10 [15:50<01:45, 105.08s/it]"
          ],
          "name": "stderr"
        },
        {
          "output_type": "stream",
          "text": [
            "\n",
            "    Epoch: 9, time: 104.5s\n",
            "    train_loss: 0.158, train_acc: 0.943\ttest_loss: 0.339, test_acc: 0.899\n",
            "    \n"
          ],
          "name": "stdout"
        },
        {
          "output_type": "stream",
          "text": [
            "100%|██████████| 10/10 [17:34<00:00, 105.47s/it]"
          ],
          "name": "stderr"
        },
        {
          "output_type": "stream",
          "text": [
            "\n",
            "    Epoch: 10, time: 104.4s\n",
            "    train_loss: 0.148, train_acc: 0.948\ttest_loss: 0.332, test_acc: 0.904\n",
            "    \n"
          ],
          "name": "stdout"
        },
        {
          "output_type": "stream",
          "text": [
            "\n"
          ],
          "name": "stderr"
        }
      ]
    },
    {
      "cell_type": "markdown",
      "metadata": {
        "id": "Q9PKB9GFGHpF"
      },
      "source": [
        "Baseline легко побит, test_acc – 0.904!"
      ]
    },
    {
      "cell_type": "markdown",
      "metadata": {
        "id": "4QG62FYH5be1"
      },
      "source": [
        "# Оценка качества\n",
        "Построим график loss-ов для обучающей и тестовой выборки"
      ]
    },
    {
      "cell_type": "code",
      "metadata": {
        "id": "GhNWJIgC3VUZ",
        "colab": {
          "base_uri": "https://localhost:8080/",
          "height": 354
        },
        "outputId": "e5d4740c-c29b-481f-991c-386b7bc22abe"
      },
      "source": [
        "fig, (ax_1, ax_2) = plt.subplots(1, 2, sharey=True, figsize=(10, 5))\n",
        "ax_1.plot(train_losses)\n",
        "ax_2.plot(train_losses)\n",
        "ax_1.grid(True)\n",
        "ax_2.grid(True)\n",
        "ax_1.set_xlabel('Epoch', fontsize='large')\n",
        "ax_2.set_xlabel('Epoch', fontsize='large')\n",
        "ax_1.set_ylabel('Loss function', fontsize='large')\n",
        "ax_1.set_title('Training sample', fontsize='x-large')\n",
        "ax_2.set_title('Test sample', fontsize='x-large')\n",
        "plt.show()"
      ],
      "execution_count": 15,
      "outputs": [
        {
          "output_type": "display_data",
          "data": {
            "image/png": "[encoded data removed]",
            "text/plain": [
              "<Figure size 720x360 with 2 Axes>"
            ]
          },
          "metadata": {
            "tags": [],
            "needs_background": "light"
          }
        }
      ]
    },
    {
      "cell_type": "markdown",
      "metadata": {
        "id": "JNxpvJvzN3ev"
      },
      "source": [
        "Посмотрим на метрики качества."
      ]
    },
    {
      "cell_type": "code",
      "metadata": {
        "colab": {
          "base_uri": "https://localhost:8080/"
        },
        "id": "sMpE3DuAOXDX",
        "outputId": "de066eeb-3f4f-41a0-9d8a-185cfaf5bc37"
      },
      "source": [
        "stats = \"\"\"Final accuracy on test sample: {:.3f}\n",
        "Final loss on training sample: {:.3f}\n",
        "Final loss on test sample: {:.3f}\"\"\".format(test_acc, train_losses[-1],\n",
        "                                            test_losses[-1])\n",
        "print(stats)"
      ],
      "execution_count": 16,
      "outputs": [
        {
          "output_type": "stream",
          "text": [
            "Final accuracy on test sample: 0.904\n",
            "Final loss on training sample: 0.148\n",
            "Final loss on test sample: 0.332\n"
          ],
          "name": "stdout"
        }
      ]
    },
    {
      "cell_type": "markdown",
      "metadata": {
        "id": "q1pgz7FOF3yX"
      },
      "source": [
        "Построим classification report на тестовой выборке."
      ]
    },
    {
      "cell_type": "code",
      "metadata": {
        "id": "yBVPNVmBOKMQ"
      },
      "source": [
        "y_true = []\n",
        "y_pred = []\n",
        "\n",
        "model.eval()\n",
        "for X, y in test_loader:\n",
        "    y_true.append(y.numpy())\n",
        "    y_pred.append(model(X).argmax(dim=1).numpy())"
      ],
      "execution_count": 29,
      "outputs": []
    },
    {
      "cell_type": "code",
      "metadata": {
        "id": "QUM_st1sWb9W"
      },
      "source": [
        "y_true = list(chain.from_iterable(y_true))\n",
        "y_pred = list(chain.from_iterable(y_pred))"
      ],
      "execution_count": 33,
      "outputs": []
    },
    {
      "cell_type": "code",
      "metadata": {
        "colab": {
          "base_uri": "https://localhost:8080/"
        },
        "id": "QiaTtMAgQmI5",
        "outputId": "c820e3ba-1743-4f72-9cfe-1b97d0167f19"
      },
      "source": [
        "target_names = ['T-shirt/Top', 'Trouser', 'Pullover', 'Dress', 'Coat',\n",
        "                 'Sandal', 'Shirt', 'Sheaker', 'Bag', 'Ankle boot']\n",
        "\n",
        "print(classification_report(y_true, y_pred, target_names=target_names))"
      ],
      "execution_count": 34,
      "outputs": [
        {
          "output_type": "stream",
          "text": [
            "              precision    recall  f1-score   support\n",
            "\n",
            " T-shirt/Top       0.77      0.93      0.84      1000\n",
            "     Trouser       0.99      0.98      0.99      1000\n",
            "    Pullover       0.86      0.86      0.86      1000\n",
            "       Dress       0.86      0.94      0.90      1000\n",
            "        Coat       0.89      0.78      0.83      1000\n",
            "      Sandal       0.99      0.98      0.98      1000\n",
            "       Shirt       0.83      0.63      0.72      1000\n",
            "     Sheaker       0.96      0.98      0.97      1000\n",
            "         Bag       0.93      0.99      0.96      1000\n",
            "  Ankle boot       0.98      0.97      0.97      1000\n",
            "\n",
            "    accuracy                           0.90     10000\n",
            "   macro avg       0.91      0.90      0.90     10000\n",
            "weighted avg       0.91      0.90      0.90     10000\n",
            "\n"
          ],
          "name": "stdout"
        }
      ]
    }
  ]
}