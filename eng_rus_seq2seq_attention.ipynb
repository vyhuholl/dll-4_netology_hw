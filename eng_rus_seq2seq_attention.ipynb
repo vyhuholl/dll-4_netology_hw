{
  "nbformat": 4,
  "nbformat_minor": 0,
  "metadata": {
    "colab": {
      "name": "eng_rus_seq2seq_attention.ipynb",
      "provenance": [],
      "collapsed_sections": []
    },
    "kernelspec": {
      "name": "python3",
      "display_name": "Python 3"
    },
    "accelerator": "GPU",
    "widgets": {
      "application/vnd.jupyter.widget-state+json": {
        "db57ba3e6cca42ef8ff1bf725b76fe2e": {
          "model_module": "@jupyter-widgets/controls",
          "model_name": "HBoxModel",
          "state": {
            "_view_name": "HBoxView",
            "_dom_classes": [],
            "_model_name": "HBoxModel",
            "_view_module": "@jupyter-widgets/controls",
            "_model_module_version": "1.5.0",
            "_view_count": null,
            "_view_module_version": "1.5.0",
            "box_style": "",
            "layout": "IPY_MODEL_6e3b413d4e8c4cc38eff9bce356905c3",
            "_model_module": "@jupyter-widgets/controls",
            "children": [
              "IPY_MODEL_6309e951c4944df8afdf6defeaeab068",
              "IPY_MODEL_072dcd47c79e4908bb8b6f7f3cc1e804"
            ]
          }
        },
        "6e3b413d4e8c4cc38eff9bce356905c3": {
          "model_module": "@jupyter-widgets/base",
          "model_name": "LayoutModel",
          "state": {
            "_view_name": "LayoutView",
            "grid_template_rows": null,
            "right": null,
            "justify_content": null,
            "_view_module": "@jupyter-widgets/base",
            "overflow": null,
            "_model_module_version": "1.2.0",
            "_view_count": null,
            "flex_flow": null,
            "width": null,
            "min_width": null,
            "border": null,
            "align_items": null,
            "bottom": null,
            "_model_module": "@jupyter-widgets/base",
            "top": null,
            "grid_column": null,
            "overflow_y": null,
            "overflow_x": null,
            "grid_auto_flow": null,
            "grid_area": null,
            "grid_template_columns": null,
            "flex": null,
            "_model_name": "LayoutModel",
            "justify_items": null,
            "grid_row": null,
            "max_height": null,
            "align_content": null,
            "visibility": null,
            "align_self": null,
            "height": null,
            "min_height": null,
            "padding": null,
            "grid_auto_rows": null,
            "grid_gap": null,
            "max_width": null,
            "order": null,
            "_view_module_version": "1.2.0",
            "grid_template_areas": null,
            "object_position": null,
            "object_fit": null,
            "grid_auto_columns": null,
            "margin": null,
            "display": null,
            "left": null
          }
        },
        "6309e951c4944df8afdf6defeaeab068": {
          "model_module": "@jupyter-widgets/controls",
          "model_name": "FloatProgressModel",
          "state": {
            "_view_name": "ProgressView",
            "style": "IPY_MODEL_c1d384956e6c4a06988e51339015bf0a",
            "_dom_classes": [],
            "description": "100%",
            "_model_name": "FloatProgressModel",
            "bar_style": "success",
            "max": 75000,
            "_view_module": "@jupyter-widgets/controls",
            "_model_module_version": "1.5.0",
            "value": 75000,
            "_view_count": null,
            "_view_module_version": "1.5.0",
            "orientation": "horizontal",
            "min": 0,
            "description_tooltip": null,
            "_model_module": "@jupyter-widgets/controls",
            "layout": "IPY_MODEL_fa4f1a3ad1ef414a9dfe544d4a5c951a"
          }
        },
        "072dcd47c79e4908bb8b6f7f3cc1e804": {
          "model_module": "@jupyter-widgets/controls",
          "model_name": "HTMLModel",
          "state": {
            "_view_name": "HTMLView",
            "style": "IPY_MODEL_73d938cda7d145b9ae056bfd65e624d5",
            "_dom_classes": [],
            "description": "",
            "_model_name": "HTMLModel",
            "placeholder": "​",
            "_view_module": "@jupyter-widgets/controls",
            "_model_module_version": "1.5.0",
            "value": " 75000/75000 [47:49&lt;00:00, 26.14it/s]",
            "_view_count": null,
            "_view_module_version": "1.5.0",
            "description_tooltip": null,
            "_model_module": "@jupyter-widgets/controls",
            "layout": "IPY_MODEL_5c11b74335ac40d3bcf36153b464b5e8"
          }
        },
        "c1d384956e6c4a06988e51339015bf0a": {
          "model_module": "@jupyter-widgets/controls",
          "model_name": "ProgressStyleModel",
          "state": {
            "_view_name": "StyleView",
            "_model_name": "ProgressStyleModel",
            "description_width": "initial",
            "_view_module": "@jupyter-widgets/base",
            "_model_module_version": "1.5.0",
            "_view_count": null,
            "_view_module_version": "1.2.0",
            "bar_color": null,
            "_model_module": "@jupyter-widgets/controls"
          }
        },
        "fa4f1a3ad1ef414a9dfe544d4a5c951a": {
          "model_module": "@jupyter-widgets/base",
          "model_name": "LayoutModel",
          "state": {
            "_view_name": "LayoutView",
            "grid_template_rows": null,
            "right": null,
            "justify_content": null,
            "_view_module": "@jupyter-widgets/base",
            "overflow": null,
            "_model_module_version": "1.2.0",
            "_view_count": null,
            "flex_flow": null,
            "width": null,
            "min_width": null,
            "border": null,
            "align_items": null,
            "bottom": null,
            "_model_module": "@jupyter-widgets/base",
            "top": null,
            "grid_column": null,
            "overflow_y": null,
            "overflow_x": null,
            "grid_auto_flow": null,
            "grid_area": null,
            "grid_template_columns": null,
            "flex": null,
            "_model_name": "LayoutModel",
            "justify_items": null,
            "grid_row": null,
            "max_height": null,
            "align_content": null,
            "visibility": null,
            "align_self": null,
            "height": null,
            "min_height": null,
            "padding": null,
            "grid_auto_rows": null,
            "grid_gap": null,
            "max_width": null,
            "order": null,
            "_view_module_version": "1.2.0",
            "grid_template_areas": null,
            "object_position": null,
            "object_fit": null,
            "grid_auto_columns": null,
            "margin": null,
            "display": null,
            "left": null
          }
        },
        "73d938cda7d145b9ae056bfd65e624d5": {
          "model_module": "@jupyter-widgets/controls",
          "model_name": "DescriptionStyleModel",
          "state": {
            "_view_name": "StyleView",
            "_model_name": "DescriptionStyleModel",
            "description_width": "",
            "_view_module": "@jupyter-widgets/base",
            "_model_module_version": "1.5.0",
            "_view_count": null,
            "_view_module_version": "1.2.0",
            "_model_module": "@jupyter-widgets/controls"
          }
        },
        "5c11b74335ac40d3bcf36153b464b5e8": {
          "model_module": "@jupyter-widgets/base",
          "model_name": "LayoutModel",
          "state": {
            "_view_name": "LayoutView",
            "grid_template_rows": null,
            "right": null,
            "justify_content": null,
            "_view_module": "@jupyter-widgets/base",
            "overflow": null,
            "_model_module_version": "1.2.0",
            "_view_count": null,
            "flex_flow": null,
            "width": null,
            "min_width": null,
            "border": null,
            "align_items": null,
            "bottom": null,
            "_model_module": "@jupyter-widgets/base",
            "top": null,
            "grid_column": null,
            "overflow_y": null,
            "overflow_x": null,
            "grid_auto_flow": null,
            "grid_area": null,
            "grid_template_columns": null,
            "flex": null,
            "_model_name": "LayoutModel",
            "justify_items": null,
            "grid_row": null,
            "max_height": null,
            "align_content": null,
            "visibility": null,
            "align_self": null,
            "height": null,
            "min_height": null,
            "padding": null,
            "grid_auto_rows": null,
            "grid_gap": null,
            "max_width": null,
            "order": null,
            "_view_module_version": "1.2.0",
            "grid_template_areas": null,
            "object_position": null,
            "object_fit": null,
            "grid_auto_columns": null,
            "margin": null,
            "display": null,
            "left": null
          }
        },
        "d373a69bd7d848e998cd4fa0ca79a5a4": {
          "model_module": "@jupyter-widgets/controls",
          "model_name": "HBoxModel",
          "state": {
            "_view_name": "HBoxView",
            "_dom_classes": [],
            "_model_name": "HBoxModel",
            "_view_module": "@jupyter-widgets/controls",
            "_model_module_version": "1.5.0",
            "_view_count": null,
            "_view_module_version": "1.5.0",
            "box_style": "",
            "layout": "IPY_MODEL_74bb5805362d43ebb4ca80fac40a7014",
            "_model_module": "@jupyter-widgets/controls",
            "children": [
              "IPY_MODEL_58f6621260b343ee8c9ad48c2882c0b9",
              "IPY_MODEL_7ac051649f44499491118fc5119fef76"
            ]
          }
        },
        "74bb5805362d43ebb4ca80fac40a7014": {
          "model_module": "@jupyter-widgets/base",
          "model_name": "LayoutModel",
          "state": {
            "_view_name": "LayoutView",
            "grid_template_rows": null,
            "right": null,
            "justify_content": null,
            "_view_module": "@jupyter-widgets/base",
            "overflow": null,
            "_model_module_version": "1.2.0",
            "_view_count": null,
            "flex_flow": null,
            "width": null,
            "min_width": null,
            "border": null,
            "align_items": null,
            "bottom": null,
            "_model_module": "@jupyter-widgets/base",
            "top": null,
            "grid_column": null,
            "overflow_y": null,
            "overflow_x": null,
            "grid_auto_flow": null,
            "grid_area": null,
            "grid_template_columns": null,
            "flex": null,
            "_model_name": "LayoutModel",
            "justify_items": null,
            "grid_row": null,
            "max_height": null,
            "align_content": null,
            "visibility": null,
            "align_self": null,
            "height": null,
            "min_height": null,
            "padding": null,
            "grid_auto_rows": null,
            "grid_gap": null,
            "max_width": null,
            "order": null,
            "_view_module_version": "1.2.0",
            "grid_template_areas": null,
            "object_position": null,
            "object_fit": null,
            "grid_auto_columns": null,
            "margin": null,
            "display": null,
            "left": null
          }
        },
        "58f6621260b343ee8c9ad48c2882c0b9": {
          "model_module": "@jupyter-widgets/controls",
          "model_name": "FloatProgressModel",
          "state": {
            "_view_name": "ProgressView",
            "style": "IPY_MODEL_9340e8f93eab44a5b3e5e4ffb7dc03ee",
            "_dom_classes": [],
            "description": "100%",
            "_model_name": "FloatProgressModel",
            "bar_style": "success",
            "max": 75000,
            "_view_module": "@jupyter-widgets/controls",
            "_model_module_version": "1.5.0",
            "value": 75000,
            "_view_count": null,
            "_view_module_version": "1.5.0",
            "orientation": "horizontal",
            "min": 0,
            "description_tooltip": null,
            "_model_module": "@jupyter-widgets/controls",
            "layout": "IPY_MODEL_37f3f2fff8f0478a9002a6a0f2e9feeb"
          }
        },
        "7ac051649f44499491118fc5119fef76": {
          "model_module": "@jupyter-widgets/controls",
          "model_name": "HTMLModel",
          "state": {
            "_view_name": "HTMLView",
            "style": "IPY_MODEL_814351abb33747ad8aec99bd6d34109f",
            "_dom_classes": [],
            "description": "",
            "_model_name": "HTMLModel",
            "placeholder": "​",
            "_view_module": "@jupyter-widgets/controls",
            "_model_module_version": "1.5.0",
            "value": " 75000/75000 [52:14&lt;00:00, 23.93it/s]",
            "_view_count": null,
            "_view_module_version": "1.5.0",
            "description_tooltip": null,
            "_model_module": "@jupyter-widgets/controls",
            "layout": "IPY_MODEL_01304addf29b4bb6a79bae6099e61be0"
          }
        },
        "9340e8f93eab44a5b3e5e4ffb7dc03ee": {
          "model_module": "@jupyter-widgets/controls",
          "model_name": "ProgressStyleModel",
          "state": {
            "_view_name": "StyleView",
            "_model_name": "ProgressStyleModel",
            "description_width": "initial",
            "_view_module": "@jupyter-widgets/base",
            "_model_module_version": "1.5.0",
            "_view_count": null,
            "_view_module_version": "1.2.0",
            "bar_color": null,
            "_model_module": "@jupyter-widgets/controls"
          }
        },
        "37f3f2fff8f0478a9002a6a0f2e9feeb": {
          "model_module": "@jupyter-widgets/base",
          "model_name": "LayoutModel",
          "state": {
            "_view_name": "LayoutView",
            "grid_template_rows": null,
            "right": null,
            "justify_content": null,
            "_view_module": "@jupyter-widgets/base",
            "overflow": null,
            "_model_module_version": "1.2.0",
            "_view_count": null,
            "flex_flow": null,
            "width": null,
            "min_width": null,
            "border": null,
            "align_items": null,
            "bottom": null,
            "_model_module": "@jupyter-widgets/base",
            "top": null,
            "grid_column": null,
            "overflow_y": null,
            "overflow_x": null,
            "grid_auto_flow": null,
            "grid_area": null,
            "grid_template_columns": null,
            "flex": null,
            "_model_name": "LayoutModel",
            "justify_items": null,
            "grid_row": null,
            "max_height": null,
            "align_content": null,
            "visibility": null,
            "align_self": null,
            "height": null,
            "min_height": null,
            "padding": null,
            "grid_auto_rows": null,
            "grid_gap": null,
            "max_width": null,
            "order": null,
            "_view_module_version": "1.2.0",
            "grid_template_areas": null,
            "object_position": null,
            "object_fit": null,
            "grid_auto_columns": null,
            "margin": null,
            "display": null,
            "left": null
          }
        },
        "814351abb33747ad8aec99bd6d34109f": {
          "model_module": "@jupyter-widgets/controls",
          "model_name": "DescriptionStyleModel",
          "state": {
            "_view_name": "StyleView",
            "_model_name": "DescriptionStyleModel",
            "description_width": "",
            "_view_module": "@jupyter-widgets/base",
            "_model_module_version": "1.5.0",
            "_view_count": null,
            "_view_module_version": "1.2.0",
            "_model_module": "@jupyter-widgets/controls"
          }
        },
        "01304addf29b4bb6a79bae6099e61be0": {
          "model_module": "@jupyter-widgets/base",
          "model_name": "LayoutModel",
          "state": {
            "_view_name": "LayoutView",
            "grid_template_rows": null,
            "right": null,
            "justify_content": null,
            "_view_module": "@jupyter-widgets/base",
            "overflow": null,
            "_model_module_version": "1.2.0",
            "_view_count": null,
            "flex_flow": null,
            "width": null,
            "min_width": null,
            "border": null,
            "align_items": null,
            "bottom": null,
            "_model_module": "@jupyter-widgets/base",
            "top": null,
            "grid_column": null,
            "overflow_y": null,
            "overflow_x": null,
            "grid_auto_flow": null,
            "grid_area": null,
            "grid_template_columns": null,
            "flex": null,
            "_model_name": "LayoutModel",
            "justify_items": null,
            "grid_row": null,
            "max_height": null,
            "align_content": null,
            "visibility": null,
            "align_self": null,
            "height": null,
            "min_height": null,
            "padding": null,
            "grid_auto_rows": null,
            "grid_gap": null,
            "max_width": null,
            "order": null,
            "_view_module_version": "1.2.0",
            "grid_template_areas": null,
            "object_position": null,
            "object_fit": null,
            "grid_auto_columns": null,
            "margin": null,
            "display": null,
            "left": null
          }
        }
      }
    }
  },
  "cells": [
    {
      "cell_type": "code",
      "metadata": {
        "id": "nEJsPOjH4pQ1"
      },
      "source": [
        "from IPython.display import clear_output"
      ],
      "execution_count": 1,
      "outputs": []
    },
    {
      "cell_type": "code",
      "metadata": {
        "id": "oaPhld-e6OI6"
      },
      "source": [
        "!pip install pycodestyle pycodestyle_magic\n",
        "!pip install flake8\n",
        "clear_output()"
      ],
      "execution_count": 2,
      "outputs": []
    },
    {
      "cell_type": "code",
      "metadata": {
        "id": "m_rqBTPc6OkU"
      },
      "source": [
        "%load_ext pycodestyle_magic"
      ],
      "execution_count": 3,
      "outputs": []
    },
    {
      "cell_type": "code",
      "metadata": {
        "id": "aiDgiPuO6bX9"
      },
      "source": [
        "import re\n",
        "import pandas as pd\n",
        "import numpy as np\n",
        "import matplotlib.pyplot as plt\n",
        "import matplotlib.ticker as ticker\n",
        "import torch\n",
        "import torch.nn as nn\n",
        "import torch.nn.functional as F\n",
        "from torch import optim\n",
        "from itertools import chain\n",
        "from tqdm.notebook import tqdm\n",
        "from warnings import filterwarnings\n",
        "from datetime import datetime, timedelta\n",
        "\n",
        "%matplotlib inline"
      ],
      "execution_count": 4,
      "outputs": []
    },
    {
      "cell_type": "code",
      "metadata": {
        "id": "px2-IK5xWsK0"
      },
      "source": [
        "filterwarnings('ignore')"
      ],
      "execution_count": 5,
      "outputs": []
    },
    {
      "cell_type": "code",
      "metadata": {
        "id": "iNErgEQP6ev8"
      },
      "source": [
        "device = torch.device('cuda' if torch.cuda.is_available() else 'cpu')"
      ],
      "execution_count": 6,
      "outputs": []
    },
    {
      "cell_type": "code",
      "metadata": {
        "colab": {
          "base_uri": "https://localhost:8080/"
        },
        "id": "2maZboIv6lnl",
        "outputId": "590d5e2d-7001-4655-a18c-9ac0ac72a56b"
      },
      "source": [
        "!wget https://www.manythings.org/anki/rus-eng.zip"
      ],
      "execution_count": 7,
      "outputs": [
        {
          "output_type": "stream",
          "text": [
            "--2021-02-11 02:48:38--  https://www.manythings.org/anki/rus-eng.zip\n",
            "Resolving www.manythings.org (www.manythings.org)... 104.21.55.222, 172.67.173.198, 2606:4700:3036::ac43:adc6, ...\n",
            "Connecting to www.manythings.org (www.manythings.org)|104.21.55.222|:443... connected.\n",
            "HTTP request sent, awaiting response... 200 OK\n",
            "Length: 14042100 (13M) [application/zip]\n",
            "Saving to: ‘rus-eng.zip’\n",
            "\n",
            "rus-eng.zip         100%[===================>]  13.39M  18.9MB/s    in 0.7s    \n",
            "\n",
            "2021-02-11 02:48:39 (18.9 MB/s) - ‘rus-eng.zip’ saved [14042100/14042100]\n",
            "\n"
          ],
          "name": "stdout"
        }
      ]
    },
    {
      "cell_type": "code",
      "metadata": {
        "colab": {
          "base_uri": "https://localhost:8080/"
        },
        "id": "qS-3916069nc",
        "outputId": "65a443b1-cab1-48f5-801f-512a7bb43245"
      },
      "source": [
        "!unzip rus-eng.zip"
      ],
      "execution_count": 8,
      "outputs": [
        {
          "output_type": "stream",
          "text": [
            "Archive:  rus-eng.zip\n",
            "  inflating: rus.txt                 \n",
            "  inflating: _about.txt              \n"
          ],
          "name": "stdout"
        }
      ]
    },
    {
      "cell_type": "code",
      "metadata": {
        "id": "a3CNTobc7Bin"
      },
      "source": [
        "!rm rus-eng.zip _about.txt"
      ],
      "execution_count": 9,
      "outputs": []
    },
    {
      "cell_type": "code",
      "metadata": {
        "id": "G18Ixr1s7C6g"
      },
      "source": [
        "df = pd.read_csv('rus.txt', sep='\\t', header=None).drop(2, axis=1)"
      ],
      "execution_count": 10,
      "outputs": []
    },
    {
      "cell_type": "code",
      "metadata": {
        "colab": {
          "base_uri": "https://localhost:8080/",
          "height": 514
        },
        "id": "30OZ9TqY7OcE",
        "outputId": "2fc4cedb-68d9-4684-c9b2-20502c448794"
      },
      "source": [
        "df.head(15)"
      ],
      "execution_count": 11,
      "outputs": [
        {
          "output_type": "execute_result",
          "data": {
            "text/html": [
              "<div>\n",
              "<style scoped>\n",
              "    .dataframe tbody tr th:only-of-type {\n",
              "        vertical-align: middle;\n",
              "    }\n",
              "\n",
              "    .dataframe tbody tr th {\n",
              "        vertical-align: top;\n",
              "    }\n",
              "\n",
              "    .dataframe thead th {\n",
              "        text-align: right;\n",
              "    }\n",
              "</style>\n",
              "<table border=\"1\" class=\"dataframe\">\n",
              "  <thead>\n",
              "    <tr style=\"text-align: right;\">\n",
              "      <th></th>\n",
              "      <th>0</th>\n",
              "      <th>1</th>\n",
              "    </tr>\n",
              "  </thead>\n",
              "  <tbody>\n",
              "    <tr>\n",
              "      <th>0</th>\n",
              "      <td>Go.</td>\n",
              "      <td>Марш!</td>\n",
              "    </tr>\n",
              "    <tr>\n",
              "      <th>1</th>\n",
              "      <td>Go.</td>\n",
              "      <td>Иди.</td>\n",
              "    </tr>\n",
              "    <tr>\n",
              "      <th>2</th>\n",
              "      <td>Go.</td>\n",
              "      <td>Идите.</td>\n",
              "    </tr>\n",
              "    <tr>\n",
              "      <th>3</th>\n",
              "      <td>Hi.</td>\n",
              "      <td>Здравствуйте.</td>\n",
              "    </tr>\n",
              "    <tr>\n",
              "      <th>4</th>\n",
              "      <td>Hi.</td>\n",
              "      <td>Привет!</td>\n",
              "    </tr>\n",
              "    <tr>\n",
              "      <th>5</th>\n",
              "      <td>Hi.</td>\n",
              "      <td>Хай.</td>\n",
              "    </tr>\n",
              "    <tr>\n",
              "      <th>6</th>\n",
              "      <td>Hi.</td>\n",
              "      <td>Здрасте.</td>\n",
              "    </tr>\n",
              "    <tr>\n",
              "      <th>7</th>\n",
              "      <td>Hi.</td>\n",
              "      <td>Здоро́во!</td>\n",
              "    </tr>\n",
              "    <tr>\n",
              "      <th>8</th>\n",
              "      <td>Run!</td>\n",
              "      <td>Беги!</td>\n",
              "    </tr>\n",
              "    <tr>\n",
              "      <th>9</th>\n",
              "      <td>Run!</td>\n",
              "      <td>Бегите!</td>\n",
              "    </tr>\n",
              "    <tr>\n",
              "      <th>10</th>\n",
              "      <td>Run.</td>\n",
              "      <td>Беги!</td>\n",
              "    </tr>\n",
              "    <tr>\n",
              "      <th>11</th>\n",
              "      <td>Run.</td>\n",
              "      <td>Бегите!</td>\n",
              "    </tr>\n",
              "    <tr>\n",
              "      <th>12</th>\n",
              "      <td>Who?</td>\n",
              "      <td>Кто?</td>\n",
              "    </tr>\n",
              "    <tr>\n",
              "      <th>13</th>\n",
              "      <td>Wow!</td>\n",
              "      <td>Вот это да!</td>\n",
              "    </tr>\n",
              "    <tr>\n",
              "      <th>14</th>\n",
              "      <td>Wow!</td>\n",
              "      <td>Круто!</td>\n",
              "    </tr>\n",
              "  </tbody>\n",
              "</table>\n",
              "</div>"
            ],
            "text/plain": [
              "       0              1\n",
              "0    Go.          Марш!\n",
              "1    Go.           Иди.\n",
              "2    Go.         Идите.\n",
              "3    Hi.  Здравствуйте.\n",
              "4    Hi.        Привет!\n",
              "5    Hi.           Хай.\n",
              "6    Hi.       Здрасте.\n",
              "7    Hi.      Здоро́во!\n",
              "8   Run!          Беги!\n",
              "9   Run!        Бегите!\n",
              "10  Run.          Беги!\n",
              "11  Run.        Бегите!\n",
              "12  Who?           Кто?\n",
              "13  Wow!    Вот это да!\n",
              "14  Wow!         Круто!"
            ]
          },
          "metadata": {
            "tags": []
          },
          "execution_count": 11
        }
      ]
    },
    {
      "cell_type": "code",
      "metadata": {
        "colab": {
          "base_uri": "https://localhost:8080/"
        },
        "id": "xGJh2TyW7Qzp",
        "outputId": "fa3a524f-5408-4b2c-a946-d8c542b5b996"
      },
      "source": [
        "df.info()"
      ],
      "execution_count": 12,
      "outputs": [
        {
          "output_type": "stream",
          "text": [
            "<class 'pandas.core.frame.DataFrame'>\n",
            "RangeIndex: 421765 entries, 0 to 421764\n",
            "Data columns (total 2 columns):\n",
            " #   Column  Non-Null Count   Dtype \n",
            "---  ------  --------------   ----- \n",
            " 0   0       421765 non-null  object\n",
            " 1   1       421765 non-null  object\n",
            "dtypes: object(2)\n",
            "memory usage: 6.4+ MB\n"
          ],
          "name": "stdout"
        }
      ]
    },
    {
      "cell_type": "code",
      "metadata": {
        "id": "-LhTyDOt7yjN"
      },
      "source": [
        "df[0] = df[0].apply(lambda x: re.sub(r'[^a-zа-яё \\']+', '', x.lower()))\n",
        "df[1] = df[1].apply(lambda x: re.sub(r'[^a-zа-яё \\']+', '', x.lower()))\n",
        "df[0] = df[0].apply(lambda x: re.sub(r'\\s\\s+|\\'', ' ', x))\n",
        "df[1] = df[1].apply(lambda x: re.sub(r'\\s\\s+|\\'', ' ', x))"
      ],
      "execution_count": 13,
      "outputs": []
    },
    {
      "cell_type": "code",
      "metadata": {
        "colab": {
          "base_uri": "https://localhost:8080/",
          "height": 514
        },
        "id": "v9oUjP358BLs",
        "outputId": "a531a94a-3c39-4c51-de81-84d23ca1616d"
      },
      "source": [
        "df.sample(n=15)"
      ],
      "execution_count": 14,
      "outputs": [
        {
          "output_type": "execute_result",
          "data": {
            "text/html": [
              "<div>\n",
              "<style scoped>\n",
              "    .dataframe tbody tr th:only-of-type {\n",
              "        vertical-align: middle;\n",
              "    }\n",
              "\n",
              "    .dataframe tbody tr th {\n",
              "        vertical-align: top;\n",
              "    }\n",
              "\n",
              "    .dataframe thead th {\n",
              "        text-align: right;\n",
              "    }\n",
              "</style>\n",
              "<table border=\"1\" class=\"dataframe\">\n",
              "  <thead>\n",
              "    <tr style=\"text-align: right;\">\n",
              "      <th></th>\n",
              "      <th>0</th>\n",
              "      <th>1</th>\n",
              "    </tr>\n",
              "  </thead>\n",
              "  <tbody>\n",
              "    <tr>\n",
              "      <th>277017</th>\n",
              "      <td>you re in no condition to drive</td>\n",
              "      <td>ты не в том состоянии чтобы вести машину</td>\n",
              "    </tr>\n",
              "    <tr>\n",
              "      <th>381447</th>\n",
              "      <td>i d like to hear a lot more about your trip</td>\n",
              "      <td>я хотел бы послушать побольше о вашем путешествии</td>\n",
              "    </tr>\n",
              "    <tr>\n",
              "      <th>254931</th>\n",
              "      <td>the cat was basking in the sun</td>\n",
              "      <td>кот нежился на солнце</td>\n",
              "    </tr>\n",
              "    <tr>\n",
              "      <th>202004</th>\n",
              "      <td>it rained heavily yesterday</td>\n",
              "      <td>вчера шёл сильный дождь</td>\n",
              "    </tr>\n",
              "    <tr>\n",
              "      <th>99889</th>\n",
              "      <td>i ve seen you do that</td>\n",
              "      <td>я видел как ты это делал</td>\n",
              "    </tr>\n",
              "    <tr>\n",
              "      <th>407670</th>\n",
              "      <td>what you have just said reminds me of an old s...</td>\n",
              "      <td>то что вы только что сказали напоминает мне ст...</td>\n",
              "    </tr>\n",
              "    <tr>\n",
              "      <th>318674</th>\n",
              "      <td>i found the problem was easy to fix</td>\n",
              "      <td>я нашёл что проблему было легко решить</td>\n",
              "    </tr>\n",
              "    <tr>\n",
              "      <th>394164</th>\n",
              "      <td>if i had enough money i could buy this camera</td>\n",
              "      <td>будь у меня достаточно денег я бы смог купить ...</td>\n",
              "    </tr>\n",
              "    <tr>\n",
              "      <th>591</th>\n",
              "      <td>i got it</td>\n",
              "      <td>понял</td>\n",
              "    </tr>\n",
              "    <tr>\n",
              "      <th>295389</th>\n",
              "      <td>i still cry when i think about it</td>\n",
              "      <td>я до сих пор плачу когда думаю об этом</td>\n",
              "    </tr>\n",
              "    <tr>\n",
              "      <th>11121</th>\n",
              "      <td>i m not lucky</td>\n",
              "      <td>мне не везёт</td>\n",
              "    </tr>\n",
              "    <tr>\n",
              "      <th>4513</th>\n",
              "      <td>is it ready</td>\n",
              "      <td>оно готово</td>\n",
              "    </tr>\n",
              "    <tr>\n",
              "      <th>269292</th>\n",
              "      <td>it s a common french expression</td>\n",
              "      <td>это распространенное французское выражение</td>\n",
              "    </tr>\n",
              "    <tr>\n",
              "      <th>378590</th>\n",
              "      <td>tom said he s tried doing that three times</td>\n",
              "      <td>том сказал что трижды пытался это сделать</td>\n",
              "    </tr>\n",
              "    <tr>\n",
              "      <th>65831</th>\n",
              "      <td>i can come tomorrow</td>\n",
              "      <td>я могу завтра прийти</td>\n",
              "    </tr>\n",
              "  </tbody>\n",
              "</table>\n",
              "</div>"
            ],
            "text/plain": [
              "                                                        0                                                  1\n",
              "277017                    you re in no condition to drive           ты не в том состоянии чтобы вести машину\n",
              "381447        i d like to hear a lot more about your trip  я хотел бы послушать побольше о вашем путешествии\n",
              "254931                     the cat was basking in the sun                              кот нежился на солнце\n",
              "202004                        it rained heavily yesterday                            вчера шёл сильный дождь\n",
              "99889                               i ve seen you do that                           я видел как ты это делал\n",
              "407670  what you have just said reminds me of an old s...  то что вы только что сказали напоминает мне ст...\n",
              "318674                i found the problem was easy to fix             я нашёл что проблему было легко решить\n",
              "394164      if i had enough money i could buy this camera  будь у меня достаточно денег я бы смог купить ...\n",
              "591                                              i got it                                              понял\n",
              "295389                  i still cry when i think about it             я до сих пор плачу когда думаю об этом\n",
              "11121                                       i m not lucky                                       мне не везёт\n",
              "4513                                          is it ready                                         оно готово\n",
              "269292                    it s a common french expression         это распространенное французское выражение\n",
              "378590         tom said he s tried doing that three times          том сказал что трижды пытался это сделать\n",
              "65831                                 i can come tomorrow                               я могу завтра прийти"
            ]
          },
          "metadata": {
            "tags": []
          },
          "execution_count": 14
        }
      ]
    },
    {
      "cell_type": "code",
      "metadata": {
        "id": "11dP3DDP-ZGj"
      },
      "source": [
        "MAX_LENGTH = 10\n",
        "\n",
        "eng_prefixes = (\n",
        "    \"i am \", \"i m \",\n",
        "    \"he is\", \"he s \",\n",
        "    \"she is\", \"she s\",\n",
        "    \"you are\", \"you re \",\n",
        "    \"we are\", \"we re \",\n",
        "    \"they are\", \"they re \"\n",
        ")\n",
        "\n",
        "\n",
        "def filterPair(p):\n",
        "    return len(p[0].split(' ')) < MAX_LENGTH and \\\n",
        "        len(p[1].split(' ')) < MAX_LENGTH and \\\n",
        "        p[0].startswith(eng_prefixes)\n",
        "\n",
        "\n",
        "def filterPairs(pairs):\n",
        "    return [pair for pair in pairs if filterPair(pair)]"
      ],
      "execution_count": 15,
      "outputs": []
    },
    {
      "cell_type": "code",
      "metadata": {
        "id": "Y0VumTkt-lFL"
      },
      "source": [
        "pairs = list(zip(df[0].tolist(), df[1].tolist()))"
      ],
      "execution_count": 16,
      "outputs": []
    },
    {
      "cell_type": "code",
      "metadata": {
        "id": "RS2BmaALD-7H"
      },
      "source": [
        "del df"
      ],
      "execution_count": 17,
      "outputs": []
    },
    {
      "cell_type": "code",
      "metadata": {
        "id": "n2aAXNS-EADy"
      },
      "source": [
        "pairs = filterPairs(pairs)"
      ],
      "execution_count": 18,
      "outputs": []
    },
    {
      "cell_type": "code",
      "metadata": {
        "colab": {
          "base_uri": "https://localhost:8080/"
        },
        "id": "836xJjPSEEZB",
        "outputId": "c7616d8d-a315-4410-995e-f341be708190"
      },
      "source": [
        "len(pairs)"
      ],
      "execution_count": 19,
      "outputs": [
        {
          "output_type": "execute_result",
          "data": {
            "text/plain": [
              "27003"
            ]
          },
          "metadata": {
            "tags": []
          },
          "execution_count": 19
        }
      ]
    },
    {
      "cell_type": "code",
      "metadata": {
        "id": "hyYdSNwmEGAe"
      },
      "source": [
        "eng_dict = ['SOS', 'EOS'] + sorted(\n",
        "    list(set(chain.from_iterable([pair[0].split() for pair in pairs])))\n",
        "    )"
      ],
      "execution_count": 20,
      "outputs": []
    },
    {
      "cell_type": "code",
      "metadata": {
        "colab": {
          "base_uri": "https://localhost:8080/"
        },
        "id": "1I9ss1WFFvIB",
        "outputId": "f1a1fedc-fc80-4910-eb23-66d07e05bab2"
      },
      "source": [
        "len(eng_dict)"
      ],
      "execution_count": 21,
      "outputs": [
        {
          "output_type": "execute_result",
          "data": {
            "text/plain": [
              "4271"
            ]
          },
          "metadata": {
            "tags": []
          },
          "execution_count": 21
        }
      ]
    },
    {
      "cell_type": "code",
      "metadata": {
        "colab": {
          "base_uri": "https://localhost:8080/"
        },
        "id": "Ln4BQIRJFwlS",
        "outputId": "48dea8f5-6a36-409c-d274-0572c9302c0c"
      },
      "source": [
        "eng_dict[:10]"
      ],
      "execution_count": 22,
      "outputs": [
        {
          "output_type": "execute_result",
          "data": {
            "text/plain": [
              "['SOS',\n",
              " 'EOS',\n",
              " 'a',\n",
              " 'abandon',\n",
              " 'ability',\n",
              " 'able',\n",
              " 'aboard',\n",
              " 'about',\n",
              " 'above',\n",
              " 'abroad']"
            ]
          },
          "metadata": {
            "tags": []
          },
          "execution_count": 22
        }
      ]
    },
    {
      "cell_type": "code",
      "metadata": {
        "id": "5z-XHAsEFyrh"
      },
      "source": [
        "rus_dict = ['SOS', 'EOS'] + sorted(\n",
        "    list(set(chain.from_iterable([pair[1].split() for pair in pairs])))\n",
        "    )"
      ],
      "execution_count": 23,
      "outputs": []
    },
    {
      "cell_type": "code",
      "metadata": {
        "colab": {
          "base_uri": "https://localhost:8080/"
        },
        "id": "O8oUbg72Ge2u",
        "outputId": "35f041d7-b8f7-4fac-a33c-bd3997867613"
      },
      "source": [
        "len(rus_dict)"
      ],
      "execution_count": 24,
      "outputs": [
        {
          "output_type": "execute_result",
          "data": {
            "text/plain": [
              "10180"
            ]
          },
          "metadata": {
            "tags": []
          },
          "execution_count": 24
        }
      ]
    },
    {
      "cell_type": "code",
      "metadata": {
        "colab": {
          "base_uri": "https://localhost:8080/"
        },
        "id": "R9hCSHwhGgaf",
        "outputId": "0501424a-9348-4f02-bb7b-b21626dfef1c"
      },
      "source": [
        "rus_dict[:10]"
      ],
      "execution_count": 25,
      "outputs": [
        {
          "output_type": "execute_result",
          "data": {
            "text/plain": [
              "['SOS',\n",
              " 'EOS',\n",
              " 'android',\n",
              " 'linux',\n",
              " 'windows',\n",
              " 'а',\n",
              " 'абсолютно',\n",
              " 'абсолютной',\n",
              " 'авантюрен',\n",
              " 'авантюризма']"
            ]
          },
          "metadata": {
            "tags": []
          },
          "execution_count": 25
        }
      ]
    },
    {
      "cell_type": "code",
      "metadata": {
        "id": "oVx3vVhoGzuj"
      },
      "source": [
        "eng_to_idx = {elem: i for i, elem in enumerate(eng_dict)}\n",
        "rus_to_idx = {elem: i for i, elem in enumerate(rus_dict)}"
      ],
      "execution_count": 26,
      "outputs": []
    },
    {
      "cell_type": "code",
      "metadata": {
        "id": "y-sdEP8CGt4m"
      },
      "source": [
        "def tensors_from_pair(pair):\n",
        "    eng_idx = [0] + [eng_to_idx[word] for word in pair[0].split()]\n",
        "    eng_idx += [1] * (MAX_LENGTH + 1 - len(pair[0].split()))\n",
        "    rus_idx = [0] + [rus_to_idx[word] for word in pair[1].split()]\n",
        "    rus_idx += [1] * (MAX_LENGTH + 1 - len(pair[1].split()))\n",
        "    eng_tensor = torch.tensor(eng_idx, dtype=torch.long,\n",
        "                              device=device).view(-1, 1)\n",
        "    rus_tensor = torch.tensor(rus_idx, dtype=torch.long,\n",
        "                              device=device).view(-1, 1)\n",
        "    return (eng_tensor, rus_tensor)"
      ],
      "execution_count": 27,
      "outputs": []
    },
    {
      "cell_type": "code",
      "metadata": {
        "colab": {
          "base_uri": "https://localhost:8080/"
        },
        "id": "bzEBG0zdHBVX",
        "outputId": "c2e2a3aa-39c6-4d05-dc25-2fc8ba17e2b8"
      },
      "source": [
        "pair = pairs[np.random.randint(27003)]\n",
        "print(pair)\n",
        "print(tensors_from_pair(pair))"
      ],
      "execution_count": 28,
      "outputs": [
        {
          "output_type": "stream",
          "text": [
            "('i m not strong enough to do that', 'я недостаточно силён чтобы сделать это')\n",
            "(tensor([[   0],\n",
            "        [1868],\n",
            "        [2242],\n",
            "        [2511],\n",
            "        [3592],\n",
            "        [1233],\n",
            "        [3851],\n",
            "        [1081],\n",
            "        [3782],\n",
            "        [   1],\n",
            "        [   1],\n",
            "        [   1]], device='cuda:0'), tensor([[    0],\n",
            "        [10135],\n",
            "        [ 4435],\n",
            "        [ 7966],\n",
            "        [ 9920],\n",
            "        [ 7851],\n",
            "        [10114],\n",
            "        [    1],\n",
            "        [    1],\n",
            "        [    1],\n",
            "        [    1],\n",
            "        [    1]], device='cuda:0'))\n"
          ],
          "name": "stdout"
        }
      ]
    },
    {
      "cell_type": "markdown",
      "metadata": {
        "id": "y6ZinTRiHo3A"
      },
      "source": [
        "# Encoder"
      ]
    },
    {
      "cell_type": "code",
      "metadata": {
        "id": "czcnOfZcHP-F"
      },
      "source": [
        "class EncoderRNN(nn.Module):\n",
        "    def __init__(self, input_size, hidden_size):\n",
        "        super(EncoderRNN, self).__init__()\n",
        "        self.hidden_size = hidden_size\n",
        "\n",
        "        self.embedding = nn.Embedding(input_size, hidden_size)\n",
        "        self.gru = nn.GRU(hidden_size, hidden_size)\n",
        "\n",
        "    def forward(self, input, hidden):\n",
        "        output = self.embedding(input).view(1, 1, -1)\n",
        "        output, hidden = self.gru(output, hidden)\n",
        "        return output, hidden\n",
        "\n",
        "    def initHidden(self):\n",
        "        return torch.zeros(1, 1, self.hidden_size, device=device)"
      ],
      "execution_count": 29,
      "outputs": []
    },
    {
      "cell_type": "markdown",
      "metadata": {
        "id": "UeOIKEd9EcUS"
      },
      "source": [
        "# Attention Decoder (на скалярном произведении)"
      ]
    },
    {
      "cell_type": "code",
      "metadata": {
        "id": "nvTvKiOsHsNE"
      },
      "source": [
        "class AttnDecoderRNN(nn.Module):\n",
        "    def __init__(self, hidden_size, output_size, dropout_p=0.1,\n",
        "                 max_length=MAX_LENGTH):\n",
        "        super(AttnDecoderRNN, self).__init__()\n",
        "        self.hidden_size = hidden_size\n",
        "        self.output_size = output_size\n",
        "        self.dropout_p = dropout_p\n",
        "        self.max_length = max_length + 2\n",
        "\n",
        "        self.embedding = nn.Embedding(self.output_size, self.hidden_size)\n",
        "        self.dropout = nn.Dropout(self.dropout_p)\n",
        "        self.attn_combine = nn.Linear(self.hidden_size * 2, self.hidden_size)\n",
        "        self.gru = nn.GRU(self.hidden_size, self.hidden_size)\n",
        "        self.out = nn.Linear(self.hidden_size, self.output_size)\n",
        "\n",
        "    def forward(self, input, hidden, encoder_outputs):\n",
        "        embedded = self.embedding(input).view(1, 1, -1)\n",
        "        embedded = self.dropout(embedded)\n",
        "\n",
        "        weights = []\n",
        "        for i in range(len(encoder_outputs)):\n",
        "            weights.append(\n",
        "                torch.div(torch.matmul(hidden[0][0], encoder_outputs[i]),\n",
        "                          torch.sqrt(\n",
        "                              torch.tensor(self.max_length, dtype=torch.float,\n",
        "                                           device=device))\n",
        "                          )\n",
        "                )\n",
        "        attn_weights = F.softmax(torch.tensor(weights, device=device))\n",
        "\n",
        "        attn_applied = torch.bmm(attn_weights.unsqueeze(0).unsqueeze(0),\n",
        "                                 encoder_outputs.view(1, -1, self.hidden_size)\n",
        "                                 )\n",
        "\n",
        "        output = torch.cat((attn_applied[0], embedded[0]), 1)\n",
        "        output = self.attn_combine(output).unsqueeze(0)\n",
        "\n",
        "        output = F.relu(output)\n",
        "        output, hidden = self.gru(output, hidden)\n",
        "\n",
        "        output = F.log_softmax(self.out(output[0]), dim=1)\n",
        "        return output, hidden, attn_weights\n",
        "\n",
        "    def initHidden(self):\n",
        "        return torch.zeros(1, 1, self.hidden_size, device=device)"
      ],
      "execution_count": 30,
      "outputs": []
    },
    {
      "cell_type": "markdown",
      "metadata": {
        "id": "cYTK298SFo7G"
      },
      "source": [
        "# Функции для обучения и оценки качества"
      ]
    },
    {
      "cell_type": "code",
      "metadata": {
        "id": "Ql5X8SsmFfVW"
      },
      "source": [
        "teacher_forcing_ratio = 0.5"
      ],
      "execution_count": 31,
      "outputs": []
    },
    {
      "cell_type": "code",
      "metadata": {
        "id": "CZgDmmWkFsoh"
      },
      "source": [
        "def train(input_tensor, target_tensor, encoder, decoder,\n",
        "          encoder_optimizer, decoder_optimizer, criterion, max_len=MAX_LENGTH):\n",
        "    encoder_hidden = encoder.initHidden()\n",
        "\n",
        "    encoder_optimizer.zero_grad()\n",
        "    decoder_optimizer.zero_grad()\n",
        "\n",
        "    encoder_outputs = torch.zeros(max_len + 2, encoder.hidden_size,\n",
        "                                  device=device)\n",
        "    loss = 0\n",
        "\n",
        "    for i in range(input_tensor.size(0)):\n",
        "        encoder_output, encoder_hidden = encoder(input_tensor[i],\n",
        "                                                 encoder_hidden)\n",
        "        encoder_outputs[i] = encoder_output[0, 0]\n",
        "\n",
        "    decoder_input = torch.tensor([[0]], device=device)\n",
        "    decoder_hidden = encoder_hidden\n",
        "\n",
        "    if np.random.random() < teacher_forcing_ratio:\n",
        "        use_teacher_forcing = True\n",
        "    else:\n",
        "        use_teacher_forcing = False\n",
        "\n",
        "    for i in range(target_tensor.size(0)):\n",
        "        decoder_output, decoder_hidden, decoder_attention = decoder(\n",
        "            decoder_input, decoder_hidden, encoder_outputs\n",
        "            )\n",
        "        loss += criterion(decoder_output, target_tensor[i])\n",
        "        if use_teacher_forcing:\n",
        "            # teacher forcing: feed the target as the next input\n",
        "            decoder_input = target_tensor[i]\n",
        "        else:\n",
        "            # use its own predictions as the next input\n",
        "            topv, topi = decoder_output.topk(1)\n",
        "            decoder_input = topi.squeeze().detach()\n",
        "            if decoder_input.item() == 1:\n",
        "                break\n",
        "\n",
        "    loss.backward()\n",
        "\n",
        "    encoder_optimizer.step()\n",
        "    decoder_optimizer.step()\n",
        "\n",
        "    return loss.item() / target_tensor.size(0)"
      ],
      "execution_count": 32,
      "outputs": []
    },
    {
      "cell_type": "code",
      "metadata": {
        "id": "6tJdiyf7FzKM"
      },
      "source": [
        "def train_epochs(encoder, decoder, n_epochs=75000, learning_rate=0.01):\n",
        "    start = datetime.now()\n",
        "    plot_losses = []\n",
        "    print_loss = 0 # reset every 5000 epochs\n",
        "    plot_loss = 0 # reset every 100 epochs\n",
        "    encoder_optimizer = optim.SGD(encoder.parameters(), lr=learning_rate)\n",
        "    decoder_optimizer = optim.SGD(decoder.parameters(), lr=learning_rate)\n",
        "    training_pairs = [tensors_from_pair(pairs[np.random.randint(27003)])\n",
        "                      for epoch in range(n_epochs)]\n",
        "    criterion = nn.NLLLoss()\n",
        "\n",
        "    for epoch in tqdm(range(n_epochs)):\n",
        "        training_pair = training_pairs[epoch]\n",
        "        input_tensor = training_pair[0]\n",
        "        target_tensor = training_pair[1]\n",
        "\n",
        "        loss = train(input_tensor, target_tensor, encoder, decoder,\n",
        "                     encoder_optimizer, decoder_optimizer, criterion)\n",
        "        print_loss += loss\n",
        "        plot_loss += loss\n",
        "\n",
        "        if (epoch + 1) % 5000 == 0:\n",
        "            print_loss /= 5000\n",
        "            delta = datetime.now() - start\n",
        "            stats = f'''\n",
        "            Epoch {epoch + 1} ({(epoch + 1) * 100 / n_epochs:.1f}%)\n",
        "            Time: {delta.seconds // 60}m {delta.seconds % 60}s\n",
        "            Loss: {print_loss:.4f}\n",
        "            '''\n",
        "            print(stats)\n",
        "            print_loss = 0\n",
        "\n",
        "        if (epoch + 1) % 100 == 0:\n",
        "            plot_loss /= 100\n",
        "            plot_losses.append(plot_loss)\n",
        "            plot_loss = 0\n",
        "    return plot_losses"
      ],
      "execution_count": 33,
      "outputs": []
    },
    {
      "cell_type": "code",
      "metadata": {
        "id": "L-IARUgx-drQ"
      },
      "source": [
        "def show_losses(losses):\n",
        "    plt.figure(figsize=(14, 12))\n",
        "    fig, ax = plt.subplots()\n",
        "    loc = ticker.MultipleLocator(base=0.2)\n",
        "    ax.yaxis.set_major_locator(loc)\n",
        "    plt.plot(losses)\n",
        "    plt.show()"
      ],
      "execution_count": 34,
      "outputs": []
    },
    {
      "cell_type": "code",
      "metadata": {
        "id": "XybfPKxhGG4D"
      },
      "source": [
        "def evaluate(encoder, decoder, sent, max_len=MAX_LENGTH):\n",
        "    with torch.no_grad():\n",
        "        idx = [0] + [eng_to_idx[word] for word in sent.split()]\n",
        "        idx += [1] * (max_len + 1 - len(sent.split()))\n",
        "        input_tensor = torch.tensor(idx, dtype=torch.long,\n",
        "                                    device=device).view(-1, 1)\n",
        "        encoder_hidden = encoder.initHidden()\n",
        "        encoder_outputs = torch.zeros(max_len + 2, encoder.hidden_size,\n",
        "                                      device=device)\n",
        "\n",
        "        for i in range(input_tensor.size()[0]):\n",
        "            encoder_output, encoder_hidden = encoder(input_tensor[i],\n",
        "                                                     encoder_hidden)\n",
        "            encoder_outputs[i] = encoder_output[0, 0]\n",
        "\n",
        "        decoder_input = torch.tensor([[0]], device=device)\n",
        "        decoder_hidden = encoder_hidden\n",
        "        decoded_words = []\n",
        "        decoder_attentions = torch.zeros(max_len + 2, max_len + 2)\n",
        "\n",
        "        for i in range(max_len + 2):\n",
        "            decoder_output, decoder_hidden, decoder_attention = decoder(\n",
        "                decoder_input, decoder_hidden, encoder_outputs)\n",
        "            decoder_attentions[i] = decoder_attention.data\n",
        "            topv, topi = decoder_output.data.topk(1)\n",
        "            if topi.item() == 1:\n",
        "                break\n",
        "            decoded_words.append(rus_dict[topi.item()])\n",
        "            decoder_input = topi.squeeze().detach()\n",
        "\n",
        "        return decoded_words, decoder_attentions"
      ],
      "execution_count": 35,
      "outputs": []
    },
    {
      "cell_type": "code",
      "metadata": {
        "id": "MqjObw6eGcQB"
      },
      "source": [
        "def evaluate_random(encoder, decoder, n=10):\n",
        "    for i in range(n):\n",
        "        pair = pairs[np.random.randint(27003)]\n",
        "        pred = \" \".join(evaluate(encoder, decoder, pair[0])[0][1:])\n",
        "        res = f'''\n",
        "        Eng:  {pair[0]}\n",
        "        Rus:  {pair[1]}\n",
        "        Pred: {pred}\n",
        "        '''\n",
        "        print(res)"
      ],
      "execution_count": 36,
      "outputs": []
    },
    {
      "cell_type": "markdown",
      "metadata": {
        "id": "CNRvqQNRHB7c"
      },
      "source": [
        "# Обучение и оценка качества"
      ]
    },
    {
      "cell_type": "code",
      "metadata": {
        "id": "E5UaaGuMG65P"
      },
      "source": [
        "hidden_size = 256"
      ],
      "execution_count": 37,
      "outputs": []
    },
    {
      "cell_type": "code",
      "metadata": {
        "id": "u_5JvLgMHEHO"
      },
      "source": [
        "encoder = EncoderRNN(len(eng_dict), hidden_size).to(device)"
      ],
      "execution_count": 38,
      "outputs": []
    },
    {
      "cell_type": "code",
      "metadata": {
        "id": "8f4Gr7bYHP_y"
      },
      "source": [
        "attn_decoder = AttnDecoderRNN(hidden_size, len(rus_dict)).to(device)"
      ],
      "execution_count": 39,
      "outputs": []
    },
    {
      "cell_type": "code",
      "metadata": {
        "colab": {
          "base_uri": "https://localhost:8080/",
          "height": 1000,
          "referenced_widgets": [
            "db57ba3e6cca42ef8ff1bf725b76fe2e",
            "6e3b413d4e8c4cc38eff9bce356905c3",
            "6309e951c4944df8afdf6defeaeab068",
            "072dcd47c79e4908bb8b6f7f3cc1e804",
            "c1d384956e6c4a06988e51339015bf0a",
            "fa4f1a3ad1ef414a9dfe544d4a5c951a",
            "73d938cda7d145b9ae056bfd65e624d5",
            "5c11b74335ac40d3bcf36153b464b5e8"
          ]
        },
        "id": "P5K0wi2HHZyi",
        "outputId": "262d9321-e965-4483-f9dc-bdc9bc61df1d"
      },
      "source": [
        "losses = train_epochs(encoder, attn_decoder)"
      ],
      "execution_count": 40,
      "outputs": [
        {
          "output_type": "display_data",
          "data": {
            "application/vnd.jupyter.widget-view+json": {
              "model_id": "db57ba3e6cca42ef8ff1bf725b76fe2e",
              "version_minor": 0,
              "version_major": 2
            },
            "text/plain": [
              "HBox(children=(FloatProgress(value=0.0, max=75000.0), HTML(value='')))"
            ]
          },
          "metadata": {
            "tags": []
          }
        },
        {
          "output_type": "stream",
          "text": [
            "\n",
            "            Epoch 5000 (6.7%)\n",
            "            Time: 3m 6s\n",
            "            Loss: 1.9827\n",
            "            \n",
            "\n",
            "            Epoch 10000 (13.3%)\n",
            "            Time: 6m 11s\n",
            "            Loss: 1.7675\n",
            "            \n",
            "\n",
            "            Epoch 15000 (20.0%)\n",
            "            Time: 9m 15s\n",
            "            Loss: 1.6320\n",
            "            \n",
            "\n",
            "            Epoch 20000 (26.7%)\n",
            "            Time: 12m 19s\n",
            "            Loss: 1.5255\n",
            "            \n",
            "\n",
            "            Epoch 25000 (33.3%)\n",
            "            Time: 15m 24s\n",
            "            Loss: 1.4124\n",
            "            \n",
            "\n",
            "            Epoch 30000 (40.0%)\n",
            "            Time: 18m 30s\n",
            "            Loss: 1.3557\n",
            "            \n",
            "\n",
            "            Epoch 35000 (46.7%)\n",
            "            Time: 21m 33s\n",
            "            Loss: 1.2804\n",
            "            \n",
            "\n",
            "            Epoch 40000 (53.3%)\n",
            "            Time: 24m 40s\n",
            "            Loss: 1.2230\n",
            "            \n",
            "\n",
            "            Epoch 45000 (60.0%)\n",
            "            Time: 27m 44s\n",
            "            Loss: 1.1680\n",
            "            \n",
            "\n",
            "            Epoch 50000 (66.7%)\n",
            "            Time: 30m 47s\n",
            "            Loss: 1.1106\n",
            "            \n",
            "\n",
            "            Epoch 55000 (73.3%)\n",
            "            Time: 33m 50s\n",
            "            Loss: 1.0656\n",
            "            \n",
            "\n",
            "            Epoch 60000 (80.0%)\n",
            "            Time: 36m 57s\n",
            "            Loss: 1.0011\n",
            "            \n",
            "\n",
            "            Epoch 65000 (86.7%)\n",
            "            Time: 40m 5s\n",
            "            Loss: 0.9794\n",
            "            \n",
            "\n",
            "            Epoch 70000 (93.3%)\n",
            "            Time: 43m 14s\n",
            "            Loss: 0.9480\n",
            "            \n",
            "\n",
            "            Epoch 75000 (100.0%)\n",
            "            Time: 46m 22s\n",
            "            Loss: 0.8961\n",
            "            \n",
            "\n"
          ],
          "name": "stdout"
        }
      ]
    },
    {
      "cell_type": "code",
      "metadata": {
        "colab": {
          "base_uri": "https://localhost:8080/",
          "height": 282
        },
        "id": "gzXi4G4Z-jpJ",
        "outputId": "a069da19-fb30-41f6-d49d-16cf568e5bec"
      },
      "source": [
        "show_losses(losses)"
      ],
      "execution_count": 41,
      "outputs": [
        {
          "output_type": "display_data",
          "data": {
            "text/plain": [
              "<Figure size 1008x864 with 0 Axes>"
            ]
          },
          "metadata": {
            "tags": []
          }
        },
        {
          "output_type": "display_data",
          "data": {
            "image/png": "[encoded data removed]",
            "text/plain": [
              "<Figure size 432x288 with 1 Axes>"
            ]
          },
          "metadata": {
            "tags": [],
            "needs_background": "light"
          }
        }
      ]
    },
    {
      "cell_type": "markdown",
      "metadata": {
        "id": "pNidaqYAXzrz"
      },
      "source": [
        "Лосс стабильно падает, финальный лосс – 0.8961 (намного лучше, чем когда я просто воспроизводила лекционный ноутбук!). Посмотрим на генерацию предложений."
      ]
    },
    {
      "cell_type": "code",
      "metadata": {
        "id": "-73oIOLjK3VP",
        "colab": {
          "base_uri": "https://localhost:8080/"
        },
        "outputId": "00f3709e-1f01-4f8a-98f9-cd8989f5a296"
      },
      "source": [
        "evaluate_random(encoder, attn_decoder)"
      ],
      "execution_count": 47,
      "outputs": [
        {
          "output_type": "stream",
          "text": [
            "\n",
            "        Eng:  he is two inches taller than i am\n",
            "        Rus:  он меня на два дюйма выше\n",
            "        Pred: он на два года на два\n",
            "        \n",
            "\n",
            "        Eng:  you re ugly\n",
            "        Rus:  вы некрасивая\n",
            "        Pred: ты ужасен\n",
            "        \n",
            "\n",
            "        Eng:  she says that she loves flowers\n",
            "        Rus:  она говорит что очень любит цветы\n",
            "        Pred: она говорит что что ей\n",
            "        \n",
            "\n",
            "        Eng:  i m worried\n",
            "        Rus:  я волнуюсь\n",
            "        Pred: я беспокоюсь\n",
            "        \n",
            "\n",
            "        Eng:  i m feeling so much better\n",
            "        Rus:  я чувствую себя намного лучше\n",
            "        Pred: мне гораздо лучше\n",
            "        \n",
            "\n",
            "        Eng:  i m sure he s alive\n",
            "        Rus:  я уверен что он жив\n",
            "        Pred: я уверен что он жив\n",
            "        \n",
            "\n",
            "        Eng:  i m going to go right away\n",
            "        Rus:  я собираюсь идти немедленно\n",
            "        Pred: я собираюсь туда в\n",
            "        \n",
            "\n",
            "        Eng:  i m not sure what tom wants\n",
            "        Rus:  я не уверен в том чего том хочет\n",
            "        Pred: я точно не знаю том хочет\n",
            "        \n",
            "\n",
            "        Eng:  she is a member of this organization\n",
            "        Rus:  она является членом этой организации\n",
            "        Pred: она этой этой этой\n",
            "        \n",
            "\n",
            "        Eng:  you re so mean\n",
            "        Rus:  ты такой злой\n",
            "        Pred: вы такая злая\n",
            "        \n"
          ],
          "name": "stdout"
        }
      ]
    },
    {
      "cell_type": "markdown",
      "metadata": {
        "id": "Kr33NzwBemks"
      },
      "source": [
        "Одно случайное предложение переведено полностью правильно, и 4 – правильно по смыслу (если учесть, что в английском нет родов и разграничения на \"ты\" и \"вы\")!"
      ]
    },
    {
      "cell_type": "code",
      "metadata": {
        "colab": {
          "base_uri": "https://localhost:8080/"
        },
        "id": "0PHyAABZfGdA",
        "outputId": "dde32279-02d5-410d-ea7f-705aafecceaa"
      },
      "source": [
        "pair = pairs[np.random.randint(27003)]\n",
        "print(pair)"
      ],
      "execution_count": 58,
      "outputs": [
        {
          "output_type": "stream",
          "text": [
            "('they re average students', 'они студентысередняки')\n"
          ],
          "name": "stdout"
        }
      ]
    },
    {
      "cell_type": "code",
      "metadata": {
        "id": "xqFl6uVJX8F-"
      },
      "source": [
        "output_words, attentions = evaluate(\n",
        "    encoder, attn_decoder, pair[0])"
      ],
      "execution_count": 59,
      "outputs": []
    },
    {
      "cell_type": "code",
      "metadata": {
        "colab": {
          "base_uri": "https://localhost:8080/"
        },
        "id": "azksdTo0sKBO",
        "outputId": "b14d4f8a-aa8e-48a2-c42a-c01c5d206fcc"
      },
      "source": [
        "attentions"
      ],
      "execution_count": 60,
      "outputs": [
        {
          "output_type": "execute_result",
          "data": {
            "text/plain": [
              "tensor([[1.8234e-22, 2.2971e-18, 2.5140e-18, 1.4263e-15, 2.3459e-13, 1.8222e-07,\n",
              "         8.0125e-05, 3.2233e-03, 5.0830e-02, 1.8617e-01, 3.2880e-01, 4.3089e-01],\n",
              "        [1.2974e-14, 1.6351e-11, 2.1416e-11, 6.6819e-10, 1.6552e-08, 7.9446e-05,\n",
              "         2.1529e-03, 1.7171e-02, 9.7870e-02, 2.1478e-01, 3.0454e-01, 3.6340e-01],\n",
              "        [1.2613e-09, 1.0382e-06, 1.7512e-06, 7.3758e-06, 2.0380e-04, 7.3333e-03,\n",
              "         1.5688e-02, 4.2632e-02, 1.4480e-01, 2.3309e-01, 2.7156e-01, 2.8468e-01],\n",
              "        [1.0715e-05, 9.4558e-04, 9.0834e-04, 1.3227e-04, 8.6844e-04, 9.3345e-03,\n",
              "         3.0432e-02, 6.8276e-02, 1.6646e-01, 2.2533e-01, 2.4465e-01, 2.5265e-01],\n",
              "        [0.0000e+00, 0.0000e+00, 0.0000e+00, 0.0000e+00, 0.0000e+00, 0.0000e+00,\n",
              "         0.0000e+00, 0.0000e+00, 0.0000e+00, 0.0000e+00, 0.0000e+00, 0.0000e+00],\n",
              "        [0.0000e+00, 0.0000e+00, 0.0000e+00, 0.0000e+00, 0.0000e+00, 0.0000e+00,\n",
              "         0.0000e+00, 0.0000e+00, 0.0000e+00, 0.0000e+00, 0.0000e+00, 0.0000e+00],\n",
              "        [0.0000e+00, 0.0000e+00, 0.0000e+00, 0.0000e+00, 0.0000e+00, 0.0000e+00,\n",
              "         0.0000e+00, 0.0000e+00, 0.0000e+00, 0.0000e+00, 0.0000e+00, 0.0000e+00],\n",
              "        [0.0000e+00, 0.0000e+00, 0.0000e+00, 0.0000e+00, 0.0000e+00, 0.0000e+00,\n",
              "         0.0000e+00, 0.0000e+00, 0.0000e+00, 0.0000e+00, 0.0000e+00, 0.0000e+00],\n",
              "        [0.0000e+00, 0.0000e+00, 0.0000e+00, 0.0000e+00, 0.0000e+00, 0.0000e+00,\n",
              "         0.0000e+00, 0.0000e+00, 0.0000e+00, 0.0000e+00, 0.0000e+00, 0.0000e+00],\n",
              "        [0.0000e+00, 0.0000e+00, 0.0000e+00, 0.0000e+00, 0.0000e+00, 0.0000e+00,\n",
              "         0.0000e+00, 0.0000e+00, 0.0000e+00, 0.0000e+00, 0.0000e+00, 0.0000e+00],\n",
              "        [0.0000e+00, 0.0000e+00, 0.0000e+00, 0.0000e+00, 0.0000e+00, 0.0000e+00,\n",
              "         0.0000e+00, 0.0000e+00, 0.0000e+00, 0.0000e+00, 0.0000e+00, 0.0000e+00],\n",
              "        [0.0000e+00, 0.0000e+00, 0.0000e+00, 0.0000e+00, 0.0000e+00, 0.0000e+00,\n",
              "         0.0000e+00, 0.0000e+00, 0.0000e+00, 0.0000e+00, 0.0000e+00, 0.0000e+00]])"
            ]
          },
          "metadata": {
            "tags": []
          },
          "execution_count": 60
        }
      ]
    },
    {
      "cell_type": "code",
      "metadata": {
        "colab": {
          "base_uri": "https://localhost:8080/"
        },
        "id": "bZnVFxjYsscR",
        "outputId": "d32665ea-bd77-4e70-8491-1978ff66552b"
      },
      "source": [
        "attentions.numpy()[0]"
      ],
      "execution_count": 63,
      "outputs": [
        {
          "output_type": "execute_result",
          "data": {
            "text/plain": [
              "array([1.8234430e-22, 2.2970562e-18, 2.5140416e-18, 1.4263311e-15,\n",
              "       2.3459490e-13, 1.8221705e-07, 8.0124904e-05, 3.2232946e-03,\n",
              "       5.0830420e-02, 1.8617480e-01, 3.2879877e-01, 4.3089241e-01],\n",
              "      dtype=float32)"
            ]
          },
          "metadata": {
            "tags": []
          },
          "execution_count": 63
        }
      ]
    },
    {
      "cell_type": "code",
      "metadata": {
        "colab": {
          "base_uri": "https://localhost:8080/",
          "height": 292
        },
        "id": "p2xwZcngfD07",
        "outputId": "f0a14810-017f-464f-adf2-2fa8574e3e1c"
      },
      "source": [
        "plt.figure(figsize=(14, 12))\n",
        "plt.matshow(attentions.numpy())\n",
        "plt.show()"
      ],
      "execution_count": 61,
      "outputs": [
        {
          "output_type": "display_data",
          "data": {
            "text/plain": [
              "<Figure size 1008x864 with 0 Axes>"
            ]
          },
          "metadata": {
            "tags": []
          }
        },
        {
          "output_type": "display_data",
          "data": {
            "image/png": "[encoded data removed]",
            "text/plain": [
              "<Figure size 288x288 with 1 Axes>"
            ]
          },
          "metadata": {
            "tags": [],
            "needs_background": "light"
          }
        }
      ]
    },
    {
      "cell_type": "code",
      "metadata": {
        "id": "ZJi-YIURfxw3"
      },
      "source": [
        "def showAttention(input_sentence, output_words, attentions):\n",
        "    # Set up figure with colorbar\n",
        "    fig = plt.figure()\n",
        "    ax = fig.add_subplot(111)\n",
        "    cax = ax.matshow(attentions.numpy(), cmap='bone')\n",
        "    fig.colorbar(cax)\n",
        "\n",
        "    # Set up axes\n",
        "    ax.set_xticklabels([''] + input_sentence.split(' ') +\n",
        "                       ['<EOS>'], rotation=90)\n",
        "    ax.set_yticklabels([''] + output_words + ['<EOS>'])\n",
        "\n",
        "    # Show label at every tick\n",
        "    ax.xaxis.set_major_locator(ticker.MultipleLocator(1))\n",
        "    ax.yaxis.set_major_locator(ticker.MultipleLocator(1))\n",
        "\n",
        "    plt.show()"
      ],
      "execution_count": 37,
      "outputs": []
    },
    {
      "cell_type": "code",
      "metadata": {
        "id": "IcGVhlg6mhw2"
      },
      "source": [
        "def evaluate_show_attention(sent):\n",
        "    output_words, attentions = evaluate(\n",
        "        encoder, attn_decoder, sent)\n",
        "    print('input =', sent)\n",
        "    print('output =', ' '.join(output_words[1:]))\n",
        "    showAttention(sent, output_words[1:], attentions)"
      ],
      "execution_count": 38,
      "outputs": []
    },
    {
      "cell_type": "code",
      "metadata": {
        "colab": {
          "base_uri": "https://localhost:8080/",
          "height": 335
        },
        "id": "fylUPRUWmm9F",
        "outputId": "8465513b-975a-4024-a176-3fc2087edab7"
      },
      "source": [
        "evaluate_show_attention(pairs[np.random.randint(27003)][0])"
      ],
      "execution_count": 53,
      "outputs": [
        {
          "output_type": "stream",
          "text": [
            "input = you re going to like working for me\n",
            "output = вы всё что я\n"
          ],
          "name": "stdout"
        },
        {
          "output_type": "display_data",
          "data": {
            "image/png": "[encoded data removed]",
            "text/plain": [
              "<Figure size 432x288 with 2 Axes>"
            ]
          },
          "metadata": {
            "tags": [],
            "needs_background": "light"
          }
        }
      ]
    },
    {
      "cell_type": "code",
      "metadata": {
        "colab": {
          "base_uri": "https://localhost:8080/",
          "height": 332
        },
        "id": "9FWUUXiam6Fo",
        "outputId": "64c6c264-3e34-4b29-8d8a-2d99d231c824"
      },
      "source": [
        "evaluate_show_attention(pairs[np.random.randint(27003)][0])"
      ],
      "execution_count": 54,
      "outputs": [
        {
          "output_type": "stream",
          "text": [
            "input = i m in the toilet\n",
            "output = я в тюрьме\n"
          ],
          "name": "stdout"
        },
        {
          "output_type": "display_data",
          "data": {
            "image/png": "[encoded data removed]",
            "text/plain": [
              "<Figure size 432x288 with 2 Axes>"
            ]
          },
          "metadata": {
            "tags": [],
            "needs_background": "light"
          }
        }
      ]
    },
    {
      "cell_type": "code",
      "metadata": {
        "colab": {
          "base_uri": "https://localhost:8080/",
          "height": 342
        },
        "id": "hXP26KjBm6Or",
        "outputId": "f1200663-62e1-44b3-8f36-da0b4c545b8e"
      },
      "source": [
        "evaluate_show_attention(pairs[np.random.randint(27003)][0])"
      ],
      "execution_count": 55,
      "outputs": [
        {
          "output_type": "stream",
          "text": [
            "input = we re surprised\n",
            "output = мы удивлены\n"
          ],
          "name": "stdout"
        },
        {
          "output_type": "display_data",
          "data": {
            "image/png": "[encoded data removed]",
            "text/plain": [
              "<Figure size 432x288 with 2 Axes>"
            ]
          },
          "metadata": {
            "tags": [],
            "needs_background": "light"
          }
        }
      ]
    },
    {
      "cell_type": "code",
      "metadata": {
        "colab": {
          "base_uri": "https://localhost:8080/",
          "height": 335
        },
        "id": "yBwYK3OXm6Vq",
        "outputId": "3fbbad0a-0869-4eb2-e42d-141cf478103a"
      },
      "source": [
        "evaluate_show_attention(pairs[np.random.randint(27003)][0])"
      ],
      "execution_count": 56,
      "outputs": [
        {
          "output_type": "stream",
          "text": [
            "input = we re keeping an eye on them\n",
            "output = мы за за\n"
          ],
          "name": "stdout"
        },
        {
          "output_type": "display_data",
          "data": {
            "image/png": "[encoded data removed]",
            "text/plain": [
              "<Figure size 432x288 with 2 Axes>"
            ]
          },
          "metadata": {
            "tags": [],
            "needs_background": "light"
          }
        }
      ]
    },
    {
      "cell_type": "markdown",
      "metadata": {
        "id": "Ltjh2k6ss7g2"
      },
      "source": [
        "Очень много attention у токенов EOS, добавленных для паддинга предложений до одинаковой длины. Из-за этого на графиках attention у слов предложения не видно. Но оно есть!"
      ]
    },
    {
      "cell_type": "markdown",
      "metadata": {
        "id": "ZaNshIyqrjRe"
      },
      "source": [
        "# Attention Decoder (на MLP)"
      ]
    },
    {
      "cell_type": "code",
      "metadata": {
        "id": "yoWstg2mpQC9"
      },
      "source": [
        "class AttnDecoderRNN(nn.Module):\n",
        "    def __init__(self, hidden_size, output_size, dropout_p=0.1):\n",
        "        super(AttnDecoderRNN, self).__init__()\n",
        "        self.hidden_size = hidden_size\n",
        "        self.output_size = output_size\n",
        "        self.dropout_p = dropout_p\n",
        "\n",
        "        self.embedding = nn.Embedding(self.output_size, self.hidden_size)\n",
        "        self.dropout = nn.Dropout(self.dropout_p)\n",
        "        self.attn = nn.Linear(self.hidden_size * 2, 1)\n",
        "        self.attn_combine = nn.Linear(self.hidden_size * 2, self.hidden_size)\n",
        "        self.gru = nn.GRU(self.hidden_size, self.hidden_size)\n",
        "        self.out = nn.Linear(self.hidden_size, self.output_size)\n",
        "\n",
        "    def forward(self, input, hidden, encoder_outputs):\n",
        "        embedded = self.embedding(input).view(1, 1, -1)\n",
        "        embedded = self.dropout(embedded)\n",
        "\n",
        "        weights = []\n",
        "        for i in range(len(encoder_outputs)):\n",
        "            weights.append(\n",
        "                torch.tanh(self.attn(torch.cat((hidden[0][0],\n",
        "                                                encoder_outputs[i]))))\n",
        "                )\n",
        "        attn_weights = F.softmax(torch.tensor(weights, device=device))\n",
        "\n",
        "        attn_applied = torch.bmm(attn_weights.unsqueeze(0).unsqueeze(0),\n",
        "                                 encoder_outputs.view(1, -1, self.hidden_size)\n",
        "                                 )\n",
        "\n",
        "        output = torch.cat((attn_applied[0], embedded[0]), 1)\n",
        "        output = self.attn_combine(output).unsqueeze(0)\n",
        "\n",
        "        output = F.relu(output)\n",
        "        output, hidden = self.gru(output, hidden)\n",
        "\n",
        "        output = F.log_softmax(self.out(output[0]), dim=1)\n",
        "        return output, hidden, attn_weights\n",
        "\n",
        "    def initHidden(self):\n",
        "        return torch.zeros(1, 1, self.hidden_size, device=device)"
      ],
      "execution_count": 39,
      "outputs": []
    },
    {
      "cell_type": "markdown",
      "metadata": {
        "id": "08Oidb3b3_ye"
      },
      "source": [
        "# Обучение и оценка качества"
      ]
    },
    {
      "cell_type": "code",
      "metadata": {
        "id": "krAHFTpT3_yp"
      },
      "source": [
        "hidden_size = 256"
      ],
      "execution_count": 40,
      "outputs": []
    },
    {
      "cell_type": "code",
      "metadata": {
        "id": "EPj_rsrb3_yp"
      },
      "source": [
        "encoder = EncoderRNN(len(eng_dict), hidden_size).to(device)"
      ],
      "execution_count": 41,
      "outputs": []
    },
    {
      "cell_type": "code",
      "metadata": {
        "id": "MtnL2snJ3_yq"
      },
      "source": [
        "attn_decoder = AttnDecoderRNN(hidden_size, len(rus_dict)).to(device)"
      ],
      "execution_count": 42,
      "outputs": []
    },
    {
      "cell_type": "code",
      "metadata": {
        "colab": {
          "base_uri": "https://localhost:8080/",
          "height": 1000,
          "referenced_widgets": [
            "d373a69bd7d848e998cd4fa0ca79a5a4",
            "74bb5805362d43ebb4ca80fac40a7014",
            "58f6621260b343ee8c9ad48c2882c0b9",
            "7ac051649f44499491118fc5119fef76",
            "9340e8f93eab44a5b3e5e4ffb7dc03ee",
            "37f3f2fff8f0478a9002a6a0f2e9feeb",
            "814351abb33747ad8aec99bd6d34109f",
            "01304addf29b4bb6a79bae6099e61be0"
          ]
        },
        "id": "k_se8en73_yq",
        "outputId": "337f1754-03c4-492e-ac0f-77a92552e1af"
      },
      "source": [
        "losses = train_epochs(encoder, attn_decoder)"
      ],
      "execution_count": 43,
      "outputs": [
        {
          "output_type": "display_data",
          "data": {
            "application/vnd.jupyter.widget-view+json": {
              "model_id": "d373a69bd7d848e998cd4fa0ca79a5a4",
              "version_minor": 0,
              "version_major": 2
            },
            "text/plain": [
              "HBox(children=(FloatProgress(value=0.0, max=75000.0), HTML(value='')))"
            ]
          },
          "metadata": {
            "tags": []
          }
        },
        {
          "output_type": "stream",
          "text": [
            "\n",
            "            Epoch 5000 (6.7%)\n",
            "            Time: 3m 25s\n",
            "            Loss: 2.0115\n",
            "            \n",
            "\n",
            "            Epoch 10000 (13.3%)\n",
            "            Time: 6m 50s\n",
            "            Loss: 1.8138\n",
            "            \n",
            "\n",
            "            Epoch 15000 (20.0%)\n",
            "            Time: 10m 14s\n",
            "            Loss: 1.6954\n",
            "            \n",
            "\n",
            "            Epoch 20000 (26.7%)\n",
            "            Time: 13m 41s\n",
            "            Loss: 1.5596\n",
            "            \n",
            "\n",
            "            Epoch 25000 (33.3%)\n",
            "            Time: 17m 8s\n",
            "            Loss: 1.4923\n",
            "            \n",
            "\n",
            "            Epoch 30000 (40.0%)\n",
            "            Time: 20m 37s\n",
            "            Loss: 1.3954\n",
            "            \n",
            "\n",
            "            Epoch 35000 (46.7%)\n",
            "            Time: 24m 7s\n",
            "            Loss: 1.3008\n",
            "            \n",
            "\n",
            "            Epoch 40000 (53.3%)\n",
            "            Time: 27m 37s\n",
            "            Loss: 1.2602\n",
            "            \n",
            "\n",
            "            Epoch 45000 (60.0%)\n",
            "            Time: 31m 5s\n",
            "            Loss: 1.1944\n",
            "            \n",
            "\n",
            "            Epoch 50000 (66.7%)\n",
            "            Time: 34m 34s\n",
            "            Loss: 1.1561\n",
            "            \n",
            "\n",
            "            Epoch 55000 (73.3%)\n",
            "            Time: 38m 3s\n",
            "            Loss: 1.0970\n",
            "            \n",
            "\n",
            "            Epoch 60000 (80.0%)\n",
            "            Time: 41m 31s\n",
            "            Loss: 1.0385\n",
            "            \n",
            "\n",
            "            Epoch 65000 (86.7%)\n",
            "            Time: 44m 59s\n",
            "            Loss: 1.0284\n",
            "            \n",
            "\n",
            "            Epoch 70000 (93.3%)\n",
            "            Time: 48m 29s\n",
            "            Loss: 1.0045\n",
            "            \n",
            "\n",
            "            Epoch 75000 (100.0%)\n",
            "            Time: 52m 1s\n",
            "            Loss: 0.9651\n",
            "            \n",
            "\n"
          ],
          "name": "stdout"
        }
      ]
    },
    {
      "cell_type": "code",
      "metadata": {
        "colab": {
          "base_uri": "https://localhost:8080/",
          "height": 282
        },
        "id": "h4v_8Vk04UYL",
        "outputId": "3fa984b7-998d-4942-9fae-da019de52a15"
      },
      "source": [
        "show_losses(losses)"
      ],
      "execution_count": 44,
      "outputs": [
        {
          "output_type": "display_data",
          "data": {
            "text/plain": [
              "<Figure size 1008x864 with 0 Axes>"
            ]
          },
          "metadata": {
            "tags": []
          }
        },
        {
          "output_type": "display_data",
          "data": {
            "image/png": "[encoded data removed]",
            "text/plain": [
              "<Figure size 432x288 with 1 Axes>"
            ]
          },
          "metadata": {
            "tags": [],
            "needs_background": "light"
          }
        }
      ]
    },
    {
      "cell_type": "markdown",
      "metadata": {
        "id": "VCDvCEON-5lq"
      },
      "source": [
        "Обучается чуть-чуть дольше, чем seq2seq с attention на скалярном произведении (50 минут 28 секунд против 46 минут 22 секунд), финальный loss хуже, чем у сети с attention на скалярном произведении (0.9651 против 0.8961). Посмотрим на генерацию предложений."
      ]
    },
    {
      "cell_type": "code",
      "metadata": {
        "colab": {
          "base_uri": "https://localhost:8080/"
        },
        "id": "SUSmNNzk_SIS",
        "outputId": "784dac7f-d119-4a06-ac20-d76011bfc32f"
      },
      "source": [
        "evaluate_random(encoder, attn_decoder)"
      ],
      "execution_count": 45,
      "outputs": [
        {
          "output_type": "stream",
          "text": [
            "\n",
            "        Eng:  i m living my dream\n",
            "        Rus:  я живу своей мечтой\n",
            "        Pred: я живу свой свою\n",
            "        \n",
            "\n",
            "        Eng:  i m the only one who understands tom\n",
            "        Rus:  я единственный кто понимает тома\n",
            "        Pred: я том кто тома\n",
            "        \n",
            "\n",
            "        Eng:  i m going there alone\n",
            "        Rus:  я еду туда одна\n",
            "        Pred: я туда туда один\n",
            "        \n",
            "\n",
            "        Eng:  you re not the only canadian here\n",
            "        Rus:  вы тут не единственные канадцы\n",
            "        Pred: ты здесь не единственный канадка\n",
            "        \n",
            "\n",
            "        Eng:  i m not hungry anymore\n",
            "        Rus:  я уже не голодна\n",
            "        Pred: я больше не не\n",
            "        \n",
            "\n",
            "        Eng:  you re very perceptive\n",
            "        Rus:  вы очень проницательны\n",
            "        Pred: ты очень\n",
            "        \n",
            "\n",
            "        Eng:  we re all related\n",
            "        Rus:  мы все родственники\n",
            "        Pred: мы все богаты\n",
            "        \n",
            "\n",
            "        Eng:  we re just pretending\n",
            "        Rus:  мы понарошку\n",
            "        Pred: мы просто\n",
            "        \n",
            "\n",
            "        Eng:  i am not acquainted with him\n",
            "        Rus:  я не знаком с ним\n",
            "        Pred: я с ним не\n",
            "        \n",
            "\n",
            "        Eng:  i m going back for tom\n",
            "        Rus:  я возвращаюсь за томом\n",
            "        Pred: я возвращаюсь тома\n",
            "        \n"
          ],
          "name": "stdout"
        }
      ]
    },
    {
      "cell_type": "markdown",
      "metadata": {
        "id": "hhaxk6ymRYMS"
      },
      "source": [
        "Предсказания тоже хуже, среди всех сгенерированных предложений только одно соответствует грамматике русского языка и ни одно не переведено правильно (в точности или по смыслу)."
      ]
    },
    {
      "cell_type": "code",
      "metadata": {
        "colab": {
          "base_uri": "https://localhost:8080/"
        },
        "id": "iytGj1y8RyyK",
        "outputId": "49747af9-eef3-4d1c-f0fd-87993dfa71f0"
      },
      "source": [
        "pair = pairs[np.random.randint(27003)]\n",
        "print(pair)"
      ],
      "execution_count": 46,
      "outputs": [
        {
          "output_type": "stream",
          "text": [
            "('she s beautiful isn t she', 'красивая правда')\n"
          ],
          "name": "stdout"
        }
      ]
    },
    {
      "cell_type": "code",
      "metadata": {
        "id": "nUgfAHqIRyyW"
      },
      "source": [
        "output_words, attentions = evaluate(\n",
        "    encoder, attn_decoder, pair[0])"
      ],
      "execution_count": 47,
      "outputs": []
    },
    {
      "cell_type": "code",
      "metadata": {
        "colab": {
          "base_uri": "https://localhost:8080/"
        },
        "id": "I4Vj_QgLRyyX",
        "outputId": "6fb7ed1f-e2eb-4d38-808f-51396077ef44"
      },
      "source": [
        "attentions"
      ],
      "execution_count": 48,
      "outputs": [
        {
          "output_type": "execute_result",
          "data": {
            "text/plain": [
              "tensor([[0.0634, 0.0706, 0.0767, 0.0953, 0.0738, 0.0984, 0.0747, 0.0794, 0.0921,\n",
              "         0.0924, 0.0920, 0.0913],\n",
              "        [0.0636, 0.0706, 0.0767, 0.0953, 0.0738, 0.0984, 0.0747, 0.0793, 0.0921,\n",
              "         0.0924, 0.0919, 0.0913],\n",
              "        [0.0635, 0.0710, 0.0772, 0.0947, 0.0743, 0.0975, 0.0752, 0.0798, 0.0919,\n",
              "         0.0921, 0.0917, 0.0911],\n",
              "        [0.0666, 0.0735, 0.0789, 0.0922, 0.0764, 0.0941, 0.0772, 0.0810, 0.0902,\n",
              "         0.0903, 0.0901, 0.0896],\n",
              "        [0.0648, 0.0712, 0.0768, 0.0948, 0.0741, 0.0980, 0.0750, 0.0793, 0.0917,\n",
              "         0.0919, 0.0915, 0.0909],\n",
              "        [0.0000, 0.0000, 0.0000, 0.0000, 0.0000, 0.0000, 0.0000, 0.0000, 0.0000,\n",
              "         0.0000, 0.0000, 0.0000],\n",
              "        [0.0000, 0.0000, 0.0000, 0.0000, 0.0000, 0.0000, 0.0000, 0.0000, 0.0000,\n",
              "         0.0000, 0.0000, 0.0000],\n",
              "        [0.0000, 0.0000, 0.0000, 0.0000, 0.0000, 0.0000, 0.0000, 0.0000, 0.0000,\n",
              "         0.0000, 0.0000, 0.0000],\n",
              "        [0.0000, 0.0000, 0.0000, 0.0000, 0.0000, 0.0000, 0.0000, 0.0000, 0.0000,\n",
              "         0.0000, 0.0000, 0.0000],\n",
              "        [0.0000, 0.0000, 0.0000, 0.0000, 0.0000, 0.0000, 0.0000, 0.0000, 0.0000,\n",
              "         0.0000, 0.0000, 0.0000],\n",
              "        [0.0000, 0.0000, 0.0000, 0.0000, 0.0000, 0.0000, 0.0000, 0.0000, 0.0000,\n",
              "         0.0000, 0.0000, 0.0000],\n",
              "        [0.0000, 0.0000, 0.0000, 0.0000, 0.0000, 0.0000, 0.0000, 0.0000, 0.0000,\n",
              "         0.0000, 0.0000, 0.0000]])"
            ]
          },
          "metadata": {
            "tags": []
          },
          "execution_count": 48
        }
      ]
    },
    {
      "cell_type": "code",
      "metadata": {
        "colab": {
          "base_uri": "https://localhost:8080/"
        },
        "id": "VMhKlIGJRyyY",
        "outputId": "6ec2595a-6678-4c3b-d8e5-c6fe963dfd61"
      },
      "source": [
        "attentions.numpy()[0]"
      ],
      "execution_count": 49,
      "outputs": [
        {
          "output_type": "execute_result",
          "data": {
            "text/plain": [
              "array([0.06341993, 0.07055162, 0.07669213, 0.09527341, 0.07377636,\n",
              "       0.09841596, 0.07470179, 0.07936986, 0.09213814, 0.09239578,\n",
              "       0.09195073, 0.09131426], dtype=float32)"
            ]
          },
          "metadata": {
            "tags": []
          },
          "execution_count": 49
        }
      ]
    },
    {
      "cell_type": "code",
      "metadata": {
        "colab": {
          "base_uri": "https://localhost:8080/",
          "height": 292
        },
        "id": "YmvgLe0nRyyY",
        "outputId": "8c6dcae7-cc9e-474b-ee97-92a394baff9e"
      },
      "source": [
        "plt.figure(figsize=(14, 12))\n",
        "plt.matshow(attentions.numpy())\n",
        "plt.show()"
      ],
      "execution_count": 50,
      "outputs": [
        {
          "output_type": "display_data",
          "data": {
            "text/plain": [
              "<Figure size 1008x864 with 0 Axes>"
            ]
          },
          "metadata": {
            "tags": []
          }
        },
        {
          "output_type": "display_data",
          "data": {
            "image/png": "[encoded data removed]",
            "text/plain": [
              "<Figure size 288x288 with 1 Axes>"
            ]
          },
          "metadata": {
            "tags": [],
            "needs_background": "light"
          }
        }
      ]
    },
    {
      "cell_type": "code",
      "metadata": {
        "colab": {
          "base_uri": "https://localhost:8080/",
          "height": 332
        },
        "id": "Np2MatPpSCst",
        "outputId": "5144b41d-b33e-41b3-ba20-47ed36e6e9c7"
      },
      "source": [
        "evaluate_show_attention(pairs[np.random.randint(27003)][0])"
      ],
      "execution_count": 51,
      "outputs": [
        {
          "output_type": "stream",
          "text": [
            "input = you re wrong about tom\n",
            "output = вы не том\n"
          ],
          "name": "stdout"
        },
        {
          "output_type": "display_data",
          "data": {
            "image/png": "[encoded data removed]",
            "text/plain": [
              "<Figure size 432x288 with 2 Axes>"
            ]
          },
          "metadata": {
            "tags": [],
            "needs_background": "light"
          }
        }
      ]
    },
    {
      "cell_type": "code",
      "metadata": {
        "colab": {
          "base_uri": "https://localhost:8080/",
          "height": 336
        },
        "id": "CTU2tjRwSCsu",
        "outputId": "1357bfaf-19bb-491c-cf20-1f2d8487f968"
      },
      "source": [
        "evaluate_show_attention(pairs[np.random.randint(27003)][0])"
      ],
      "execution_count": 52,
      "outputs": [
        {
          "output_type": "stream",
          "text": [
            "input = i m decisive\n",
            "output = я заинтересован\n"
          ],
          "name": "stdout"
        },
        {
          "output_type": "display_data",
          "data": {
            "image/png": "[encoded data removed]",
            "text/plain": [
              "<Figure size 432x288 with 2 Axes>"
            ]
          },
          "metadata": {
            "tags": [],
            "needs_background": "light"
          }
        }
      ]
    },
    {
      "cell_type": "code",
      "metadata": {
        "colab": {
          "base_uri": "https://localhost:8080/",
          "height": 339
        },
        "id": "LYLHUCygSCsv",
        "outputId": "733b1ee8-7e0e-4c4c-e4d2-7d155793246b"
      },
      "source": [
        "evaluate_show_attention(pairs[np.random.randint(27003)][0])"
      ],
      "execution_count": 53,
      "outputs": [
        {
          "output_type": "stream",
          "text": [
            "input = they are both good students\n",
            "output = она хорошо хорошие\n"
          ],
          "name": "stdout"
        },
        {
          "output_type": "display_data",
          "data": {
            "image/png": "[encoded data removed]",
            "text/plain": [
              "<Figure size 432x288 with 2 Axes>"
            ]
          },
          "metadata": {
            "tags": [],
            "needs_background": "light"
          }
        }
      ]
    },
    {
      "cell_type": "code",
      "metadata": {
        "colab": {
          "base_uri": "https://localhost:8080/",
          "height": 332
        },
        "id": "-JkZOJCBSCsv",
        "outputId": "0f67e289-82ec-40b8-b227-caaad5e9ba39"
      },
      "source": [
        "evaluate_show_attention(pairs[np.random.randint(27003)][0])"
      ],
      "execution_count": 54,
      "outputs": [
        {
          "output_type": "stream",
          "text": [
            "input = they re drunk\n",
            "output = они пьян\n"
          ],
          "name": "stdout"
        },
        {
          "output_type": "display_data",
          "data": {
            "image/png": "[encoded data removed]",
            "text/plain": [
              "<Figure size 432x288 with 2 Axes>"
            ]
          },
          "metadata": {
            "tags": [],
            "needs_background": "light"
          }
        }
      ]
    },
    {
      "cell_type": "markdown",
      "metadata": {
        "id": "mxRcYcRfTEvt"
      },
      "source": [
        "Зато графики attention уже больше похожи на правду – больше всего attention всё ещё у токенов EOS, добавленных в английское предложение для паддинга, но заметно, что:\n",
        "*   с какого-то токена EOS attention начинает плавно уменьшаться\n",
        "*   для предсказанного предложения attention ненулевое строго до токена EOS и ещё одну клетку\n",
        "*   первое слово в английском предложении, как правило, обладает наименьшим attention\n",
        "*   иногда и для английского, и для предсказанного предложения можно выделить \"самое важное\" слово – слово с наибольшим attention (\"m\" во втором примере, \"good\" в третьем)\n",
        "*   а иногда слова с наибольшим attention в английском и предсказанном предложении даже совпадают (\"drunk\" и \"пьян\" в последнем примере)!"
      ]
    }
  ]
}