{
  "nbformat": 4,
  "nbformat_minor": 0,
  "metadata": {
    "colab": {
      "name": "hymenoptera_resnet_vgg.ipynb",
      "provenance": [],
      "collapsed_sections": []
    },
    "kernelspec": {
      "name": "python3",
      "display_name": "Python 3"
    },
    "accelerator": "GPU",
    "widgets": {
      "application/vnd.jupyter.widget-state+json": {
        "9ae4c3c7a793440cbae5494b35b93a16": {
          "model_module": "@jupyter-widgets/controls",
          "model_name": "HBoxModel",
          "state": {
            "_view_name": "HBoxView",
            "_dom_classes": [],
            "_model_name": "HBoxModel",
            "_view_module": "@jupyter-widgets/controls",
            "_model_module_version": "1.5.0",
            "_view_count": null,
            "_view_module_version": "1.5.0",
            "box_style": "",
            "layout": "IPY_MODEL_05b888445c974bceb85c1c95240f71c7",
            "_model_module": "@jupyter-widgets/controls",
            "children": [
              "IPY_MODEL_c7c82fc5f3d04c238d00f89d3f6da95e",
              "IPY_MODEL_30318ad99ab2489385a8abd7ebcae6d3"
            ]
          }
        },
        "05b888445c974bceb85c1c95240f71c7": {
          "model_module": "@jupyter-widgets/base",
          "model_name": "LayoutModel",
          "state": {
            "_view_name": "LayoutView",
            "grid_template_rows": null,
            "right": null,
            "justify_content": null,
            "_view_module": "@jupyter-widgets/base",
            "overflow": null,
            "_model_module_version": "1.2.0",
            "_view_count": null,
            "flex_flow": null,
            "width": null,
            "min_width": null,
            "border": null,
            "align_items": null,
            "bottom": null,
            "_model_module": "@jupyter-widgets/base",
            "top": null,
            "grid_column": null,
            "overflow_y": null,
            "overflow_x": null,
            "grid_auto_flow": null,
            "grid_area": null,
            "grid_template_columns": null,
            "flex": null,
            "_model_name": "LayoutModel",
            "justify_items": null,
            "grid_row": null,
            "max_height": null,
            "align_content": null,
            "visibility": null,
            "align_self": null,
            "height": null,
            "min_height": null,
            "padding": null,
            "grid_auto_rows": null,
            "grid_gap": null,
            "max_width": null,
            "order": null,
            "_view_module_version": "1.2.0",
            "grid_template_areas": null,
            "object_position": null,
            "object_fit": null,
            "grid_auto_columns": null,
            "margin": null,
            "display": null,
            "left": null
          }
        },
        "c7c82fc5f3d04c238d00f89d3f6da95e": {
          "model_module": "@jupyter-widgets/controls",
          "model_name": "FloatProgressModel",
          "state": {
            "_view_name": "ProgressView",
            "style": "IPY_MODEL_7856f7ed2b654b6bb786600fae2be523",
            "_dom_classes": [],
            "description": "100%",
            "_model_name": "FloatProgressModel",
            "bar_style": "success",
            "max": 10,
            "_view_module": "@jupyter-widgets/controls",
            "_model_module_version": "1.5.0",
            "value": 10,
            "_view_count": null,
            "_view_module_version": "1.5.0",
            "orientation": "horizontal",
            "min": 0,
            "description_tooltip": null,
            "_model_module": "@jupyter-widgets/controls",
            "layout": "IPY_MODEL_7bcf757627bb4cf98e1e3eb9af0cf86a"
          }
        },
        "30318ad99ab2489385a8abd7ebcae6d3": {
          "model_module": "@jupyter-widgets/controls",
          "model_name": "HTMLModel",
          "state": {
            "_view_name": "HTMLView",
            "style": "IPY_MODEL_d8144075e1ee4601a78ed2663a149e8f",
            "_dom_classes": [],
            "description": "",
            "_model_name": "HTMLModel",
            "placeholder": "​",
            "_view_module": "@jupyter-widgets/controls",
            "_model_module_version": "1.5.0",
            "value": " 10/10 [21:06&lt;00:00, 126.69s/it]",
            "_view_count": null,
            "_view_module_version": "1.5.0",
            "description_tooltip": null,
            "_model_module": "@jupyter-widgets/controls",
            "layout": "IPY_MODEL_4afbcad810c845caaf1acecb1dfa5c57"
          }
        },
        "7856f7ed2b654b6bb786600fae2be523": {
          "model_module": "@jupyter-widgets/controls",
          "model_name": "ProgressStyleModel",
          "state": {
            "_view_name": "StyleView",
            "_model_name": "ProgressStyleModel",
            "description_width": "initial",
            "_view_module": "@jupyter-widgets/base",
            "_model_module_version": "1.5.0",
            "_view_count": null,
            "_view_module_version": "1.2.0",
            "bar_color": null,
            "_model_module": "@jupyter-widgets/controls"
          }
        },
        "7bcf757627bb4cf98e1e3eb9af0cf86a": {
          "model_module": "@jupyter-widgets/base",
          "model_name": "LayoutModel",
          "state": {
            "_view_name": "LayoutView",
            "grid_template_rows": null,
            "right": null,
            "justify_content": null,
            "_view_module": "@jupyter-widgets/base",
            "overflow": null,
            "_model_module_version": "1.2.0",
            "_view_count": null,
            "flex_flow": null,
            "width": null,
            "min_width": null,
            "border": null,
            "align_items": null,
            "bottom": null,
            "_model_module": "@jupyter-widgets/base",
            "top": null,
            "grid_column": null,
            "overflow_y": null,
            "overflow_x": null,
            "grid_auto_flow": null,
            "grid_area": null,
            "grid_template_columns": null,
            "flex": null,
            "_model_name": "LayoutModel",
            "justify_items": null,
            "grid_row": null,
            "max_height": null,
            "align_content": null,
            "visibility": null,
            "align_self": null,
            "height": null,
            "min_height": null,
            "padding": null,
            "grid_auto_rows": null,
            "grid_gap": null,
            "max_width": null,
            "order": null,
            "_view_module_version": "1.2.0",
            "grid_template_areas": null,
            "object_position": null,
            "object_fit": null,
            "grid_auto_columns": null,
            "margin": null,
            "display": null,
            "left": null
          }
        },
        "d8144075e1ee4601a78ed2663a149e8f": {
          "model_module": "@jupyter-widgets/controls",
          "model_name": "DescriptionStyleModel",
          "state": {
            "_view_name": "StyleView",
            "_model_name": "DescriptionStyleModel",
            "description_width": "",
            "_view_module": "@jupyter-widgets/base",
            "_model_module_version": "1.5.0",
            "_view_count": null,
            "_view_module_version": "1.2.0",
            "_model_module": "@jupyter-widgets/controls"
          }
        },
        "4afbcad810c845caaf1acecb1dfa5c57": {
          "model_module": "@jupyter-widgets/base",
          "model_name": "LayoutModel",
          "state": {
            "_view_name": "LayoutView",
            "grid_template_rows": null,
            "right": null,
            "justify_content": null,
            "_view_module": "@jupyter-widgets/base",
            "overflow": null,
            "_model_module_version": "1.2.0",
            "_view_count": null,
            "flex_flow": null,
            "width": null,
            "min_width": null,
            "border": null,
            "align_items": null,
            "bottom": null,
            "_model_module": "@jupyter-widgets/base",
            "top": null,
            "grid_column": null,
            "overflow_y": null,
            "overflow_x": null,
            "grid_auto_flow": null,
            "grid_area": null,
            "grid_template_columns": null,
            "flex": null,
            "_model_name": "LayoutModel",
            "justify_items": null,
            "grid_row": null,
            "max_height": null,
            "align_content": null,
            "visibility": null,
            "align_self": null,
            "height": null,
            "min_height": null,
            "padding": null,
            "grid_auto_rows": null,
            "grid_gap": null,
            "max_width": null,
            "order": null,
            "_view_module_version": "1.2.0",
            "grid_template_areas": null,
            "object_position": null,
            "object_fit": null,
            "grid_auto_columns": null,
            "margin": null,
            "display": null,
            "left": null
          }
        },
        "b69a89ad1d514a5391fbd80ff4c9c71e": {
          "model_module": "@jupyter-widgets/controls",
          "model_name": "HBoxModel",
          "state": {
            "_view_name": "HBoxView",
            "_dom_classes": [],
            "_model_name": "HBoxModel",
            "_view_module": "@jupyter-widgets/controls",
            "_model_module_version": "1.5.0",
            "_view_count": null,
            "_view_module_version": "1.5.0",
            "box_style": "",
            "layout": "IPY_MODEL_4d2bdd12592d4312a655c6755cfde11f",
            "_model_module": "@jupyter-widgets/controls",
            "children": [
              "IPY_MODEL_608e2f1b690b4bc38cae439971c1c510",
              "IPY_MODEL_0ecdc2c9252543159a1ac608a3a025f0"
            ]
          }
        },
        "4d2bdd12592d4312a655c6755cfde11f": {
          "model_module": "@jupyter-widgets/base",
          "model_name": "LayoutModel",
          "state": {
            "_view_name": "LayoutView",
            "grid_template_rows": null,
            "right": null,
            "justify_content": null,
            "_view_module": "@jupyter-widgets/base",
            "overflow": null,
            "_model_module_version": "1.2.0",
            "_view_count": null,
            "flex_flow": null,
            "width": null,
            "min_width": null,
            "border": null,
            "align_items": null,
            "bottom": null,
            "_model_module": "@jupyter-widgets/base",
            "top": null,
            "grid_column": null,
            "overflow_y": null,
            "overflow_x": null,
            "grid_auto_flow": null,
            "grid_area": null,
            "grid_template_columns": null,
            "flex": null,
            "_model_name": "LayoutModel",
            "justify_items": null,
            "grid_row": null,
            "max_height": null,
            "align_content": null,
            "visibility": null,
            "align_self": null,
            "height": null,
            "min_height": null,
            "padding": null,
            "grid_auto_rows": null,
            "grid_gap": null,
            "max_width": null,
            "order": null,
            "_view_module_version": "1.2.0",
            "grid_template_areas": null,
            "object_position": null,
            "object_fit": null,
            "grid_auto_columns": null,
            "margin": null,
            "display": null,
            "left": null
          }
        },
        "608e2f1b690b4bc38cae439971c1c510": {
          "model_module": "@jupyter-widgets/controls",
          "model_name": "FloatProgressModel",
          "state": {
            "_view_name": "ProgressView",
            "style": "IPY_MODEL_bd8341343b7f4d458fe71c77522f2aa2",
            "_dom_classes": [],
            "description": "100%",
            "_model_name": "FloatProgressModel",
            "bar_style": "success",
            "max": 10,
            "_view_module": "@jupyter-widgets/controls",
            "_model_module_version": "1.5.0",
            "value": 10,
            "_view_count": null,
            "_view_module_version": "1.5.0",
            "orientation": "horizontal",
            "min": 0,
            "description_tooltip": null,
            "_model_module": "@jupyter-widgets/controls",
            "layout": "IPY_MODEL_381c621eeb01439f85f290d66d695b5a"
          }
        },
        "0ecdc2c9252543159a1ac608a3a025f0": {
          "model_module": "@jupyter-widgets/controls",
          "model_name": "HTMLModel",
          "state": {
            "_view_name": "HTMLView",
            "style": "IPY_MODEL_1fdb4720c0e2492dbed06d3cb2a78b4a",
            "_dom_classes": [],
            "description": "",
            "_model_name": "HTMLModel",
            "placeholder": "​",
            "_view_module": "@jupyter-widgets/controls",
            "_model_module_version": "1.5.0",
            "value": " 10/10 [09:32&lt;00:00, 57.29s/it]",
            "_view_count": null,
            "_view_module_version": "1.5.0",
            "description_tooltip": null,
            "_model_module": "@jupyter-widgets/controls",
            "layout": "IPY_MODEL_5a647b89529946e38bc51af7095d5378"
          }
        },
        "bd8341343b7f4d458fe71c77522f2aa2": {
          "model_module": "@jupyter-widgets/controls",
          "model_name": "ProgressStyleModel",
          "state": {
            "_view_name": "StyleView",
            "_model_name": "ProgressStyleModel",
            "description_width": "initial",
            "_view_module": "@jupyter-widgets/base",
            "_model_module_version": "1.5.0",
            "_view_count": null,
            "_view_module_version": "1.2.0",
            "bar_color": null,
            "_model_module": "@jupyter-widgets/controls"
          }
        },
        "381c621eeb01439f85f290d66d695b5a": {
          "model_module": "@jupyter-widgets/base",
          "model_name": "LayoutModel",
          "state": {
            "_view_name": "LayoutView",
            "grid_template_rows": null,
            "right": null,
            "justify_content": null,
            "_view_module": "@jupyter-widgets/base",
            "overflow": null,
            "_model_module_version": "1.2.0",
            "_view_count": null,
            "flex_flow": null,
            "width": null,
            "min_width": null,
            "border": null,
            "align_items": null,
            "bottom": null,
            "_model_module": "@jupyter-widgets/base",
            "top": null,
            "grid_column": null,
            "overflow_y": null,
            "overflow_x": null,
            "grid_auto_flow": null,
            "grid_area": null,
            "grid_template_columns": null,
            "flex": null,
            "_model_name": "LayoutModel",
            "justify_items": null,
            "grid_row": null,
            "max_height": null,
            "align_content": null,
            "visibility": null,
            "align_self": null,
            "height": null,
            "min_height": null,
            "padding": null,
            "grid_auto_rows": null,
            "grid_gap": null,
            "max_width": null,
            "order": null,
            "_view_module_version": "1.2.0",
            "grid_template_areas": null,
            "object_position": null,
            "object_fit": null,
            "grid_auto_columns": null,
            "margin": null,
            "display": null,
            "left": null
          }
        },
        "1fdb4720c0e2492dbed06d3cb2a78b4a": {
          "model_module": "@jupyter-widgets/controls",
          "model_name": "DescriptionStyleModel",
          "state": {
            "_view_name": "StyleView",
            "_model_name": "DescriptionStyleModel",
            "description_width": "",
            "_view_module": "@jupyter-widgets/base",
            "_model_module_version": "1.5.0",
            "_view_count": null,
            "_view_module_version": "1.2.0",
            "_model_module": "@jupyter-widgets/controls"
          }
        },
        "5a647b89529946e38bc51af7095d5378": {
          "model_module": "@jupyter-widgets/base",
          "model_name": "LayoutModel",
          "state": {
            "_view_name": "LayoutView",
            "grid_template_rows": null,
            "right": null,
            "justify_content": null,
            "_view_module": "@jupyter-widgets/base",
            "overflow": null,
            "_model_module_version": "1.2.0",
            "_view_count": null,
            "flex_flow": null,
            "width": null,
            "min_width": null,
            "border": null,
            "align_items": null,
            "bottom": null,
            "_model_module": "@jupyter-widgets/base",
            "top": null,
            "grid_column": null,
            "overflow_y": null,
            "overflow_x": null,
            "grid_auto_flow": null,
            "grid_area": null,
            "grid_template_columns": null,
            "flex": null,
            "_model_name": "LayoutModel",
            "justify_items": null,
            "grid_row": null,
            "max_height": null,
            "align_content": null,
            "visibility": null,
            "align_self": null,
            "height": null,
            "min_height": null,
            "padding": null,
            "grid_auto_rows": null,
            "grid_gap": null,
            "max_width": null,
            "order": null,
            "_view_module_version": "1.2.0",
            "grid_template_areas": null,
            "object_position": null,
            "object_fit": null,
            "grid_auto_columns": null,
            "margin": null,
            "display": null,
            "left": null
          }
        },
        "a3e79b06dcb14c97a744532b4c93e405": {
          "model_module": "@jupyter-widgets/controls",
          "model_name": "HBoxModel",
          "state": {
            "_view_name": "HBoxView",
            "_dom_classes": [],
            "_model_name": "HBoxModel",
            "_view_module": "@jupyter-widgets/controls",
            "_model_module_version": "1.5.0",
            "_view_count": null,
            "_view_module_version": "1.5.0",
            "box_style": "",
            "layout": "IPY_MODEL_3f63489c0ccb448c8a7a549faf463a62",
            "_model_module": "@jupyter-widgets/controls",
            "children": [
              "IPY_MODEL_ee65efcf6c4148bd98ccb743c3919b25",
              "IPY_MODEL_11f6a23fdaba433a8200e9e047087ac0"
            ]
          }
        },
        "3f63489c0ccb448c8a7a549faf463a62": {
          "model_module": "@jupyter-widgets/base",
          "model_name": "LayoutModel",
          "state": {
            "_view_name": "LayoutView",
            "grid_template_rows": null,
            "right": null,
            "justify_content": null,
            "_view_module": "@jupyter-widgets/base",
            "overflow": null,
            "_model_module_version": "1.2.0",
            "_view_count": null,
            "flex_flow": null,
            "width": null,
            "min_width": null,
            "border": null,
            "align_items": null,
            "bottom": null,
            "_model_module": "@jupyter-widgets/base",
            "top": null,
            "grid_column": null,
            "overflow_y": null,
            "overflow_x": null,
            "grid_auto_flow": null,
            "grid_area": null,
            "grid_template_columns": null,
            "flex": null,
            "_model_name": "LayoutModel",
            "justify_items": null,
            "grid_row": null,
            "max_height": null,
            "align_content": null,
            "visibility": null,
            "align_self": null,
            "height": null,
            "min_height": null,
            "padding": null,
            "grid_auto_rows": null,
            "grid_gap": null,
            "max_width": null,
            "order": null,
            "_view_module_version": "1.2.0",
            "grid_template_areas": null,
            "object_position": null,
            "object_fit": null,
            "grid_auto_columns": null,
            "margin": null,
            "display": null,
            "left": null
          }
        },
        "ee65efcf6c4148bd98ccb743c3919b25": {
          "model_module": "@jupyter-widgets/controls",
          "model_name": "FloatProgressModel",
          "state": {
            "_view_name": "ProgressView",
            "style": "IPY_MODEL_621553bc404e4526b915b777dc542ddf",
            "_dom_classes": [],
            "description": "100%",
            "_model_name": "FloatProgressModel",
            "bar_style": "success",
            "max": 46827520,
            "_view_module": "@jupyter-widgets/controls",
            "_model_module_version": "1.5.0",
            "value": 46827520,
            "_view_count": null,
            "_view_module_version": "1.5.0",
            "orientation": "horizontal",
            "min": 0,
            "description_tooltip": null,
            "_model_module": "@jupyter-widgets/controls",
            "layout": "IPY_MODEL_7039e737c12d4188a4414b72a0b4c9bd"
          }
        },
        "11f6a23fdaba433a8200e9e047087ac0": {
          "model_module": "@jupyter-widgets/controls",
          "model_name": "HTMLModel",
          "state": {
            "_view_name": "HTMLView",
            "style": "IPY_MODEL_f105f84f93ad438484a820badcea6d08",
            "_dom_classes": [],
            "description": "",
            "_model_name": "HTMLModel",
            "placeholder": "​",
            "_view_module": "@jupyter-widgets/controls",
            "_model_module_version": "1.5.0",
            "value": " 44.7M/44.7M [04:26&lt;00:00, 176kB/s]",
            "_view_count": null,
            "_view_module_version": "1.5.0",
            "description_tooltip": null,
            "_model_module": "@jupyter-widgets/controls",
            "layout": "IPY_MODEL_2edc06aabfee424b94298fa73cfd5de3"
          }
        },
        "621553bc404e4526b915b777dc542ddf": {
          "model_module": "@jupyter-widgets/controls",
          "model_name": "ProgressStyleModel",
          "state": {
            "_view_name": "StyleView",
            "_model_name": "ProgressStyleModel",
            "description_width": "initial",
            "_view_module": "@jupyter-widgets/base",
            "_model_module_version": "1.5.0",
            "_view_count": null,
            "_view_module_version": "1.2.0",
            "bar_color": null,
            "_model_module": "@jupyter-widgets/controls"
          }
        },
        "7039e737c12d4188a4414b72a0b4c9bd": {
          "model_module": "@jupyter-widgets/base",
          "model_name": "LayoutModel",
          "state": {
            "_view_name": "LayoutView",
            "grid_template_rows": null,
            "right": null,
            "justify_content": null,
            "_view_module": "@jupyter-widgets/base",
            "overflow": null,
            "_model_module_version": "1.2.0",
            "_view_count": null,
            "flex_flow": null,
            "width": null,
            "min_width": null,
            "border": null,
            "align_items": null,
            "bottom": null,
            "_model_module": "@jupyter-widgets/base",
            "top": null,
            "grid_column": null,
            "overflow_y": null,
            "overflow_x": null,
            "grid_auto_flow": null,
            "grid_area": null,
            "grid_template_columns": null,
            "flex": null,
            "_model_name": "LayoutModel",
            "justify_items": null,
            "grid_row": null,
            "max_height": null,
            "align_content": null,
            "visibility": null,
            "align_self": null,
            "height": null,
            "min_height": null,
            "padding": null,
            "grid_auto_rows": null,
            "grid_gap": null,
            "max_width": null,
            "order": null,
            "_view_module_version": "1.2.0",
            "grid_template_areas": null,
            "object_position": null,
            "object_fit": null,
            "grid_auto_columns": null,
            "margin": null,
            "display": null,
            "left": null
          }
        },
        "f105f84f93ad438484a820badcea6d08": {
          "model_module": "@jupyter-widgets/controls",
          "model_name": "DescriptionStyleModel",
          "state": {
            "_view_name": "StyleView",
            "_model_name": "DescriptionStyleModel",
            "description_width": "",
            "_view_module": "@jupyter-widgets/base",
            "_model_module_version": "1.5.0",
            "_view_count": null,
            "_view_module_version": "1.2.0",
            "_model_module": "@jupyter-widgets/controls"
          }
        },
        "2edc06aabfee424b94298fa73cfd5de3": {
          "model_module": "@jupyter-widgets/base",
          "model_name": "LayoutModel",
          "state": {
            "_view_name": "LayoutView",
            "grid_template_rows": null,
            "right": null,
            "justify_content": null,
            "_view_module": "@jupyter-widgets/base",
            "overflow": null,
            "_model_module_version": "1.2.0",
            "_view_count": null,
            "flex_flow": null,
            "width": null,
            "min_width": null,
            "border": null,
            "align_items": null,
            "bottom": null,
            "_model_module": "@jupyter-widgets/base",
            "top": null,
            "grid_column": null,
            "overflow_y": null,
            "overflow_x": null,
            "grid_auto_flow": null,
            "grid_area": null,
            "grid_template_columns": null,
            "flex": null,
            "_model_name": "LayoutModel",
            "justify_items": null,
            "grid_row": null,
            "max_height": null,
            "align_content": null,
            "visibility": null,
            "align_self": null,
            "height": null,
            "min_height": null,
            "padding": null,
            "grid_auto_rows": null,
            "grid_gap": null,
            "max_width": null,
            "order": null,
            "_view_module_version": "1.2.0",
            "grid_template_areas": null,
            "object_position": null,
            "object_fit": null,
            "grid_auto_columns": null,
            "margin": null,
            "display": null,
            "left": null
          }
        },
        "a59bdf1219c148fbb99b53a82de518fc": {
          "model_module": "@jupyter-widgets/controls",
          "model_name": "HBoxModel",
          "state": {
            "_view_name": "HBoxView",
            "_dom_classes": [],
            "_model_name": "HBoxModel",
            "_view_module": "@jupyter-widgets/controls",
            "_model_module_version": "1.5.0",
            "_view_count": null,
            "_view_module_version": "1.5.0",
            "box_style": "",
            "layout": "IPY_MODEL_724a44df82614c00ac9a1239c8f0ee0b",
            "_model_module": "@jupyter-widgets/controls",
            "children": [
              "IPY_MODEL_43ab10208adb4616bee55db0fc889a9a",
              "IPY_MODEL_64f0078fe4684263b5a41595b772eea3"
            ]
          }
        },
        "724a44df82614c00ac9a1239c8f0ee0b": {
          "model_module": "@jupyter-widgets/base",
          "model_name": "LayoutModel",
          "state": {
            "_view_name": "LayoutView",
            "grid_template_rows": null,
            "right": null,
            "justify_content": null,
            "_view_module": "@jupyter-widgets/base",
            "overflow": null,
            "_model_module_version": "1.2.0",
            "_view_count": null,
            "flex_flow": null,
            "width": null,
            "min_width": null,
            "border": null,
            "align_items": null,
            "bottom": null,
            "_model_module": "@jupyter-widgets/base",
            "top": null,
            "grid_column": null,
            "overflow_y": null,
            "overflow_x": null,
            "grid_auto_flow": null,
            "grid_area": null,
            "grid_template_columns": null,
            "flex": null,
            "_model_name": "LayoutModel",
            "justify_items": null,
            "grid_row": null,
            "max_height": null,
            "align_content": null,
            "visibility": null,
            "align_self": null,
            "height": null,
            "min_height": null,
            "padding": null,
            "grid_auto_rows": null,
            "grid_gap": null,
            "max_width": null,
            "order": null,
            "_view_module_version": "1.2.0",
            "grid_template_areas": null,
            "object_position": null,
            "object_fit": null,
            "grid_auto_columns": null,
            "margin": null,
            "display": null,
            "left": null
          }
        },
        "43ab10208adb4616bee55db0fc889a9a": {
          "model_module": "@jupyter-widgets/controls",
          "model_name": "FloatProgressModel",
          "state": {
            "_view_name": "ProgressView",
            "style": "IPY_MODEL_b63c9afeae464e94bea3ed91d6bb086b",
            "_dom_classes": [],
            "description": "100%",
            "_model_name": "FloatProgressModel",
            "bar_style": "success",
            "max": 10,
            "_view_module": "@jupyter-widgets/controls",
            "_model_module_version": "1.5.0",
            "value": 10,
            "_view_count": null,
            "_view_module_version": "1.5.0",
            "orientation": "horizontal",
            "min": 0,
            "description_tooltip": null,
            "_model_module": "@jupyter-widgets/controls",
            "layout": "IPY_MODEL_6f80e3ddd07749928a5656175dd531ba"
          }
        },
        "64f0078fe4684263b5a41595b772eea3": {
          "model_module": "@jupyter-widgets/controls",
          "model_name": "HTMLModel",
          "state": {
            "_view_name": "HTMLView",
            "style": "IPY_MODEL_0be89792975e4c43b93477f675a86985",
            "_dom_classes": [],
            "description": "",
            "_model_name": "HTMLModel",
            "placeholder": "​",
            "_view_module": "@jupyter-widgets/controls",
            "_model_module_version": "1.5.0",
            "value": " 10/10 [03:54&lt;00:00, 23.43s/it]",
            "_view_count": null,
            "_view_module_version": "1.5.0",
            "description_tooltip": null,
            "_model_module": "@jupyter-widgets/controls",
            "layout": "IPY_MODEL_e668959039f546158d9e230c2a6e8aee"
          }
        },
        "b63c9afeae464e94bea3ed91d6bb086b": {
          "model_module": "@jupyter-widgets/controls",
          "model_name": "ProgressStyleModel",
          "state": {
            "_view_name": "StyleView",
            "_model_name": "ProgressStyleModel",
            "description_width": "initial",
            "_view_module": "@jupyter-widgets/base",
            "_model_module_version": "1.5.0",
            "_view_count": null,
            "_view_module_version": "1.2.0",
            "bar_color": null,
            "_model_module": "@jupyter-widgets/controls"
          }
        },
        "6f80e3ddd07749928a5656175dd531ba": {
          "model_module": "@jupyter-widgets/base",
          "model_name": "LayoutModel",
          "state": {
            "_view_name": "LayoutView",
            "grid_template_rows": null,
            "right": null,
            "justify_content": null,
            "_view_module": "@jupyter-widgets/base",
            "overflow": null,
            "_model_module_version": "1.2.0",
            "_view_count": null,
            "flex_flow": null,
            "width": null,
            "min_width": null,
            "border": null,
            "align_items": null,
            "bottom": null,
            "_model_module": "@jupyter-widgets/base",
            "top": null,
            "grid_column": null,
            "overflow_y": null,
            "overflow_x": null,
            "grid_auto_flow": null,
            "grid_area": null,
            "grid_template_columns": null,
            "flex": null,
            "_model_name": "LayoutModel",
            "justify_items": null,
            "grid_row": null,
            "max_height": null,
            "align_content": null,
            "visibility": null,
            "align_self": null,
            "height": null,
            "min_height": null,
            "padding": null,
            "grid_auto_rows": null,
            "grid_gap": null,
            "max_width": null,
            "order": null,
            "_view_module_version": "1.2.0",
            "grid_template_areas": null,
            "object_position": null,
            "object_fit": null,
            "grid_auto_columns": null,
            "margin": null,
            "display": null,
            "left": null
          }
        },
        "0be89792975e4c43b93477f675a86985": {
          "model_module": "@jupyter-widgets/controls",
          "model_name": "DescriptionStyleModel",
          "state": {
            "_view_name": "StyleView",
            "_model_name": "DescriptionStyleModel",
            "description_width": "",
            "_view_module": "@jupyter-widgets/base",
            "_model_module_version": "1.5.0",
            "_view_count": null,
            "_view_module_version": "1.2.0",
            "_model_module": "@jupyter-widgets/controls"
          }
        },
        "e668959039f546158d9e230c2a6e8aee": {
          "model_module": "@jupyter-widgets/base",
          "model_name": "LayoutModel",
          "state": {
            "_view_name": "LayoutView",
            "grid_template_rows": null,
            "right": null,
            "justify_content": null,
            "_view_module": "@jupyter-widgets/base",
            "overflow": null,
            "_model_module_version": "1.2.0",
            "_view_count": null,
            "flex_flow": null,
            "width": null,
            "min_width": null,
            "border": null,
            "align_items": null,
            "bottom": null,
            "_model_module": "@jupyter-widgets/base",
            "top": null,
            "grid_column": null,
            "overflow_y": null,
            "overflow_x": null,
            "grid_auto_flow": null,
            "grid_area": null,
            "grid_template_columns": null,
            "flex": null,
            "_model_name": "LayoutModel",
            "justify_items": null,
            "grid_row": null,
            "max_height": null,
            "align_content": null,
            "visibility": null,
            "align_self": null,
            "height": null,
            "min_height": null,
            "padding": null,
            "grid_auto_rows": null,
            "grid_gap": null,
            "max_width": null,
            "order": null,
            "_view_module_version": "1.2.0",
            "grid_template_areas": null,
            "object_position": null,
            "object_fit": null,
            "grid_auto_columns": null,
            "margin": null,
            "display": null,
            "left": null
          }
        },
        "6d3c49e910084cadb899e729d1e0eb55": {
          "model_module": "@jupyter-widgets/controls",
          "model_name": "HBoxModel",
          "state": {
            "_view_name": "HBoxView",
            "_dom_classes": [],
            "_model_name": "HBoxModel",
            "_view_module": "@jupyter-widgets/controls",
            "_model_module_version": "1.5.0",
            "_view_count": null,
            "_view_module_version": "1.5.0",
            "box_style": "",
            "layout": "IPY_MODEL_31d2b23bfe4b453aab40c9640b06aa68",
            "_model_module": "@jupyter-widgets/controls",
            "children": [
              "IPY_MODEL_dddf3dfb5ec24bde91c216da5aeec6d2",
              "IPY_MODEL_4b90182f1f5248bc86c1a6b1dd9c95e7"
            ]
          }
        },
        "31d2b23bfe4b453aab40c9640b06aa68": {
          "model_module": "@jupyter-widgets/base",
          "model_name": "LayoutModel",
          "state": {
            "_view_name": "LayoutView",
            "grid_template_rows": null,
            "right": null,
            "justify_content": null,
            "_view_module": "@jupyter-widgets/base",
            "overflow": null,
            "_model_module_version": "1.2.0",
            "_view_count": null,
            "flex_flow": null,
            "width": null,
            "min_width": null,
            "border": null,
            "align_items": null,
            "bottom": null,
            "_model_module": "@jupyter-widgets/base",
            "top": null,
            "grid_column": null,
            "overflow_y": null,
            "overflow_x": null,
            "grid_auto_flow": null,
            "grid_area": null,
            "grid_template_columns": null,
            "flex": null,
            "_model_name": "LayoutModel",
            "justify_items": null,
            "grid_row": null,
            "max_height": null,
            "align_content": null,
            "visibility": null,
            "align_self": null,
            "height": null,
            "min_height": null,
            "padding": null,
            "grid_auto_rows": null,
            "grid_gap": null,
            "max_width": null,
            "order": null,
            "_view_module_version": "1.2.0",
            "grid_template_areas": null,
            "object_position": null,
            "object_fit": null,
            "grid_auto_columns": null,
            "margin": null,
            "display": null,
            "left": null
          }
        },
        "dddf3dfb5ec24bde91c216da5aeec6d2": {
          "model_module": "@jupyter-widgets/controls",
          "model_name": "FloatProgressModel",
          "state": {
            "_view_name": "ProgressView",
            "style": "IPY_MODEL_3fc9c1d5be714120b8e59ed03b54f1a1",
            "_dom_classes": [],
            "description": "100%",
            "_model_name": "FloatProgressModel",
            "bar_style": "success",
            "max": 553433881,
            "_view_module": "@jupyter-widgets/controls",
            "_model_module_version": "1.5.0",
            "value": 553433881,
            "_view_count": null,
            "_view_module_version": "1.5.0",
            "orientation": "horizontal",
            "min": 0,
            "description_tooltip": null,
            "_model_module": "@jupyter-widgets/controls",
            "layout": "IPY_MODEL_074b7f758b0a482a898dcea7d3540c20"
          }
        },
        "4b90182f1f5248bc86c1a6b1dd9c95e7": {
          "model_module": "@jupyter-widgets/controls",
          "model_name": "HTMLModel",
          "state": {
            "_view_name": "HTMLView",
            "style": "IPY_MODEL_7ea068dcbf81496e9574343c22aa6f85",
            "_dom_classes": [],
            "description": "",
            "_model_name": "HTMLModel",
            "placeholder": "​",
            "_view_module": "@jupyter-widgets/controls",
            "_model_module_version": "1.5.0",
            "value": " 528M/528M [00:50&lt;00:00, 11.0MB/s]",
            "_view_count": null,
            "_view_module_version": "1.5.0",
            "description_tooltip": null,
            "_model_module": "@jupyter-widgets/controls",
            "layout": "IPY_MODEL_8861eba13f91497d97e2e633c4f03dae"
          }
        },
        "3fc9c1d5be714120b8e59ed03b54f1a1": {
          "model_module": "@jupyter-widgets/controls",
          "model_name": "ProgressStyleModel",
          "state": {
            "_view_name": "StyleView",
            "_model_name": "ProgressStyleModel",
            "description_width": "initial",
            "_view_module": "@jupyter-widgets/base",
            "_model_module_version": "1.5.0",
            "_view_count": null,
            "_view_module_version": "1.2.0",
            "bar_color": null,
            "_model_module": "@jupyter-widgets/controls"
          }
        },
        "074b7f758b0a482a898dcea7d3540c20": {
          "model_module": "@jupyter-widgets/base",
          "model_name": "LayoutModel",
          "state": {
            "_view_name": "LayoutView",
            "grid_template_rows": null,
            "right": null,
            "justify_content": null,
            "_view_module": "@jupyter-widgets/base",
            "overflow": null,
            "_model_module_version": "1.2.0",
            "_view_count": null,
            "flex_flow": null,
            "width": null,
            "min_width": null,
            "border": null,
            "align_items": null,
            "bottom": null,
            "_model_module": "@jupyter-widgets/base",
            "top": null,
            "grid_column": null,
            "overflow_y": null,
            "overflow_x": null,
            "grid_auto_flow": null,
            "grid_area": null,
            "grid_template_columns": null,
            "flex": null,
            "_model_name": "LayoutModel",
            "justify_items": null,
            "grid_row": null,
            "max_height": null,
            "align_content": null,
            "visibility": null,
            "align_self": null,
            "height": null,
            "min_height": null,
            "padding": null,
            "grid_auto_rows": null,
            "grid_gap": null,
            "max_width": null,
            "order": null,
            "_view_module_version": "1.2.0",
            "grid_template_areas": null,
            "object_position": null,
            "object_fit": null,
            "grid_auto_columns": null,
            "margin": null,
            "display": null,
            "left": null
          }
        },
        "7ea068dcbf81496e9574343c22aa6f85": {
          "model_module": "@jupyter-widgets/controls",
          "model_name": "DescriptionStyleModel",
          "state": {
            "_view_name": "StyleView",
            "_model_name": "DescriptionStyleModel",
            "description_width": "",
            "_view_module": "@jupyter-widgets/base",
            "_model_module_version": "1.5.0",
            "_view_count": null,
            "_view_module_version": "1.2.0",
            "_model_module": "@jupyter-widgets/controls"
          }
        },
        "8861eba13f91497d97e2e633c4f03dae": {
          "model_module": "@jupyter-widgets/base",
          "model_name": "LayoutModel",
          "state": {
            "_view_name": "LayoutView",
            "grid_template_rows": null,
            "right": null,
            "justify_content": null,
            "_view_module": "@jupyter-widgets/base",
            "overflow": null,
            "_model_module_version": "1.2.0",
            "_view_count": null,
            "flex_flow": null,
            "width": null,
            "min_width": null,
            "border": null,
            "align_items": null,
            "bottom": null,
            "_model_module": "@jupyter-widgets/base",
            "top": null,
            "grid_column": null,
            "overflow_y": null,
            "overflow_x": null,
            "grid_auto_flow": null,
            "grid_area": null,
            "grid_template_columns": null,
            "flex": null,
            "_model_name": "LayoutModel",
            "justify_items": null,
            "grid_row": null,
            "max_height": null,
            "align_content": null,
            "visibility": null,
            "align_self": null,
            "height": null,
            "min_height": null,
            "padding": null,
            "grid_auto_rows": null,
            "grid_gap": null,
            "max_width": null,
            "order": null,
            "_view_module_version": "1.2.0",
            "grid_template_areas": null,
            "object_position": null,
            "object_fit": null,
            "grid_auto_columns": null,
            "margin": null,
            "display": null,
            "left": null
          }
        },
        "a90ebd6810d14675b0a909582995f301": {
          "model_module": "@jupyter-widgets/controls",
          "model_name": "HBoxModel",
          "state": {
            "_view_name": "HBoxView",
            "_dom_classes": [],
            "_model_name": "HBoxModel",
            "_view_module": "@jupyter-widgets/controls",
            "_model_module_version": "1.5.0",
            "_view_count": null,
            "_view_module_version": "1.5.0",
            "box_style": "",
            "layout": "IPY_MODEL_de428adc4a964175abf36fe911a1c968",
            "_model_module": "@jupyter-widgets/controls",
            "children": [
              "IPY_MODEL_41eedddf9ee04f6bac8e9283c452244c",
              "IPY_MODEL_5349740e890c44349c85e27f2765dff3"
            ]
          }
        },
        "de428adc4a964175abf36fe911a1c968": {
          "model_module": "@jupyter-widgets/base",
          "model_name": "LayoutModel",
          "state": {
            "_view_name": "LayoutView",
            "grid_template_rows": null,
            "right": null,
            "justify_content": null,
            "_view_module": "@jupyter-widgets/base",
            "overflow": null,
            "_model_module_version": "1.2.0",
            "_view_count": null,
            "flex_flow": null,
            "width": null,
            "min_width": null,
            "border": null,
            "align_items": null,
            "bottom": null,
            "_model_module": "@jupyter-widgets/base",
            "top": null,
            "grid_column": null,
            "overflow_y": null,
            "overflow_x": null,
            "grid_auto_flow": null,
            "grid_area": null,
            "grid_template_columns": null,
            "flex": null,
            "_model_name": "LayoutModel",
            "justify_items": null,
            "grid_row": null,
            "max_height": null,
            "align_content": null,
            "visibility": null,
            "align_self": null,
            "height": null,
            "min_height": null,
            "padding": null,
            "grid_auto_rows": null,
            "grid_gap": null,
            "max_width": null,
            "order": null,
            "_view_module_version": "1.2.0",
            "grid_template_areas": null,
            "object_position": null,
            "object_fit": null,
            "grid_auto_columns": null,
            "margin": null,
            "display": null,
            "left": null
          }
        },
        "41eedddf9ee04f6bac8e9283c452244c": {
          "model_module": "@jupyter-widgets/controls",
          "model_name": "FloatProgressModel",
          "state": {
            "_view_name": "ProgressView",
            "style": "IPY_MODEL_5c9a0ddb88804361ac277cc5a5a21dad",
            "_dom_classes": [],
            "description": "100%",
            "_model_name": "FloatProgressModel",
            "bar_style": "success",
            "max": 10,
            "_view_module": "@jupyter-widgets/controls",
            "_model_module_version": "1.5.0",
            "value": 10,
            "_view_count": null,
            "_view_module_version": "1.5.0",
            "orientation": "horizontal",
            "min": 0,
            "description_tooltip": null,
            "_model_module": "@jupyter-widgets/controls",
            "layout": "IPY_MODEL_293ab207a9124ba7873b496fba759284"
          }
        },
        "5349740e890c44349c85e27f2765dff3": {
          "model_module": "@jupyter-widgets/controls",
          "model_name": "HTMLModel",
          "state": {
            "_view_name": "HTMLView",
            "style": "IPY_MODEL_89e1e845e6464b9fb27046db11f999b5",
            "_dom_classes": [],
            "description": "",
            "_model_name": "HTMLModel",
            "placeholder": "​",
            "_view_module": "@jupyter-widgets/controls",
            "_model_module_version": "1.5.0",
            "value": " 10/10 [11:03&lt;00:00, 66.37s/it]",
            "_view_count": null,
            "_view_module_version": "1.5.0",
            "description_tooltip": null,
            "_model_module": "@jupyter-widgets/controls",
            "layout": "IPY_MODEL_5dadc16e37bf481886d29ad13b040470"
          }
        },
        "5c9a0ddb88804361ac277cc5a5a21dad": {
          "model_module": "@jupyter-widgets/controls",
          "model_name": "ProgressStyleModel",
          "state": {
            "_view_name": "StyleView",
            "_model_name": "ProgressStyleModel",
            "description_width": "initial",
            "_view_module": "@jupyter-widgets/base",
            "_model_module_version": "1.5.0",
            "_view_count": null,
            "_view_module_version": "1.2.0",
            "bar_color": null,
            "_model_module": "@jupyter-widgets/controls"
          }
        },
        "293ab207a9124ba7873b496fba759284": {
          "model_module": "@jupyter-widgets/base",
          "model_name": "LayoutModel",
          "state": {
            "_view_name": "LayoutView",
            "grid_template_rows": null,
            "right": null,
            "justify_content": null,
            "_view_module": "@jupyter-widgets/base",
            "overflow": null,
            "_model_module_version": "1.2.0",
            "_view_count": null,
            "flex_flow": null,
            "width": null,
            "min_width": null,
            "border": null,
            "align_items": null,
            "bottom": null,
            "_model_module": "@jupyter-widgets/base",
            "top": null,
            "grid_column": null,
            "overflow_y": null,
            "overflow_x": null,
            "grid_auto_flow": null,
            "grid_area": null,
            "grid_template_columns": null,
            "flex": null,
            "_model_name": "LayoutModel",
            "justify_items": null,
            "grid_row": null,
            "max_height": null,
            "align_content": null,
            "visibility": null,
            "align_self": null,
            "height": null,
            "min_height": null,
            "padding": null,
            "grid_auto_rows": null,
            "grid_gap": null,
            "max_width": null,
            "order": null,
            "_view_module_version": "1.2.0",
            "grid_template_areas": null,
            "object_position": null,
            "object_fit": null,
            "grid_auto_columns": null,
            "margin": null,
            "display": null,
            "left": null
          }
        },
        "89e1e845e6464b9fb27046db11f999b5": {
          "model_module": "@jupyter-widgets/controls",
          "model_name": "DescriptionStyleModel",
          "state": {
            "_view_name": "StyleView",
            "_model_name": "DescriptionStyleModel",
            "description_width": "",
            "_view_module": "@jupyter-widgets/base",
            "_model_module_version": "1.5.0",
            "_view_count": null,
            "_view_module_version": "1.2.0",
            "_model_module": "@jupyter-widgets/controls"
          }
        },
        "5dadc16e37bf481886d29ad13b040470": {
          "model_module": "@jupyter-widgets/base",
          "model_name": "LayoutModel",
          "state": {
            "_view_name": "LayoutView",
            "grid_template_rows": null,
            "right": null,
            "justify_content": null,
            "_view_module": "@jupyter-widgets/base",
            "overflow": null,
            "_model_module_version": "1.2.0",
            "_view_count": null,
            "flex_flow": null,
            "width": null,
            "min_width": null,
            "border": null,
            "align_items": null,
            "bottom": null,
            "_model_module": "@jupyter-widgets/base",
            "top": null,
            "grid_column": null,
            "overflow_y": null,
            "overflow_x": null,
            "grid_auto_flow": null,
            "grid_area": null,
            "grid_template_columns": null,
            "flex": null,
            "_model_name": "LayoutModel",
            "justify_items": null,
            "grid_row": null,
            "max_height": null,
            "align_content": null,
            "visibility": null,
            "align_self": null,
            "height": null,
            "min_height": null,
            "padding": null,
            "grid_auto_rows": null,
            "grid_gap": null,
            "max_width": null,
            "order": null,
            "_view_module_version": "1.2.0",
            "grid_template_areas": null,
            "object_position": null,
            "object_fit": null,
            "grid_auto_columns": null,
            "margin": null,
            "display": null,
            "left": null
          }
        },
        "461ae1ea322c4d80999f3b161fcadf4b": {
          "model_module": "@jupyter-widgets/controls",
          "model_name": "HBoxModel",
          "state": {
            "_view_name": "HBoxView",
            "_dom_classes": [],
            "_model_name": "HBoxModel",
            "_view_module": "@jupyter-widgets/controls",
            "_model_module_version": "1.5.0",
            "_view_count": null,
            "_view_module_version": "1.5.0",
            "box_style": "",
            "layout": "IPY_MODEL_3090b54f7e0e44a8939bba137ce87e18",
            "_model_module": "@jupyter-widgets/controls",
            "children": [
              "IPY_MODEL_196926e5c2b64932a2f772d0a174bb9e",
              "IPY_MODEL_ad93ea42e460469fb4b6ee7fc9f6ea1d"
            ]
          }
        },
        "3090b54f7e0e44a8939bba137ce87e18": {
          "model_module": "@jupyter-widgets/base",
          "model_name": "LayoutModel",
          "state": {
            "_view_name": "LayoutView",
            "grid_template_rows": null,
            "right": null,
            "justify_content": null,
            "_view_module": "@jupyter-widgets/base",
            "overflow": null,
            "_model_module_version": "1.2.0",
            "_view_count": null,
            "flex_flow": null,
            "width": null,
            "min_width": null,
            "border": null,
            "align_items": null,
            "bottom": null,
            "_model_module": "@jupyter-widgets/base",
            "top": null,
            "grid_column": null,
            "overflow_y": null,
            "overflow_x": null,
            "grid_auto_flow": null,
            "grid_area": null,
            "grid_template_columns": null,
            "flex": null,
            "_model_name": "LayoutModel",
            "justify_items": null,
            "grid_row": null,
            "max_height": null,
            "align_content": null,
            "visibility": null,
            "align_self": null,
            "height": null,
            "min_height": null,
            "padding": null,
            "grid_auto_rows": null,
            "grid_gap": null,
            "max_width": null,
            "order": null,
            "_view_module_version": "1.2.0",
            "grid_template_areas": null,
            "object_position": null,
            "object_fit": null,
            "grid_auto_columns": null,
            "margin": null,
            "display": null,
            "left": null
          }
        },
        "196926e5c2b64932a2f772d0a174bb9e": {
          "model_module": "@jupyter-widgets/controls",
          "model_name": "FloatProgressModel",
          "state": {
            "_view_name": "ProgressView",
            "style": "IPY_MODEL_2a9665d43b5f4f948e1d126a4a7d07f2",
            "_dom_classes": [],
            "description": "100%",
            "_model_name": "FloatProgressModel",
            "bar_style": "success",
            "max": 10,
            "_view_module": "@jupyter-widgets/controls",
            "_model_module_version": "1.5.0",
            "value": 10,
            "_view_count": null,
            "_view_module_version": "1.5.0",
            "orientation": "horizontal",
            "min": 0,
            "description_tooltip": null,
            "_model_module": "@jupyter-widgets/controls",
            "layout": "IPY_MODEL_625243d5b56541e2bad43a1f37c299a0"
          }
        },
        "ad93ea42e460469fb4b6ee7fc9f6ea1d": {
          "model_module": "@jupyter-widgets/controls",
          "model_name": "HTMLModel",
          "state": {
            "_view_name": "HTMLView",
            "style": "IPY_MODEL_09bd80170e9d46e59292b0a246da7b97",
            "_dom_classes": [],
            "description": "",
            "_model_name": "HTMLModel",
            "placeholder": "​",
            "_view_module": "@jupyter-widgets/controls",
            "_model_module_version": "1.5.0",
            "value": " 10/10 [24:35&lt;00:00, 147.50s/it]",
            "_view_count": null,
            "_view_module_version": "1.5.0",
            "description_tooltip": null,
            "_model_module": "@jupyter-widgets/controls",
            "layout": "IPY_MODEL_a7dfdd9d4fde4dfc9a4bc001439e39f4"
          }
        },
        "2a9665d43b5f4f948e1d126a4a7d07f2": {
          "model_module": "@jupyter-widgets/controls",
          "model_name": "ProgressStyleModel",
          "state": {
            "_view_name": "StyleView",
            "_model_name": "ProgressStyleModel",
            "description_width": "initial",
            "_view_module": "@jupyter-widgets/base",
            "_model_module_version": "1.5.0",
            "_view_count": null,
            "_view_module_version": "1.2.0",
            "bar_color": null,
            "_model_module": "@jupyter-widgets/controls"
          }
        },
        "625243d5b56541e2bad43a1f37c299a0": {
          "model_module": "@jupyter-widgets/base",
          "model_name": "LayoutModel",
          "state": {
            "_view_name": "LayoutView",
            "grid_template_rows": null,
            "right": null,
            "justify_content": null,
            "_view_module": "@jupyter-widgets/base",
            "overflow": null,
            "_model_module_version": "1.2.0",
            "_view_count": null,
            "flex_flow": null,
            "width": null,
            "min_width": null,
            "border": null,
            "align_items": null,
            "bottom": null,
            "_model_module": "@jupyter-widgets/base",
            "top": null,
            "grid_column": null,
            "overflow_y": null,
            "overflow_x": null,
            "grid_auto_flow": null,
            "grid_area": null,
            "grid_template_columns": null,
            "flex": null,
            "_model_name": "LayoutModel",
            "justify_items": null,
            "grid_row": null,
            "max_height": null,
            "align_content": null,
            "visibility": null,
            "align_self": null,
            "height": null,
            "min_height": null,
            "padding": null,
            "grid_auto_rows": null,
            "grid_gap": null,
            "max_width": null,
            "order": null,
            "_view_module_version": "1.2.0",
            "grid_template_areas": null,
            "object_position": null,
            "object_fit": null,
            "grid_auto_columns": null,
            "margin": null,
            "display": null,
            "left": null
          }
        },
        "09bd80170e9d46e59292b0a246da7b97": {
          "model_module": "@jupyter-widgets/controls",
          "model_name": "DescriptionStyleModel",
          "state": {
            "_view_name": "StyleView",
            "_model_name": "DescriptionStyleModel",
            "description_width": "",
            "_view_module": "@jupyter-widgets/base",
            "_model_module_version": "1.5.0",
            "_view_count": null,
            "_view_module_version": "1.2.0",
            "_model_module": "@jupyter-widgets/controls"
          }
        },
        "a7dfdd9d4fde4dfc9a4bc001439e39f4": {
          "model_module": "@jupyter-widgets/base",
          "model_name": "LayoutModel",
          "state": {
            "_view_name": "LayoutView",
            "grid_template_rows": null,
            "right": null,
            "justify_content": null,
            "_view_module": "@jupyter-widgets/base",
            "overflow": null,
            "_model_module_version": "1.2.0",
            "_view_count": null,
            "flex_flow": null,
            "width": null,
            "min_width": null,
            "border": null,
            "align_items": null,
            "bottom": null,
            "_model_module": "@jupyter-widgets/base",
            "top": null,
            "grid_column": null,
            "overflow_y": null,
            "overflow_x": null,
            "grid_auto_flow": null,
            "grid_area": null,
            "grid_template_columns": null,
            "flex": null,
            "_model_name": "LayoutModel",
            "justify_items": null,
            "grid_row": null,
            "max_height": null,
            "align_content": null,
            "visibility": null,
            "align_self": null,
            "height": null,
            "min_height": null,
            "padding": null,
            "grid_auto_rows": null,
            "grid_gap": null,
            "max_width": null,
            "order": null,
            "_view_module_version": "1.2.0",
            "grid_template_areas": null,
            "object_position": null,
            "object_fit": null,
            "grid_auto_columns": null,
            "margin": null,
            "display": null,
            "left": null
          }
        },
        "14ecb32b78224b869e44634c7fbc483b": {
          "model_module": "@jupyter-widgets/controls",
          "model_name": "HBoxModel",
          "state": {
            "_view_name": "HBoxView",
            "_dom_classes": [],
            "_model_name": "HBoxModel",
            "_view_module": "@jupyter-widgets/controls",
            "_model_module_version": "1.5.0",
            "_view_count": null,
            "_view_module_version": "1.5.0",
            "box_style": "",
            "layout": "IPY_MODEL_e7c8815a992442348dd11c473101ee84",
            "_model_module": "@jupyter-widgets/controls",
            "children": [
              "IPY_MODEL_3cb2e07d1cc6409a8be6e4f69d1f34d6",
              "IPY_MODEL_751ba5f6e0584f01945d2be1385d81bb"
            ]
          }
        },
        "e7c8815a992442348dd11c473101ee84": {
          "model_module": "@jupyter-widgets/base",
          "model_name": "LayoutModel",
          "state": {
            "_view_name": "LayoutView",
            "grid_template_rows": null,
            "right": null,
            "justify_content": null,
            "_view_module": "@jupyter-widgets/base",
            "overflow": null,
            "_model_module_version": "1.2.0",
            "_view_count": null,
            "flex_flow": null,
            "width": null,
            "min_width": null,
            "border": null,
            "align_items": null,
            "bottom": null,
            "_model_module": "@jupyter-widgets/base",
            "top": null,
            "grid_column": null,
            "overflow_y": null,
            "overflow_x": null,
            "grid_auto_flow": null,
            "grid_area": null,
            "grid_template_columns": null,
            "flex": null,
            "_model_name": "LayoutModel",
            "justify_items": null,
            "grid_row": null,
            "max_height": null,
            "align_content": null,
            "visibility": null,
            "align_self": null,
            "height": null,
            "min_height": null,
            "padding": null,
            "grid_auto_rows": null,
            "grid_gap": null,
            "max_width": null,
            "order": null,
            "_view_module_version": "1.2.0",
            "grid_template_areas": null,
            "object_position": null,
            "object_fit": null,
            "grid_auto_columns": null,
            "margin": null,
            "display": null,
            "left": null
          }
        },
        "3cb2e07d1cc6409a8be6e4f69d1f34d6": {
          "model_module": "@jupyter-widgets/controls",
          "model_name": "FloatProgressModel",
          "state": {
            "_view_name": "ProgressView",
            "style": "IPY_MODEL_45e61c1af6774293949c205962789658",
            "_dom_classes": [],
            "description": "100%",
            "_model_name": "FloatProgressModel",
            "bar_style": "success",
            "max": 10,
            "_view_module": "@jupyter-widgets/controls",
            "_model_module_version": "1.5.0",
            "value": 10,
            "_view_count": null,
            "_view_module_version": "1.5.0",
            "orientation": "horizontal",
            "min": 0,
            "description_tooltip": null,
            "_model_module": "@jupyter-widgets/controls",
            "layout": "IPY_MODEL_b24255ab104340ebaece6ad0de6c158e"
          }
        },
        "751ba5f6e0584f01945d2be1385d81bb": {
          "model_module": "@jupyter-widgets/controls",
          "model_name": "HTMLModel",
          "state": {
            "_view_name": "HTMLView",
            "style": "IPY_MODEL_f4ffda0ec24c40b0a8a57fa83560d278",
            "_dom_classes": [],
            "description": "",
            "_model_name": "HTMLModel",
            "placeholder": "​",
            "_view_module": "@jupyter-widgets/controls",
            "_model_module_version": "1.5.0",
            "value": " 10/10 [12:09&lt;00:00, 72.97s/it]",
            "_view_count": null,
            "_view_module_version": "1.5.0",
            "description_tooltip": null,
            "_model_module": "@jupyter-widgets/controls",
            "layout": "IPY_MODEL_3c507e44fecf469386f7c0545a430bbe"
          }
        },
        "45e61c1af6774293949c205962789658": {
          "model_module": "@jupyter-widgets/controls",
          "model_name": "ProgressStyleModel",
          "state": {
            "_view_name": "StyleView",
            "_model_name": "ProgressStyleModel",
            "description_width": "initial",
            "_view_module": "@jupyter-widgets/base",
            "_model_module_version": "1.5.0",
            "_view_count": null,
            "_view_module_version": "1.2.0",
            "bar_color": null,
            "_model_module": "@jupyter-widgets/controls"
          }
        },
        "b24255ab104340ebaece6ad0de6c158e": {
          "model_module": "@jupyter-widgets/base",
          "model_name": "LayoutModel",
          "state": {
            "_view_name": "LayoutView",
            "grid_template_rows": null,
            "right": null,
            "justify_content": null,
            "_view_module": "@jupyter-widgets/base",
            "overflow": null,
            "_model_module_version": "1.2.0",
            "_view_count": null,
            "flex_flow": null,
            "width": null,
            "min_width": null,
            "border": null,
            "align_items": null,
            "bottom": null,
            "_model_module": "@jupyter-widgets/base",
            "top": null,
            "grid_column": null,
            "overflow_y": null,
            "overflow_x": null,
            "grid_auto_flow": null,
            "grid_area": null,
            "grid_template_columns": null,
            "flex": null,
            "_model_name": "LayoutModel",
            "justify_items": null,
            "grid_row": null,
            "max_height": null,
            "align_content": null,
            "visibility": null,
            "align_self": null,
            "height": null,
            "min_height": null,
            "padding": null,
            "grid_auto_rows": null,
            "grid_gap": null,
            "max_width": null,
            "order": null,
            "_view_module_version": "1.2.0",
            "grid_template_areas": null,
            "object_position": null,
            "object_fit": null,
            "grid_auto_columns": null,
            "margin": null,
            "display": null,
            "left": null
          }
        },
        "f4ffda0ec24c40b0a8a57fa83560d278": {
          "model_module": "@jupyter-widgets/controls",
          "model_name": "DescriptionStyleModel",
          "state": {
            "_view_name": "StyleView",
            "_model_name": "DescriptionStyleModel",
            "description_width": "",
            "_view_module": "@jupyter-widgets/base",
            "_model_module_version": "1.5.0",
            "_view_count": null,
            "_view_module_version": "1.2.0",
            "_model_module": "@jupyter-widgets/controls"
          }
        },
        "3c507e44fecf469386f7c0545a430bbe": {
          "model_module": "@jupyter-widgets/base",
          "model_name": "LayoutModel",
          "state": {
            "_view_name": "LayoutView",
            "grid_template_rows": null,
            "right": null,
            "justify_content": null,
            "_view_module": "@jupyter-widgets/base",
            "overflow": null,
            "_model_module_version": "1.2.0",
            "_view_count": null,
            "flex_flow": null,
            "width": null,
            "min_width": null,
            "border": null,
            "align_items": null,
            "bottom": null,
            "_model_module": "@jupyter-widgets/base",
            "top": null,
            "grid_column": null,
            "overflow_y": null,
            "overflow_x": null,
            "grid_auto_flow": null,
            "grid_area": null,
            "grid_template_columns": null,
            "flex": null,
            "_model_name": "LayoutModel",
            "justify_items": null,
            "grid_row": null,
            "max_height": null,
            "align_content": null,
            "visibility": null,
            "align_self": null,
            "height": null,
            "min_height": null,
            "padding": null,
            "grid_auto_rows": null,
            "grid_gap": null,
            "max_width": null,
            "order": null,
            "_view_module_version": "1.2.0",
            "grid_template_areas": null,
            "object_position": null,
            "object_fit": null,
            "grid_auto_columns": null,
            "margin": null,
            "display": null,
            "left": null
          }
        },
        "8ace2e35937f4e7b8b6ecb781eb18e8c": {
          "model_module": "@jupyter-widgets/controls",
          "model_name": "HBoxModel",
          "state": {
            "_view_name": "HBoxView",
            "_dom_classes": [],
            "_model_name": "HBoxModel",
            "_view_module": "@jupyter-widgets/controls",
            "_model_module_version": "1.5.0",
            "_view_count": null,
            "_view_module_version": "1.5.0",
            "box_style": "",
            "layout": "IPY_MODEL_2ca95e326c0940a79496702166931e54",
            "_model_module": "@jupyter-widgets/controls",
            "children": [
              "IPY_MODEL_a858d2af342147449fbb15aa4aeb94e5",
              "IPY_MODEL_e475e9578f1b4691811c4a8263a5da70"
            ]
          }
        },
        "2ca95e326c0940a79496702166931e54": {
          "model_module": "@jupyter-widgets/base",
          "model_name": "LayoutModel",
          "state": {
            "_view_name": "LayoutView",
            "grid_template_rows": null,
            "right": null,
            "justify_content": null,
            "_view_module": "@jupyter-widgets/base",
            "overflow": null,
            "_model_module_version": "1.2.0",
            "_view_count": null,
            "flex_flow": null,
            "width": null,
            "min_width": null,
            "border": null,
            "align_items": null,
            "bottom": null,
            "_model_module": "@jupyter-widgets/base",
            "top": null,
            "grid_column": null,
            "overflow_y": null,
            "overflow_x": null,
            "grid_auto_flow": null,
            "grid_area": null,
            "grid_template_columns": null,
            "flex": null,
            "_model_name": "LayoutModel",
            "justify_items": null,
            "grid_row": null,
            "max_height": null,
            "align_content": null,
            "visibility": null,
            "align_self": null,
            "height": null,
            "min_height": null,
            "padding": null,
            "grid_auto_rows": null,
            "grid_gap": null,
            "max_width": null,
            "order": null,
            "_view_module_version": "1.2.0",
            "grid_template_areas": null,
            "object_position": null,
            "object_fit": null,
            "grid_auto_columns": null,
            "margin": null,
            "display": null,
            "left": null
          }
        },
        "a858d2af342147449fbb15aa4aeb94e5": {
          "model_module": "@jupyter-widgets/controls",
          "model_name": "FloatProgressModel",
          "state": {
            "_view_name": "ProgressView",
            "style": "IPY_MODEL_b3ef5a8578514b4f812de757b9f69382",
            "_dom_classes": [],
            "description": "100%",
            "_model_name": "FloatProgressModel",
            "bar_style": "success",
            "max": 10,
            "_view_module": "@jupyter-widgets/controls",
            "_model_module_version": "1.5.0",
            "value": 10,
            "_view_count": null,
            "_view_module_version": "1.5.0",
            "orientation": "horizontal",
            "min": 0,
            "description_tooltip": null,
            "_model_module": "@jupyter-widgets/controls",
            "layout": "IPY_MODEL_306f1709b2554373b6b641394f6eccbf"
          }
        },
        "e475e9578f1b4691811c4a8263a5da70": {
          "model_module": "@jupyter-widgets/controls",
          "model_name": "HTMLModel",
          "state": {
            "_view_name": "HTMLView",
            "style": "IPY_MODEL_3c3729344fad403c89263a582c8a6616",
            "_dom_classes": [],
            "description": "",
            "_model_name": "HTMLModel",
            "placeholder": "​",
            "_view_module": "@jupyter-widgets/controls",
            "_model_module_version": "1.5.0",
            "value": " 10/10 [07:00&lt;00:00, 42.04s/it]",
            "_view_count": null,
            "_view_module_version": "1.5.0",
            "description_tooltip": null,
            "_model_module": "@jupyter-widgets/controls",
            "layout": "IPY_MODEL_2edaccdb66284f5f9541f637fd97675a"
          }
        },
        "b3ef5a8578514b4f812de757b9f69382": {
          "model_module": "@jupyter-widgets/controls",
          "model_name": "ProgressStyleModel",
          "state": {
            "_view_name": "StyleView",
            "_model_name": "ProgressStyleModel",
            "description_width": "initial",
            "_view_module": "@jupyter-widgets/base",
            "_model_module_version": "1.5.0",
            "_view_count": null,
            "_view_module_version": "1.2.0",
            "bar_color": null,
            "_model_module": "@jupyter-widgets/controls"
          }
        },
        "306f1709b2554373b6b641394f6eccbf": {
          "model_module": "@jupyter-widgets/base",
          "model_name": "LayoutModel",
          "state": {
            "_view_name": "LayoutView",
            "grid_template_rows": null,
            "right": null,
            "justify_content": null,
            "_view_module": "@jupyter-widgets/base",
            "overflow": null,
            "_model_module_version": "1.2.0",
            "_view_count": null,
            "flex_flow": null,
            "width": null,
            "min_width": null,
            "border": null,
            "align_items": null,
            "bottom": null,
            "_model_module": "@jupyter-widgets/base",
            "top": null,
            "grid_column": null,
            "overflow_y": null,
            "overflow_x": null,
            "grid_auto_flow": null,
            "grid_area": null,
            "grid_template_columns": null,
            "flex": null,
            "_model_name": "LayoutModel",
            "justify_items": null,
            "grid_row": null,
            "max_height": null,
            "align_content": null,
            "visibility": null,
            "align_self": null,
            "height": null,
            "min_height": null,
            "padding": null,
            "grid_auto_rows": null,
            "grid_gap": null,
            "max_width": null,
            "order": null,
            "_view_module_version": "1.2.0",
            "grid_template_areas": null,
            "object_position": null,
            "object_fit": null,
            "grid_auto_columns": null,
            "margin": null,
            "display": null,
            "left": null
          }
        },
        "3c3729344fad403c89263a582c8a6616": {
          "model_module": "@jupyter-widgets/controls",
          "model_name": "DescriptionStyleModel",
          "state": {
            "_view_name": "StyleView",
            "_model_name": "DescriptionStyleModel",
            "description_width": "",
            "_view_module": "@jupyter-widgets/base",
            "_model_module_version": "1.5.0",
            "_view_count": null,
            "_view_module_version": "1.2.0",
            "_model_module": "@jupyter-widgets/controls"
          }
        },
        "2edaccdb66284f5f9541f637fd97675a": {
          "model_module": "@jupyter-widgets/base",
          "model_name": "LayoutModel",
          "state": {
            "_view_name": "LayoutView",
            "grid_template_rows": null,
            "right": null,
            "justify_content": null,
            "_view_module": "@jupyter-widgets/base",
            "overflow": null,
            "_model_module_version": "1.2.0",
            "_view_count": null,
            "flex_flow": null,
            "width": null,
            "min_width": null,
            "border": null,
            "align_items": null,
            "bottom": null,
            "_model_module": "@jupyter-widgets/base",
            "top": null,
            "grid_column": null,
            "overflow_y": null,
            "overflow_x": null,
            "grid_auto_flow": null,
            "grid_area": null,
            "grid_template_columns": null,
            "flex": null,
            "_model_name": "LayoutModel",
            "justify_items": null,
            "grid_row": null,
            "max_height": null,
            "align_content": null,
            "visibility": null,
            "align_self": null,
            "height": null,
            "min_height": null,
            "padding": null,
            "grid_auto_rows": null,
            "grid_gap": null,
            "max_width": null,
            "order": null,
            "_view_module_version": "1.2.0",
            "grid_template_areas": null,
            "object_position": null,
            "object_fit": null,
            "grid_auto_columns": null,
            "margin": null,
            "display": null,
            "left": null
          }
        }
      }
    }
  },
  "cells": [
    {
      "cell_type": "code",
      "metadata": {
        "id": "4YlP0eEX9GDw"
      },
      "source": [
        "# загружаем данные\n",
        "\n",
        "!pip3 install -U -q kaggle\n",
        "!mkdir -p ~/.kaggle"
      ],
      "execution_count": 1,
      "outputs": []
    },
    {
      "cell_type": "code",
      "metadata": {
        "id": "RRL0Gud99aLp"
      },
      "source": [
        "from google.colab import files\n",
        "from IPython.display import clear_output\n",
        "files.upload()\n",
        "clear_output()"
      ],
      "execution_count": 2,
      "outputs": []
    },
    {
      "cell_type": "code",
      "metadata": {
        "id": "9wkS9err9cJ1"
      },
      "source": [
        "!pip install pycodestyle pycodestyle_magic\n",
        "!pip install flake8\n",
        "clear_output()"
      ],
      "execution_count": 3,
      "outputs": []
    },
    {
      "cell_type": "code",
      "metadata": {
        "id": "NtgR4mA09gBV"
      },
      "source": [
        "%load_ext pycodestyle_magic"
      ],
      "execution_count": 4,
      "outputs": []
    },
    {
      "cell_type": "code",
      "metadata": {
        "id": "IeqEJxOS9h0n"
      },
      "source": [
        "!chmod 600 kaggle.json"
      ],
      "execution_count": 5,
      "outputs": []
    },
    {
      "cell_type": "code",
      "metadata": {
        "id": "IPCoSoi39jLs"
      },
      "source": [
        "!cp kaggle.json ~/.kaggle/"
      ],
      "execution_count": 6,
      "outputs": []
    },
    {
      "cell_type": "code",
      "metadata": {
        "colab": {
          "base_uri": "https://localhost:8080/"
        },
        "id": "m87nv1bE9kqp",
        "outputId": "031f11a1-a721-4363-c5c8-3570c314744c"
      },
      "source": [
        "!kaggle datasets download -d ajayrana/hymenoptera-data"
      ],
      "execution_count": 7,
      "outputs": [
        {
          "output_type": "stream",
          "text": [
            "Downloading hymenoptera-data.zip to /content\n",
            " 91% 82.0M/90.2M [00:01<00:00, 85.3MB/s]\n",
            "100% 90.2M/90.2M [00:01<00:00, 77.7MB/s]\n"
          ],
          "name": "stdout"
        }
      ]
    },
    {
      "cell_type": "code",
      "metadata": {
        "id": "KyPE0UbF96aK"
      },
      "source": [
        "!unzip hymenoptera-data.zip\n",
        "clear_output()"
      ],
      "execution_count": 8,
      "outputs": []
    },
    {
      "cell_type": "code",
      "metadata": {
        "id": "K-QoWwiCAzvR"
      },
      "source": [
        "# Я так и не поняла, зачем датасет содержит в себе помимо директорий train и val\n",
        "# ещё и директорию hymenoptera_data, в которой лежат абсолютно идентичные\n",
        "# директории train и val. Но я проверила – они действительно полностью одинаковые,\n",
        "# поэтому директорию hymenoptera_data со всем содержимым можно спокойно удалять.\n",
        "\n",
        "!rm hymenoptera-data.zip\n",
        "!rm -r hymenoptera_data/hymenoptera_data"
      ],
      "execution_count": 9,
      "outputs": []
    },
    {
      "cell_type": "code",
      "metadata": {
        "id": "g7CMWILo9_4v"
      },
      "source": [
        "import PIL\n",
        "import time\n",
        "import torch\n",
        "import numpy as np\n",
        "import matplotlib.pyplot as plt\n",
        "import torch.backends.cudnn as cudnn\n",
        "from itertools import chain\n",
        "from tqdm.notebook import tqdm\n",
        "from sklearn.metrics import classification_report\n",
        "from torchvision import datasets, models, transforms\n",
        "\n",
        "%matplotlib inline"
      ],
      "execution_count": 55,
      "outputs": []
    },
    {
      "cell_type": "code",
      "metadata": {
        "id": "TvshtyevMtNc"
      },
      "source": [
        "torch.manual_seed(42)\n",
        "np.random.seed(42)\n",
        "clear_output()"
      ],
      "execution_count": 11,
      "outputs": []
    },
    {
      "cell_type": "markdown",
      "metadata": {
        "id": "QwYOFuvEEm5L"
      },
      "source": [
        "# Данные и препроцессинг\n",
        "В этот раз все изображения разного размера, поэтому перед обучением моделей необходимо привести их к единому размеру. Найдём среднюю длину стороны изображения во всём датасете и обрежем с помощью transforms.RandomCrop с аргументом pad_if_needed=True все изображения до квадрата с такой длиной стороны."
      ]
    },
    {
      "cell_type": "code",
      "metadata": {
        "id": "ahXCvLA5fT2B"
      },
      "source": [
        "hymenoptera_train = datasets.ImageFolder('hymenoptera_data/train',\n",
        "                                         transform=transforms.ToTensor())\n",
        "\n",
        "hymenoptera_val = datasets.ImageFolder('hymenoptera_data/val',\n",
        "                                       transform=transforms.ToTensor())"
      ],
      "execution_count": 12,
      "outputs": []
    },
    {
      "cell_type": "code",
      "metadata": {
        "colab": {
          "base_uri": "https://localhost:8080/"
        },
        "id": "BBFdsg9TfXAX",
        "outputId": "de96cbe9-3e50-482f-97a4-5ed1cb6ca25b"
      },
      "source": [
        "lenghts_train = list(chain.from_iterable([img[0][0].numpy().shape[1:]\n",
        "                                          for img in hymenoptera_train]))\n",
        "\n",
        "lenghts_val = list(chain.from_iterable([img[0][0].numpy().shape[1:]\n",
        "                                        for img in hymenoptera_val]))\n",
        "\n",
        "np.mean(lenghts_train + lenghts_val)"
      ],
      "execution_count": 13,
      "outputs": [
        {
          "output_type": "execute_result",
          "data": {
            "text/plain": [
              "490.90931989924434"
            ]
          },
          "metadata": {
            "tags": []
          },
          "execution_count": 13
        }
      ]
    },
    {
      "cell_type": "markdown",
      "metadata": {
        "id": "WfZT_PMgf31R"
      },
      "source": [
        "Округлим до 500."
      ]
    },
    {
      "cell_type": "code",
      "metadata": {
        "id": "Mhcpydv0f7EK"
      },
      "source": [
        "transform = transforms.Compose([transforms.RandomCrop(500, pad_if_needed=True,\n",
        "                                                      padding_mode='reflect'),\n",
        "                                transforms.ToTensor()])"
      ],
      "execution_count": 14,
      "outputs": []
    },
    {
      "cell_type": "markdown",
      "metadata": {
        "id": "PMOq0L5hg7GF"
      },
      "source": [
        "Теперь составим новый датасет с необходимыми трансформациями."
      ]
    },
    {
      "cell_type": "code",
      "metadata": {
        "id": "1GlKoKY9AIAO"
      },
      "source": [
        "hymenoptera_train = datasets.ImageFolder('hymenoptera_data/train',\n",
        "                                         transform=transform)\n",
        "\n",
        "hymenoptera_val = datasets.ImageFolder('hymenoptera_data/val',\n",
        "                                       transform=transform)\n",
        "\n",
        "# поскольку в этот раз обучать придётся много моделей, для удобства объединим\n",
        "# загрузчики для обучающей и валидационной выборки в один словарь\n",
        "\n",
        "# так как в директориях train и val изображения сгруппированы по классам,\n",
        "# перед обучением нейросети их обязательно нужно перемешать\n",
        "\n",
        "# делать batch_size больше 8 не имеет смысла – во-первых, сам датасет небольшой\n",
        "# (244 изображения в обучающей выборке и 153 в валидационной),\n",
        "# во-вторых, чем больше batch_size, тем дольше будет обучаться нейросеть\n",
        "# (а нам нужно обучить на этом датасете как минимум 6 моделей)\n",
        "\n",
        "loader = {'train': torch.utils.data.DataLoader(hymenoptera_train, batch_size=8,\n",
        "                                               shuffle=True, num_workers=4),\n",
        "          'val': torch.utils.data.DataLoader(hymenoptera_val, batch_size=8,\n",
        "                                             shuffle=True, num_workers=4)}\n",
        "\n",
        "clear_output()"
      ],
      "execution_count": 15,
      "outputs": []
    },
    {
      "cell_type": "code",
      "metadata": {
        "colab": {
          "base_uri": "https://localhost:8080/"
        },
        "id": "ESliqgi0LB_y",
        "outputId": "c9fe9a02-7033-441d-950d-cbcf35a4e13d"
      },
      "source": [
        "hymenoptera_train"
      ],
      "execution_count": 16,
      "outputs": [
        {
          "output_type": "execute_result",
          "data": {
            "text/plain": [
              "Dataset ImageFolder\n",
              "    Number of datapoints: 244\n",
              "    Root location: hymenoptera_data/train\n",
              "    StandardTransform\n",
              "Transform: Compose(\n",
              "               RandomCrop(size=(500, 500), padding=None)\n",
              "               ToTensor()\n",
              "           )"
            ]
          },
          "metadata": {
            "tags": []
          },
          "execution_count": 16
        }
      ]
    },
    {
      "cell_type": "code",
      "metadata": {
        "colab": {
          "base_uri": "https://localhost:8080/"
        },
        "id": "SI_0j3L0NQ3E",
        "outputId": "ea480891-ec15-4465-ae22-20e96a18160c"
      },
      "source": [
        "hymenoptera_val"
      ],
      "execution_count": 17,
      "outputs": [
        {
          "output_type": "execute_result",
          "data": {
            "text/plain": [
              "Dataset ImageFolder\n",
              "    Number of datapoints: 153\n",
              "    Root location: hymenoptera_data/val\n",
              "    StandardTransform\n",
              "Transform: Compose(\n",
              "               RandomCrop(size=(500, 500), padding=None)\n",
              "               ToTensor()\n",
              "           )"
            ]
          },
          "metadata": {
            "tags": []
          },
          "execution_count": 17
        }
      ]
    },
    {
      "cell_type": "code",
      "metadata": {
        "colab": {
          "base_uri": "https://localhost:8080/",
          "height": 286
        },
        "id": "6X6BEbhmNTY5",
        "outputId": "0b681505-dc96-4945-ce91-c3e1bd97ea8a"
      },
      "source": [
        "plt.imshow(hymenoptera_train[0][0].numpy().transpose(2, 1, 0))"
      ],
      "execution_count": 18,
      "outputs": [
        {
          "output_type": "execute_result",
          "data": {
            "text/plain": [
              "<matplotlib.image.AxesImage at 0x7fee294776a0>"
            ]
          },
          "metadata": {
            "tags": []
          },
          "execution_count": 18
        },
        {
          "output_type": "display_data",
          "data": {
            "image/png": "[encoded data removed]",
            "text/plain": [
              "<Figure size 432x288 with 1 Axes>"
            ]
          },
          "metadata": {
            "tags": [],
            "needs_background": "light"
          }
        }
      ]
    },
    {
      "cell_type": "code",
      "metadata": {
        "colab": {
          "base_uri": "https://localhost:8080/",
          "height": 286
        },
        "id": "9goSL6b-NqR5",
        "outputId": "db1c8b6c-9270-4ea0-e657-3bc3675213ab"
      },
      "source": [
        "plt.imshow(hymenoptera_val[0][0].numpy().transpose(2, 1, 0))"
      ],
      "execution_count": 19,
      "outputs": [
        {
          "output_type": "execute_result",
          "data": {
            "text/plain": [
              "<matplotlib.image.AxesImage at 0x7fee27745860>"
            ]
          },
          "metadata": {
            "tags": []
          },
          "execution_count": 19
        },
        {
          "output_type": "display_data",
          "data": {
            "image/png": "[encoded data removed]",
            "text/plain": [
              "<Figure size 432x288 with 1 Axes>"
            ]
          },
          "metadata": {
            "tags": [],
            "needs_background": "light"
          }
        }
      ]
    },
    {
      "cell_type": "markdown",
      "metadata": {
        "id": "HqwzQM5SPRW6"
      },
      "source": [
        "# Обучение\n",
        "Напишем функцию train_model."
      ]
    },
    {
      "cell_type": "code",
      "metadata": {
        "id": "fFq-s5axP66p"
      },
      "source": [
        "def train_model(model, loader, criterion, optimizer, n_epochs):\n",
        "    for epoch in tqdm(range(1, n_epochs + 1)):\n",
        "        start = time.time()\n",
        "        losses = []\n",
        "        accuracies = []\n",
        "        for mode in ['train', 'val']:\n",
        "            if mode == 'train':\n",
        "                model.train()\n",
        "            else:\n",
        "                model.eval()\n",
        "            curr_loss, curr_acc = 0.0, 0.0\n",
        "            for X, y in loader[mode]:\n",
        "                X, y = X.cuda(), y.cuda()\n",
        "                with torch.set_grad_enabled(mode == 'train'):\n",
        "                    y_pred = model(X)\n",
        "                loss = criterion(y_pred, y)\n",
        "                curr_loss += loss.item()\n",
        "                curr_acc += (y_pred.argmax(dim=1) == y).sum().item()\n",
        "                if mode == 'train':\n",
        "                    optimizer.zero_grad()\n",
        "                    loss.backward()\n",
        "                    optimizer.step()\n",
        "            losses.append(curr_loss / len(loader[mode]))\n",
        "            accuracies.append(curr_acc / len(loader[mode].dataset))\n",
        "        stats = \"\"\"\n",
        "        Epoch: {}, time: {:.1f}s\n",
        "        train_loss: {:.3f}, train_acc: {:.3f}\n",
        "        val_loss: {:.3f}, val_acc: {:.3f}\n",
        "        \"\"\".format(epoch, time.time() - start, losses[0], accuracies[0],\n",
        "                   losses[1], accuracies[1])\n",
        "        print(stats)\n",
        "    print(f'Final validation loss: {losses[1]:.3f}')\n",
        "    print(f'Final validation accuracy: {accuracies[1]:.3f}')\n",
        "    return model"
      ],
      "execution_count": 20,
      "outputs": []
    },
    {
      "cell_type": "markdown",
      "metadata": {
        "id": "cztlQ3AQOW0M"
      },
      "source": [
        "## ResNet 18 и VGG 16 с нуля\n",
        "### ResNet 18"
      ]
    },
    {
      "cell_type": "code",
      "metadata": {
        "id": "Ap4mmlxaOEPA"
      },
      "source": [
        "model = models.resnet18()\n",
        "model = model.cuda()"
      ],
      "execution_count": 21,
      "outputs": []
    },
    {
      "cell_type": "code",
      "metadata": {
        "id": "Rj5W0PC6bakA"
      },
      "source": [
        "criterion = torch.nn.CrossEntropyLoss()\n",
        "optimizer = torch.optim.Adam(model.parameters(), lr=0.001)"
      ],
      "execution_count": 22,
      "outputs": []
    },
    {
      "cell_type": "code",
      "metadata": {
        "colab": {
          "base_uri": "https://localhost:8080/",
          "height": 950,
          "referenced_widgets": [
            "9ae4c3c7a793440cbae5494b35b93a16",
            "05b888445c974bceb85c1c95240f71c7",
            "c7c82fc5f3d04c238d00f89d3f6da95e",
            "30318ad99ab2489385a8abd7ebcae6d3",
            "7856f7ed2b654b6bb786600fae2be523",
            "7bcf757627bb4cf98e1e3eb9af0cf86a",
            "d8144075e1ee4601a78ed2663a149e8f",
            "4afbcad810c845caaf1acecb1dfa5c57"
          ]
        },
        "id": "bmI6yoh3bfPf",
        "outputId": "58936d75-98a4-423f-80db-5835ab169289"
      },
      "source": [
        "model = train_model(model, loader, criterion, optimizer, 10)"
      ],
      "execution_count": 23,
      "outputs": [
        {
          "output_type": "display_data",
          "data": {
            "application/vnd.jupyter.widget-view+json": {
              "model_id": "9ae4c3c7a793440cbae5494b35b93a16",
              "version_minor": 0,
              "version_major": 2
            },
            "text/plain": [
              "HBox(children=(FloatProgress(value=0.0, max=10.0), HTML(value='')))"
            ]
          },
          "metadata": {
            "tags": []
          }
        },
        {
          "output_type": "stream",
          "text": [
            "\n",
            "        Epoch: 1, time: 6.6s\n",
            "        train_loss: 1.781, train_acc: 0.516\n",
            "        val_loss: 0.789, val_acc: 0.569\n",
            "        \n",
            "\n",
            "        Epoch: 2, time: 6.5s\n",
            "        train_loss: 0.794, train_acc: 0.553\n",
            "        val_loss: 0.708, val_acc: 0.595\n",
            "        \n",
            "\n",
            "        Epoch: 3, time: 6.5s\n",
            "        train_loss: 0.692, train_acc: 0.607\n",
            "        val_loss: 0.675, val_acc: 0.595\n",
            "        \n",
            "\n",
            "        Epoch: 4, time: 6.6s\n",
            "        train_loss: 0.695, train_acc: 0.602\n",
            "        val_loss: 0.890, val_acc: 0.542\n",
            "        \n",
            "\n",
            "        Epoch: 5, time: 6.6s\n",
            "        train_loss: 0.679, train_acc: 0.611\n",
            "        val_loss: 0.767, val_acc: 0.621\n",
            "        \n",
            "\n",
            "        Epoch: 6, time: 6.5s\n",
            "        train_loss: 0.668, train_acc: 0.631\n",
            "        val_loss: 0.745, val_acc: 0.627\n",
            "        \n",
            "\n",
            "        Epoch: 7, time: 6.5s\n",
            "        train_loss: 0.710, train_acc: 0.553\n",
            "        val_loss: 0.828, val_acc: 0.484\n",
            "        \n",
            "\n",
            "        Epoch: 8, time: 6.7s\n",
            "        train_loss: 0.657, train_acc: 0.619\n",
            "        val_loss: 0.749, val_acc: 0.575\n",
            "        \n",
            "\n",
            "        Epoch: 9, time: 6.8s\n",
            "        train_loss: 0.687, train_acc: 0.619\n",
            "        val_loss: 0.677, val_acc: 0.595\n",
            "        \n",
            "\n",
            "        Epoch: 10, time: 6.8s\n",
            "        train_loss: 0.713, train_acc: 0.553\n",
            "        val_loss: 0.802, val_acc: 0.549\n",
            "        \n",
            "\n",
            "Final validation loss: 0.802\n",
            "Final validation accuracy: 0.549\n"
          ],
          "name": "stdout"
        }
      ]
    },
    {
      "cell_type": "markdown",
      "metadata": {
        "id": "qhu2PhYts80X"
      },
      "source": [
        "Финальная accuracy после 10 эпох – 0.549. Мало."
      ]
    },
    {
      "cell_type": "markdown",
      "metadata": {
        "id": "KmEWlfw7Qqj-"
      },
      "source": [
        "### VGG 16"
      ]
    },
    {
      "cell_type": "code",
      "metadata": {
        "id": "xOn0OwsTQs0k"
      },
      "source": [
        "model = models.vgg16()\n",
        "model = model.cuda()"
      ],
      "execution_count": 24,
      "outputs": []
    },
    {
      "cell_type": "code",
      "metadata": {
        "id": "_jb380pMtVOr"
      },
      "source": [
        "criterion = torch.nn.CrossEntropyLoss()\n",
        "optimizer = torch.optim.Adam(model.parameters(), lr=0.001)"
      ],
      "execution_count": 25,
      "outputs": []
    },
    {
      "cell_type": "code",
      "metadata": {
        "colab": {
          "base_uri": "https://localhost:8080/",
          "height": 950,
          "referenced_widgets": [
            "b69a89ad1d514a5391fbd80ff4c9c71e",
            "4d2bdd12592d4312a655c6755cfde11f",
            "608e2f1b690b4bc38cae439971c1c510",
            "0ecdc2c9252543159a1ac608a3a025f0",
            "bd8341343b7f4d458fe71c77522f2aa2",
            "381c621eeb01439f85f290d66d695b5a",
            "1fdb4720c0e2492dbed06d3cb2a78b4a",
            "5a647b89529946e38bc51af7095d5378"
          ]
        },
        "id": "C4krP5tvtXhW",
        "outputId": "9a7e77a3-fc28-44f9-aa42-0fca8c6bb1fc"
      },
      "source": [
        "model = train_model(model, loader, criterion, optimizer, 10)"
      ],
      "execution_count": 26,
      "outputs": [
        {
          "output_type": "display_data",
          "data": {
            "application/vnd.jupyter.widget-view+json": {
              "model_id": "b69a89ad1d514a5391fbd80ff4c9c71e",
              "version_minor": 0,
              "version_major": 2
            },
            "text/plain": [
              "HBox(children=(FloatProgress(value=0.0, max=10.0), HTML(value='')))"
            ]
          },
          "metadata": {
            "tags": []
          }
        },
        {
          "output_type": "stream",
          "text": [
            "\n",
            "        Epoch: 1, time: 29.0s\n",
            "        train_loss: 13.362, train_acc: 0.508\n",
            "        val_loss: 1.298, val_acc: 0.458\n",
            "        \n",
            "\n",
            "        Epoch: 2, time: 27.7s\n",
            "        train_loss: 0.772, train_acc: 0.455\n",
            "        val_loss: 0.819, val_acc: 0.458\n",
            "        \n",
            "\n",
            "        Epoch: 3, time: 27.6s\n",
            "        train_loss: 0.708, train_acc: 0.533\n",
            "        val_loss: 0.693, val_acc: 0.542\n",
            "        \n",
            "\n",
            "        Epoch: 4, time: 27.8s\n",
            "        train_loss: 0.727, train_acc: 0.529\n",
            "        val_loss: 0.710, val_acc: 0.458\n",
            "        \n",
            "\n",
            "        Epoch: 5, time: 28.0s\n",
            "        train_loss: 0.729, train_acc: 0.484\n",
            "        val_loss: 0.709, val_acc: 0.458\n",
            "        \n",
            "\n",
            "        Epoch: 6, time: 27.8s\n",
            "        train_loss: 0.711, train_acc: 0.459\n",
            "        val_loss: 0.686, val_acc: 0.542\n",
            "        \n",
            "\n",
            "        Epoch: 7, time: 27.9s\n",
            "        train_loss: 0.703, train_acc: 0.512\n",
            "        val_loss: 0.706, val_acc: 0.458\n",
            "        \n",
            "\n",
            "        Epoch: 8, time: 27.9s\n",
            "        train_loss: 0.713, train_acc: 0.443\n",
            "        val_loss: 0.694, val_acc: 0.458\n",
            "        \n",
            "\n",
            "        Epoch: 9, time: 27.8s\n",
            "        train_loss: 0.696, train_acc: 0.545\n",
            "        val_loss: 0.693, val_acc: 0.542\n",
            "        \n",
            "\n",
            "        Epoch: 10, time: 27.7s\n",
            "        train_loss: 0.722, train_acc: 0.471\n",
            "        val_loss: 0.719, val_acc: 0.458\n",
            "        \n",
            "\n",
            "Final validation loss: 0.719\n",
            "Final validation accuracy: 0.458\n"
          ],
          "name": "stdout"
        }
      ]
    },
    {
      "cell_type": "markdown",
      "metadata": {
        "id": "xWRIdAP03trt"
      },
      "source": [
        "Финальная accuracy после 10 эпох – 0.458. Ещё хуже. Пока что модели без fine tuning-а показывают очень плохие результаты."
      ]
    },
    {
      "cell_type": "markdown",
      "metadata": {
        "id": "I_1S7f68PD_M"
      },
      "source": [
        "## ResNet 18 и VGG 16 с FineTuning\n",
        "### ResNet 18"
      ]
    },
    {
      "cell_type": "code",
      "metadata": {
        "colab": {
          "base_uri": "https://localhost:8080/",
          "height": 103,
          "referenced_widgets": [
            "a3e79b06dcb14c97a744532b4c93e405",
            "3f63489c0ccb448c8a7a549faf463a62",
            "ee65efcf6c4148bd98ccb743c3919b25",
            "11f6a23fdaba433a8200e9e047087ac0",
            "621553bc404e4526b915b777dc542ddf",
            "7039e737c12d4188a4414b72a0b4c9bd",
            "f105f84f93ad438484a820badcea6d08",
            "2edc06aabfee424b94298fa73cfd5de3"
          ]
        },
        "id": "_IyfRX44PI5b",
        "outputId": "559be2a3-6124-49be-e0dd-ebea432db14e"
      },
      "source": [
        "model = models.resnet18(pretrained=True)\n",
        "model = model.cuda()"
      ],
      "execution_count": 27,
      "outputs": [
        {
          "output_type": "stream",
          "text": [
            "Downloading: \"https://download.pytorch.org/models/resnet18-5c106cde.pth\" to /root/.cache/torch/hub/checkpoints/resnet18-5c106cde.pth\n"
          ],
          "name": "stderr"
        },
        {
          "output_type": "display_data",
          "data": {
            "application/vnd.jupyter.widget-view+json": {
              "model_id": "a3e79b06dcb14c97a744532b4c93e405",
              "version_minor": 0,
              "version_major": 2
            },
            "text/plain": [
              "HBox(children=(FloatProgress(value=0.0, max=46827520.0), HTML(value='')))"
            ]
          },
          "metadata": {
            "tags": []
          }
        },
        {
          "output_type": "stream",
          "text": [
            "\n"
          ],
          "name": "stdout"
        }
      ]
    },
    {
      "cell_type": "code",
      "metadata": {
        "id": "befudjHn49zQ"
      },
      "source": [
        "criterion = torch.nn.CrossEntropyLoss()\n",
        "optimizer = torch.optim.Adam(model.parameters(), lr=0.001)"
      ],
      "execution_count": 28,
      "outputs": []
    },
    {
      "cell_type": "code",
      "metadata": {
        "colab": {
          "base_uri": "https://localhost:8080/",
          "height": 950,
          "referenced_widgets": [
            "a59bdf1219c148fbb99b53a82de518fc",
            "724a44df82614c00ac9a1239c8f0ee0b",
            "43ab10208adb4616bee55db0fc889a9a",
            "64f0078fe4684263b5a41595b772eea3",
            "b63c9afeae464e94bea3ed91d6bb086b",
            "6f80e3ddd07749928a5656175dd531ba",
            "0be89792975e4c43b93477f675a86985",
            "e668959039f546158d9e230c2a6e8aee"
          ]
        },
        "id": "VBgTrB2N5Ci4",
        "outputId": "f0cecb30-2d24-4a04-9795-978ebc9f8e6f"
      },
      "source": [
        "model = train_model(model, loader, criterion, optimizer, 10)"
      ],
      "execution_count": 29,
      "outputs": [
        {
          "output_type": "display_data",
          "data": {
            "application/vnd.jupyter.widget-view+json": {
              "model_id": "a59bdf1219c148fbb99b53a82de518fc",
              "version_minor": 0,
              "version_major": 2
            },
            "text/plain": [
              "HBox(children=(FloatProgress(value=0.0, max=10.0), HTML(value='')))"
            ]
          },
          "metadata": {
            "tags": []
          }
        },
        {
          "output_type": "stream",
          "text": [
            "\n",
            "        Epoch: 1, time: 7.1s\n",
            "        train_loss: 2.043, train_acc: 0.639\n",
            "        val_loss: 1.785, val_acc: 0.654\n",
            "        \n",
            "\n",
            "        Epoch: 2, time: 7.2s\n",
            "        train_loss: 0.768, train_acc: 0.520\n",
            "        val_loss: 0.768, val_acc: 0.699\n",
            "        \n",
            "\n",
            "        Epoch: 3, time: 7.0s\n",
            "        train_loss: 0.684, train_acc: 0.602\n",
            "        val_loss: 0.590, val_acc: 0.719\n",
            "        \n",
            "\n",
            "        Epoch: 4, time: 7.0s\n",
            "        train_loss: 0.634, train_acc: 0.660\n",
            "        val_loss: 0.570, val_acc: 0.778\n",
            "        \n",
            "\n",
            "        Epoch: 5, time: 7.0s\n",
            "        train_loss: 0.616, train_acc: 0.664\n",
            "        val_loss: 0.523, val_acc: 0.745\n",
            "        \n",
            "\n",
            "        Epoch: 6, time: 7.0s\n",
            "        train_loss: 0.557, train_acc: 0.762\n",
            "        val_loss: 0.550, val_acc: 0.752\n",
            "        \n",
            "\n",
            "        Epoch: 7, time: 7.0s\n",
            "        train_loss: 0.528, train_acc: 0.762\n",
            "        val_loss: 0.883, val_acc: 0.667\n",
            "        \n",
            "\n",
            "        Epoch: 8, time: 6.9s\n",
            "        train_loss: 0.420, train_acc: 0.820\n",
            "        val_loss: 0.510, val_acc: 0.758\n",
            "        \n",
            "\n",
            "        Epoch: 9, time: 6.9s\n",
            "        train_loss: 0.437, train_acc: 0.779\n",
            "        val_loss: 0.815, val_acc: 0.758\n",
            "        \n",
            "\n",
            "        Epoch: 10, time: 7.0s\n",
            "        train_loss: 0.493, train_acc: 0.791\n",
            "        val_loss: 0.827, val_acc: 0.660\n",
            "        \n",
            "\n",
            "Final validation loss: 0.827\n",
            "Final validation accuracy: 0.660\n"
          ],
          "name": "stdout"
        }
      ]
    },
    {
      "cell_type": "markdown",
      "metadata": {
        "id": "ZHTwVLg55poW"
      },
      "source": [
        "Финальная accuracy после 10 эпох – 0.66. Всё ещё не очень много, но уже заметно лучше, чем у не-предобученной модели!"
      ]
    },
    {
      "cell_type": "markdown",
      "metadata": {
        "id": "h09_1YejQxiy"
      },
      "source": [
        "### VGG 16"
      ]
    },
    {
      "cell_type": "code",
      "metadata": {
        "colab": {
          "base_uri": "https://localhost:8080/",
          "height": 83,
          "referenced_widgets": [
            "6d3c49e910084cadb899e729d1e0eb55",
            "31d2b23bfe4b453aab40c9640b06aa68",
            "dddf3dfb5ec24bde91c216da5aeec6d2",
            "4b90182f1f5248bc86c1a6b1dd9c95e7",
            "3fc9c1d5be714120b8e59ed03b54f1a1",
            "074b7f758b0a482a898dcea7d3540c20",
            "7ea068dcbf81496e9574343c22aa6f85",
            "8861eba13f91497d97e2e633c4f03dae"
          ]
        },
        "id": "7iFrYIJgQ1C2",
        "outputId": "0f093384-fde7-4572-cf31-e0dbfc49e1ac"
      },
      "source": [
        "model = models.vgg16(pretrained=True)\n",
        "model = model.cuda()"
      ],
      "execution_count": 30,
      "outputs": [
        {
          "output_type": "stream",
          "text": [
            "Downloading: \"https://download.pytorch.org/models/vgg16-397923af.pth\" to /root/.cache/torch/hub/checkpoints/vgg16-397923af.pth\n"
          ],
          "name": "stderr"
        },
        {
          "output_type": "display_data",
          "data": {
            "application/vnd.jupyter.widget-view+json": {
              "model_id": "6d3c49e910084cadb899e729d1e0eb55",
              "version_minor": 0,
              "version_major": 2
            },
            "text/plain": [
              "HBox(children=(FloatProgress(value=0.0, max=553433881.0), HTML(value='')))"
            ]
          },
          "metadata": {
            "tags": []
          }
        },
        {
          "output_type": "stream",
          "text": [
            "\n"
          ],
          "name": "stdout"
        }
      ]
    },
    {
      "cell_type": "code",
      "metadata": {
        "id": "JtTAGkL159wn"
      },
      "source": [
        "criterion = torch.nn.CrossEntropyLoss()\n",
        "optimizer = torch.optim.Adam(model.parameters(), lr=0.001)"
      ],
      "execution_count": 31,
      "outputs": []
    },
    {
      "cell_type": "code",
      "metadata": {
        "colab": {
          "base_uri": "https://localhost:8080/",
          "height": 950,
          "referenced_widgets": [
            "a90ebd6810d14675b0a909582995f301",
            "de428adc4a964175abf36fe911a1c968",
            "41eedddf9ee04f6bac8e9283c452244c",
            "5349740e890c44349c85e27f2765dff3",
            "5c9a0ddb88804361ac277cc5a5a21dad",
            "293ab207a9124ba7873b496fba759284",
            "89e1e845e6464b9fb27046db11f999b5",
            "5dadc16e37bf481886d29ad13b040470"
          ]
        },
        "id": "2e3I-jJY6BXL",
        "outputId": "768dda48-9377-4bd6-86ad-0135219e1047"
      },
      "source": [
        "model = train_model(model, loader, criterion, optimizer, 10)"
      ],
      "execution_count": 32,
      "outputs": [
        {
          "output_type": "display_data",
          "data": {
            "application/vnd.jupyter.widget-view+json": {
              "model_id": "a90ebd6810d14675b0a909582995f301",
              "version_minor": 0,
              "version_major": 2
            },
            "text/plain": [
              "HBox(children=(FloatProgress(value=0.0, max=10.0), HTML(value='')))"
            ]
          },
          "metadata": {
            "tags": []
          }
        },
        {
          "output_type": "stream",
          "text": [
            "\n",
            "        Epoch: 1, time: 29.1s\n",
            "        train_loss: 18.583, train_acc: 0.455\n",
            "        val_loss: 2.276, val_acc: 0.458\n",
            "        \n",
            "\n",
            "        Epoch: 2, time: 28.6s\n",
            "        train_loss: 1.011, train_acc: 0.463\n",
            "        val_loss: 0.694, val_acc: 0.542\n",
            "        \n",
            "\n",
            "        Epoch: 3, time: 28.1s\n",
            "        train_loss: 0.749, train_acc: 0.512\n",
            "        val_loss: 0.730, val_acc: 0.458\n",
            "        \n",
            "\n",
            "        Epoch: 4, time: 28.2s\n",
            "        train_loss: 0.737, train_acc: 0.508\n",
            "        val_loss: 0.686, val_acc: 0.542\n",
            "        \n",
            "\n",
            "        Epoch: 5, time: 28.2s\n",
            "        train_loss: 0.777, train_acc: 0.525\n",
            "        val_loss: 0.691, val_acc: 0.542\n",
            "        \n",
            "\n",
            "        Epoch: 6, time: 28.3s\n",
            "        train_loss: 0.759, train_acc: 0.504\n",
            "        val_loss: 0.693, val_acc: 0.510\n",
            "        \n",
            "\n",
            "        Epoch: 7, time: 28.7s\n",
            "        train_loss: 0.730, train_acc: 0.467\n",
            "        val_loss: 0.945, val_acc: 0.542\n",
            "        \n",
            "\n",
            "        Epoch: 8, time: 28.1s\n",
            "        train_loss: 0.728, train_acc: 0.480\n",
            "        val_loss: 0.686, val_acc: 0.542\n",
            "        \n",
            "\n",
            "        Epoch: 9, time: 27.8s\n",
            "        train_loss: 0.728, train_acc: 0.520\n",
            "        val_loss: 0.693, val_acc: 0.542\n",
            "        \n",
            "\n",
            "        Epoch: 10, time: 27.8s\n",
            "        train_loss: 0.737, train_acc: 0.484\n",
            "        val_loss: 0.708, val_acc: 0.458\n",
            "        \n",
            "\n",
            "Final validation loss: 0.708\n",
            "Final validation accuracy: 0.458\n"
          ],
          "name": "stdout"
        }
      ]
    },
    {
      "cell_type": "markdown",
      "metadata": {
        "id": "il9r6Hsx7PbK"
      },
      "source": [
        "А вот у предобученной VGG 16 финальная accuracy на валидации вообще не улучшилась – всё ещё 0.458. Loss снизился, но настолько незначительно, что этим можно пренебречь (с 0.719 до 0.708)."
      ]
    },
    {
      "cell_type": "markdown",
      "metadata": {
        "id": "kbJBIoy2PJTt"
      },
      "source": [
        "## ResNet 18 и VGG 16 с FineTuning и аугментацией\n",
        "### Аугментация данных\n",
        "Запишем все аугментации для тестовой и валидационной выборки в переменные transform_aug_train и transform_aug_val и составим новый датасет."
      ]
    },
    {
      "cell_type": "code",
      "metadata": {
        "id": "lNI5dVICPQQt"
      },
      "source": [
        "# в этот раз приведём все изображения в обучающей выборке к единому размеру не с помощью\n",
        "# transforms.RandomCrop, а с помощью transforms.RandomResizedCrop\n",
        "\n",
        "# добавим случайное отражение по горизонтали с вероятностью 0.5,\n",
        "# небольшое случайное изменение яркости, контраста и насыщенности и тона\n",
        "# и поворот на случайный угол до 20 градусов\n",
        "\n",
        "# после преобразования изображений в тензоры нормализуем их\n",
        "# (значения mean и std взяла из примера в документации PyTorch)\n",
        "\n",
        "transform_aug_train = transforms.Compose([transforms.RandomResizedCrop(500),\n",
        "                                          transforms.RandomHorizontalFlip(),\n",
        "                                          transforms.ColorJitter(0.05, 0.05,\n",
        "                                                                 0.05, 0.05),\n",
        "                                          transforms.RandomRotation(\n",
        "                                              20, resample=PIL.Image.BILINEAR),\n",
        "                                          transforms.ToTensor(),\n",
        "                                          transforms.Normalize(\n",
        "                                              (0.485, 0.456, 0.406),\n",
        "                                              (0.229, 0.224, 0.225))])\n",
        "\n",
        "# преобразования валидационной выборки остались практически без изменений –\n",
        "# только добавилась нормализация тензоров как в обучающей выборке\n",
        "\n",
        "transform_aug_val = transforms.Compose(\n",
        "    [transforms.RandomCrop(500, pad_if_needed=True, padding_mode='reflect'),\n",
        "     transforms.ToTensor(),\n",
        "     transforms.Normalize((0.485, 0.456, 0.406), (0.229, 0.224, 0.225))])"
      ],
      "execution_count": 34,
      "outputs": []
    },
    {
      "cell_type": "code",
      "metadata": {
        "id": "p6HCVx5bA81L"
      },
      "source": [
        "hymenoptera_train = datasets.ImageFolder('hymenoptera_data/train',\n",
        "                                         transform=transform_aug_train)\n",
        "\n",
        "hymenoptera_val = datasets.ImageFolder('hymenoptera_data/val',\n",
        "                                       transform=transform_aug_val)\n",
        "\n",
        "loader = {'train': torch.utils.data.DataLoader(hymenoptera_train, batch_size=8,\n",
        "                                               shuffle=True, num_workers=4),\n",
        "          'val': torch.utils.data.DataLoader(hymenoptera_val, batch_size=8,\n",
        "                                             shuffle=True, num_workers=4)}\n",
        "\n",
        "clear_output()"
      ],
      "execution_count": 35,
      "outputs": []
    },
    {
      "cell_type": "code",
      "metadata": {
        "colab": {
          "base_uri": "https://localhost:8080/",
          "height": 303
        },
        "id": "GGk87LoiBI3q",
        "outputId": "a3396ffb-2d1e-4dde-8f8b-28bc3a962885"
      },
      "source": [
        "plt.imshow(hymenoptera_train[0][0].numpy().transpose(2, 1, 0))"
      ],
      "execution_count": 36,
      "outputs": [
        {
          "output_type": "stream",
          "text": [
            "Clipping input data to the valid range for imshow with RGB data ([0..1] for floats or [0..255] for integers).\n"
          ],
          "name": "stderr"
        },
        {
          "output_type": "execute_result",
          "data": {
            "text/plain": [
              "<matplotlib.image.AxesImage at 0x7feb14f6b240>"
            ]
          },
          "metadata": {
            "tags": []
          },
          "execution_count": 36
        },
        {
          "output_type": "display_data",
          "data": {
            "image/png": "[encoded data removed]",
            "text/plain": [
              "<Figure size 432x288 with 1 Axes>"
            ]
          },
          "metadata": {
            "tags": [],
            "needs_background": "light"
          }
        }
      ]
    },
    {
      "cell_type": "code",
      "metadata": {
        "colab": {
          "base_uri": "https://localhost:8080/",
          "height": 303
        },
        "id": "chbca2NaBNr-",
        "outputId": "924e80ea-fe69-4d92-ca62-c368df999084"
      },
      "source": [
        "plt.imshow(hymenoptera_val[0][0].numpy().transpose(2, 1, 0))"
      ],
      "execution_count": 37,
      "outputs": [
        {
          "output_type": "stream",
          "text": [
            "Clipping input data to the valid range for imshow with RGB data ([0..1] for floats or [0..255] for integers).\n"
          ],
          "name": "stderr"
        },
        {
          "output_type": "execute_result",
          "data": {
            "text/plain": [
              "<matplotlib.image.AxesImage at 0x7feb14ec6898>"
            ]
          },
          "metadata": {
            "tags": []
          },
          "execution_count": 37
        },
        {
          "output_type": "display_data",
          "data": {
            "image/png": "[encoded data removed]",
            "text/plain": [
              "<Figure size 432x288 with 1 Axes>"
            ]
          },
          "metadata": {
            "tags": [],
            "needs_background": "light"
          }
        }
      ]
    },
    {
      "cell_type": "markdown",
      "metadata": {
        "id": "cDzeGNIDBXTy"
      },
      "source": [
        "Как видно, у валидационного изображения только немного изменился цвет (из-за нормализации значений тензоров), а у обучающего заметно поменялись цвет, яркость, контраст, насыщенность и угол поворота."
      ]
    },
    {
      "cell_type": "markdown",
      "metadata": {
        "id": "NzFsv3FQRFfS"
      },
      "source": [
        "### ResNet 18"
      ]
    },
    {
      "cell_type": "code",
      "metadata": {
        "id": "EhWjbkBsRI1G"
      },
      "source": [
        "model = models.resnet18(pretrained=True)\n",
        "model = model.cuda()"
      ],
      "execution_count": 38,
      "outputs": []
    },
    {
      "cell_type": "code",
      "metadata": {
        "id": "5SzMVwRLCLAn"
      },
      "source": [
        "criterion = torch.nn.CrossEntropyLoss()\n",
        "optimizer = torch.optim.Adam(model.parameters(), lr=0.001)"
      ],
      "execution_count": 39,
      "outputs": []
    },
    {
      "cell_type": "code",
      "metadata": {
        "colab": {
          "base_uri": "https://localhost:8080/",
          "height": 950,
          "referenced_widgets": [
            "461ae1ea322c4d80999f3b161fcadf4b",
            "3090b54f7e0e44a8939bba137ce87e18",
            "196926e5c2b64932a2f772d0a174bb9e",
            "ad93ea42e460469fb4b6ee7fc9f6ea1d",
            "2a9665d43b5f4f948e1d126a4a7d07f2",
            "625243d5b56541e2bad43a1f37c299a0",
            "09bd80170e9d46e59292b0a246da7b97",
            "a7dfdd9d4fde4dfc9a4bc001439e39f4"
          ]
        },
        "id": "ODxxJxsJCPmJ",
        "outputId": "2c07894d-1988-40e9-d0c9-c7cda10678b6"
      },
      "source": [
        "model = train_model(model, loader, criterion, optimizer, 10)"
      ],
      "execution_count": 40,
      "outputs": [
        {
          "output_type": "display_data",
          "data": {
            "application/vnd.jupyter.widget-view+json": {
              "model_id": "461ae1ea322c4d80999f3b161fcadf4b",
              "version_minor": 0,
              "version_major": 2
            },
            "text/plain": [
              "HBox(children=(FloatProgress(value=0.0, max=10.0), HTML(value='')))"
            ]
          },
          "metadata": {
            "tags": []
          }
        },
        {
          "output_type": "stream",
          "text": [
            "\n",
            "        Epoch: 1, time: 12.9s\n",
            "        train_loss: 1.923, train_acc: 0.500\n",
            "        val_loss: 1.132, val_acc: 0.569\n",
            "        \n",
            "\n",
            "        Epoch: 2, time: 12.9s\n",
            "        train_loss: 0.654, train_acc: 0.594\n",
            "        val_loss: 0.652, val_acc: 0.621\n",
            "        \n",
            "\n",
            "        Epoch: 3, time: 13.0s\n",
            "        train_loss: 0.707, train_acc: 0.578\n",
            "        val_loss: 0.767, val_acc: 0.523\n",
            "        \n",
            "\n",
            "        Epoch: 4, time: 13.0s\n",
            "        train_loss: 0.632, train_acc: 0.652\n",
            "        val_loss: 0.559, val_acc: 0.725\n",
            "        \n",
            "\n",
            "        Epoch: 5, time: 12.9s\n",
            "        train_loss: 0.685, train_acc: 0.586\n",
            "        val_loss: 0.665, val_acc: 0.621\n",
            "        \n",
            "\n",
            "        Epoch: 6, time: 13.2s\n",
            "        train_loss: 0.660, train_acc: 0.635\n",
            "        val_loss: 0.589, val_acc: 0.699\n",
            "        \n",
            "\n",
            "        Epoch: 7, time: 13.0s\n",
            "        train_loss: 0.626, train_acc: 0.648\n",
            "        val_loss: 0.746, val_acc: 0.667\n",
            "        \n",
            "\n",
            "        Epoch: 8, time: 12.9s\n",
            "        train_loss: 0.627, train_acc: 0.693\n",
            "        val_loss: 0.805, val_acc: 0.588\n",
            "        \n",
            "\n",
            "        Epoch: 9, time: 12.9s\n",
            "        train_loss: 0.691, train_acc: 0.598\n",
            "        val_loss: 0.672, val_acc: 0.660\n",
            "        \n",
            "\n",
            "        Epoch: 10, time: 13.1s\n",
            "        train_loss: 0.618, train_acc: 0.635\n",
            "        val_loss: 0.667, val_acc: 0.686\n",
            "        \n",
            "\n",
            "Final validation loss: 0.667\n",
            "Final validation accuracy: 0.686\n"
          ],
          "name": "stdout"
        }
      ]
    },
    {
      "cell_type": "markdown",
      "metadata": {
        "id": "m0fZHqL2EDTd"
      },
      "source": [
        "Аугментация совсем немного улучшила accuracy на валидации (с 0.66 до 0.686), но зато значительно снизила loss (с 0.827 до 0.667!). Что логично – нейросеть, обученная на более разнообразном из-за случайного шума датасете, даёт меньше неправильных предсказаний."
      ]
    },
    {
      "cell_type": "markdown",
      "metadata": {
        "id": "SJtW8p7tQ44k"
      },
      "source": [
        "### VGG 16\n",
        "Посмотрим, улучшит ли аугментация качество предсказаний предобученной VGG 16."
      ]
    },
    {
      "cell_type": "code",
      "metadata": {
        "id": "_N9oq07jQ_Tz"
      },
      "source": [
        "model = models.vgg16(pretrained=True)\n",
        "model = model.cuda()"
      ],
      "execution_count": 41,
      "outputs": []
    },
    {
      "cell_type": "code",
      "metadata": {
        "id": "ZhJupL9sGHO1"
      },
      "source": [
        "criterion = torch.nn.CrossEntropyLoss()\n",
        "optimizer = torch.optim.Adam(model.parameters(), lr=0.001)"
      ],
      "execution_count": 42,
      "outputs": []
    },
    {
      "cell_type": "code",
      "metadata": {
        "colab": {
          "base_uri": "https://localhost:8080/",
          "height": 950,
          "referenced_widgets": [
            "14ecb32b78224b869e44634c7fbc483b",
            "e7c8815a992442348dd11c473101ee84",
            "3cb2e07d1cc6409a8be6e4f69d1f34d6",
            "751ba5f6e0584f01945d2be1385d81bb",
            "45e61c1af6774293949c205962789658",
            "b24255ab104340ebaece6ad0de6c158e",
            "f4ffda0ec24c40b0a8a57fa83560d278",
            "3c507e44fecf469386f7c0545a430bbe"
          ]
        },
        "id": "rcQhRhlKGJW2",
        "outputId": "ada46216-1e7b-4cca-bc04-de6d0d341f30"
      },
      "source": [
        "model = train_model(model, loader, criterion, optimizer, 10)"
      ],
      "execution_count": 43,
      "outputs": [
        {
          "output_type": "display_data",
          "data": {
            "application/vnd.jupyter.widget-view+json": {
              "model_id": "14ecb32b78224b869e44634c7fbc483b",
              "version_minor": 0,
              "version_major": 2
            },
            "text/plain": [
              "HBox(children=(FloatProgress(value=0.0, max=10.0), HTML(value='')))"
            ]
          },
          "metadata": {
            "tags": []
          }
        },
        {
          "output_type": "stream",
          "text": [
            "\n",
            "        Epoch: 1, time: 30.5s\n",
            "        train_loss: 6.328, train_acc: 0.455\n",
            "        val_loss: 0.737, val_acc: 0.458\n",
            "        \n",
            "\n",
            "        Epoch: 2, time: 29.2s\n",
            "        train_loss: 0.946, train_acc: 0.504\n",
            "        val_loss: 0.824, val_acc: 0.458\n",
            "        \n",
            "\n",
            "        Epoch: 3, time: 29.2s\n",
            "        train_loss: 0.789, train_acc: 0.520\n",
            "        val_loss: 0.682, val_acc: 0.542\n",
            "        \n",
            "\n",
            "        Epoch: 4, time: 29.3s\n",
            "        train_loss: 0.741, train_acc: 0.430\n",
            "        val_loss: 0.677, val_acc: 0.542\n",
            "        \n",
            "\n",
            "        Epoch: 5, time: 29.4s\n",
            "        train_loss: 0.722, train_acc: 0.496\n",
            "        val_loss: 0.695, val_acc: 0.458\n",
            "        \n",
            "\n",
            "        Epoch: 6, time: 29.5s\n",
            "        train_loss: 0.705, train_acc: 0.529\n",
            "        val_loss: 0.671, val_acc: 0.542\n",
            "        \n",
            "\n",
            "        Epoch: 7, time: 29.2s\n",
            "        train_loss: 0.729, train_acc: 0.480\n",
            "        val_loss: 0.699, val_acc: 0.458\n",
            "        \n",
            "\n",
            "        Epoch: 8, time: 29.2s\n",
            "        train_loss: 0.776, train_acc: 0.529\n",
            "        val_loss: 0.697, val_acc: 0.542\n",
            "        \n",
            "\n",
            "        Epoch: 9, time: 29.2s\n",
            "        train_loss: 0.772, train_acc: 0.525\n",
            "        val_loss: 0.750, val_acc: 0.458\n",
            "        \n",
            "\n",
            "        Epoch: 10, time: 29.4s\n",
            "        train_loss: 0.731, train_acc: 0.561\n",
            "        val_loss: 0.915, val_acc: 0.458\n",
            "        \n",
            "\n",
            "Final validation loss: 0.915\n",
            "Final validation accuracy: 0.458\n"
          ],
          "name": "stdout"
        }
      ]
    },
    {
      "cell_type": "markdown",
      "metadata": {
        "id": "yzNpGwyoHr4M"
      },
      "source": [
        "Никаких улучшений. Accuracy по-прежнему 0.458, loss не только не снизился, но и, наоборот, вырос (с 0.708 до 0.915!). Видимо, эта модель для этой задачи не очень подходит. :("
      ]
    },
    {
      "cell_type": "markdown",
      "metadata": {
        "id": "2EyVNIOPPo34"
      },
      "source": [
        "# ResNet 18 с FineTuning на датасете FashionMNIST\n",
        "## Загрузка данных\n",
        "Попробуем и здесь воспользоваться аугментацией – применим случайное аффинное преобразование (поворот на случайный угол до 45 градусов, случайный сдвиг по горизонтали и вертикали не более чем на 0.1 * высоту/ширину изображения, случайное масштабирование с коэффициентом от 0.8 до 1.2) к изображениям из тестовой выборки. Также нормализуем тензоры в обоих выборках после преобразований из изображения в тензор (значений mean и std должно быть по одному, а не по три, т. к., в этом датасете изображения чёрно-белые, а не RGB)."
      ]
    },
    {
      "cell_type": "code",
      "metadata": {
        "id": "kLcbskoIMiTa"
      },
      "source": [
        "transform_aug_train = transforms.Compose([transforms.RandomAffine(45,\n",
        "                                                                  (0.1, 0.1),\n",
        "                                                                  (0.8, 1.2)),\n",
        "                                          transforms.ToTensor(),\n",
        "                                          transforms.Normalize(mean=(0.5,),\n",
        "                                                               std=(0.5,))])\n",
        "\n",
        "transform_aug_test = transforms.Compose([transforms.ToTensor(),\n",
        "                                         transforms.Normalize(mean=(0.5,),\n",
        "                                                              std=(0.5,))])"
      ],
      "execution_count": 57,
      "outputs": []
    },
    {
      "cell_type": "code",
      "metadata": {
        "id": "Vnnzh_dbQBIZ"
      },
      "source": [
        "mnist_train = datasets.FashionMNIST('.', train=True,\n",
        "                                    transform=transform_aug_train,\n",
        "                                    download=True)\n",
        "\n",
        "mnist_test = datasets.FashionMNIST('.', train=False,\n",
        "                                   transform=transform_aug_test,\n",
        "                                   download=True)\n",
        "\n",
        "train_loader = torch.utils.data.DataLoader(mnist_train, batch_size=100)\n",
        "test_loader = torch.utils.data.DataLoader(mnist_test, batch_size=100)\n",
        "\n",
        "clear_output()"
      ],
      "execution_count": 96,
      "outputs": []
    },
    {
      "cell_type": "code",
      "metadata": {
        "colab": {
          "base_uri": "https://localhost:8080/"
        },
        "id": "jIP7uPshXpcP",
        "outputId": "3cc2696b-7cb2-4684-f60d-37fbf23e3396"
      },
      "source": [
        "mnist_train"
      ],
      "execution_count": 97,
      "outputs": [
        {
          "output_type": "execute_result",
          "data": {
            "text/plain": [
              "Dataset FashionMNIST\n",
              "    Number of datapoints: 60000\n",
              "    Root location: .\n",
              "    Split: Train\n",
              "    StandardTransform\n",
              "Transform: Compose(\n",
              "               RandomAffine(degrees=[-45.0, 45.0], translate=(0.1, 0.1), scale=(0.8, 1.2))\n",
              "               ToTensor()\n",
              "               Normalize(mean=(0.5,), std=(0.5,))\n",
              "           )"
            ]
          },
          "metadata": {
            "tags": []
          },
          "execution_count": 97
        }
      ]
    },
    {
      "cell_type": "code",
      "metadata": {
        "colab": {
          "base_uri": "https://localhost:8080/"
        },
        "id": "7eWLQeq4XsW-",
        "outputId": "05610605-7af5-41d3-c711-545a39695324"
      },
      "source": [
        "mnist_test"
      ],
      "execution_count": 98,
      "outputs": [
        {
          "output_type": "execute_result",
          "data": {
            "text/plain": [
              "Dataset FashionMNIST\n",
              "    Number of datapoints: 10000\n",
              "    Root location: .\n",
              "    Split: Test\n",
              "    StandardTransform\n",
              "Transform: Compose(\n",
              "               ToTensor()\n",
              "               Normalize(mean=(0.5,), std=(0.5,))\n",
              "           )"
            ]
          },
          "metadata": {
            "tags": []
          },
          "execution_count": 98
        }
      ]
    },
    {
      "cell_type": "code",
      "metadata": {
        "colab": {
          "base_uri": "https://localhost:8080/",
          "height": 282
        },
        "id": "OqssNdesX0U5",
        "outputId": "7d6e63f5-e845-4811-d8c7-ae69a5444107"
      },
      "source": [
        "plt.imshow(mnist_train[0][0].numpy().reshape(28, 28))"
      ],
      "execution_count": 99,
      "outputs": [
        {
          "output_type": "execute_result",
          "data": {
            "text/plain": [
              "<matplotlib.image.AxesImage at 0x7feb13fbbef0>"
            ]
          },
          "metadata": {
            "tags": []
          },
          "execution_count": 99
        },
        {
          "output_type": "display_data",
          "data": {
            "image/png": "[encoded data removed]",
            "text/plain": [
              "<Figure size 432x288 with 1 Axes>"
            ]
          },
          "metadata": {
            "tags": [],
            "needs_background": "light"
          }
        }
      ]
    },
    {
      "cell_type": "code",
      "metadata": {
        "colab": {
          "base_uri": "https://localhost:8080/",
          "height": 282
        },
        "id": "hexVRpYWYA2p",
        "outputId": "f710d246-4d80-4c8a-9ff9-19bb11b75560"
      },
      "source": [
        "plt.imshow(mnist_test[0][0].numpy().reshape(28, 28))"
      ],
      "execution_count": 100,
      "outputs": [
        {
          "output_type": "execute_result",
          "data": {
            "text/plain": [
              "<matplotlib.image.AxesImage at 0x7feb14955f60>"
            ]
          },
          "metadata": {
            "tags": []
          },
          "execution_count": 100
        },
        {
          "output_type": "display_data",
          "data": {
            "image/png": "[encoded data removed]",
            "text/plain": [
              "<Figure size 432x288 with 1 Axes>"
            ]
          },
          "metadata": {
            "tags": [],
            "needs_background": "light"
          }
        }
      ]
    },
    {
      "cell_type": "markdown",
      "metadata": {
        "id": "TMh5_YoNQBw5"
      },
      "source": [
        "## Обучение\n",
        "Чтобы ResNet 18 можно было применить к FashionMNIST (размерности входных и выходных данных подходили), нужно модифицировать первый и последний слой модели."
      ]
    },
    {
      "cell_type": "code",
      "metadata": {
        "id": "WmK9EQ6RTL0e"
      },
      "source": [
        "# берём предобученную модель ResNet 18\n",
        "model = models.resnet18(pretrained=True)\n",
        "\n",
        "# устанавливаем для параметров модели requires_grad=False,\n",
        "# чтобы в архитектуру модели можно было внести изменения\n",
        "for param in model.parameters():\n",
        "    param.requires_grad = False\n",
        "\n",
        "# модифицируем первый слой модели, два основных отличия:\n",
        "# - принимает на вход 1 канал, а не 3, т. к., в FashionMNIST\n",
        "#   изображения чёрно-белые, а не RGB\n",
        "# - шаг сдвига окна свёртки 1, а не 2, соответственно,\n",
        "#   свёрточный слой рассчитан на изображения 28 * 28, а не 224 * 224\n",
        "model.conv1 = torch.nn.Conv2d(1, 64, kernel_size=7, padding=3, bias=False)\n",
        "\n",
        "# модифицируем последний слой модели так,\n",
        "# чтобы длина каждого предсказания была 10, а не 1000\n",
        "model.fc = torch.nn.Linear(512, 10)\n",
        "\n",
        "# сохраняем модифицированные параметры модели на current device\n",
        "model = model.cuda()"
      ],
      "execution_count": 101,
      "outputs": []
    },
    {
      "cell_type": "markdown",
      "metadata": {
        "id": "ujC0K_juhMMR"
      },
      "source": [
        "Выводим архитектуру модели. Архитектура правильная!"
      ]
    },
    {
      "cell_type": "code",
      "metadata": {
        "colab": {
          "base_uri": "https://localhost:8080/"
        },
        "id": "b0QOCICCfWAj",
        "outputId": "20e8ab37-34d6-4b82-c9f4-c79830063536"
      },
      "source": [
        "print(model)"
      ],
      "execution_count": 102,
      "outputs": [
        {
          "output_type": "stream",
          "text": [
            "ResNet(\n",
            "  (conv1): Conv2d(1, 64, kernel_size=(7, 7), stride=(1, 1), padding=(3, 3), bias=False)\n",
            "  (bn1): BatchNorm2d(64, eps=1e-05, momentum=0.1, affine=True, track_running_stats=True)\n",
            "  (relu): ReLU(inplace=True)\n",
            "  (maxpool): MaxPool2d(kernel_size=3, stride=2, padding=1, dilation=1, ceil_mode=False)\n",
            "  (layer1): Sequential(\n",
            "    (0): BasicBlock(\n",
            "      (conv1): Conv2d(64, 64, kernel_size=(3, 3), stride=(1, 1), padding=(1, 1), bias=False)\n",
            "      (bn1): BatchNorm2d(64, eps=1e-05, momentum=0.1, affine=True, track_running_stats=True)\n",
            "      (relu): ReLU(inplace=True)\n",
            "      (conv2): Conv2d(64, 64, kernel_size=(3, 3), stride=(1, 1), padding=(1, 1), bias=False)\n",
            "      (bn2): BatchNorm2d(64, eps=1e-05, momentum=0.1, affine=True, track_running_stats=True)\n",
            "    )\n",
            "    (1): BasicBlock(\n",
            "      (conv1): Conv2d(64, 64, kernel_size=(3, 3), stride=(1, 1), padding=(1, 1), bias=False)\n",
            "      (bn1): BatchNorm2d(64, eps=1e-05, momentum=0.1, affine=True, track_running_stats=True)\n",
            "      (relu): ReLU(inplace=True)\n",
            "      (conv2): Conv2d(64, 64, kernel_size=(3, 3), stride=(1, 1), padding=(1, 1), bias=False)\n",
            "      (bn2): BatchNorm2d(64, eps=1e-05, momentum=0.1, affine=True, track_running_stats=True)\n",
            "    )\n",
            "  )\n",
            "  (layer2): Sequential(\n",
            "    (0): BasicBlock(\n",
            "      (conv1): Conv2d(64, 128, kernel_size=(3, 3), stride=(2, 2), padding=(1, 1), bias=False)\n",
            "      (bn1): BatchNorm2d(128, eps=1e-05, momentum=0.1, affine=True, track_running_stats=True)\n",
            "      (relu): ReLU(inplace=True)\n",
            "      (conv2): Conv2d(128, 128, kernel_size=(3, 3), stride=(1, 1), padding=(1, 1), bias=False)\n",
            "      (bn2): BatchNorm2d(128, eps=1e-05, momentum=0.1, affine=True, track_running_stats=True)\n",
            "      (downsample): Sequential(\n",
            "        (0): Conv2d(64, 128, kernel_size=(1, 1), stride=(2, 2), bias=False)\n",
            "        (1): BatchNorm2d(128, eps=1e-05, momentum=0.1, affine=True, track_running_stats=True)\n",
            "      )\n",
            "    )\n",
            "    (1): BasicBlock(\n",
            "      (conv1): Conv2d(128, 128, kernel_size=(3, 3), stride=(1, 1), padding=(1, 1), bias=False)\n",
            "      (bn1): BatchNorm2d(128, eps=1e-05, momentum=0.1, affine=True, track_running_stats=True)\n",
            "      (relu): ReLU(inplace=True)\n",
            "      (conv2): Conv2d(128, 128, kernel_size=(3, 3), stride=(1, 1), padding=(1, 1), bias=False)\n",
            "      (bn2): BatchNorm2d(128, eps=1e-05, momentum=0.1, affine=True, track_running_stats=True)\n",
            "    )\n",
            "  )\n",
            "  (layer3): Sequential(\n",
            "    (0): BasicBlock(\n",
            "      (conv1): Conv2d(128, 256, kernel_size=(3, 3), stride=(2, 2), padding=(1, 1), bias=False)\n",
            "      (bn1): BatchNorm2d(256, eps=1e-05, momentum=0.1, affine=True, track_running_stats=True)\n",
            "      (relu): ReLU(inplace=True)\n",
            "      (conv2): Conv2d(256, 256, kernel_size=(3, 3), stride=(1, 1), padding=(1, 1), bias=False)\n",
            "      (bn2): BatchNorm2d(256, eps=1e-05, momentum=0.1, affine=True, track_running_stats=True)\n",
            "      (downsample): Sequential(\n",
            "        (0): Conv2d(128, 256, kernel_size=(1, 1), stride=(2, 2), bias=False)\n",
            "        (1): BatchNorm2d(256, eps=1e-05, momentum=0.1, affine=True, track_running_stats=True)\n",
            "      )\n",
            "    )\n",
            "    (1): BasicBlock(\n",
            "      (conv1): Conv2d(256, 256, kernel_size=(3, 3), stride=(1, 1), padding=(1, 1), bias=False)\n",
            "      (bn1): BatchNorm2d(256, eps=1e-05, momentum=0.1, affine=True, track_running_stats=True)\n",
            "      (relu): ReLU(inplace=True)\n",
            "      (conv2): Conv2d(256, 256, kernel_size=(3, 3), stride=(1, 1), padding=(1, 1), bias=False)\n",
            "      (bn2): BatchNorm2d(256, eps=1e-05, momentum=0.1, affine=True, track_running_stats=True)\n",
            "    )\n",
            "  )\n",
            "  (layer4): Sequential(\n",
            "    (0): BasicBlock(\n",
            "      (conv1): Conv2d(256, 512, kernel_size=(3, 3), stride=(2, 2), padding=(1, 1), bias=False)\n",
            "      (bn1): BatchNorm2d(512, eps=1e-05, momentum=0.1, affine=True, track_running_stats=True)\n",
            "      (relu): ReLU(inplace=True)\n",
            "      (conv2): Conv2d(512, 512, kernel_size=(3, 3), stride=(1, 1), padding=(1, 1), bias=False)\n",
            "      (bn2): BatchNorm2d(512, eps=1e-05, momentum=0.1, affine=True, track_running_stats=True)\n",
            "      (downsample): Sequential(\n",
            "        (0): Conv2d(256, 512, kernel_size=(1, 1), stride=(2, 2), bias=False)\n",
            "        (1): BatchNorm2d(512, eps=1e-05, momentum=0.1, affine=True, track_running_stats=True)\n",
            "      )\n",
            "    )\n",
            "    (1): BasicBlock(\n",
            "      (conv1): Conv2d(512, 512, kernel_size=(3, 3), stride=(1, 1), padding=(1, 1), bias=False)\n",
            "      (bn1): BatchNorm2d(512, eps=1e-05, momentum=0.1, affine=True, track_running_stats=True)\n",
            "      (relu): ReLU(inplace=True)\n",
            "      (conv2): Conv2d(512, 512, kernel_size=(3, 3), stride=(1, 1), padding=(1, 1), bias=False)\n",
            "      (bn2): BatchNorm2d(512, eps=1e-05, momentum=0.1, affine=True, track_running_stats=True)\n",
            "    )\n",
            "  )\n",
            "  (avgpool): AdaptiveAvgPool2d(output_size=(1, 1))\n",
            "  (fc): Linear(in_features=512, out_features=10, bias=True)\n",
            ")\n"
          ],
          "name": "stdout"
        }
      ]
    },
    {
      "cell_type": "markdown",
      "metadata": {
        "id": "-3igBtQidohy"
      },
      "source": [
        "Почти неизменённые функция и кусок кода из предыдущей домашки."
      ]
    },
    {
      "cell_type": "code",
      "metadata": {
        "id": "zb-qNDpvduO4"
      },
      "source": [
        "def train_model_mnist(model, loader, criterion, optimizer, train=True):\n",
        "    curr_loss, curr_acc = 0.0, 0.0\n",
        "    if train:\n",
        "        model.train()\n",
        "    else:\n",
        "        model.eval()\n",
        "    for X, y in loader:\n",
        "        X, y = X.cuda(), y.cuda()\n",
        "        with torch.set_grad_enabled(train):\n",
        "            y_pred = model(X)\n",
        "        loss = criterion(y_pred, y)\n",
        "        curr_loss += loss.item()\n",
        "        curr_acc += (y_pred.argmax(dim=1) == y).sum().item()\n",
        "        if train:\n",
        "            optimizer.zero_grad()\n",
        "            loss.backward()\n",
        "            optimizer.step()\n",
        "    return curr_loss / len(loader), curr_acc / len(loader.dataset)"
      ],
      "execution_count": 103,
      "outputs": []
    },
    {
      "cell_type": "code",
      "metadata": {
        "id": "wRoxhUTXdbxm"
      },
      "source": [
        "criterion = torch.nn.CrossEntropyLoss()\n",
        "optimizer = torch.optim.Adam(model.parameters(), lr=0.001)\n",
        "n_epochs = 10"
      ],
      "execution_count": 104,
      "outputs": []
    },
    {
      "cell_type": "code",
      "metadata": {
        "colab": {
          "base_uri": "https://localhost:8080/",
          "height": 746,
          "referenced_widgets": [
            "8ace2e35937f4e7b8b6ecb781eb18e8c",
            "2ca95e326c0940a79496702166931e54",
            "a858d2af342147449fbb15aa4aeb94e5",
            "e475e9578f1b4691811c4a8263a5da70",
            "b3ef5a8578514b4f812de757b9f69382",
            "306f1709b2554373b6b641394f6eccbf",
            "3c3729344fad403c89263a582c8a6616",
            "2edaccdb66284f5f9541f637fd97675a"
          ]
        },
        "id": "aF9NsWtPeFyI",
        "outputId": "22da4b5a-7ea8-426a-d068-98c33265c3d1"
      },
      "source": [
        "train_losses = []\n",
        "test_losses = []\n",
        "\n",
        "for epoch in tqdm(range(1, n_epochs + 1)):\n",
        "    start = time.time()\n",
        "    train_loss, train_acc = train_model_mnist(model, train_loader, criterion,\n",
        "                                              optimizer)\n",
        "    test_loss, test_acc = train_model_mnist(model, test_loader, criterion,\n",
        "                                            optimizer, train=False)\n",
        "    train_losses.append(train_loss)\n",
        "    test_losses.append(test_loss)\n",
        "    stats = \"\"\"\n",
        "    Epoch: {}, time: {:.1f}s\n",
        "    train_loss: {:.3f}, train_acc: {:.3f}\\ttest_loss: {:.3f}, test_acc: {:.3f}\n",
        "    \"\"\".format(epoch, time.time() - start, train_loss, train_acc,\n",
        "               test_loss, test_acc)\n",
        "    print(stats)"
      ],
      "execution_count": 105,
      "outputs": [
        {
          "output_type": "display_data",
          "data": {
            "application/vnd.jupyter.widget-view+json": {
              "model_id": "8ace2e35937f4e7b8b6ecb781eb18e8c",
              "version_minor": 0,
              "version_major": 2
            },
            "text/plain": [
              "HBox(children=(FloatProgress(value=0.0, max=10.0), HTML(value='')))"
            ]
          },
          "metadata": {
            "tags": []
          }
        },
        {
          "output_type": "stream",
          "text": [
            "\n",
            "    Epoch: 1, time: 27.6s\n",
            "    train_loss: 1.260, train_acc: 0.555\ttest_loss: 0.983, test_acc: 0.653\n",
            "    \n",
            "\n",
            "    Epoch: 2, time: 27.4s\n",
            "    train_loss: 0.996, train_acc: 0.647\ttest_loss: 0.826, test_acc: 0.702\n",
            "    \n",
            "\n",
            "    Epoch: 3, time: 27.3s\n",
            "    train_loss: 0.940, train_acc: 0.665\ttest_loss: 0.846, test_acc: 0.699\n",
            "    \n",
            "\n",
            "    Epoch: 4, time: 27.2s\n",
            "    train_loss: 0.910, train_acc: 0.678\ttest_loss: 0.782, test_acc: 0.723\n",
            "    \n",
            "\n",
            "    Epoch: 5, time: 27.4s\n",
            "    train_loss: 0.893, train_acc: 0.680\ttest_loss: 0.786, test_acc: 0.723\n",
            "    \n",
            "\n",
            "    Epoch: 6, time: 27.3s\n",
            "    train_loss: 0.882, train_acc: 0.685\ttest_loss: 0.778, test_acc: 0.729\n",
            "    \n",
            "\n",
            "    Epoch: 7, time: 27.3s\n",
            "    train_loss: 0.866, train_acc: 0.691\ttest_loss: 0.758, test_acc: 0.738\n",
            "    \n",
            "\n",
            "    Epoch: 8, time: 27.3s\n",
            "    train_loss: 0.861, train_acc: 0.693\ttest_loss: 0.753, test_acc: 0.737\n",
            "    \n",
            "\n",
            "    Epoch: 9, time: 27.3s\n",
            "    train_loss: 0.849, train_acc: 0.696\ttest_loss: 0.763, test_acc: 0.732\n",
            "    \n",
            "\n",
            "    Epoch: 10, time: 27.4s\n",
            "    train_loss: 0.842, train_acc: 0.701\ttest_loss: 0.734, test_acc: 0.736\n",
            "    \n",
            "\n"
          ],
          "name": "stdout"
        }
      ]
    },
    {
      "cell_type": "code",
      "metadata": {
        "colab": {
          "base_uri": "https://localhost:8080/"
        },
        "id": "xWzZmRcLmBgp",
        "outputId": "6cc5f0e6-689c-41b3-defc-9306c90b99e8"
      },
      "source": [
        "stats = \"\"\"Final accuracy on test sample: {:.3f}\n",
        "Final loss on training sample: {:.3f}\n",
        "Final loss on test sample: {:.3f}\"\"\".format(test_acc, train_losses[-1],\n",
        "                                            test_losses[-1])\n",
        "print(stats)"
      ],
      "execution_count": 107,
      "outputs": [
        {
          "output_type": "stream",
          "text": [
            "Final accuracy on test sample: 0.736\n",
            "Final loss on training sample: 0.842\n",
            "Final loss on test sample: 0.734\n"
          ],
          "name": "stdout"
        }
      ]
    },
    {
      "cell_type": "markdown",
      "metadata": {
        "id": "JYYK5dQFjCnL"
      },
      "source": [
        "Увы, предобученная ResNet 18 показала по всем параметрам худшие результаты, чем обычная свёрточная сеть из предыдущей домашки (train_loss: 0.148, train_acc: 0.948,\ttest_loss: 0.332, test_acc: 0.904). :("
      ]
    },
    {
      "cell_type": "markdown",
      "metadata": {
        "id": "o9vf5aM1QGvp"
      },
      "source": [
        "## Оценка качества\n",
        "Посмотрим на другие метрики качества (графики лосса на обучающей и тестовой выборке, confusion matrix)."
      ]
    },
    {
      "cell_type": "code",
      "metadata": {
        "colab": {
          "base_uri": "https://localhost:8080/",
          "height": 354
        },
        "id": "gtJ_lgZGQJDJ",
        "outputId": "e551821b-edea-4385-8d2f-65d713d8e6fe"
      },
      "source": [
        "fig, (ax_1, ax_2) = plt.subplots(1, 2, sharey=True, figsize=(10, 5))\n",
        "ax_1.plot(train_losses)\n",
        "ax_2.plot(train_losses)\n",
        "ax_1.grid(True)\n",
        "ax_2.grid(True)\n",
        "ax_1.set_xlabel('Epoch', fontsize='large')\n",
        "ax_2.set_xlabel('Epoch', fontsize='large')\n",
        "ax_1.set_ylabel('Loss function', fontsize='large')\n",
        "ax_1.set_title('Training sample', fontsize='x-large')\n",
        "ax_2.set_title('Test sample', fontsize='x-large')\n",
        "plt.show()"
      ],
      "execution_count": 106,
      "outputs": [
        {
          "output_type": "display_data",
          "data": {
            "image/png": "[encoded data removed]",
            "text/plain": [
              "<Figure size 720x360 with 2 Axes>"
            ]
          },
          "metadata": {
            "tags": [],
            "needs_background": "light"
          }
        }
      ]
    },
    {
      "cell_type": "markdown",
      "metadata": {
        "id": "ewohfvj7l11f"
      },
      "source": [
        "Графики лосса ничего примечательного не говорят. :("
      ]
    },
    {
      "cell_type": "code",
      "metadata": {
        "id": "1dYcmVhplyVH"
      },
      "source": [
        "y_true = []\n",
        "y_pred = []\n",
        "\n",
        "model.eval()\n",
        "for X, y in test_loader:\n",
        "    X, y = X.cuda(), y.cuda()\n",
        "    y_true.append(y.cpu().numpy())\n",
        "    y_pred.append(model(X).argmax(dim=1).cpu().numpy())"
      ],
      "execution_count": 111,
      "outputs": []
    },
    {
      "cell_type": "code",
      "metadata": {
        "id": "ncC8_jjwmJxE"
      },
      "source": [
        "y_true = list(chain.from_iterable(y_true))\n",
        "y_pred = list(chain.from_iterable(y_pred))"
      ],
      "execution_count": 112,
      "outputs": []
    },
    {
      "cell_type": "code",
      "metadata": {
        "colab": {
          "base_uri": "https://localhost:8080/"
        },
        "id": "azTYvsZTmhen",
        "outputId": "c8dff7a4-1305-4f7a-9c07-457ca069f7b7"
      },
      "source": [
        "target_names = ['T-shirt/Top', 'Trouser', 'Pullover', 'Dress', 'Coat',\n",
        "                 'Sandal', 'Shirt', 'Sheaker', 'Bag', 'Ankle boot']\n",
        "\n",
        "print(classification_report(y_true, y_pred, target_names=target_names))"
      ],
      "execution_count": 113,
      "outputs": [
        {
          "output_type": "stream",
          "text": [
            "              precision    recall  f1-score   support\n",
            "\n",
            " T-shirt/Top       0.62      0.80      0.70      1000\n",
            "     Trouser       0.94      0.94      0.94      1000\n",
            "    Pullover       0.59      0.55      0.57      1000\n",
            "       Dress       0.75      0.69      0.72      1000\n",
            "        Coat       0.55      0.71      0.62      1000\n",
            "      Sandal       0.92      0.77      0.83      1000\n",
            "       Shirt       0.48      0.25      0.33      1000\n",
            "     Sheaker       0.76      0.88      0.82      1000\n",
            "         Bag       0.82      0.91      0.87      1000\n",
            "  Ankle boot       0.91      0.87      0.89      1000\n",
            "\n",
            "    accuracy                           0.74     10000\n",
            "   macro avg       0.73      0.74      0.73     10000\n",
            "weighted avg       0.73      0.74      0.73     10000\n",
            "\n"
          ],
          "name": "stdout"
        }
      ]
    },
    {
      "cell_type": "markdown",
      "metadata": {
        "id": "SuH4_70emrcS"
      },
      "source": [
        "Если сравнить это с classification report-ом из предыдущего дз, то становится видно, что абсолютно все метрики качества показывают худшие значения. :("
      ]
    }
  ]
}