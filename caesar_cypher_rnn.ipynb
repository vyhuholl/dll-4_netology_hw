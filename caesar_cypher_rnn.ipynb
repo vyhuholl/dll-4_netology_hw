{
  "nbformat": 4,
  "nbformat_minor": 0,
  "metadata": {
    "colab": {
      "name": "caesar_cypher_rnn.ipynb",
      "provenance": [],
      "collapsed_sections": []
    },
    "kernelspec": {
      "name": "python3",
      "display_name": "Python 3"
    },
    "accelerator": "GPU",
    "widgets": {
      "application/vnd.jupyter.widget-state+json": {
        "2f1088b312dd477993f7bb82b73cfa0c": {
          "model_module": "@jupyter-widgets/controls",
          "model_name": "HBoxModel",
          "state": {
            "_view_name": "HBoxView",
            "_dom_classes": [],
            "_model_name": "HBoxModel",
            "_view_module": "@jupyter-widgets/controls",
            "_model_module_version": "1.5.0",
            "_view_count": null,
            "_view_module_version": "1.5.0",
            "box_style": "",
            "layout": "IPY_MODEL_27c740a0019c4ba4b52854b46fbc2f1c",
            "_model_module": "@jupyter-widgets/controls",
            "children": [
              "IPY_MODEL_b9dd37fdc6ef4b02b751638e8e259ea9",
              "IPY_MODEL_1891f413a40b47babaa19ca0ca07be63"
            ]
          }
        },
        "27c740a0019c4ba4b52854b46fbc2f1c": {
          "model_module": "@jupyter-widgets/base",
          "model_name": "LayoutModel",
          "state": {
            "_view_name": "LayoutView",
            "grid_template_rows": null,
            "right": null,
            "justify_content": null,
            "_view_module": "@jupyter-widgets/base",
            "overflow": null,
            "_model_module_version": "1.2.0",
            "_view_count": null,
            "flex_flow": null,
            "width": null,
            "min_width": null,
            "border": null,
            "align_items": null,
            "bottom": null,
            "_model_module": "@jupyter-widgets/base",
            "top": null,
            "grid_column": null,
            "overflow_y": null,
            "overflow_x": null,
            "grid_auto_flow": null,
            "grid_area": null,
            "grid_template_columns": null,
            "flex": null,
            "_model_name": "LayoutModel",
            "justify_items": null,
            "grid_row": null,
            "max_height": null,
            "align_content": null,
            "visibility": null,
            "align_self": null,
            "height": null,
            "min_height": null,
            "padding": null,
            "grid_auto_rows": null,
            "grid_gap": null,
            "max_width": null,
            "order": null,
            "_view_module_version": "1.2.0",
            "grid_template_areas": null,
            "object_position": null,
            "object_fit": null,
            "grid_auto_columns": null,
            "margin": null,
            "display": null,
            "left": null
          }
        },
        "b9dd37fdc6ef4b02b751638e8e259ea9": {
          "model_module": "@jupyter-widgets/controls",
          "model_name": "FloatProgressModel",
          "state": {
            "_view_name": "ProgressView",
            "style": "IPY_MODEL_3d7a0bdead42464190a934329ac08d9d",
            "_dom_classes": [],
            "description": "100%",
            "_model_name": "FloatProgressModel",
            "bar_style": "success",
            "max": 100,
            "_view_module": "@jupyter-widgets/controls",
            "_model_module_version": "1.5.0",
            "value": 100,
            "_view_count": null,
            "_view_module_version": "1.5.0",
            "orientation": "horizontal",
            "min": 0,
            "description_tooltip": null,
            "_model_module": "@jupyter-widgets/controls",
            "layout": "IPY_MODEL_645f0246e583424ea5774404f4778775"
          }
        },
        "1891f413a40b47babaa19ca0ca07be63": {
          "model_module": "@jupyter-widgets/controls",
          "model_name": "HTMLModel",
          "state": {
            "_view_name": "HTMLView",
            "style": "IPY_MODEL_84a80525008e4e82aef83518123d16c7",
            "_dom_classes": [],
            "description": "",
            "_model_name": "HTMLModel",
            "placeholder": "​",
            "_view_module": "@jupyter-widgets/controls",
            "_model_module_version": "1.5.0",
            "value": " 100/100 [01:10&lt;00:00,  1.43it/s]",
            "_view_count": null,
            "_view_module_version": "1.5.0",
            "description_tooltip": null,
            "_model_module": "@jupyter-widgets/controls",
            "layout": "IPY_MODEL_8bfd6f8ef22646b3add4a73cd8a505da"
          }
        },
        "3d7a0bdead42464190a934329ac08d9d": {
          "model_module": "@jupyter-widgets/controls",
          "model_name": "ProgressStyleModel",
          "state": {
            "_view_name": "StyleView",
            "_model_name": "ProgressStyleModel",
            "description_width": "initial",
            "_view_module": "@jupyter-widgets/base",
            "_model_module_version": "1.5.0",
            "_view_count": null,
            "_view_module_version": "1.2.0",
            "bar_color": null,
            "_model_module": "@jupyter-widgets/controls"
          }
        },
        "645f0246e583424ea5774404f4778775": {
          "model_module": "@jupyter-widgets/base",
          "model_name": "LayoutModel",
          "state": {
            "_view_name": "LayoutView",
            "grid_template_rows": null,
            "right": null,
            "justify_content": null,
            "_view_module": "@jupyter-widgets/base",
            "overflow": null,
            "_model_module_version": "1.2.0",
            "_view_count": null,
            "flex_flow": null,
            "width": null,
            "min_width": null,
            "border": null,
            "align_items": null,
            "bottom": null,
            "_model_module": "@jupyter-widgets/base",
            "top": null,
            "grid_column": null,
            "overflow_y": null,
            "overflow_x": null,
            "grid_auto_flow": null,
            "grid_area": null,
            "grid_template_columns": null,
            "flex": null,
            "_model_name": "LayoutModel",
            "justify_items": null,
            "grid_row": null,
            "max_height": null,
            "align_content": null,
            "visibility": null,
            "align_self": null,
            "height": null,
            "min_height": null,
            "padding": null,
            "grid_auto_rows": null,
            "grid_gap": null,
            "max_width": null,
            "order": null,
            "_view_module_version": "1.2.0",
            "grid_template_areas": null,
            "object_position": null,
            "object_fit": null,
            "grid_auto_columns": null,
            "margin": null,
            "display": null,
            "left": null
          }
        },
        "84a80525008e4e82aef83518123d16c7": {
          "model_module": "@jupyter-widgets/controls",
          "model_name": "DescriptionStyleModel",
          "state": {
            "_view_name": "StyleView",
            "_model_name": "DescriptionStyleModel",
            "description_width": "",
            "_view_module": "@jupyter-widgets/base",
            "_model_module_version": "1.5.0",
            "_view_count": null,
            "_view_module_version": "1.2.0",
            "_model_module": "@jupyter-widgets/controls"
          }
        },
        "8bfd6f8ef22646b3add4a73cd8a505da": {
          "model_module": "@jupyter-widgets/base",
          "model_name": "LayoutModel",
          "state": {
            "_view_name": "LayoutView",
            "grid_template_rows": null,
            "right": null,
            "justify_content": null,
            "_view_module": "@jupyter-widgets/base",
            "overflow": null,
            "_model_module_version": "1.2.0",
            "_view_count": null,
            "flex_flow": null,
            "width": null,
            "min_width": null,
            "border": null,
            "align_items": null,
            "bottom": null,
            "_model_module": "@jupyter-widgets/base",
            "top": null,
            "grid_column": null,
            "overflow_y": null,
            "overflow_x": null,
            "grid_auto_flow": null,
            "grid_area": null,
            "grid_template_columns": null,
            "flex": null,
            "_model_name": "LayoutModel",
            "justify_items": null,
            "grid_row": null,
            "max_height": null,
            "align_content": null,
            "visibility": null,
            "align_self": null,
            "height": null,
            "min_height": null,
            "padding": null,
            "grid_auto_rows": null,
            "grid_gap": null,
            "max_width": null,
            "order": null,
            "_view_module_version": "1.2.0",
            "grid_template_areas": null,
            "object_position": null,
            "object_fit": null,
            "grid_auto_columns": null,
            "margin": null,
            "display": null,
            "left": null
          }
        },
        "0c573768e7d34061851b33d777b7eb6a": {
          "model_module": "@jupyter-widgets/controls",
          "model_name": "HBoxModel",
          "state": {
            "_view_name": "HBoxView",
            "_dom_classes": [],
            "_model_name": "HBoxModel",
            "_view_module": "@jupyter-widgets/controls",
            "_model_module_version": "1.5.0",
            "_view_count": null,
            "_view_module_version": "1.5.0",
            "box_style": "",
            "layout": "IPY_MODEL_182ff4a322614feb8924a64c3584e309",
            "_model_module": "@jupyter-widgets/controls",
            "children": [
              "IPY_MODEL_c8d7641f7c694200a2ce3cd52e081e88",
              "IPY_MODEL_98257dbb0a7143b28dd8dbe50421d378"
            ]
          }
        },
        "182ff4a322614feb8924a64c3584e309": {
          "model_module": "@jupyter-widgets/base",
          "model_name": "LayoutModel",
          "state": {
            "_view_name": "LayoutView",
            "grid_template_rows": null,
            "right": null,
            "justify_content": null,
            "_view_module": "@jupyter-widgets/base",
            "overflow": null,
            "_model_module_version": "1.2.0",
            "_view_count": null,
            "flex_flow": null,
            "width": null,
            "min_width": null,
            "border": null,
            "align_items": null,
            "bottom": null,
            "_model_module": "@jupyter-widgets/base",
            "top": null,
            "grid_column": null,
            "overflow_y": null,
            "overflow_x": null,
            "grid_auto_flow": null,
            "grid_area": null,
            "grid_template_columns": null,
            "flex": null,
            "_model_name": "LayoutModel",
            "justify_items": null,
            "grid_row": null,
            "max_height": null,
            "align_content": null,
            "visibility": null,
            "align_self": null,
            "height": null,
            "min_height": null,
            "padding": null,
            "grid_auto_rows": null,
            "grid_gap": null,
            "max_width": null,
            "order": null,
            "_view_module_version": "1.2.0",
            "grid_template_areas": null,
            "object_position": null,
            "object_fit": null,
            "grid_auto_columns": null,
            "margin": null,
            "display": null,
            "left": null
          }
        },
        "c8d7641f7c694200a2ce3cd52e081e88": {
          "model_module": "@jupyter-widgets/controls",
          "model_name": "FloatProgressModel",
          "state": {
            "_view_name": "ProgressView",
            "style": "IPY_MODEL_d5eedd06a1874e1b8165fada8372da90",
            "_dom_classes": [],
            "description": "100%",
            "_model_name": "FloatProgressModel",
            "bar_style": "success",
            "max": 100,
            "_view_module": "@jupyter-widgets/controls",
            "_model_module_version": "1.5.0",
            "value": 100,
            "_view_count": null,
            "_view_module_version": "1.5.0",
            "orientation": "horizontal",
            "min": 0,
            "description_tooltip": null,
            "_model_module": "@jupyter-widgets/controls",
            "layout": "IPY_MODEL_eedb4dceaf5e4a659558fd41f8b778f2"
          }
        },
        "98257dbb0a7143b28dd8dbe50421d378": {
          "model_module": "@jupyter-widgets/controls",
          "model_name": "HTMLModel",
          "state": {
            "_view_name": "HTMLView",
            "style": "IPY_MODEL_8954cddec2a24dd88e491d214c550a60",
            "_dom_classes": [],
            "description": "",
            "_model_name": "HTMLModel",
            "placeholder": "​",
            "_view_module": "@jupyter-widgets/controls",
            "_model_module_version": "1.5.0",
            "value": " 100/100 [01:08&lt;00:00,  1.46it/s]",
            "_view_count": null,
            "_view_module_version": "1.5.0",
            "description_tooltip": null,
            "_model_module": "@jupyter-widgets/controls",
            "layout": "IPY_MODEL_55e49b66fb3c44b2803d69c2d8ae7234"
          }
        },
        "d5eedd06a1874e1b8165fada8372da90": {
          "model_module": "@jupyter-widgets/controls",
          "model_name": "ProgressStyleModel",
          "state": {
            "_view_name": "StyleView",
            "_model_name": "ProgressStyleModel",
            "description_width": "initial",
            "_view_module": "@jupyter-widgets/base",
            "_model_module_version": "1.5.0",
            "_view_count": null,
            "_view_module_version": "1.2.0",
            "bar_color": null,
            "_model_module": "@jupyter-widgets/controls"
          }
        },
        "eedb4dceaf5e4a659558fd41f8b778f2": {
          "model_module": "@jupyter-widgets/base",
          "model_name": "LayoutModel",
          "state": {
            "_view_name": "LayoutView",
            "grid_template_rows": null,
            "right": null,
            "justify_content": null,
            "_view_module": "@jupyter-widgets/base",
            "overflow": null,
            "_model_module_version": "1.2.0",
            "_view_count": null,
            "flex_flow": null,
            "width": null,
            "min_width": null,
            "border": null,
            "align_items": null,
            "bottom": null,
            "_model_module": "@jupyter-widgets/base",
            "top": null,
            "grid_column": null,
            "overflow_y": null,
            "overflow_x": null,
            "grid_auto_flow": null,
            "grid_area": null,
            "grid_template_columns": null,
            "flex": null,
            "_model_name": "LayoutModel",
            "justify_items": null,
            "grid_row": null,
            "max_height": null,
            "align_content": null,
            "visibility": null,
            "align_self": null,
            "height": null,
            "min_height": null,
            "padding": null,
            "grid_auto_rows": null,
            "grid_gap": null,
            "max_width": null,
            "order": null,
            "_view_module_version": "1.2.0",
            "grid_template_areas": null,
            "object_position": null,
            "object_fit": null,
            "grid_auto_columns": null,
            "margin": null,
            "display": null,
            "left": null
          }
        },
        "8954cddec2a24dd88e491d214c550a60": {
          "model_module": "@jupyter-widgets/controls",
          "model_name": "DescriptionStyleModel",
          "state": {
            "_view_name": "StyleView",
            "_model_name": "DescriptionStyleModel",
            "description_width": "",
            "_view_module": "@jupyter-widgets/base",
            "_model_module_version": "1.5.0",
            "_view_count": null,
            "_view_module_version": "1.2.0",
            "_model_module": "@jupyter-widgets/controls"
          }
        },
        "55e49b66fb3c44b2803d69c2d8ae7234": {
          "model_module": "@jupyter-widgets/base",
          "model_name": "LayoutModel",
          "state": {
            "_view_name": "LayoutView",
            "grid_template_rows": null,
            "right": null,
            "justify_content": null,
            "_view_module": "@jupyter-widgets/base",
            "overflow": null,
            "_model_module_version": "1.2.0",
            "_view_count": null,
            "flex_flow": null,
            "width": null,
            "min_width": null,
            "border": null,
            "align_items": null,
            "bottom": null,
            "_model_module": "@jupyter-widgets/base",
            "top": null,
            "grid_column": null,
            "overflow_y": null,
            "overflow_x": null,
            "grid_auto_flow": null,
            "grid_area": null,
            "grid_template_columns": null,
            "flex": null,
            "_model_name": "LayoutModel",
            "justify_items": null,
            "grid_row": null,
            "max_height": null,
            "align_content": null,
            "visibility": null,
            "align_self": null,
            "height": null,
            "min_height": null,
            "padding": null,
            "grid_auto_rows": null,
            "grid_gap": null,
            "max_width": null,
            "order": null,
            "_view_module_version": "1.2.0",
            "grid_template_areas": null,
            "object_position": null,
            "object_fit": null,
            "grid_auto_columns": null,
            "margin": null,
            "display": null,
            "left": null
          }
        }
      }
    }
  },
  "cells": [
    {
      "cell_type": "code",
      "metadata": {
        "id": "xTtR5b0VFFxa"
      },
      "source": [
        "from google.colab import files\n",
        "from IPython.display import clear_output\n",
        "files.upload()\n",
        "clear_output()"
      ],
      "execution_count": null,
      "outputs": []
    },
    {
      "cell_type": "code",
      "metadata": {
        "id": "Nhut7e9fF3hL"
      },
      "source": [
        "!pip install pycodestyle pycodestyle_magic\n",
        "!pip install flake8\n",
        "clear_output()"
      ],
      "execution_count": null,
      "outputs": []
    },
    {
      "cell_type": "code",
      "metadata": {
        "id": "yesormTpF5je"
      },
      "source": [
        "%load_ext pycodestyle_magic"
      ],
      "execution_count": null,
      "outputs": []
    },
    {
      "cell_type": "code",
      "metadata": {
        "id": "271-Ub0DF7b3"
      },
      "source": [
        "import re\n",
        "import time\n",
        "import torch\n",
        "import pandas as pd\n",
        "import numpy as np\n",
        "import matplotlib.pyplot as plt\n",
        "from tqdm.notebook import tqdm\n",
        "from string import ascii_lowercase\n",
        "from sklearn.model_selection import train_test_split\n",
        "\n",
        "%matplotlib inline"
      ],
      "execution_count": null,
      "outputs": []
    },
    {
      "cell_type": "code",
      "metadata": {
        "id": "okhKp4fSeKtp"
      },
      "source": [
        "torch.manual_seed(42)\n",
        "np.random.seed(42)\n",
        "clear_output()"
      ],
      "execution_count": null,
      "outputs": []
    },
    {
      "cell_type": "markdown",
      "metadata": {
        "id": "H7oyWXnoFiEg"
      },
      "source": [
        "# Задание 1\n",
        "## Препроцессинг данных"
      ]
    },
    {
      "cell_type": "code",
      "metadata": {
        "id": "k0L6KrIhG2CQ"
      },
      "source": [
        "russian = 'абвгдеёжзийклмнопрстуфхцчшщьыъэюя'\n",
        "CHAR_TO_INDEX = {w: i for i, w in enumerate(russian, 1)}\n",
        "CHAR_TO_INDEX[' '] = 34"
      ],
      "execution_count": null,
      "outputs": []
    },
    {
      "cell_type": "code",
      "metadata": {
        "id": "_LKMJTToFkwq"
      },
      "source": [
        "def caesar_encode(text, k):\n",
        "    cipher = ''\n",
        "    for char in text:\n",
        "        if char.lower() in russian:\n",
        "            id = (CHAR_TO_INDEX[char.lower()] + k) % 33\n",
        "            if char.isupper():\n",
        "                cipher += russian[id].upper()\n",
        "            else:\n",
        "                cipher += russian[id]\n",
        "        else:\n",
        "            cipher += char\n",
        "    return cipher"
      ],
      "execution_count": null,
      "outputs": []
    },
    {
      "cell_type": "code",
      "metadata": {
        "id": "v1owhyq0KDjO"
      },
      "source": [
        "regex = r'(\\[\\d+\\] \\(#litres_trial_promo\\)|\\[.*\\]|\\t+)'\n",
        "\n",
        "# обнаружилась странная ошибка – первое \"Не\" в тексте оказалось записано латиницей\n",
        "with open('onegin.txt') as f:\n",
        "    sents = [re.sub(regex, '', sent).replace('\\xa0', ' ').replace('He', 'Не')\n",
        "             for sent in f.read().splitlines()\n",
        "             if sent.startswith('\\t\\t') and not sent.endswith('………')]"
      ],
      "execution_count": null,
      "outputs": []
    },
    {
      "cell_type": "code",
      "metadata": {
        "colab": {
          "base_uri": "https://localhost:8080/"
        },
        "id": "PvUf0kZLPfyN",
        "outputId": "46141c50-369c-4e36-d625-cc3a8a570ca7"
      },
      "source": [
        "len(sents)"
      ],
      "execution_count": null,
      "outputs": [
        {
          "output_type": "execute_result",
          "data": {
            "text/plain": [
              "1453"
            ]
          },
          "metadata": {
            "tags": []
          },
          "execution_count": 9
        }
      ]
    },
    {
      "cell_type": "code",
      "metadata": {
        "colab": {
          "base_uri": "https://localhost:8080/"
        },
        "id": "2Si-zOQKKuk0",
        "outputId": "eb6e5fd8-651b-400c-d587-c745b93d513c"
      },
      "source": [
        "sents[:10]"
      ],
      "execution_count": null,
      "outputs": [
        {
          "output_type": "execute_result",
          "data": {
            "text/plain": [
              "['Не мысля гордый свет забавить,',\n",
              " 'Вниманье дружбы возлюбя,',\n",
              " 'Хотел бы я тебе представить',\n",
              " 'Залог достойнее тебя,',\n",
              " 'Достойнее души прекрасной,',\n",
              " 'Святой исполненной мечты,',\n",
              " 'Поэзии живой и ясной,',\n",
              " 'Высоких дум и простоты;',\n",
              " 'Но так и быть – рукой пристрастной',\n",
              " 'Прими собранье пёстрых глав,']"
            ]
          },
          "metadata": {
            "tags": []
          },
          "execution_count": 10
        }
      ]
    },
    {
      "cell_type": "code",
      "metadata": {
        "id": "turmSzkZQG-q"
      },
      "source": [
        "sents_ciphered = [caesar_encode(sent, 3) for sent in sents]"
      ],
      "execution_count": null,
      "outputs": []
    },
    {
      "cell_type": "code",
      "metadata": {
        "colab": {
          "base_uri": "https://localhost:8080/"
        },
        "id": "ivC_3bvvQa8Z",
        "outputId": "84017883-b515-4163-efb0-1202c1f99cf6"
      },
      "source": [
        "sents_ciphered[:10]"
      ],
      "execution_count": null,
      "outputs": [
        {
          "output_type": "execute_result",
          "data": {
            "text/plain": [
              "['Си ряхпг жтфзян хёиц лдедёмцю,',\n",
              " 'Ёсмрдсюи зфчкея ётлпвег,',\n",
              " 'Щтцип ея г циеи уфизхцдёмцю',\n",
              " 'Лдптж зтхцтнсии циег,',\n",
              " 'Зтхцтнсии зчъм уфиофдхстн,',\n",
              " 'Хёгцтн мхутпсисстн риыця,',\n",
              " 'Утблмм кмётн м гхстн,',\n",
              " 'Ёяхтомщ зчр м уфтхцтця;',\n",
              " 'Ст цдо м еяцю – фчотн уфмхцфдхцстн',\n",
              " 'Уфмрм хтефдсюи уйхцфящ жпдё,']"
            ]
          },
          "metadata": {
            "tags": []
          },
          "execution_count": 12
        }
      ]
    },
    {
      "cell_type": "markdown",
      "metadata": {
        "id": "gPkdc1r-RMSe"
      },
      "source": [
        "Посчитаем среднюю длину строки в стихотворении, чтобы выяснить, до какой длины делать padding."
      ]
    },
    {
      "cell_type": "code",
      "metadata": {
        "colab": {
          "base_uri": "https://localhost:8080/"
        },
        "id": "Q8SbrOlaRLXJ",
        "outputId": "a4a90ff5-da6f-4cb4-b07f-8f467b325ce2"
      },
      "source": [
        "np.mean([len(sent) for sent in sents])"
      ],
      "execution_count": null,
      "outputs": [
        {
          "output_type": "execute_result",
          "data": {
            "text/plain": [
              "25.044046799724708"
            ]
          },
          "metadata": {
            "tags": []
          },
          "execution_count": 13
        }
      ]
    },
    {
      "cell_type": "code",
      "metadata": {
        "id": "lDrsiz3ETEHU"
      },
      "source": [
        "MAX_LEN = 25\n",
        "\n",
        "X = torch.zeros((len(sents), MAX_LEN), dtype=int)\n",
        "for i in range(len(sents)):\n",
        "    for j, w in enumerate(sents[i]):\n",
        "        if j >= MAX_LEN:\n",
        "            break\n",
        "        if w.lower() in CHAR_TO_INDEX:\n",
        "            X[i][j] = CHAR_TO_INDEX[w.lower()]"
      ],
      "execution_count": null,
      "outputs": []
    },
    {
      "cell_type": "code",
      "metadata": {
        "colab": {
          "base_uri": "https://localhost:8080/"
        },
        "id": "PUimgWeDUfGA",
        "outputId": "cc5ba721-e6fa-42af-dd87-9d4a60123cca"
      },
      "source": [
        "X[:10]"
      ],
      "execution_count": null,
      "outputs": [
        {
          "output_type": "execute_result",
          "data": {
            "text/plain": [
              "tensor([[15,  6, 34, 14, 29, 19, 13, 33, 34,  4, 16, 18,  5, 29, 11, 34, 19,  3,\n",
              "          6, 20, 34,  9,  1,  2,  1],\n",
              "        [ 3, 15, 10, 14,  1, 15, 28,  6, 34,  5, 18, 21,  8,  2, 29, 34,  3, 16,\n",
              "          9, 13, 32,  2, 33,  0,  0],\n",
              "        [23, 16, 20,  6, 13, 34,  2, 29, 34, 33, 34, 20,  6,  2,  6, 34, 17, 18,\n",
              "          6,  5, 19, 20,  1,  3, 10],\n",
              "        [ 9,  1, 13, 16,  4, 34,  5, 16, 19, 20, 16, 11, 15,  6,  6, 34, 20,  6,\n",
              "          2, 33,  0,  0,  0,  0,  0],\n",
              "        [ 5, 16, 19, 20, 16, 11, 15,  6,  6, 34,  5, 21, 26, 10, 34, 17, 18,  6,\n",
              "         12, 18,  1, 19, 15, 16, 11],\n",
              "        [19,  3, 33, 20, 16, 11, 34, 10, 19, 17, 16, 13, 15,  6, 15, 15, 16, 11,\n",
              "         34, 14,  6, 25, 20, 29,  0],\n",
              "        [17, 16, 31,  9, 10, 10, 34,  8, 10,  3, 16, 11, 34, 10, 34, 33, 19, 15,\n",
              "         16, 11,  0,  0,  0,  0,  0],\n",
              "        [ 3, 29, 19, 16, 12, 10, 23, 34,  5, 21, 14, 34, 10, 34, 17, 18, 16, 19,\n",
              "         20, 16, 20, 29,  0,  0,  0],\n",
              "        [15, 16, 34, 20,  1, 12, 34, 10, 34,  2, 29, 20, 28, 34,  0, 34, 18, 21,\n",
              "         12, 16, 11, 34, 17, 18, 10],\n",
              "        [17, 18, 10, 14, 10, 34, 19, 16,  2, 18,  1, 15, 28,  6, 34, 17,  7, 19,\n",
              "         20, 18, 29, 23, 34,  4, 13]])"
            ]
          },
          "metadata": {
            "tags": []
          },
          "execution_count": 15
        }
      ]
    },
    {
      "cell_type": "code",
      "metadata": {
        "id": "xHujtV7KX1vN"
      },
      "source": [
        "MAX_LEN = 25\n",
        "\n",
        "y = torch.zeros((len(sents_ciphered), MAX_LEN), dtype=int)\n",
        "for i in range(len(sents_ciphered)):\n",
        "    for j, w in enumerate(sents_ciphered[i]):\n",
        "        if j >= MAX_LEN:\n",
        "            break\n",
        "        if w.lower() in CHAR_TO_INDEX:\n",
        "            y[i][j] = CHAR_TO_INDEX[w.lower()]"
      ],
      "execution_count": null,
      "outputs": []
    },
    {
      "cell_type": "code",
      "metadata": {
        "colab": {
          "base_uri": "https://localhost:8080/"
        },
        "id": "hcZVLauuYBwE",
        "outputId": "edebf11f-cb76-4322-ccbb-09aa262ed8c6"
      },
      "source": [
        "y[:10]"
      ],
      "execution_count": null,
      "outputs": [
        {
          "output_type": "execute_result",
          "data": {
            "text/plain": [
              "tensor([[19, 10, 34, 18, 33, 23, 17,  4, 34,  8, 20, 22,  9, 33, 15, 34, 23,  7,\n",
              "         10, 24, 34, 13,  5,  6,  5],\n",
              "        [ 7, 19, 14, 18,  5, 19, 32, 10, 34,  9, 22, 25, 12,  6, 33, 34,  7, 20,\n",
              "         13, 17,  3,  6,  4,  0,  0],\n",
              "        [27, 20, 24, 10, 17, 34,  6, 33, 34,  4, 34, 24, 10,  6, 10, 34, 21, 22,\n",
              "         10,  9, 23, 24,  5,  7, 14],\n",
              "        [13,  5, 17, 20,  8, 34,  9, 20, 23, 24, 20, 15, 19, 10, 10, 34, 24, 10,\n",
              "          6,  4,  0,  0,  0,  0,  0],\n",
              "        [ 9, 20, 23, 24, 20, 15, 19, 10, 10, 34,  9, 25, 30, 14, 34, 21, 22, 10,\n",
              "         16, 22,  5, 23, 19, 20, 15],\n",
              "        [23,  7,  4, 24, 20, 15, 34, 14, 23, 21, 20, 17, 19, 10, 19, 19, 20, 15,\n",
              "         34, 18, 10, 29, 24, 33,  0],\n",
              "        [21, 20,  2, 13, 14, 14, 34, 12, 14,  7, 20, 15, 34, 14, 34,  4, 23, 19,\n",
              "         20, 15,  0,  0,  0,  0,  0],\n",
              "        [ 7, 33, 23, 20, 16, 14, 27, 34,  9, 25, 18, 34, 14, 34, 21, 22, 20, 23,\n",
              "         24, 20, 24, 33,  0,  0,  0],\n",
              "        [19, 20, 34, 24,  5, 16, 34, 14, 34,  6, 33, 24, 32, 34,  0, 34, 22, 25,\n",
              "         16, 20, 15, 34, 21, 22, 14],\n",
              "        [21, 22, 14, 18, 14, 34, 23, 20,  6, 22,  5, 19, 32, 10, 34, 21, 11, 23,\n",
              "         24, 22, 33, 27, 34,  8, 17]])"
            ]
          },
          "metadata": {
            "tags": []
          },
          "execution_count": 19
        }
      ]
    },
    {
      "cell_type": "code",
      "metadata": {
        "id": "qZ1b7qDKd9DU"
      },
      "source": [
        "X_train, X_test, y_train, y_test = train_test_split(X, y, random_state=42)"
      ],
      "execution_count": null,
      "outputs": []
    },
    {
      "cell_type": "markdown",
      "metadata": {
        "id": "iBKzj4irYIg2"
      },
      "source": [
        "## Архитектура RNN"
      ]
    },
    {
      "cell_type": "code",
      "metadata": {
        "id": "mT6ZjDw4FnLk"
      },
      "source": [
        "class CaesarNetwork(torch.nn.Module):\n",
        "    def __init__(self, vocab_size, embedding_dim, hidden_dim):\n",
        "        super(CaesarNetwork, self).__init__()\n",
        "        self.embedding = torch.nn.Embedding(vocab_size, embedding_dim)\n",
        "        self.rnn = torch.nn.RNN(embedding_dim, hidden_dim, batch_first=True)\n",
        "        self.dense = torch.nn.Linear(hidden_dim, vocab_size)\n",
        "\n",
        "    def forward(self, x, train=True, state=None):\n",
        "        with torch.set_grad_enabled(train):\n",
        "            out = self.embedding(x)\n",
        "            out, state = self.rnn(out, state)\n",
        "            out = self.dense(out)\n",
        "            out = out.squeeze(0)\n",
        "        return out, state"
      ],
      "execution_count": null,
      "outputs": []
    },
    {
      "cell_type": "markdown",
      "metadata": {
        "id": "UxyxPYZNieO8"
      },
      "source": [
        "## Обучение"
      ]
    },
    {
      "cell_type": "code",
      "metadata": {
        "id": "kgs1fSEciWnB"
      },
      "source": [
        "vocab_size = 35\n",
        "embedding_dim = 35\n",
        "hidden_dim = 128"
      ],
      "execution_count": null,
      "outputs": []
    },
    {
      "cell_type": "code",
      "metadata": {
        "id": "YMRgt1LvjCOS"
      },
      "source": [
        "model = CaesarNetwork(vocab_size, embedding_dim, hidden_dim)"
      ],
      "execution_count": null,
      "outputs": []
    },
    {
      "cell_type": "code",
      "metadata": {
        "id": "OFu965RqjNhb"
      },
      "source": [
        "criterion = torch.nn.CrossEntropyLoss()\n",
        "optimizer = torch.optim.SGD(model.parameters(), lr=0.05)\n",
        "batch_size = 64\n",
        "n_epochs = 100"
      ],
      "execution_count": null,
      "outputs": []
    },
    {
      "cell_type": "code",
      "metadata": {
        "colab": {
          "base_uri": "https://localhost:8080/",
          "height": 1000,
          "referenced_widgets": [
            "2f1088b312dd477993f7bb82b73cfa0c",
            "27c740a0019c4ba4b52854b46fbc2f1c",
            "b9dd37fdc6ef4b02b751638e8e259ea9",
            "1891f413a40b47babaa19ca0ca07be63",
            "3d7a0bdead42464190a934329ac08d9d",
            "645f0246e583424ea5774404f4778775",
            "84a80525008e4e82aef83518123d16c7",
            "8bfd6f8ef22646b3add4a73cd8a505da"
          ]
        },
        "id": "dNDAb7RXjbsh",
        "outputId": "745dba07-07ee-4ec3-9dae-7dc1a603c695"
      },
      "source": [
        "train_losses = []\n",
        "\n",
        "for epoch in tqdm(range(1, n_epochs + 1)):\n",
        "    start = time.time()\n",
        "    train_loss = 0.0\n",
        "    n_batches = int(np.ceil(len(X_train) / batch_size))\n",
        "    for i in range(n_batches):\n",
        "        X_batch = X_train[batch_size * i: batch_size * (i + 1)]\n",
        "        y_batch = y_train[batch_size * i: batch_size * (i + 1)].flatten()\n",
        "        optimizer.zero_grad()\n",
        "        y_pred, _ = model.forward(X_batch)\n",
        "        loss = criterion(y_pred.view(-1, 35), y_batch)\n",
        "        train_loss += loss.item()\n",
        "        loss.backward()\n",
        "        optimizer.step()\n",
        "    train_loss /= n_batches\n",
        "    train_losses.append(train_loss)\n",
        "    sec = time.time() - start\n",
        "    print(f'Epoch: {epoch}, time: {sec:.1f}s, train loss: {train_loss:.3f}')"
      ],
      "execution_count": null,
      "outputs": [
        {
          "output_type": "display_data",
          "data": {
            "application/vnd.jupyter.widget-view+json": {
              "model_id": "2f1088b312dd477993f7bb82b73cfa0c",
              "version_minor": 0,
              "version_major": 2
            },
            "text/plain": [
              "HBox(children=(FloatProgress(value=0.0), HTML(value='')))"
            ]
          },
          "metadata": {
            "tags": []
          }
        },
        {
          "output_type": "stream",
          "text": [
            "Epoch: 1, time: 0.6s, train loss: 3.098\n",
            "Epoch: 2, time: 0.3s, train loss: 2.177\n",
            "Epoch: 3, time: 0.3s, train loss: 1.585\n",
            "Epoch: 4, time: 0.3s, train loss: 1.209\n",
            "Epoch: 5, time: 0.3s, train loss: 0.954\n",
            "Epoch: 6, time: 0.3s, train loss: 0.773\n",
            "Epoch: 7, time: 0.3s, train loss: 0.639\n",
            "Epoch: 8, time: 0.3s, train loss: 0.538\n",
            "Epoch: 9, time: 0.3s, train loss: 0.459\n",
            "Epoch: 10, time: 0.3s, train loss: 0.397\n",
            "Epoch: 11, time: 0.3s, train loss: 0.348\n",
            "Epoch: 12, time: 0.3s, train loss: 0.308\n",
            "Epoch: 13, time: 0.3s, train loss: 0.275\n",
            "Epoch: 14, time: 0.3s, train loss: 0.248\n",
            "Epoch: 15, time: 0.3s, train loss: 0.226\n",
            "Epoch: 16, time: 0.3s, train loss: 0.207\n",
            "Epoch: 17, time: 0.3s, train loss: 0.190\n",
            "Epoch: 18, time: 0.3s, train loss: 0.176\n",
            "Epoch: 19, time: 0.3s, train loss: 0.163\n",
            "Epoch: 20, time: 0.3s, train loss: 0.152\n",
            "Epoch: 21, time: 0.3s, train loss: 0.142\n",
            "Epoch: 22, time: 0.3s, train loss: 0.134\n",
            "Epoch: 23, time: 0.3s, train loss: 0.126\n",
            "Epoch: 24, time: 0.3s, train loss: 0.119\n",
            "Epoch: 25, time: 0.3s, train loss: 0.112\n",
            "Epoch: 26, time: 0.3s, train loss: 0.107\n",
            "Epoch: 27, time: 0.3s, train loss: 0.101\n",
            "Epoch: 28, time: 0.3s, train loss: 0.096\n",
            "Epoch: 29, time: 0.3s, train loss: 0.092\n",
            "Epoch: 30, time: 0.3s, train loss: 0.088\n",
            "Epoch: 31, time: 0.3s, train loss: 0.084\n",
            "Epoch: 32, time: 0.3s, train loss: 0.081\n",
            "Epoch: 33, time: 0.3s, train loss: 0.077\n",
            "Epoch: 34, time: 0.3s, train loss: 0.074\n",
            "Epoch: 35, time: 0.3s, train loss: 0.071\n",
            "Epoch: 36, time: 0.3s, train loss: 0.069\n",
            "Epoch: 37, time: 0.3s, train loss: 0.066\n",
            "Epoch: 38, time: 0.3s, train loss: 0.064\n",
            "Epoch: 39, time: 0.3s, train loss: 0.062\n",
            "Epoch: 40, time: 0.3s, train loss: 0.060\n",
            "Epoch: 41, time: 0.3s, train loss: 0.058\n",
            "Epoch: 42, time: 0.3s, train loss: 0.056\n",
            "Epoch: 43, time: 0.3s, train loss: 0.054\n",
            "Epoch: 44, time: 0.3s, train loss: 0.053\n",
            "Epoch: 45, time: 0.3s, train loss: 0.051\n",
            "Epoch: 46, time: 0.3s, train loss: 0.050\n",
            "Epoch: 47, time: 0.3s, train loss: 0.048\n",
            "Epoch: 48, time: 0.3s, train loss: 0.047\n",
            "Epoch: 49, time: 0.3s, train loss: 0.046\n",
            "Epoch: 50, time: 0.3s, train loss: 0.045\n",
            "Epoch: 51, time: 0.3s, train loss: 0.043\n",
            "Epoch: 52, time: 0.3s, train loss: 0.042\n",
            "Epoch: 53, time: 0.3s, train loss: 0.041\n",
            "Epoch: 54, time: 0.3s, train loss: 0.040\n",
            "Epoch: 55, time: 0.3s, train loss: 0.039\n",
            "Epoch: 56, time: 0.3s, train loss: 0.039\n",
            "Epoch: 57, time: 0.3s, train loss: 0.038\n",
            "Epoch: 58, time: 0.3s, train loss: 0.037\n",
            "Epoch: 59, time: 0.3s, train loss: 0.036\n",
            "Epoch: 60, time: 0.3s, train loss: 0.035\n",
            "Epoch: 61, time: 0.3s, train loss: 0.035\n",
            "Epoch: 62, time: 0.3s, train loss: 0.034\n",
            "Epoch: 63, time: 0.3s, train loss: 0.033\n",
            "Epoch: 64, time: 0.3s, train loss: 0.033\n",
            "Epoch: 65, time: 0.3s, train loss: 0.032\n",
            "Epoch: 66, time: 0.3s, train loss: 0.031\n",
            "Epoch: 67, time: 0.3s, train loss: 0.031\n",
            "Epoch: 68, time: 0.3s, train loss: 0.030\n",
            "Epoch: 69, time: 0.3s, train loss: 0.030\n",
            "Epoch: 70, time: 0.3s, train loss: 0.029\n",
            "Epoch: 71, time: 0.3s, train loss: 0.029\n",
            "Epoch: 72, time: 0.3s, train loss: 0.028\n",
            "Epoch: 73, time: 0.3s, train loss: 0.028\n",
            "Epoch: 74, time: 0.3s, train loss: 0.027\n",
            "Epoch: 75, time: 0.3s, train loss: 0.027\n",
            "Epoch: 76, time: 0.3s, train loss: 0.026\n",
            "Epoch: 77, time: 0.3s, train loss: 0.026\n",
            "Epoch: 78, time: 0.3s, train loss: 0.025\n",
            "Epoch: 79, time: 0.3s, train loss: 0.025\n",
            "Epoch: 80, time: 0.3s, train loss: 0.025\n",
            "Epoch: 81, time: 0.3s, train loss: 0.024\n",
            "Epoch: 82, time: 0.3s, train loss: 0.024\n",
            "Epoch: 83, time: 0.3s, train loss: 0.023\n",
            "Epoch: 84, time: 0.3s, train loss: 0.023\n",
            "Epoch: 85, time: 0.3s, train loss: 0.023\n",
            "Epoch: 86, time: 0.3s, train loss: 0.022\n",
            "Epoch: 87, time: 0.3s, train loss: 0.022\n",
            "Epoch: 88, time: 0.3s, train loss: 0.022\n",
            "Epoch: 89, time: 0.3s, train loss: 0.022\n",
            "Epoch: 90, time: 0.3s, train loss: 0.021\n",
            "Epoch: 91, time: 0.3s, train loss: 0.021\n",
            "Epoch: 92, time: 0.3s, train loss: 0.021\n",
            "Epoch: 93, time: 0.3s, train loss: 0.020\n",
            "Epoch: 94, time: 0.3s, train loss: 0.020\n",
            "Epoch: 95, time: 0.3s, train loss: 0.020\n",
            "Epoch: 96, time: 0.3s, train loss: 0.020\n",
            "Epoch: 97, time: 0.3s, train loss: 0.019\n",
            "Epoch: 98, time: 0.3s, train loss: 0.019\n",
            "Epoch: 99, time: 0.3s, train loss: 0.019\n",
            "Epoch: 100, time: 0.3s, train loss: 0.018\n",
            "\n"
          ],
          "name": "stdout"
        }
      ]
    },
    {
      "cell_type": "markdown",
      "metadata": {
        "id": "Dzuyqmt5AVxc"
      },
      "source": [
        "# Оценка качества\n",
        "Построим график лоссов на обучающей выборке и оценим качество на тестовой."
      ]
    },
    {
      "cell_type": "code",
      "metadata": {
        "colab": {
          "base_uri": "https://localhost:8080/",
          "height": 742
        },
        "id": "7K8EbsndEjjm",
        "outputId": "f0d44137-cff4-4743-d82f-b108c4b56065"
      },
      "source": [
        "plt.figure(figsize=(14, 12))\n",
        "plt.plot(train_losses)\n",
        "plt.grid()\n",
        "plt.title('Training process', fontsize='xx-large')\n",
        "plt.xlabel('Epoch', fontsize='xx-large')\n",
        "plt.ylabel('Loss function', fontsize='xx-large')\n",
        "plt.show()"
      ],
      "execution_count": null,
      "outputs": [
        {
          "output_type": "display_data",
          "data": {
            "image/png": "[encoded data removed]",
            "text/plain": [
              "<Figure size 1008x864 with 1 Axes>"
            ]
          },
          "metadata": {
            "tags": [],
            "needs_background": "light"
          }
        }
      ]
    },
    {
      "cell_type": "code",
      "metadata": {
        "id": "1CZ5LH6GCxwV"
      },
      "source": [
        "y_pred, _ = model.forward(X_test, train=False)\n",
        "loss = criterion(y_pred.view(-1, 35), y_test.flatten())"
      ],
      "execution_count": null,
      "outputs": []
    },
    {
      "cell_type": "code",
      "metadata": {
        "colab": {
          "base_uri": "https://localhost:8080/"
        },
        "id": "f30cAPoBDWh6",
        "outputId": "7a769293-5925-48c7-fb28-69f506378729"
      },
      "source": [
        "print(f'Лосс на тестовой выборке: {loss.item():.3f}')"
      ],
      "execution_count": null,
      "outputs": [
        {
          "output_type": "stream",
          "text": [
            "Лосс на тестовой выборке: 0.022\n"
          ],
          "name": "stdout"
        }
      ]
    },
    {
      "cell_type": "markdown",
      "metadata": {
        "id": "Bp1cAugnDsS6"
      },
      "source": [
        "Очень неплохо!"
      ]
    },
    {
      "cell_type": "markdown",
      "metadata": {
        "id": "QhRq-wBQFlVY"
      },
      "source": [
        "# Задание 2\n",
        "## Препроцессинг данных"
      ]
    },
    {
      "cell_type": "code",
      "metadata": {
        "id": "F8aCX--ItUDT"
      },
      "source": [
        "df = pd.read_csv('data.csv')"
      ],
      "execution_count": null,
      "outputs": []
    },
    {
      "cell_type": "code",
      "metadata": {
        "colab": {
          "base_uri": "https://localhost:8080/",
          "height": 581
        },
        "id": "f0n0vJUnUGZu",
        "outputId": "c4ff14a3-80a6-4bb4-cdc7-c1a8f97078ef"
      },
      "source": [
        "df.head()"
      ],
      "execution_count": null,
      "outputs": [
        {
          "output_type": "execute_result",
          "data": {
            "text/html": [
              "<div>\n",
              "<style scoped>\n",
              "    .dataframe tbody tr th:only-of-type {\n",
              "        vertical-align: middle;\n",
              "    }\n",
              "\n",
              "    .dataframe tbody tr th {\n",
              "        vertical-align: top;\n",
              "    }\n",
              "\n",
              "    .dataframe thead th {\n",
              "        text-align: right;\n",
              "    }\n",
              "</style>\n",
              "<table border=\"1\" class=\"dataframe\">\n",
              "  <thead>\n",
              "    <tr style=\"text-align: right;\">\n",
              "      <th></th>\n",
              "      <th>Unnamed: 0</th>\n",
              "      <th>id</th>\n",
              "      <th>episode_id</th>\n",
              "      <th>number</th>\n",
              "      <th>raw_text</th>\n",
              "      <th>timestamp_in_ms</th>\n",
              "      <th>speaking_line</th>\n",
              "      <th>character_id</th>\n",
              "      <th>location_id</th>\n",
              "      <th>raw_character_text</th>\n",
              "      <th>raw_location_text</th>\n",
              "      <th>spoken_words</th>\n",
              "      <th>normalized_text</th>\n",
              "      <th>word_count</th>\n",
              "    </tr>\n",
              "  </thead>\n",
              "  <tbody>\n",
              "    <tr>\n",
              "      <th>0</th>\n",
              "      <td>0</td>\n",
              "      <td>10368</td>\n",
              "      <td>35</td>\n",
              "      <td>29</td>\n",
              "      <td>Lisa Simpson: Maggie, look. What's that?</td>\n",
              "      <td>235000</td>\n",
              "      <td>True</td>\n",
              "      <td>9</td>\n",
              "      <td>5.0</td>\n",
              "      <td>Lisa Simpson</td>\n",
              "      <td>Simpson Home</td>\n",
              "      <td>Maggie, look. What's that?</td>\n",
              "      <td>maggie look whats that</td>\n",
              "      <td>4.0</td>\n",
              "    </tr>\n",
              "    <tr>\n",
              "      <th>1</th>\n",
              "      <td>1</td>\n",
              "      <td>10369</td>\n",
              "      <td>35</td>\n",
              "      <td>30</td>\n",
              "      <td>Lisa Simpson: Lee-mur. Lee-mur.</td>\n",
              "      <td>237000</td>\n",
              "      <td>True</td>\n",
              "      <td>9</td>\n",
              "      <td>5.0</td>\n",
              "      <td>Lisa Simpson</td>\n",
              "      <td>Simpson Home</td>\n",
              "      <td>Lee-mur. Lee-mur.</td>\n",
              "      <td>lee-mur lee-mur</td>\n",
              "      <td>2.0</td>\n",
              "    </tr>\n",
              "    <tr>\n",
              "      <th>2</th>\n",
              "      <td>2</td>\n",
              "      <td>10370</td>\n",
              "      <td>35</td>\n",
              "      <td>31</td>\n",
              "      <td>Lisa Simpson: Zee-boo. Zee-boo.</td>\n",
              "      <td>239000</td>\n",
              "      <td>True</td>\n",
              "      <td>9</td>\n",
              "      <td>5.0</td>\n",
              "      <td>Lisa Simpson</td>\n",
              "      <td>Simpson Home</td>\n",
              "      <td>Zee-boo. Zee-boo.</td>\n",
              "      <td>zee-boo zee-boo</td>\n",
              "      <td>2.0</td>\n",
              "    </tr>\n",
              "    <tr>\n",
              "      <th>3</th>\n",
              "      <td>3</td>\n",
              "      <td>10372</td>\n",
              "      <td>35</td>\n",
              "      <td>33</td>\n",
              "      <td>Lisa Simpson: I'm trying to teach Maggie that ...</td>\n",
              "      <td>245000</td>\n",
              "      <td>True</td>\n",
              "      <td>9</td>\n",
              "      <td>5.0</td>\n",
              "      <td>Lisa Simpson</td>\n",
              "      <td>Simpson Home</td>\n",
              "      <td>I'm trying to teach Maggie that nature doesn't...</td>\n",
              "      <td>im trying to teach maggie that nature doesnt e...</td>\n",
              "      <td>24.0</td>\n",
              "    </tr>\n",
              "    <tr>\n",
              "      <th>4</th>\n",
              "      <td>4</td>\n",
              "      <td>10374</td>\n",
              "      <td>35</td>\n",
              "      <td>35</td>\n",
              "      <td>Lisa Simpson: It's like an ox, only it has a h...</td>\n",
              "      <td>254000</td>\n",
              "      <td>True</td>\n",
              "      <td>9</td>\n",
              "      <td>5.0</td>\n",
              "      <td>Lisa Simpson</td>\n",
              "      <td>Simpson Home</td>\n",
              "      <td>It's like an ox, only it has a hump and a dewl...</td>\n",
              "      <td>its like an ox only it has a hump and a dewlap...</td>\n",
              "      <td>18.0</td>\n",
              "    </tr>\n",
              "  </tbody>\n",
              "</table>\n",
              "</div>"
            ],
            "text/plain": [
              "   Unnamed: 0  ...  word_count\n",
              "0           0  ...         4.0\n",
              "1           1  ...         2.0\n",
              "2           2  ...         2.0\n",
              "3           3  ...        24.0\n",
              "4           4  ...        18.0\n",
              "\n",
              "[5 rows x 14 columns]"
            ]
          },
          "metadata": {
            "tags": []
          },
          "execution_count": 30
        }
      ]
    },
    {
      "cell_type": "code",
      "metadata": {
        "id": "ND875UwIVG6_"
      },
      "source": [
        "sents = df['normalized_text'].tolist()"
      ],
      "execution_count": null,
      "outputs": []
    },
    {
      "cell_type": "code",
      "metadata": {
        "colab": {
          "base_uri": "https://localhost:8080/"
        },
        "id": "5cVh6o1NaX56",
        "outputId": "f30e0b68-60ec-46f8-8f5a-7228e12dfecc"
      },
      "source": [
        "len(sents)"
      ],
      "execution_count": null,
      "outputs": [
        {
          "output_type": "execute_result",
          "data": {
            "text/plain": [
              "11639"
            ]
          },
          "metadata": {
            "tags": []
          },
          "execution_count": 32
        }
      ]
    },
    {
      "cell_type": "code",
      "metadata": {
        "colab": {
          "base_uri": "https://localhost:8080/"
        },
        "id": "_5y8UptjVMQb",
        "outputId": "00766848-163c-429d-8279-deb0cb4baab0"
      },
      "source": [
        "sents[:10]"
      ],
      "execution_count": null,
      "outputs": [
        {
          "output_type": "execute_result",
          "data": {
            "text/plain": [
              "['maggie look whats that',\n",
              " 'lee-mur lee-mur',\n",
              " 'zee-boo zee-boo',\n",
              " 'im trying to teach maggie that nature doesnt end with the barnyard i want her to have all the advantages that i didnt have',\n",
              " 'its like an ox only it has a hump and a dewlap hump and dew-lap hump and dew-lap',\n",
              " 'you know his blood type how romantic',\n",
              " 'oh yeah whats my shoe size',\n",
              " 'ring',\n",
              " 'yes dad',\n",
              " 'ooh look maggie what is that do-dec-ah-edron dodecahedron']"
            ]
          },
          "metadata": {
            "tags": []
          },
          "execution_count": 33
        }
      ]
    },
    {
      "cell_type": "code",
      "metadata": {
        "id": "2M5wLsJcVOru"
      },
      "source": [
        "text = [[char for char in sent] for sent in sents if isinstance(sent, str)]"
      ],
      "execution_count": null,
      "outputs": []
    },
    {
      "cell_type": "code",
      "metadata": {
        "colab": {
          "base_uri": "https://localhost:8080/"
        },
        "id": "tO_ZDdhKXj67",
        "outputId": "a9db5ba6-b087-4021-8069-b897009f4622"
      },
      "source": [
        "text[0]"
      ],
      "execution_count": null,
      "outputs": [
        {
          "output_type": "execute_result",
          "data": {
            "text/plain": [
              "['m',\n",
              " 'a',\n",
              " 'g',\n",
              " 'g',\n",
              " 'i',\n",
              " 'e',\n",
              " ' ',\n",
              " 'l',\n",
              " 'o',\n",
              " 'o',\n",
              " 'k',\n",
              " ' ',\n",
              " 'w',\n",
              " 'h',\n",
              " 'a',\n",
              " 't',\n",
              " 's',\n",
              " ' ',\n",
              " 't',\n",
              " 'h',\n",
              " 'a',\n",
              " 't']"
            ]
          },
          "metadata": {
            "tags": []
          },
          "execution_count": 35
        }
      ]
    },
    {
      "cell_type": "code",
      "metadata": {
        "id": "xUpOm4wGVbE-"
      },
      "source": [
        "CHAR_TO_INDEX = {w: i for i, w in enumerate(ascii_lowercase, 1)}\n",
        "CHAR_TO_INDEX[' '] = 27"
      ],
      "execution_count": null,
      "outputs": []
    },
    {
      "cell_type": "markdown",
      "metadata": {
        "id": "drbAdvGsWE1T"
      },
      "source": [
        "Посчитаем среднюю длину реплики, чтобы выяснить, до какой длины делать padding."
      ]
    },
    {
      "cell_type": "code",
      "metadata": {
        "colab": {
          "base_uri": "https://localhost:8080/"
        },
        "id": "HhZC2zFCWHyH",
        "outputId": "21f4cee0-2f27-47f6-d56d-afc9bcaa33d9"
      },
      "source": [
        "np.mean([len(sent) for sent in text])"
      ],
      "execution_count": null,
      "outputs": [
        {
          "output_type": "execute_result",
          "data": {
            "text/plain": [
              "46.36635754292535"
            ]
          },
          "metadata": {
            "tags": []
          },
          "execution_count": 37
        }
      ]
    },
    {
      "cell_type": "markdown",
      "metadata": {
        "id": "fMNwsK4JWjWd"
      },
      "source": [
        "Да, действительно, лучше до 50."
      ]
    },
    {
      "cell_type": "code",
      "metadata": {
        "id": "5bbqFWf_WBGj"
      },
      "source": [
        "MAX_LEN = 50\n",
        "\n",
        "X = torch.zeros((len(text), MAX_LEN), dtype=int)\n",
        "for i in range(len(text)):\n",
        "    for j, w in enumerate(text[i]):\n",
        "        if j >= MAX_LEN:\n",
        "            break\n",
        "        if w.lower() in CHAR_TO_INDEX:\n",
        "            X[i][j] = CHAR_TO_INDEX[w.lower()]"
      ],
      "execution_count": null,
      "outputs": []
    },
    {
      "cell_type": "code",
      "metadata": {
        "colab": {
          "base_uri": "https://localhost:8080/"
        },
        "id": "6lQUXDjUXKN-",
        "outputId": "610ca46f-27b0-4fd7-dca9-09c37213d705"
      },
      "source": [
        "X[:10]"
      ],
      "execution_count": null,
      "outputs": [
        {
          "output_type": "execute_result",
          "data": {
            "text/plain": [
              "tensor([[13,  1,  7,  7,  9,  5, 27, 12, 15, 15, 11, 27, 23,  8,  1, 20, 19, 27,\n",
              "         20,  8,  1, 20,  0,  0,  0,  0,  0,  0,  0,  0,  0,  0,  0,  0,  0,  0,\n",
              "          0,  0,  0,  0,  0,  0,  0,  0,  0,  0,  0,  0,  0,  0],\n",
              "        [12,  5,  5,  0, 13, 21, 18, 27, 12,  5,  5,  0, 13, 21, 18,  0,  0,  0,\n",
              "          0,  0,  0,  0,  0,  0,  0,  0,  0,  0,  0,  0,  0,  0,  0,  0,  0,  0,\n",
              "          0,  0,  0,  0,  0,  0,  0,  0,  0,  0,  0,  0,  0,  0],\n",
              "        [26,  5,  5,  0,  2, 15, 15, 27, 26,  5,  5,  0,  2, 15, 15,  0,  0,  0,\n",
              "          0,  0,  0,  0,  0,  0,  0,  0,  0,  0,  0,  0,  0,  0,  0,  0,  0,  0,\n",
              "          0,  0,  0,  0,  0,  0,  0,  0,  0,  0,  0,  0,  0,  0],\n",
              "        [ 9, 13, 27, 20, 18, 25,  9, 14,  7, 27, 20, 15, 27, 20,  5,  1,  3,  8,\n",
              "         27, 13,  1,  7,  7,  9,  5, 27, 20,  8,  1, 20, 27, 14,  1, 20, 21, 18,\n",
              "          5, 27,  4, 15,  5, 19, 14, 20, 27,  5, 14,  4, 27, 23],\n",
              "        [ 9, 20, 19, 27, 12,  9, 11,  5, 27,  1, 14, 27, 15, 24, 27, 15, 14, 12,\n",
              "         25, 27,  9, 20, 27,  8,  1, 19, 27,  1, 27,  8, 21, 13, 16, 27,  1, 14,\n",
              "          4, 27,  1, 27,  4,  5, 23, 12,  1, 16, 27,  8, 21, 13],\n",
              "        [25, 15, 21, 27, 11, 14, 15, 23, 27,  8,  9, 19, 27,  2, 12, 15, 15,  4,\n",
              "         27, 20, 25, 16,  5, 27,  8, 15, 23, 27, 18, 15, 13,  1, 14, 20,  9,  3,\n",
              "          0,  0,  0,  0,  0,  0,  0,  0,  0,  0,  0,  0,  0,  0],\n",
              "        [15,  8, 27, 25,  5,  1,  8, 27, 23,  8,  1, 20, 19, 27, 13, 25, 27, 19,\n",
              "          8, 15,  5, 27, 19,  9, 26,  5,  0,  0,  0,  0,  0,  0,  0,  0,  0,  0,\n",
              "          0,  0,  0,  0,  0,  0,  0,  0,  0,  0,  0,  0,  0,  0],\n",
              "        [18,  9, 14,  7,  0,  0,  0,  0,  0,  0,  0,  0,  0,  0,  0,  0,  0,  0,\n",
              "          0,  0,  0,  0,  0,  0,  0,  0,  0,  0,  0,  0,  0,  0,  0,  0,  0,  0,\n",
              "          0,  0,  0,  0,  0,  0,  0,  0,  0,  0,  0,  0,  0,  0],\n",
              "        [25,  5, 19, 27,  4,  1,  4,  0,  0,  0,  0,  0,  0,  0,  0,  0,  0,  0,\n",
              "          0,  0,  0,  0,  0,  0,  0,  0,  0,  0,  0,  0,  0,  0,  0,  0,  0,  0,\n",
              "          0,  0,  0,  0,  0,  0,  0,  0,  0,  0,  0,  0,  0,  0],\n",
              "        [15, 15,  8, 27, 12, 15, 15, 11, 27, 13,  1,  7,  7,  9,  5, 27, 23,  8,\n",
              "          1, 20, 27,  9, 19, 27, 20,  8,  1, 20, 27,  4, 15,  0,  4,  5,  3,  0,\n",
              "          1,  8,  0,  5,  4, 18, 15, 14, 27,  4, 15,  4,  5,  3]])"
            ]
          },
          "metadata": {
            "tags": []
          },
          "execution_count": 39
        }
      ]
    },
    {
      "cell_type": "markdown",
      "metadata": {
        "id": "Lg1Va8IuZP8C"
      },
      "source": [
        "## Архитектура RNN"
      ]
    },
    {
      "cell_type": "code",
      "metadata": {
        "id": "uPd3oyRKXPGG"
      },
      "source": [
        "class TextGenerationNetwork(torch.nn.Module):\n",
        "    def __init__(self, vocab_size, embedding_dim, hidden_dim):\n",
        "        super(TextGenerationNetwork, self).__init__()\n",
        "        self.embedding = torch.nn.Embedding(vocab_size, embedding_dim)\n",
        "        self.rnn = torch.nn.RNN(embedding_dim, hidden_dim, batch_first=True)\n",
        "        self.dense = torch.nn.Linear(hidden_dim, vocab_size)\n",
        "\n",
        "    def forward(self, x, train=True, state=None):\n",
        "        with torch.set_grad_enabled(train):\n",
        "            out = self.embedding(x)\n",
        "            out, state = self.rnn(out)\n",
        "            out = self.dense(out)\n",
        "            out = out.squeeze(0)\n",
        "        return out, state"
      ],
      "execution_count": null,
      "outputs": []
    },
    {
      "cell_type": "code",
      "metadata": {
        "id": "d5OaVf1raadU"
      },
      "source": [
        "# я решила добавить ограничение на длину сгенерированного предложения\n",
        "\n",
        "def generate_sentence(model):\n",
        "    sent = 'hello'\n",
        "    id = -1\n",
        "    while id != 0 and len(sent) < MAX_LEN:\n",
        "        sent_as_tensor = [torch.as_tensor(\n",
        "            np.array([[CHAR_TO_INDEX[char]]]),\n",
        "            dtype=torch.long) for char in sent]\n",
        "        state = None\n",
        "        for char in sent_as_tensor:\n",
        "            out, state = model.forward(char, train=False, state=state)\n",
        "        id = np.argmax(out.numpy().flatten())\n",
        "        if id == 27:\n",
        "            sent += ' '\n",
        "        else:\n",
        "            sent += ascii_lowercase[id - 1]\n",
        "    return sent"
      ],
      "execution_count": null,
      "outputs": []
    },
    {
      "cell_type": "markdown",
      "metadata": {
        "id": "Y5_vmLTdl2Hf"
      },
      "source": [
        "## Обучение и генерация предложений на каждой эпохе"
      ]
    },
    {
      "cell_type": "code",
      "metadata": {
        "id": "RQ_inou1lvFc"
      },
      "source": [
        "vocab_size = 28\n",
        "embedding_dim = 28\n",
        "hidden_dim = 128"
      ],
      "execution_count": null,
      "outputs": []
    },
    {
      "cell_type": "code",
      "metadata": {
        "id": "ROYs9a_JmdbY"
      },
      "source": [
        "model = TextGenerationNetwork(vocab_size, embedding_dim, hidden_dim)"
      ],
      "execution_count": null,
      "outputs": []
    },
    {
      "cell_type": "code",
      "metadata": {
        "id": "cQmo4De7misj"
      },
      "source": [
        "criterion = torch.nn.CrossEntropyLoss()\n",
        "optimizer = torch.optim.SGD(model.parameters(), lr=0.05)\n",
        "batch_size = 100\n",
        "n_epochs = 100"
      ],
      "execution_count": null,
      "outputs": []
    },
    {
      "cell_type": "code",
      "metadata": {
        "colab": {
          "base_uri": "https://localhost:8080/",
          "height": 1000,
          "referenced_widgets": [
            "0c573768e7d34061851b33d777b7eb6a",
            "182ff4a322614feb8924a64c3584e309",
            "c8d7641f7c694200a2ce3cd52e081e88",
            "98257dbb0a7143b28dd8dbe50421d378",
            "d5eedd06a1874e1b8165fada8372da90",
            "eedb4dceaf5e4a659558fd41f8b778f2",
            "8954cddec2a24dd88e491d214c550a60",
            "55e49b66fb3c44b2803d69c2d8ae7234"
          ]
        },
        "id": "rg7BO2eum0Sm",
        "outputId": "854a196f-721c-48bb-a32a-5c5b1beed112"
      },
      "source": [
        "train_losses = []\n",
        "\n",
        "for epoch in tqdm(range(1, n_epochs + 1)):\n",
        "    start = time.time()\n",
        "    train_loss = 0.0\n",
        "    n_batches = int(np.ceil(len(X_train) / batch_size))\n",
        "    for i in range(n_batches):\n",
        "        batch = X[i * batch_size: (i + 1) * batch_size]\n",
        "        X_batch = batch[:, :-1]\n",
        "        y_batch = batch[:, 1:].flatten()\n",
        "        optimizer.zero_grad()\n",
        "        y_pred, _ = model.forward(X_batch)\n",
        "        loss = criterion(y_pred.view(-1, 28), y_batch)\n",
        "        train_loss += loss.item()\n",
        "        loss.backward()\n",
        "        optimizer.step()\n",
        "    train_loss /= n_batches\n",
        "    train_losses.append(train_loss)\n",
        "    sec = time.time() - start\n",
        "    print(f'Epoch: {epoch}, time: {sec:.1f}s, train loss: {train_loss:.3f}')\n",
        "    print(generate_sentence(model) + '\\n')"
      ],
      "execution_count": null,
      "outputs": [
        {
          "output_type": "display_data",
          "data": {
            "application/vnd.jupyter.widget-view+json": {
              "model_id": "0c573768e7d34061851b33d777b7eb6a",
              "version_minor": 0,
              "version_major": 2
            },
            "text/plain": [
              "HBox(children=(FloatProgress(value=0.0), HTML(value='')))"
            ]
          },
          "metadata": {
            "tags": []
          }
        },
        {
          "output_type": "stream",
          "text": [
            "Epoch: 1, time: 0.5s, train loss: 2.581\n",
            "helloz\n",
            "\n",
            "Epoch: 2, time: 0.5s, train loss: 2.190\n",
            "helloz\n",
            "\n",
            "Epoch: 3, time: 0.5s, train loss: 2.122\n",
            "helloz\n",
            "\n",
            "Epoch: 4, time: 0.5s, train loss: 2.064\n",
            "helloz\n",
            "\n",
            "Epoch: 5, time: 0.5s, train loss: 2.006\n",
            "helloz\n",
            "\n",
            "Epoch: 6, time: 0.5s, train loss: 1.956\n",
            "helloz\n",
            "\n",
            "Epoch: 7, time: 0.5s, train loss: 1.920\n",
            "helloooooooooooooooooooooooooooooooooooooooooooooo\n",
            "\n",
            "Epoch: 8, time: 0.5s, train loss: 1.894\n",
            "hellou t t t t t t t t t t t t t t t t t t t t t t\n",
            "\n",
            "Epoch: 9, time: 0.5s, train loss: 1.874\n",
            "hellou t t t t t t t t t t t t t t t t t t t t t t\n",
            "\n",
            "Epoch: 10, time: 0.5s, train loss: 1.858\n",
            "hellou t t t t t t t t t t t t t t t t t t t t t t\n",
            "\n",
            "Epoch: 11, time: 0.5s, train loss: 1.845\n",
            "hellou t t t t t t t t t t t t t t t t t t t t t t\n",
            "\n",
            "Epoch: 12, time: 0.5s, train loss: 1.833\n",
            "hellou t t t t t t t t t t t t t t t t t t t t t t\n",
            "\n",
            "Epoch: 13, time: 0.5s, train loss: 1.822\n",
            "hellou t t t t t t t t t t t t t t t t t t t t t t\n",
            "\n",
            "Epoch: 14, time: 0.5s, train loss: 1.811\n",
            "hellou t t t t t t t t t t t t t t t t t t t t t t\n",
            "\n",
            "Epoch: 15, time: 0.5s, train loss: 1.801\n",
            "hellou t t t t t t t t t t t t t t t t t t t t t t\n",
            "\n",
            "Epoch: 16, time: 0.5s, train loss: 1.792\n",
            "hellou t t t t t t t t t t t t t t t t t t t t t t\n",
            "\n",
            "Epoch: 17, time: 0.5s, train loss: 1.783\n",
            "hellou t t t t t t t t t t t t t t t t t t t t t t\n",
            "\n",
            "Epoch: 18, time: 0.5s, train loss: 1.774\n",
            "hellou t t t t t t t t t t t t t t t t t t t t t t\n",
            "\n",
            "Epoch: 19, time: 0.5s, train loss: 1.766\n",
            "hellou t t t t t t t t t t t t t t t t t t t t t t\n",
            "\n",
            "Epoch: 20, time: 0.5s, train loss: 1.757\n",
            "hellou t t t t t t t t t t t t t t t t t t t t t t\n",
            "\n",
            "Epoch: 21, time: 0.5s, train loss: 1.750\n",
            "hellou t t t t t t t t t t t t t t t t t t t t t t\n",
            "\n",
            "Epoch: 22, time: 0.5s, train loss: 1.742\n",
            "hellou t t t t t t t t t t t t t t t t t t t t t t\n",
            "\n",
            "Epoch: 23, time: 0.5s, train loss: 1.735\n",
            "hellou t t t t t t t t t t t t t t t t t t t t t t\n",
            "\n",
            "Epoch: 24, time: 0.5s, train loss: 1.728\n",
            "hellou t t t t t t t t t t t t t t t t t t t t t t\n",
            "\n",
            "Epoch: 25, time: 0.5s, train loss: 1.721\n",
            "hellou t t t t t t t t t t t t t t t t t t t t t t\n",
            "\n",
            "Epoch: 26, time: 0.5s, train loss: 1.714\n",
            "hellou t t t t t t t t t t t t t t t t t t t t t t\n",
            "\n",
            "Epoch: 27, time: 0.5s, train loss: 1.708\n",
            "hellou t t t t t t t t t t t t t t t t t t t t t t\n",
            "\n",
            "Epoch: 28, time: 0.5s, train loss: 1.702\n",
            "hellou t t t t t t t t t t t t t t t t t t t t t t\n",
            "\n",
            "Epoch: 29, time: 0.5s, train loss: 1.696\n",
            "hellou w w w w w w w w w w w w w w w w w w w w w w\n",
            "\n",
            "Epoch: 30, time: 0.5s, train loss: 1.691\n",
            "hellou w w w w w w w w w w w w w w w w w w w w w w\n",
            "\n",
            "Epoch: 31, time: 0.5s, train loss: 1.685\n",
            "hellou w w w w w w w w w w w w w w w w w w w w w w\n",
            "\n",
            "Epoch: 32, time: 0.5s, train loss: 1.680\n",
            "hellou w w w w w w w w w w w w w w w w w w w w w w\n",
            "\n",
            "Epoch: 33, time: 0.5s, train loss: 1.675\n",
            "hellou w w w w w w w w w w w w w w w w w w w w w w\n",
            "\n",
            "Epoch: 34, time: 0.5s, train loss: 1.670\n",
            "hellou w w w w w w w w w w w w w w w w w w w w w w\n",
            "\n",
            "Epoch: 35, time: 0.5s, train loss: 1.665\n",
            "hellou w w w w w w w w w w w w w w w w w w w w w w\n",
            "\n",
            "Epoch: 36, time: 0.5s, train loss: 1.661\n",
            "hellou w w w w w w w w w w w w w w w w w w w w w w\n",
            "\n",
            "Epoch: 37, time: 0.5s, train loss: 1.656\n",
            "hellou w w w w w w w w w w w w w w w w w w w w w w\n",
            "\n",
            "Epoch: 38, time: 0.5s, train loss: 1.652\n",
            "hellou w w w w w w w w w w w w w w w w w w w w w w\n",
            "\n",
            "Epoch: 39, time: 0.5s, train loss: 1.648\n",
            "hellou w w w w w w w w w w w w w w w w w w w w w w\n",
            "\n",
            "Epoch: 40, time: 0.5s, train loss: 1.644\n",
            "hellou w w w w w w w w w w w w w w w w w w w w w w\n",
            "\n",
            "Epoch: 41, time: 0.5s, train loss: 1.640\n",
            "hellou w w w w w w w w w w w w w w w w w w w w w w\n",
            "\n",
            "Epoch: 42, time: 0.5s, train loss: 1.636\n",
            "hellou w w w w w w w w w w w w w w w w w w w w w w\n",
            "\n",
            "Epoch: 43, time: 0.5s, train loss: 1.632\n",
            "hellou w w w w w w w w w w w w w w w w w w w w w w\n",
            "\n",
            "Epoch: 44, time: 0.5s, train loss: 1.628\n",
            "hellou w w w w w w w w w w w w w w w w w w w w w w\n",
            "\n",
            "Epoch: 45, time: 0.5s, train loss: 1.625\n",
            "hellou w w w w w w w w w w w w w w w w w w w w w w\n",
            "\n",
            "Epoch: 46, time: 0.5s, train loss: 1.621\n",
            "hellou w w w w w w w w w w w w w w w w w w w w w w\n",
            "\n",
            "Epoch: 47, time: 0.5s, train loss: 1.618\n",
            "hellou w w w w w w w w w w w w w w w w w w w w w w\n",
            "\n",
            "Epoch: 48, time: 0.5s, train loss: 1.615\n",
            "hellou w w w w w w w w w w w w w w w w w w w w w w\n",
            "\n",
            "Epoch: 49, time: 0.5s, train loss: 1.611\n",
            "hellou w w w w w w w w w w w w w w w w w w w w w w\n",
            "\n",
            "Epoch: 50, time: 0.5s, train loss: 1.608\n",
            "hellou w w w w w w w w w w w w w w w w w w w w w w\n",
            "\n",
            "Epoch: 51, time: 0.5s, train loss: 1.605\n",
            "hellous w w w w w w w w w w w w w w w w w w w w w \n",
            "\n",
            "Epoch: 52, time: 0.5s, train loss: 1.602\n",
            "hellous w w w w w w w w w w w w w w w w w w w w w \n",
            "\n",
            "Epoch: 53, time: 0.5s, train loss: 1.599\n",
            "hellous w w w w w w w w w w w w w w w w w w w w w \n",
            "\n",
            "Epoch: 54, time: 0.5s, train loss: 1.596\n",
            "hellous w w w w w w w w w w w w w w w w w w w w w \n",
            "\n",
            "Epoch: 55, time: 0.5s, train loss: 1.593\n",
            "hellous w w w w w w w w w w w w w w w w w w w w w \n",
            "\n",
            "Epoch: 56, time: 0.5s, train loss: 1.590\n",
            "hellous w w w w w w w w w w w w w w w w w w w w w \n",
            "\n",
            "Epoch: 57, time: 0.5s, train loss: 1.587\n",
            "hellous w w w w w w w w w w w w w w w w w w w w w \n",
            "\n",
            "Epoch: 58, time: 0.5s, train loss: 1.585\n",
            "hellous w w w w w w w w w w w w w w w w w w w w w \n",
            "\n",
            "Epoch: 59, time: 0.5s, train loss: 1.582\n",
            "hellous w w w w w w w w w w w w w w w w w w w w w \n",
            "\n",
            "Epoch: 60, time: 0.5s, train loss: 1.579\n",
            "hellous w w w w w w w w w w w w w w w w w w w w w \n",
            "\n",
            "Epoch: 61, time: 0.5s, train loss: 1.577\n",
            "hellous w w w w w w w w w w w w w w w w w w w w w \n",
            "\n",
            "Epoch: 62, time: 0.5s, train loss: 1.574\n",
            "hellous w w w w w w w w w w w w w w w w w w w w w \n",
            "\n",
            "Epoch: 63, time: 0.5s, train loss: 1.572\n",
            "hellous w w w w w w w w w w w w w w w w w w w w w \n",
            "\n",
            "Epoch: 64, time: 0.5s, train loss: 1.569\n",
            "hellous w w w w w w w w w w w w w w w w w w w w w \n",
            "\n",
            "Epoch: 65, time: 0.5s, train loss: 1.567\n",
            "hellous w w w w w w w w w w w w w w w w w w w w w \n",
            "\n",
            "Epoch: 66, time: 0.5s, train loss: 1.565\n",
            "hellous w w w w w w w w w w w w w w w w w w w w w \n",
            "\n",
            "Epoch: 67, time: 0.5s, train loss: 1.562\n",
            "hellous we we we we we we we we we we we we we we \n",
            "\n",
            "Epoch: 68, time: 0.5s, train loss: 1.560\n",
            "hellous we we we we we we we we we we we we we we \n",
            "\n",
            "Epoch: 69, time: 0.5s, train loss: 1.558\n",
            "hellous we we we we we we we we we we we we we we \n",
            "\n",
            "Epoch: 70, time: 0.5s, train loss: 1.556\n",
            "hellous we we we we we we we we we we we we we we \n",
            "\n",
            "Epoch: 71, time: 0.5s, train loss: 1.553\n",
            "hellous we we we we we we we we we we we we we we \n",
            "\n",
            "Epoch: 72, time: 0.5s, train loss: 1.551\n",
            "hellous we we we we we we we we we we we we we we \n",
            "\n",
            "Epoch: 73, time: 0.5s, train loss: 1.549\n",
            "hellous we we we we we we we we we we we we we we \n",
            "\n",
            "Epoch: 74, time: 0.5s, train loss: 1.547\n",
            "hellous we we we we we we we we we we we we we we \n",
            "\n",
            "Epoch: 75, time: 0.5s, train loss: 1.545\n",
            "hellous we we we we we we we we we we we we we we \n",
            "\n",
            "Epoch: 76, time: 0.5s, train loss: 1.543\n",
            "hellous we we we we we we we we we we we we we we \n",
            "\n",
            "Epoch: 77, time: 0.5s, train loss: 1.541\n",
            "hellous we we we we we we we we we we we we we we \n",
            "\n",
            "Epoch: 78, time: 0.5s, train loss: 1.539\n",
            "hellous we we we we we we we we we we we we we we \n",
            "\n",
            "Epoch: 79, time: 0.5s, train loss: 1.537\n",
            "hellous we we we we we we we we we we we we we we \n",
            "\n",
            "Epoch: 80, time: 0.5s, train loss: 1.535\n",
            "hellous we we we we we we we we we we we we we we \n",
            "\n",
            "Epoch: 81, time: 0.5s, train loss: 1.534\n",
            "hellous we we we we we we we we we we we we we we \n",
            "\n",
            "Epoch: 82, time: 0.5s, train loss: 1.532\n",
            "hellous we we we we we we we we we we we we we we \n",
            "\n",
            "Epoch: 83, time: 0.5s, train loss: 1.530\n",
            "hellous we we we we we we we we we we we we we we \n",
            "\n",
            "Epoch: 84, time: 0.5s, train loss: 1.528\n",
            "hellous we we we we we we we we we we we we we we \n",
            "\n",
            "Epoch: 85, time: 0.5s, train loss: 1.527\n",
            "hellous we we we we we we we we we we we we we we \n",
            "\n",
            "Epoch: 86, time: 0.5s, train loss: 1.525\n",
            "hellous we we we we we we we we we we we we we we \n",
            "\n",
            "Epoch: 87, time: 0.5s, train loss: 1.523\n",
            "hellous we we we we we we we we we we we we we we \n",
            "\n",
            "Epoch: 88, time: 0.5s, train loss: 1.521\n",
            "hellous we we we we we we we we we we we we we we \n",
            "\n",
            "Epoch: 89, time: 0.5s, train loss: 1.520\n",
            "hellous we we we we we we we we we we we we we we \n",
            "\n",
            "Epoch: 90, time: 0.5s, train loss: 1.518\n",
            "hellous we we we we we we we we we we we we we we \n",
            "\n",
            "Epoch: 91, time: 0.5s, train loss: 1.517\n",
            "hellous we we we we we we we we we we we we we we \n",
            "\n",
            "Epoch: 92, time: 0.5s, train loss: 1.515\n",
            "hellous we we we we we we we we we we we we we we \n",
            "\n",
            "Epoch: 93, time: 0.5s, train loss: 1.513\n",
            "hellous we we we we we we we we we we we we we we \n",
            "\n",
            "Epoch: 94, time: 0.5s, train loss: 1.512\n",
            "hellous we we we we we we we we we we we we we we \n",
            "\n",
            "Epoch: 95, time: 0.5s, train loss: 1.510\n",
            "hellous we we we we we we we we we we we we we we \n",
            "\n",
            "Epoch: 96, time: 0.5s, train loss: 1.509\n",
            "hellous we we we we we we we we we we we we we we \n",
            "\n",
            "Epoch: 97, time: 0.5s, train loss: 1.507\n",
            "hellous we we we we we we we we we we we we we we \n",
            "\n",
            "Epoch: 98, time: 0.5s, train loss: 1.506\n",
            "hellous we we we we we we we we we we we we we we \n",
            "\n",
            "Epoch: 99, time: 0.5s, train loss: 1.504\n",
            "hellous we we we we we we we we we we we we we we \n",
            "\n",
            "Epoch: 100, time: 0.5s, train loss: 1.503\n",
            "hellous we we we we we we we we we we we we we we \n",
            "\n",
            "\n"
          ],
          "name": "stdout"
        }
      ]
    },
    {
      "cell_type": "markdown",
      "metadata": {
        "id": "qo19jJBk4_AG"
      },
      "source": [
        "Фигню какую-то генерирует. Что-то я делаю не так. Или он и должен генерировать фигню?<br>\n",
        "Построим график лоссов."
      ]
    },
    {
      "cell_type": "code",
      "metadata": {
        "id": "5h32Jmr2ngEu",
        "colab": {
          "base_uri": "https://localhost:8080/",
          "height": 742
        },
        "outputId": "f103fc8b-72b8-4b77-bf2a-a7fea171157f"
      },
      "source": [
        "plt.figure(figsize=(14, 12))\n",
        "plt.plot(train_losses)\n",
        "plt.grid()\n",
        "plt.title('Training process', fontsize='xx-large')\n",
        "plt.xlabel('Epoch', fontsize='xx-large')\n",
        "plt.ylabel('Loss function', fontsize='xx-large')\n",
        "plt.show()"
      ],
      "execution_count": null,
      "outputs": [
        {
          "output_type": "display_data",
          "data": {
            "image/png": "[encoded data removed]",
            "text/plain": [
              "<Figure size 1008x864 with 1 Axes>"
            ]
          },
          "metadata": {
            "tags": [],
            "needs_background": "light"
          }
        }
      ]
    },
    {
      "cell_type": "markdown",
      "metadata": {
        "id": "qmqRcee3IrIi"
      },
      "source": [
        "Ну хотя бы лосс нормальный!"
      ]
    }
  ]
}