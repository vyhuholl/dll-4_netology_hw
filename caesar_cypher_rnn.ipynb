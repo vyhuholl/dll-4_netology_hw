{
  "nbformat": 4,
  "nbformat_minor": 0,
  "metadata": {
    "colab": {
      "name": "caesar_cypher_rnn.ipynb",
      "provenance": [],
      "collapsed_sections": []
    },
    "kernelspec": {
      "name": "python3",
      "display_name": "Python 3"
    },
    "accelerator": "GPU",
    "widgets": {
      "application/vnd.jupyter.widget-state+json": {
        "58d5ae79cd674b2794966ce464f2928e": {
          "model_module": "@jupyter-widgets/controls",
          "model_name": "HBoxModel",
          "state": {
            "_view_name": "HBoxView",
            "_dom_classes": [],
            "_model_name": "HBoxModel",
            "_view_module": "@jupyter-widgets/controls",
            "_model_module_version": "1.5.0",
            "_view_count": null,
            "_view_module_version": "1.5.0",
            "box_style": "",
            "layout": "IPY_MODEL_9a19e0839cd346bcbf79eec79ec9f795",
            "_model_module": "@jupyter-widgets/controls",
            "children": [
              "IPY_MODEL_075b0f3ec307486da6a04b4530f94b21",
              "IPY_MODEL_be4bbdf90cd84351a5040bb85be7e155"
            ]
          }
        },
        "9a19e0839cd346bcbf79eec79ec9f795": {
          "model_module": "@jupyter-widgets/base",
          "model_name": "LayoutModel",
          "state": {
            "_view_name": "LayoutView",
            "grid_template_rows": null,
            "right": null,
            "justify_content": null,
            "_view_module": "@jupyter-widgets/base",
            "overflow": null,
            "_model_module_version": "1.2.0",
            "_view_count": null,
            "flex_flow": null,
            "width": null,
            "min_width": null,
            "border": null,
            "align_items": null,
            "bottom": null,
            "_model_module": "@jupyter-widgets/base",
            "top": null,
            "grid_column": null,
            "overflow_y": null,
            "overflow_x": null,
            "grid_auto_flow": null,
            "grid_area": null,
            "grid_template_columns": null,
            "flex": null,
            "_model_name": "LayoutModel",
            "justify_items": null,
            "grid_row": null,
            "max_height": null,
            "align_content": null,
            "visibility": null,
            "align_self": null,
            "height": null,
            "min_height": null,
            "padding": null,
            "grid_auto_rows": null,
            "grid_gap": null,
            "max_width": null,
            "order": null,
            "_view_module_version": "1.2.0",
            "grid_template_areas": null,
            "object_position": null,
            "object_fit": null,
            "grid_auto_columns": null,
            "margin": null,
            "display": null,
            "left": null
          }
        },
        "075b0f3ec307486da6a04b4530f94b21": {
          "model_module": "@jupyter-widgets/controls",
          "model_name": "FloatProgressModel",
          "state": {
            "_view_name": "ProgressView",
            "style": "IPY_MODEL_089e2472ef094bdcbae47972b67037a9",
            "_dom_classes": [],
            "description": "100%",
            "_model_name": "FloatProgressModel",
            "bar_style": "success",
            "max": 100,
            "_view_module": "@jupyter-widgets/controls",
            "_model_module_version": "1.5.0",
            "value": 100,
            "_view_count": null,
            "_view_module_version": "1.5.0",
            "orientation": "horizontal",
            "min": 0,
            "description_tooltip": null,
            "_model_module": "@jupyter-widgets/controls",
            "layout": "IPY_MODEL_cdb0ad3248db4013b5af4fe0e032a3c4"
          }
        },
        "be4bbdf90cd84351a5040bb85be7e155": {
          "model_module": "@jupyter-widgets/controls",
          "model_name": "HTMLModel",
          "state": {
            "_view_name": "HTMLView",
            "style": "IPY_MODEL_2f7b28e3219342cdb0dd1c17a1d1388b",
            "_dom_classes": [],
            "description": "",
            "_model_name": "HTMLModel",
            "placeholder": "​",
            "_view_module": "@jupyter-widgets/controls",
            "_model_module_version": "1.5.0",
            "value": " 100/100 [01:18&lt;00:00,  1.28it/s]",
            "_view_count": null,
            "_view_module_version": "1.5.0",
            "description_tooltip": null,
            "_model_module": "@jupyter-widgets/controls",
            "layout": "IPY_MODEL_327eff05bd6f449b9ea90f7c91f0dc2d"
          }
        },
        "089e2472ef094bdcbae47972b67037a9": {
          "model_module": "@jupyter-widgets/controls",
          "model_name": "ProgressStyleModel",
          "state": {
            "_view_name": "StyleView",
            "_model_name": "ProgressStyleModel",
            "description_width": "initial",
            "_view_module": "@jupyter-widgets/base",
            "_model_module_version": "1.5.0",
            "_view_count": null,
            "_view_module_version": "1.2.0",
            "bar_color": null,
            "_model_module": "@jupyter-widgets/controls"
          }
        },
        "cdb0ad3248db4013b5af4fe0e032a3c4": {
          "model_module": "@jupyter-widgets/base",
          "model_name": "LayoutModel",
          "state": {
            "_view_name": "LayoutView",
            "grid_template_rows": null,
            "right": null,
            "justify_content": null,
            "_view_module": "@jupyter-widgets/base",
            "overflow": null,
            "_model_module_version": "1.2.0",
            "_view_count": null,
            "flex_flow": null,
            "width": null,
            "min_width": null,
            "border": null,
            "align_items": null,
            "bottom": null,
            "_model_module": "@jupyter-widgets/base",
            "top": null,
            "grid_column": null,
            "overflow_y": null,
            "overflow_x": null,
            "grid_auto_flow": null,
            "grid_area": null,
            "grid_template_columns": null,
            "flex": null,
            "_model_name": "LayoutModel",
            "justify_items": null,
            "grid_row": null,
            "max_height": null,
            "align_content": null,
            "visibility": null,
            "align_self": null,
            "height": null,
            "min_height": null,
            "padding": null,
            "grid_auto_rows": null,
            "grid_gap": null,
            "max_width": null,
            "order": null,
            "_view_module_version": "1.2.0",
            "grid_template_areas": null,
            "object_position": null,
            "object_fit": null,
            "grid_auto_columns": null,
            "margin": null,
            "display": null,
            "left": null
          }
        },
        "2f7b28e3219342cdb0dd1c17a1d1388b": {
          "model_module": "@jupyter-widgets/controls",
          "model_name": "DescriptionStyleModel",
          "state": {
            "_view_name": "StyleView",
            "_model_name": "DescriptionStyleModel",
            "description_width": "",
            "_view_module": "@jupyter-widgets/base",
            "_model_module_version": "1.5.0",
            "_view_count": null,
            "_view_module_version": "1.2.0",
            "_model_module": "@jupyter-widgets/controls"
          }
        },
        "327eff05bd6f449b9ea90f7c91f0dc2d": {
          "model_module": "@jupyter-widgets/base",
          "model_name": "LayoutModel",
          "state": {
            "_view_name": "LayoutView",
            "grid_template_rows": null,
            "right": null,
            "justify_content": null,
            "_view_module": "@jupyter-widgets/base",
            "overflow": null,
            "_model_module_version": "1.2.0",
            "_view_count": null,
            "flex_flow": null,
            "width": null,
            "min_width": null,
            "border": null,
            "align_items": null,
            "bottom": null,
            "_model_module": "@jupyter-widgets/base",
            "top": null,
            "grid_column": null,
            "overflow_y": null,
            "overflow_x": null,
            "grid_auto_flow": null,
            "grid_area": null,
            "grid_template_columns": null,
            "flex": null,
            "_model_name": "LayoutModel",
            "justify_items": null,
            "grid_row": null,
            "max_height": null,
            "align_content": null,
            "visibility": null,
            "align_self": null,
            "height": null,
            "min_height": null,
            "padding": null,
            "grid_auto_rows": null,
            "grid_gap": null,
            "max_width": null,
            "order": null,
            "_view_module_version": "1.2.0",
            "grid_template_areas": null,
            "object_position": null,
            "object_fit": null,
            "grid_auto_columns": null,
            "margin": null,
            "display": null,
            "left": null
          }
        },
        "78dffb85ba404c8c884ce8252f2afe35": {
          "model_module": "@jupyter-widgets/controls",
          "model_name": "HBoxModel",
          "state": {
            "_view_name": "HBoxView",
            "_dom_classes": [],
            "_model_name": "HBoxModel",
            "_view_module": "@jupyter-widgets/controls",
            "_model_module_version": "1.5.0",
            "_view_count": null,
            "_view_module_version": "1.5.0",
            "box_style": "",
            "layout": "IPY_MODEL_f844f3c4fcec4f1ca6f7952e8ee8142f",
            "_model_module": "@jupyter-widgets/controls",
            "children": [
              "IPY_MODEL_fbcef80bf1af45fe9834aac0ec6d7c6f",
              "IPY_MODEL_fcc4c292195c484eb2fe54f5f0a1cee4"
            ]
          }
        },
        "f844f3c4fcec4f1ca6f7952e8ee8142f": {
          "model_module": "@jupyter-widgets/base",
          "model_name": "LayoutModel",
          "state": {
            "_view_name": "LayoutView",
            "grid_template_rows": null,
            "right": null,
            "justify_content": null,
            "_view_module": "@jupyter-widgets/base",
            "overflow": null,
            "_model_module_version": "1.2.0",
            "_view_count": null,
            "flex_flow": null,
            "width": null,
            "min_width": null,
            "border": null,
            "align_items": null,
            "bottom": null,
            "_model_module": "@jupyter-widgets/base",
            "top": null,
            "grid_column": null,
            "overflow_y": null,
            "overflow_x": null,
            "grid_auto_flow": null,
            "grid_area": null,
            "grid_template_columns": null,
            "flex": null,
            "_model_name": "LayoutModel",
            "justify_items": null,
            "grid_row": null,
            "max_height": null,
            "align_content": null,
            "visibility": null,
            "align_self": null,
            "height": null,
            "min_height": null,
            "padding": null,
            "grid_auto_rows": null,
            "grid_gap": null,
            "max_width": null,
            "order": null,
            "_view_module_version": "1.2.0",
            "grid_template_areas": null,
            "object_position": null,
            "object_fit": null,
            "grid_auto_columns": null,
            "margin": null,
            "display": null,
            "left": null
          }
        },
        "fbcef80bf1af45fe9834aac0ec6d7c6f": {
          "model_module": "@jupyter-widgets/controls",
          "model_name": "FloatProgressModel",
          "state": {
            "_view_name": "ProgressView",
            "style": "IPY_MODEL_8425ad82b8d945d98beac6431a7a0566",
            "_dom_classes": [],
            "description": "100%",
            "_model_name": "FloatProgressModel",
            "bar_style": "success",
            "max": 100,
            "_view_module": "@jupyter-widgets/controls",
            "_model_module_version": "1.5.0",
            "value": 100,
            "_view_count": null,
            "_view_module_version": "1.5.0",
            "orientation": "horizontal",
            "min": 0,
            "description_tooltip": null,
            "_model_module": "@jupyter-widgets/controls",
            "layout": "IPY_MODEL_beb06a29721f4fddbc2e5b907b91993b"
          }
        },
        "fcc4c292195c484eb2fe54f5f0a1cee4": {
          "model_module": "@jupyter-widgets/controls",
          "model_name": "HTMLModel",
          "state": {
            "_view_name": "HTMLView",
            "style": "IPY_MODEL_490d73782ae3440884811743f28342e4",
            "_dom_classes": [],
            "description": "",
            "_model_name": "HTMLModel",
            "placeholder": "​",
            "_view_module": "@jupyter-widgets/controls",
            "_model_module_version": "1.5.0",
            "value": " 100/100 [04:20&lt;00:00,  2.61s/it]",
            "_view_count": null,
            "_view_module_version": "1.5.0",
            "description_tooltip": null,
            "_model_module": "@jupyter-widgets/controls",
            "layout": "IPY_MODEL_a8082085aada4bc5afeee9d7d763d557"
          }
        },
        "8425ad82b8d945d98beac6431a7a0566": {
          "model_module": "@jupyter-widgets/controls",
          "model_name": "ProgressStyleModel",
          "state": {
            "_view_name": "StyleView",
            "_model_name": "ProgressStyleModel",
            "description_width": "initial",
            "_view_module": "@jupyter-widgets/base",
            "_model_module_version": "1.5.0",
            "_view_count": null,
            "_view_module_version": "1.2.0",
            "bar_color": null,
            "_model_module": "@jupyter-widgets/controls"
          }
        },
        "beb06a29721f4fddbc2e5b907b91993b": {
          "model_module": "@jupyter-widgets/base",
          "model_name": "LayoutModel",
          "state": {
            "_view_name": "LayoutView",
            "grid_template_rows": null,
            "right": null,
            "justify_content": null,
            "_view_module": "@jupyter-widgets/base",
            "overflow": null,
            "_model_module_version": "1.2.0",
            "_view_count": null,
            "flex_flow": null,
            "width": null,
            "min_width": null,
            "border": null,
            "align_items": null,
            "bottom": null,
            "_model_module": "@jupyter-widgets/base",
            "top": null,
            "grid_column": null,
            "overflow_y": null,
            "overflow_x": null,
            "grid_auto_flow": null,
            "grid_area": null,
            "grid_template_columns": null,
            "flex": null,
            "_model_name": "LayoutModel",
            "justify_items": null,
            "grid_row": null,
            "max_height": null,
            "align_content": null,
            "visibility": null,
            "align_self": null,
            "height": null,
            "min_height": null,
            "padding": null,
            "grid_auto_rows": null,
            "grid_gap": null,
            "max_width": null,
            "order": null,
            "_view_module_version": "1.2.0",
            "grid_template_areas": null,
            "object_position": null,
            "object_fit": null,
            "grid_auto_columns": null,
            "margin": null,
            "display": null,
            "left": null
          }
        },
        "490d73782ae3440884811743f28342e4": {
          "model_module": "@jupyter-widgets/controls",
          "model_name": "DescriptionStyleModel",
          "state": {
            "_view_name": "StyleView",
            "_model_name": "DescriptionStyleModel",
            "description_width": "",
            "_view_module": "@jupyter-widgets/base",
            "_model_module_version": "1.5.0",
            "_view_count": null,
            "_view_module_version": "1.2.0",
            "_model_module": "@jupyter-widgets/controls"
          }
        },
        "a8082085aada4bc5afeee9d7d763d557": {
          "model_module": "@jupyter-widgets/base",
          "model_name": "LayoutModel",
          "state": {
            "_view_name": "LayoutView",
            "grid_template_rows": null,
            "right": null,
            "justify_content": null,
            "_view_module": "@jupyter-widgets/base",
            "overflow": null,
            "_model_module_version": "1.2.0",
            "_view_count": null,
            "flex_flow": null,
            "width": null,
            "min_width": null,
            "border": null,
            "align_items": null,
            "bottom": null,
            "_model_module": "@jupyter-widgets/base",
            "top": null,
            "grid_column": null,
            "overflow_y": null,
            "overflow_x": null,
            "grid_auto_flow": null,
            "grid_area": null,
            "grid_template_columns": null,
            "flex": null,
            "_model_name": "LayoutModel",
            "justify_items": null,
            "grid_row": null,
            "max_height": null,
            "align_content": null,
            "visibility": null,
            "align_self": null,
            "height": null,
            "min_height": null,
            "padding": null,
            "grid_auto_rows": null,
            "grid_gap": null,
            "max_width": null,
            "order": null,
            "_view_module_version": "1.2.0",
            "grid_template_areas": null,
            "object_position": null,
            "object_fit": null,
            "grid_auto_columns": null,
            "margin": null,
            "display": null,
            "left": null
          }
        }
      }
    }
  },
  "cells": [
    {
      "cell_type": "code",
      "metadata": {
        "id": "xTtR5b0VFFxa"
      },
      "source": [
        "from google.colab import files\n",
        "from IPython.display import clear_output\n",
        "files.upload()\n",
        "clear_output()"
      ],
      "execution_count": 1,
      "outputs": []
    },
    {
      "cell_type": "code",
      "metadata": {
        "id": "Nhut7e9fF3hL"
      },
      "source": [
        "!pip install pycodestyle pycodestyle_magic\n",
        "!pip install flake8\n",
        "clear_output()"
      ],
      "execution_count": 2,
      "outputs": []
    },
    {
      "cell_type": "code",
      "metadata": {
        "id": "yesormTpF5je"
      },
      "source": [
        "%load_ext pycodestyle_magic"
      ],
      "execution_count": 3,
      "outputs": []
    },
    {
      "cell_type": "code",
      "metadata": {
        "id": "271-Ub0DF7b3"
      },
      "source": [
        "import re\n",
        "import time\n",
        "import torch\n",
        "import pandas as pd\n",
        "import numpy as np\n",
        "import matplotlib.pyplot as plt\n",
        "import torch.backends.cudnn as cudnn\n",
        "from tqdm.notebook import tqdm\n",
        "from string import ascii_lowercase\n",
        "from sklearn.model_selection import train_test_split\n",
        "\n",
        "%matplotlib inline"
      ],
      "execution_count": 4,
      "outputs": []
    },
    {
      "cell_type": "code",
      "metadata": {
        "id": "okhKp4fSeKtp"
      },
      "source": [
        "torch.manual_seed(42)\n",
        "np.random.seed(42)\n",
        "clear_output()"
      ],
      "execution_count": 5,
      "outputs": []
    },
    {
      "cell_type": "code",
      "metadata": {
        "id": "NyNMaPNQwXjm"
      },
      "source": [
        "cudnn.benchmark = True\n",
        "torch.set_default_tensor_type('cuda')"
      ],
      "execution_count": null,
      "outputs": []
    },
    {
      "cell_type": "markdown",
      "metadata": {
        "id": "H7oyWXnoFiEg"
      },
      "source": [
        "# Задание 1\n",
        "## Препроцессинг данных"
      ]
    },
    {
      "cell_type": "code",
      "metadata": {
        "id": "k0L6KrIhG2CQ"
      },
      "source": [
        "russian = 'абвгдеёжзийклмнопрстуфхцчшщьыъэюя'\n",
        "CHAR_TO_INDEX = {w: i for i, w in enumerate(russian)}"
      ],
      "execution_count": 6,
      "outputs": []
    },
    {
      "cell_type": "code",
      "metadata": {
        "id": "_LKMJTToFkwq"
      },
      "source": [
        "def caesar_encode(text, k):\n",
        "    cipher = ''\n",
        "    for char in text:\n",
        "        if char.lower() in russian:\n",
        "            id = (CHAR_TO_INDEX[char.lower()] + k) % 33\n",
        "            if char.isupper():\n",
        "                cipher += russian[id].upper()\n",
        "            else:\n",
        "                cipher += russian[id]\n",
        "        else:\n",
        "            cipher += char\n",
        "    return cipher"
      ],
      "execution_count": 7,
      "outputs": []
    },
    {
      "cell_type": "code",
      "metadata": {
        "id": "v1owhyq0KDjO"
      },
      "source": [
        "regex = r'(\\[\\d+\\] \\(#litres_trial_promo\\)|\\[.*\\]|\\t+)'\n",
        "\n",
        "# обнаружилась странная ошибка – первое \"Не\" в тексте оказалось записано латиницей\n",
        "with open('onegin.txt') as f:\n",
        "    sents = [re.sub(regex, '', sent).replace('\\xa0', ' ').replace('He', 'Не')\n",
        "             for sent in f.read().splitlines()\n",
        "             if sent.startswith('\\t\\t') and not sent.endswith('………')]"
      ],
      "execution_count": 8,
      "outputs": []
    },
    {
      "cell_type": "code",
      "metadata": {
        "colab": {
          "base_uri": "https://localhost:8080/"
        },
        "id": "PvUf0kZLPfyN",
        "outputId": "3b2f8879-c733-4d3c-9b7f-798052020666"
      },
      "source": [
        "len(sents)"
      ],
      "execution_count": 9,
      "outputs": [
        {
          "output_type": "execute_result",
          "data": {
            "text/plain": [
              "1453"
            ]
          },
          "metadata": {
            "tags": []
          },
          "execution_count": 9
        }
      ]
    },
    {
      "cell_type": "code",
      "metadata": {
        "colab": {
          "base_uri": "https://localhost:8080/"
        },
        "id": "2Si-zOQKKuk0",
        "outputId": "5b3182e7-fda3-40d1-ab05-fb60d9a4d4d8"
      },
      "source": [
        "sents[:10]"
      ],
      "execution_count": 10,
      "outputs": [
        {
          "output_type": "execute_result",
          "data": {
            "text/plain": [
              "['Не мысля гордый свет забавить,',\n",
              " 'Вниманье дружбы возлюбя,',\n",
              " 'Хотел бы я тебе представить',\n",
              " 'Залог достойнее тебя,',\n",
              " 'Достойнее души прекрасной,',\n",
              " 'Святой исполненной мечты,',\n",
              " 'Поэзии живой и ясной,',\n",
              " 'Высоких дум и простоты;',\n",
              " 'Но так и быть – рукой пристрастной',\n",
              " 'Прими собранье пёстрых глав,']"
            ]
          },
          "metadata": {
            "tags": []
          },
          "execution_count": 10
        }
      ]
    },
    {
      "cell_type": "code",
      "metadata": {
        "id": "turmSzkZQG-q"
      },
      "source": [
        "sents_ciphered = [caesar_encode(sent, 3) for sent in sents]"
      ],
      "execution_count": 11,
      "outputs": []
    },
    {
      "cell_type": "code",
      "metadata": {
        "colab": {
          "base_uri": "https://localhost:8080/"
        },
        "id": "ivC_3bvvQa8Z",
        "outputId": "d9eb8cc9-a9a0-479b-a606-e72969979f0a"
      },
      "source": [
        "sents_ciphered[:10]"
      ],
      "execution_count": 12,
      "outputs": [
        {
          "output_type": "execute_result",
          "data": {
            "text/plain": [
              "['Рз пюфов ёсужюм фезх кгдгелхэ,',\n",
              " 'Ерлпгрэз жуцйдю ескобдв,',\n",
              " 'Шсхзо дю в хздз тузжфхгелхэ',\n",
              " 'Кгосё жсфхсмрзз хздв,',\n",
              " 'Жсфхсмрзз жцыл тузнугфрсм,',\n",
              " 'Февхсм лфтсорзррсм пзьхю,',\n",
              " 'Тсаклл йлесм л вфрсм,',\n",
              " 'Еюфснлш жцп л тусфхсхю;',\n",
              " 'Рс хгн л дюхэ – уцнсм тулфхугфхрсм',\n",
              " 'Тулпл фсдугрэз тифхуюш ёоге,']"
            ]
          },
          "metadata": {
            "tags": []
          },
          "execution_count": 12
        }
      ]
    },
    {
      "cell_type": "markdown",
      "metadata": {
        "id": "gPkdc1r-RMSe"
      },
      "source": [
        "Посчитаем среднюю длину строки в стихотворении, чтобы выяснить, до какой длины делать padding."
      ]
    },
    {
      "cell_type": "code",
      "metadata": {
        "colab": {
          "base_uri": "https://localhost:8080/"
        },
        "id": "Q8SbrOlaRLXJ",
        "outputId": "25d1b72a-e785-410c-ec14-ebbb8b95d448"
      },
      "source": [
        "np.mean([len(sent) for sent in sents])"
      ],
      "execution_count": 13,
      "outputs": [
        {
          "output_type": "execute_result",
          "data": {
            "text/plain": [
              "25.044046799724708"
            ]
          },
          "metadata": {
            "tags": []
          },
          "execution_count": 13
        }
      ]
    },
    {
      "cell_type": "code",
      "metadata": {
        "id": "lDrsiz3ETEHU"
      },
      "source": [
        "MAX_LEN = 25\n",
        "X = torch.zeros((len(sents), MAX_LEN), dtype=int)\n",
        "for i in range(len(sents)):\n",
        "    for j, w in enumerate(sents[i]):\n",
        "        if j >= MAX_LEN:\n",
        "            break\n",
        "        if w == ' ':\n",
        "            X[i][j] = 34\n",
        "        if w.lower() in russian:\n",
        "            X[i][j] = CHAR_TO_INDEX[w.lower()] + 1"
      ],
      "execution_count": 14,
      "outputs": []
    },
    {
      "cell_type": "code",
      "metadata": {
        "colab": {
          "base_uri": "https://localhost:8080/"
        },
        "id": "PUimgWeDUfGA",
        "outputId": "36e54dc0-9ddf-4449-ce9d-55c8c247ec21"
      },
      "source": [
        "X[:10]"
      ],
      "execution_count": 15,
      "outputs": [
        {
          "output_type": "execute_result",
          "data": {
            "text/plain": [
              "tensor([[15,  6, 34, 14, 29, 19, 13, 33, 34,  4, 16, 18,  5, 29, 11, 34, 19,  3,\n",
              "          6, 20, 34,  9,  1,  2,  1],\n",
              "        [ 3, 15, 10, 14,  1, 15, 28,  6, 34,  5, 18, 21,  8,  2, 29, 34,  3, 16,\n",
              "          9, 13, 32,  2, 33,  0,  0],\n",
              "        [23, 16, 20,  6, 13, 34,  2, 29, 34, 33, 34, 20,  6,  2,  6, 34, 17, 18,\n",
              "          6,  5, 19, 20,  1,  3, 10],\n",
              "        [ 9,  1, 13, 16,  4, 34,  5, 16, 19, 20, 16, 11, 15,  6,  6, 34, 20,  6,\n",
              "          2, 33,  0,  0,  0,  0,  0],\n",
              "        [ 5, 16, 19, 20, 16, 11, 15,  6,  6, 34,  5, 21, 26, 10, 34, 17, 18,  6,\n",
              "         12, 18,  1, 19, 15, 16, 11],\n",
              "        [19,  3, 33, 20, 16, 11, 34, 10, 19, 17, 16, 13, 15,  6, 15, 15, 16, 11,\n",
              "         34, 14,  6, 25, 20, 29,  0],\n",
              "        [17, 16, 31,  9, 10, 10, 34,  8, 10,  3, 16, 11, 34, 10, 34, 33, 19, 15,\n",
              "         16, 11,  0,  0,  0,  0,  0],\n",
              "        [ 3, 29, 19, 16, 12, 10, 23, 34,  5, 21, 14, 34, 10, 34, 17, 18, 16, 19,\n",
              "         20, 16, 20, 29,  0,  0,  0],\n",
              "        [15, 16, 34, 20,  1, 12, 34, 10, 34,  2, 29, 20, 28, 34,  0, 34, 18, 21,\n",
              "         12, 16, 11, 34, 17, 18, 10],\n",
              "        [17, 18, 10, 14, 10, 34, 19, 16,  2, 18,  1, 15, 28,  6, 34, 17,  7, 19,\n",
              "         20, 18, 29, 23, 34,  4, 13]])"
            ]
          },
          "metadata": {
            "tags": []
          },
          "execution_count": 15
        }
      ]
    },
    {
      "cell_type": "code",
      "metadata": {
        "id": "xHujtV7KX1vN"
      },
      "source": [
        "MAX_LEN = 25\n",
        "y = torch.zeros((len(sents_ciphered), MAX_LEN), dtype=int)\n",
        "for i in range(len(sents_ciphered)):\n",
        "    for j, w in enumerate(sents_ciphered[i]):\n",
        "        if j >= MAX_LEN:\n",
        "            break\n",
        "        if w == ' ':\n",
        "            y[i][j] = 34\n",
        "        if w.lower() in russian:\n",
        "            y[i][j] = CHAR_TO_INDEX[w.lower()] + 1"
      ],
      "execution_count": 16,
      "outputs": []
    },
    {
      "cell_type": "code",
      "metadata": {
        "colab": {
          "base_uri": "https://localhost:8080/"
        },
        "id": "hcZVLauuYBwE",
        "outputId": "8dcdceeb-4814-4727-d542-4859e4d1f3e1"
      },
      "source": [
        "y[:10]"
      ],
      "execution_count": 17,
      "outputs": [
        {
          "output_type": "execute_result",
          "data": {
            "text/plain": [
              "tensor([[18,  9, 34, 17, 32, 22, 16,  3, 34,  7, 19, 21,  8, 32, 14, 34, 22,  6,\n",
              "          9, 23, 34, 12,  4,  5,  4],\n",
              "        [ 6, 18, 13, 17,  4, 18, 31,  9, 34,  8, 21, 24, 11,  5, 32, 34,  6, 19,\n",
              "         12, 16,  2,  5,  3,  0,  0],\n",
              "        [26, 19, 23,  9, 16, 34,  5, 32, 34,  3, 34, 23,  9,  5,  9, 34, 20, 21,\n",
              "          9,  8, 22, 23,  4,  6, 13],\n",
              "        [12,  4, 16, 19,  7, 34,  8, 19, 22, 23, 19, 14, 18,  9,  9, 34, 23,  9,\n",
              "          5,  3,  0,  0,  0,  0,  0],\n",
              "        [ 8, 19, 22, 23, 19, 14, 18,  9,  9, 34,  8, 24, 29, 13, 34, 20, 21,  9,\n",
              "         15, 21,  4, 22, 18, 19, 14],\n",
              "        [22,  6,  3, 23, 19, 14, 34, 13, 22, 20, 19, 16, 18,  9, 18, 18, 19, 14,\n",
              "         34, 17,  9, 28, 23, 32,  0],\n",
              "        [20, 19,  1, 12, 13, 13, 34, 11, 13,  6, 19, 14, 34, 13, 34,  3, 22, 18,\n",
              "         19, 14,  0,  0,  0,  0,  0],\n",
              "        [ 6, 32, 22, 19, 15, 13, 26, 34,  8, 24, 17, 34, 13, 34, 20, 21, 19, 22,\n",
              "         23, 19, 23, 32,  0,  0,  0],\n",
              "        [18, 19, 34, 23,  4, 15, 34, 13, 34,  5, 32, 23, 31, 34,  0, 34, 21, 24,\n",
              "         15, 19, 14, 34, 20, 21, 13],\n",
              "        [20, 21, 13, 17, 13, 34, 22, 19,  5, 21,  4, 18, 31,  9, 34, 20, 10, 22,\n",
              "         23, 21, 32, 26, 34,  7, 16]])"
            ]
          },
          "metadata": {
            "tags": []
          },
          "execution_count": 17
        }
      ]
    },
    {
      "cell_type": "code",
      "metadata": {
        "id": "qZ1b7qDKd9DU"
      },
      "source": [
        "X_train, X_test, y_train, y_test = train_test_split(X, y, random_state=42)"
      ],
      "execution_count": 18,
      "outputs": []
    },
    {
      "cell_type": "markdown",
      "metadata": {
        "id": "iBKzj4irYIg2"
      },
      "source": [
        "## Архитектура RNN"
      ]
    },
    {
      "cell_type": "code",
      "metadata": {
        "id": "mT6ZjDw4FnLk"
      },
      "source": [
        "class CaesarNetwork(torch.nn.Module):\n",
        "    def __init__(self, vocab_size, embedding_dim, hidden_dim):\n",
        "        super(CaesarNetwork, self).__init__()\n",
        "        self.embedding = torch.nn.Embedding(vocab_size, embedding_dim)\n",
        "        self.rnn = torch.nn.RNN(embedding_dim, hidden_dim, batch_first=True)\n",
        "        self.dense = torch.nn.Linear(hidden_dim, vocab_size)\n",
        "\n",
        "    def forward(self, x, train=True, state=None):\n",
        "        with torch.set_grad_enabled(train):\n",
        "            out = self.embedding(x)\n",
        "            out, state = self.rnn(out, state)\n",
        "            out = self.dense(out)\n",
        "            out = out.squeeze(0)\n",
        "        return out, state"
      ],
      "execution_count": 19,
      "outputs": []
    },
    {
      "cell_type": "markdown",
      "metadata": {
        "id": "UxyxPYZNieO8"
      },
      "source": [
        "## Обучение"
      ]
    },
    {
      "cell_type": "code",
      "metadata": {
        "id": "kgs1fSEciWnB"
      },
      "source": [
        "vocab_size = 35\n",
        "embedding_dim = 35\n",
        "hidden_dim = 128"
      ],
      "execution_count": 20,
      "outputs": []
    },
    {
      "cell_type": "code",
      "metadata": {
        "id": "YMRgt1LvjCOS"
      },
      "source": [
        "model = CaesarNetwork(vocab_size, embedding_dim, hidden_dim)"
      ],
      "execution_count": 21,
      "outputs": []
    },
    {
      "cell_type": "code",
      "metadata": {
        "id": "OFu965RqjNhb"
      },
      "source": [
        "criterion = torch.nn.CrossEntropyLoss()\n",
        "optimizer = torch.optim.SGD(model.parameters(), lr=0.05)\n",
        "batch_size = 64\n",
        "n_epochs = 100"
      ],
      "execution_count": 22,
      "outputs": []
    },
    {
      "cell_type": "code",
      "metadata": {
        "colab": {
          "base_uri": "https://localhost:8080/",
          "height": 1000,
          "referenced_widgets": [
            "58d5ae79cd674b2794966ce464f2928e",
            "9a19e0839cd346bcbf79eec79ec9f795",
            "075b0f3ec307486da6a04b4530f94b21",
            "be4bbdf90cd84351a5040bb85be7e155",
            "089e2472ef094bdcbae47972b67037a9",
            "cdb0ad3248db4013b5af4fe0e032a3c4",
            "2f7b28e3219342cdb0dd1c17a1d1388b",
            "327eff05bd6f449b9ea90f7c91f0dc2d"
          ]
        },
        "id": "dNDAb7RXjbsh",
        "outputId": "8a7297f5-94ca-4baf-fd62-2cd55240a398"
      },
      "source": [
        "train_losses = []\n",
        "\n",
        "for epoch in tqdm(range(1, n_epochs + 1)):\n",
        "    start = time.time()\n",
        "    train_loss = 0.0\n",
        "    for i in range(int(np.ceil(len(X_train) / batch_size))):\n",
        "        X_batch = X_train[batch_size * i: batch_size * (i + 1)]\n",
        "        y_batch = y_train[batch_size * i: batch_size * (i + 1)].flatten()\n",
        "        optimizer.zero_grad()\n",
        "        y_pred, _ = model.forward(X_batch)\n",
        "        loss = criterion(y_pred.view(-1, 35), y_batch)\n",
        "        train_loss += loss.item()\n",
        "        loss.backward()\n",
        "        optimizer.step()\n",
        "    train_losses.append(train_loss)\n",
        "    sec = time.time() - start\n",
        "    print(f'Epoch: {epoch}, time: {sec:.1f}s, train loss: {train_loss:.3f}')"
      ],
      "execution_count": 23,
      "outputs": [
        {
          "output_type": "display_data",
          "data": {
            "application/vnd.jupyter.widget-view+json": {
              "model_id": "58d5ae79cd674b2794966ce464f2928e",
              "version_minor": 0,
              "version_major": 2
            },
            "text/plain": [
              "HBox(children=(FloatProgress(value=0.0), HTML(value='')))"
            ]
          },
          "metadata": {
            "tags": []
          }
        },
        {
          "output_type": "stream",
          "text": [
            "Epoch: 1, time: 0.6s, train loss: 55.630\n",
            "Epoch: 2, time: 0.3s, train loss: 39.739\n",
            "Epoch: 3, time: 0.3s, train loss: 29.037\n",
            "Epoch: 4, time: 0.3s, train loss: 22.182\n",
            "Epoch: 5, time: 0.3s, train loss: 17.629\n",
            "Epoch: 6, time: 0.3s, train loss: 14.397\n",
            "Epoch: 7, time: 0.3s, train loss: 11.981\n",
            "Epoch: 8, time: 0.3s, train loss: 10.118\n",
            "Epoch: 9, time: 0.3s, train loss: 8.655\n",
            "Epoch: 10, time: 0.3s, train loss: 7.491\n",
            "Epoch: 11, time: 0.3s, train loss: 6.554\n",
            "Epoch: 12, time: 0.3s, train loss: 5.792\n",
            "Epoch: 13, time: 0.3s, train loss: 5.165\n",
            "Epoch: 14, time: 0.3s, train loss: 4.643\n",
            "Epoch: 15, time: 0.3s, train loss: 4.202\n",
            "Epoch: 16, time: 0.3s, train loss: 3.826\n",
            "Epoch: 17, time: 0.3s, train loss: 3.503\n",
            "Epoch: 18, time: 0.3s, train loss: 3.223\n",
            "Epoch: 19, time: 0.3s, train loss: 2.979\n",
            "Epoch: 20, time: 0.3s, train loss: 2.764\n",
            "Epoch: 21, time: 0.3s, train loss: 2.574\n",
            "Epoch: 22, time: 0.3s, train loss: 2.405\n",
            "Epoch: 23, time: 0.3s, train loss: 2.254\n",
            "Epoch: 24, time: 0.3s, train loss: 2.119\n",
            "Epoch: 25, time: 0.3s, train loss: 1.997\n",
            "Epoch: 26, time: 0.3s, train loss: 1.887\n",
            "Epoch: 27, time: 0.3s, train loss: 1.786\n",
            "Epoch: 28, time: 0.3s, train loss: 1.695\n",
            "Epoch: 29, time: 0.3s, train loss: 1.611\n",
            "Epoch: 30, time: 0.3s, train loss: 1.535\n",
            "Epoch: 31, time: 0.3s, train loss: 1.464\n",
            "Epoch: 32, time: 0.3s, train loss: 1.399\n",
            "Epoch: 33, time: 0.3s, train loss: 1.339\n",
            "Epoch: 34, time: 0.3s, train loss: 1.284\n",
            "Epoch: 35, time: 0.3s, train loss: 1.232\n",
            "Epoch: 36, time: 0.3s, train loss: 1.185\n",
            "Epoch: 37, time: 0.3s, train loss: 1.140\n",
            "Epoch: 38, time: 0.3s, train loss: 1.099\n",
            "Epoch: 39, time: 0.3s, train loss: 1.060\n",
            "Epoch: 40, time: 0.3s, train loss: 1.024\n",
            "Epoch: 41, time: 0.3s, train loss: 0.990\n",
            "Epoch: 42, time: 0.3s, train loss: 0.958\n",
            "Epoch: 43, time: 0.3s, train loss: 0.928\n",
            "Epoch: 44, time: 0.3s, train loss: 0.900\n",
            "Epoch: 45, time: 0.3s, train loss: 0.873\n",
            "Epoch: 46, time: 0.3s, train loss: 0.848\n",
            "Epoch: 47, time: 0.3s, train loss: 0.825\n",
            "Epoch: 48, time: 0.3s, train loss: 0.802\n",
            "Epoch: 49, time: 0.3s, train loss: 0.781\n",
            "Epoch: 50, time: 0.3s, train loss: 0.761\n",
            "Epoch: 51, time: 0.3s, train loss: 0.741\n",
            "Epoch: 52, time: 0.3s, train loss: 0.723\n",
            "Epoch: 53, time: 0.3s, train loss: 0.706\n",
            "Epoch: 54, time: 0.3s, train loss: 0.689\n",
            "Epoch: 55, time: 0.3s, train loss: 0.673\n",
            "Epoch: 56, time: 0.3s, train loss: 0.658\n",
            "Epoch: 57, time: 0.3s, train loss: 0.644\n",
            "Epoch: 58, time: 0.3s, train loss: 0.630\n",
            "Epoch: 59, time: 0.3s, train loss: 0.617\n",
            "Epoch: 60, time: 0.3s, train loss: 0.604\n",
            "Epoch: 61, time: 0.3s, train loss: 0.592\n",
            "Epoch: 62, time: 0.3s, train loss: 0.580\n",
            "Epoch: 63, time: 0.3s, train loss: 0.569\n",
            "Epoch: 64, time: 0.3s, train loss: 0.558\n",
            "Epoch: 65, time: 0.3s, train loss: 0.548\n",
            "Epoch: 66, time: 0.3s, train loss: 0.538\n",
            "Epoch: 67, time: 0.3s, train loss: 0.528\n",
            "Epoch: 68, time: 0.3s, train loss: 0.519\n",
            "Epoch: 69, time: 0.3s, train loss: 0.510\n",
            "Epoch: 70, time: 0.3s, train loss: 0.501\n",
            "Epoch: 71, time: 0.3s, train loss: 0.492\n",
            "Epoch: 72, time: 0.3s, train loss: 0.484\n",
            "Epoch: 73, time: 0.3s, train loss: 0.476\n",
            "Epoch: 74, time: 0.3s, train loss: 0.468\n",
            "Epoch: 75, time: 0.3s, train loss: 0.461\n",
            "Epoch: 76, time: 0.3s, train loss: 0.454\n",
            "Epoch: 77, time: 0.3s, train loss: 0.447\n",
            "Epoch: 78, time: 0.3s, train loss: 0.440\n",
            "Epoch: 79, time: 0.3s, train loss: 0.433\n",
            "Epoch: 80, time: 0.3s, train loss: 0.427\n",
            "Epoch: 81, time: 0.3s, train loss: 0.420\n",
            "Epoch: 82, time: 0.3s, train loss: 0.414\n",
            "Epoch: 83, time: 0.3s, train loss: 0.408\n",
            "Epoch: 84, time: 0.3s, train loss: 0.402\n",
            "Epoch: 85, time: 0.3s, train loss: 0.396\n",
            "Epoch: 86, time: 0.3s, train loss: 0.391\n",
            "Epoch: 87, time: 0.3s, train loss: 0.385\n",
            "Epoch: 88, time: 0.3s, train loss: 0.380\n",
            "Epoch: 89, time: 0.3s, train loss: 0.375\n",
            "Epoch: 90, time: 0.3s, train loss: 0.370\n",
            "Epoch: 91, time: 0.3s, train loss: 0.365\n",
            "Epoch: 92, time: 0.3s, train loss: 0.360\n",
            "Epoch: 93, time: 0.3s, train loss: 0.355\n",
            "Epoch: 94, time: 0.3s, train loss: 0.350\n",
            "Epoch: 95, time: 0.3s, train loss: 0.346\n",
            "Epoch: 96, time: 0.3s, train loss: 0.341\n",
            "Epoch: 97, time: 0.3s, train loss: 0.337\n",
            "Epoch: 98, time: 0.3s, train loss: 0.333\n",
            "Epoch: 99, time: 0.3s, train loss: 0.328\n",
            "Epoch: 100, time: 0.3s, train loss: 0.324\n",
            "\n"
          ],
          "name": "stdout"
        }
      ]
    },
    {
      "cell_type": "markdown",
      "metadata": {
        "id": "Dzuyqmt5AVxc"
      },
      "source": [
        "# Оценка качества\n",
        "Построим график лоссов на обучающей выборке и оценим качество на тестовой."
      ]
    },
    {
      "cell_type": "code",
      "metadata": {
        "colab": {
          "base_uri": "https://localhost:8080/",
          "height": 742
        },
        "id": "7K8EbsndEjjm",
        "outputId": "8a611a39-29e6-4e3f-bd0b-ecc2beebc558"
      },
      "source": [
        "plt.figure(figsize=(14, 12))\n",
        "plt.plot(train_losses)\n",
        "plt.grid()\n",
        "plt.title('Training process', fontsize='xx-large')\n",
        "plt.xlabel('Epoch', fontsize='xx-large')\n",
        "plt.ylabel('Loss function', fontsize='xx-large')\n",
        "plt.show()"
      ],
      "execution_count": 24,
      "outputs": [
        {
          "output_type": "display_data",
          "data": {
            "image/png": "[encoded data removed]",
            "text/plain": [
              "<Figure size 1008x864 with 1 Axes>"
            ]
          },
          "metadata": {
            "tags": [],
            "needs_background": "light"
          }
        }
      ]
    },
    {
      "cell_type": "code",
      "metadata": {
        "id": "1CZ5LH6GCxwV"
      },
      "source": [
        "y_pred, _ = model.forward(X_test, train=False)\n",
        "loss = criterion(y_pred.view(-1, 35), y_test.flatten())"
      ],
      "execution_count": 25,
      "outputs": []
    },
    {
      "cell_type": "code",
      "metadata": {
        "colab": {
          "base_uri": "https://localhost:8080/"
        },
        "id": "f30cAPoBDWh6",
        "outputId": "6b25f3e7-6f45-4815-9475-1ebbd128020c"
      },
      "source": [
        "print(f'Лосс на тестовой выборке: {loss.item():.3f}')"
      ],
      "execution_count": 26,
      "outputs": [
        {
          "output_type": "stream",
          "text": [
            "Лосс на тестовой выборке: 0.022\n"
          ],
          "name": "stdout"
        }
      ]
    },
    {
      "cell_type": "markdown",
      "metadata": {
        "id": "Bp1cAugnDsS6"
      },
      "source": [
        "Очень неплохо!"
      ]
    },
    {
      "cell_type": "markdown",
      "metadata": {
        "id": "QhRq-wBQFlVY"
      },
      "source": [
        "# Задание 2\n",
        "## Препроцессинг данных"
      ]
    },
    {
      "cell_type": "code",
      "metadata": {
        "id": "F8aCX--ItUDT"
      },
      "source": [
        "df = pd.read_csv('data.csv')"
      ],
      "execution_count": 27,
      "outputs": []
    },
    {
      "cell_type": "code",
      "metadata": {
        "colab": {
          "base_uri": "https://localhost:8080/",
          "height": 581
        },
        "id": "f0n0vJUnUGZu",
        "outputId": "b9ebbf8b-c6e7-42f2-e2dd-7a5608109251"
      },
      "source": [
        "df.head()"
      ],
      "execution_count": 28,
      "outputs": [
        {
          "output_type": "execute_result",
          "data": {
            "text/html": [
              "<div>\n",
              "<style scoped>\n",
              "    .dataframe tbody tr th:only-of-type {\n",
              "        vertical-align: middle;\n",
              "    }\n",
              "\n",
              "    .dataframe tbody tr th {\n",
              "        vertical-align: top;\n",
              "    }\n",
              "\n",
              "    .dataframe thead th {\n",
              "        text-align: right;\n",
              "    }\n",
              "</style>\n",
              "<table border=\"1\" class=\"dataframe\">\n",
              "  <thead>\n",
              "    <tr style=\"text-align: right;\">\n",
              "      <th></th>\n",
              "      <th>Unnamed: 0</th>\n",
              "      <th>id</th>\n",
              "      <th>episode_id</th>\n",
              "      <th>number</th>\n",
              "      <th>raw_text</th>\n",
              "      <th>timestamp_in_ms</th>\n",
              "      <th>speaking_line</th>\n",
              "      <th>character_id</th>\n",
              "      <th>location_id</th>\n",
              "      <th>raw_character_text</th>\n",
              "      <th>raw_location_text</th>\n",
              "      <th>spoken_words</th>\n",
              "      <th>normalized_text</th>\n",
              "      <th>word_count</th>\n",
              "    </tr>\n",
              "  </thead>\n",
              "  <tbody>\n",
              "    <tr>\n",
              "      <th>0</th>\n",
              "      <td>0</td>\n",
              "      <td>10368</td>\n",
              "      <td>35</td>\n",
              "      <td>29</td>\n",
              "      <td>Lisa Simpson: Maggie, look. What's that?</td>\n",
              "      <td>235000</td>\n",
              "      <td>True</td>\n",
              "      <td>9</td>\n",
              "      <td>5.0</td>\n",
              "      <td>Lisa Simpson</td>\n",
              "      <td>Simpson Home</td>\n",
              "      <td>Maggie, look. What's that?</td>\n",
              "      <td>maggie look whats that</td>\n",
              "      <td>4.0</td>\n",
              "    </tr>\n",
              "    <tr>\n",
              "      <th>1</th>\n",
              "      <td>1</td>\n",
              "      <td>10369</td>\n",
              "      <td>35</td>\n",
              "      <td>30</td>\n",
              "      <td>Lisa Simpson: Lee-mur. Lee-mur.</td>\n",
              "      <td>237000</td>\n",
              "      <td>True</td>\n",
              "      <td>9</td>\n",
              "      <td>5.0</td>\n",
              "      <td>Lisa Simpson</td>\n",
              "      <td>Simpson Home</td>\n",
              "      <td>Lee-mur. Lee-mur.</td>\n",
              "      <td>lee-mur lee-mur</td>\n",
              "      <td>2.0</td>\n",
              "    </tr>\n",
              "    <tr>\n",
              "      <th>2</th>\n",
              "      <td>2</td>\n",
              "      <td>10370</td>\n",
              "      <td>35</td>\n",
              "      <td>31</td>\n",
              "      <td>Lisa Simpson: Zee-boo. Zee-boo.</td>\n",
              "      <td>239000</td>\n",
              "      <td>True</td>\n",
              "      <td>9</td>\n",
              "      <td>5.0</td>\n",
              "      <td>Lisa Simpson</td>\n",
              "      <td>Simpson Home</td>\n",
              "      <td>Zee-boo. Zee-boo.</td>\n",
              "      <td>zee-boo zee-boo</td>\n",
              "      <td>2.0</td>\n",
              "    </tr>\n",
              "    <tr>\n",
              "      <th>3</th>\n",
              "      <td>3</td>\n",
              "      <td>10372</td>\n",
              "      <td>35</td>\n",
              "      <td>33</td>\n",
              "      <td>Lisa Simpson: I'm trying to teach Maggie that ...</td>\n",
              "      <td>245000</td>\n",
              "      <td>True</td>\n",
              "      <td>9</td>\n",
              "      <td>5.0</td>\n",
              "      <td>Lisa Simpson</td>\n",
              "      <td>Simpson Home</td>\n",
              "      <td>I'm trying to teach Maggie that nature doesn't...</td>\n",
              "      <td>im trying to teach maggie that nature doesnt e...</td>\n",
              "      <td>24.0</td>\n",
              "    </tr>\n",
              "    <tr>\n",
              "      <th>4</th>\n",
              "      <td>4</td>\n",
              "      <td>10374</td>\n",
              "      <td>35</td>\n",
              "      <td>35</td>\n",
              "      <td>Lisa Simpson: It's like an ox, only it has a h...</td>\n",
              "      <td>254000</td>\n",
              "      <td>True</td>\n",
              "      <td>9</td>\n",
              "      <td>5.0</td>\n",
              "      <td>Lisa Simpson</td>\n",
              "      <td>Simpson Home</td>\n",
              "      <td>It's like an ox, only it has a hump and a dewl...</td>\n",
              "      <td>its like an ox only it has a hump and a dewlap...</td>\n",
              "      <td>18.0</td>\n",
              "    </tr>\n",
              "  </tbody>\n",
              "</table>\n",
              "</div>"
            ],
            "text/plain": [
              "   Unnamed: 0  ...  word_count\n",
              "0           0  ...         4.0\n",
              "1           1  ...         2.0\n",
              "2           2  ...         2.0\n",
              "3           3  ...        24.0\n",
              "4           4  ...        18.0\n",
              "\n",
              "[5 rows x 14 columns]"
            ]
          },
          "metadata": {
            "tags": []
          },
          "execution_count": 28
        }
      ]
    },
    {
      "cell_type": "code",
      "metadata": {
        "id": "ND875UwIVG6_"
      },
      "source": [
        "sents = df['normalized_text'].tolist()"
      ],
      "execution_count": 29,
      "outputs": []
    },
    {
      "cell_type": "code",
      "metadata": {
        "colab": {
          "base_uri": "https://localhost:8080/"
        },
        "id": "5cVh6o1NaX56",
        "outputId": "8c48e5b5-e97f-4b39-8b46-1f28cfc6f816"
      },
      "source": [
        "len(sents)"
      ],
      "execution_count": 30,
      "outputs": [
        {
          "output_type": "execute_result",
          "data": {
            "text/plain": [
              "11639"
            ]
          },
          "metadata": {
            "tags": []
          },
          "execution_count": 30
        }
      ]
    },
    {
      "cell_type": "code",
      "metadata": {
        "colab": {
          "base_uri": "https://localhost:8080/"
        },
        "id": "_5y8UptjVMQb",
        "outputId": "a2998071-b5c2-4f40-efa1-c55a23ad2407"
      },
      "source": [
        "sents[:10]"
      ],
      "execution_count": 31,
      "outputs": [
        {
          "output_type": "execute_result",
          "data": {
            "text/plain": [
              "['maggie look whats that',\n",
              " 'lee-mur lee-mur',\n",
              " 'zee-boo zee-boo',\n",
              " 'im trying to teach maggie that nature doesnt end with the barnyard i want her to have all the advantages that i didnt have',\n",
              " 'its like an ox only it has a hump and a dewlap hump and dew-lap hump and dew-lap',\n",
              " 'you know his blood type how romantic',\n",
              " 'oh yeah whats my shoe size',\n",
              " 'ring',\n",
              " 'yes dad',\n",
              " 'ooh look maggie what is that do-dec-ah-edron dodecahedron']"
            ]
          },
          "metadata": {
            "tags": []
          },
          "execution_count": 31
        }
      ]
    },
    {
      "cell_type": "code",
      "metadata": {
        "id": "2M5wLsJcVOru"
      },
      "source": [
        "text = [[char for char in sent] for sent in sents if isinstance(sent, str)]"
      ],
      "execution_count": 32,
      "outputs": []
    },
    {
      "cell_type": "code",
      "metadata": {
        "colab": {
          "base_uri": "https://localhost:8080/"
        },
        "id": "tO_ZDdhKXj67",
        "outputId": "aabd663d-d801-4d19-fa35-e2f06bff75dc"
      },
      "source": [
        "text[0]"
      ],
      "execution_count": 33,
      "outputs": [
        {
          "output_type": "execute_result",
          "data": {
            "text/plain": [
              "['m',\n",
              " 'a',\n",
              " 'g',\n",
              " 'g',\n",
              " 'i',\n",
              " 'e',\n",
              " ' ',\n",
              " 'l',\n",
              " 'o',\n",
              " 'o',\n",
              " 'k',\n",
              " ' ',\n",
              " 'w',\n",
              " 'h',\n",
              " 'a',\n",
              " 't',\n",
              " 's',\n",
              " ' ',\n",
              " 't',\n",
              " 'h',\n",
              " 'a',\n",
              " 't']"
            ]
          },
          "metadata": {
            "tags": []
          },
          "execution_count": 33
        }
      ]
    },
    {
      "cell_type": "code",
      "metadata": {
        "id": "xUpOm4wGVbE-"
      },
      "source": [
        "CHAR_TO_INDEX = {w: i for i, w in enumerate(ascii_lowercase)}"
      ],
      "execution_count": 34,
      "outputs": []
    },
    {
      "cell_type": "markdown",
      "metadata": {
        "id": "drbAdvGsWE1T"
      },
      "source": [
        "Посчитаем среднюю длину реплики, чтобы выяснить, до какой длины делать padding."
      ]
    },
    {
      "cell_type": "code",
      "metadata": {
        "colab": {
          "base_uri": "https://localhost:8080/"
        },
        "id": "HhZC2zFCWHyH",
        "outputId": "eb001e59-68ba-420a-c5a2-5d0123300eef"
      },
      "source": [
        "np.mean([len(sent) for sent in text])"
      ],
      "execution_count": 35,
      "outputs": [
        {
          "output_type": "execute_result",
          "data": {
            "text/plain": [
              "46.36635754292535"
            ]
          },
          "metadata": {
            "tags": []
          },
          "execution_count": 35
        }
      ]
    },
    {
      "cell_type": "markdown",
      "metadata": {
        "id": "fMNwsK4JWjWd"
      },
      "source": [
        "Да, действительно, лучше до 50."
      ]
    },
    {
      "cell_type": "code",
      "metadata": {
        "id": "5bbqFWf_WBGj"
      },
      "source": [
        "MAX_LEN = 50\n",
        "X = torch.zeros((len(text), MAX_LEN), dtype=int)\n",
        "for i in range(len(text)):\n",
        "    for j, w in enumerate(text[i]):\n",
        "        if j >= MAX_LEN:\n",
        "            break\n",
        "        if w == ' ':\n",
        "            X[i][j] = 27\n",
        "        if w.lower() in ascii_lowercase:\n",
        "            X[i][j] = CHAR_TO_INDEX[w.lower()] + 1"
      ],
      "execution_count": 36,
      "outputs": []
    },
    {
      "cell_type": "code",
      "metadata": {
        "colab": {
          "base_uri": "https://localhost:8080/"
        },
        "id": "6lQUXDjUXKN-",
        "outputId": "ea9badba-75e0-4ed4-e13b-7346401efca8"
      },
      "source": [
        "X[:10]"
      ],
      "execution_count": 37,
      "outputs": [
        {
          "output_type": "execute_result",
          "data": {
            "text/plain": [
              "tensor([[13,  1,  7,  7,  9,  5, 27, 12, 15, 15, 11, 27, 23,  8,  1, 20, 19, 27,\n",
              "         20,  8,  1, 20,  0,  0,  0,  0,  0,  0,  0,  0,  0,  0,  0,  0,  0,  0,\n",
              "          0,  0,  0,  0,  0,  0,  0,  0,  0,  0,  0,  0,  0,  0],\n",
              "        [12,  5,  5,  0, 13, 21, 18, 27, 12,  5,  5,  0, 13, 21, 18,  0,  0,  0,\n",
              "          0,  0,  0,  0,  0,  0,  0,  0,  0,  0,  0,  0,  0,  0,  0,  0,  0,  0,\n",
              "          0,  0,  0,  0,  0,  0,  0,  0,  0,  0,  0,  0,  0,  0],\n",
              "        [26,  5,  5,  0,  2, 15, 15, 27, 26,  5,  5,  0,  2, 15, 15,  0,  0,  0,\n",
              "          0,  0,  0,  0,  0,  0,  0,  0,  0,  0,  0,  0,  0,  0,  0,  0,  0,  0,\n",
              "          0,  0,  0,  0,  0,  0,  0,  0,  0,  0,  0,  0,  0,  0],\n",
              "        [ 9, 13, 27, 20, 18, 25,  9, 14,  7, 27, 20, 15, 27, 20,  5,  1,  3,  8,\n",
              "         27, 13,  1,  7,  7,  9,  5, 27, 20,  8,  1, 20, 27, 14,  1, 20, 21, 18,\n",
              "          5, 27,  4, 15,  5, 19, 14, 20, 27,  5, 14,  4, 27, 23],\n",
              "        [ 9, 20, 19, 27, 12,  9, 11,  5, 27,  1, 14, 27, 15, 24, 27, 15, 14, 12,\n",
              "         25, 27,  9, 20, 27,  8,  1, 19, 27,  1, 27,  8, 21, 13, 16, 27,  1, 14,\n",
              "          4, 27,  1, 27,  4,  5, 23, 12,  1, 16, 27,  8, 21, 13],\n",
              "        [25, 15, 21, 27, 11, 14, 15, 23, 27,  8,  9, 19, 27,  2, 12, 15, 15,  4,\n",
              "         27, 20, 25, 16,  5, 27,  8, 15, 23, 27, 18, 15, 13,  1, 14, 20,  9,  3,\n",
              "          0,  0,  0,  0,  0,  0,  0,  0,  0,  0,  0,  0,  0,  0],\n",
              "        [15,  8, 27, 25,  5,  1,  8, 27, 23,  8,  1, 20, 19, 27, 13, 25, 27, 19,\n",
              "          8, 15,  5, 27, 19,  9, 26,  5,  0,  0,  0,  0,  0,  0,  0,  0,  0,  0,\n",
              "          0,  0,  0,  0,  0,  0,  0,  0,  0,  0,  0,  0,  0,  0],\n",
              "        [18,  9, 14,  7,  0,  0,  0,  0,  0,  0,  0,  0,  0,  0,  0,  0,  0,  0,\n",
              "          0,  0,  0,  0,  0,  0,  0,  0,  0,  0,  0,  0,  0,  0,  0,  0,  0,  0,\n",
              "          0,  0,  0,  0,  0,  0,  0,  0,  0,  0,  0,  0,  0,  0],\n",
              "        [25,  5, 19, 27,  4,  1,  4,  0,  0,  0,  0,  0,  0,  0,  0,  0,  0,  0,\n",
              "          0,  0,  0,  0,  0,  0,  0,  0,  0,  0,  0,  0,  0,  0,  0,  0,  0,  0,\n",
              "          0,  0,  0,  0,  0,  0,  0,  0,  0,  0,  0,  0,  0,  0],\n",
              "        [15, 15,  8, 27, 12, 15, 15, 11, 27, 13,  1,  7,  7,  9,  5, 27, 23,  8,\n",
              "          1, 20, 27,  9, 19, 27, 20,  8,  1, 20, 27,  4, 15,  0,  4,  5,  3,  0,\n",
              "          1,  8,  0,  5,  4, 18, 15, 14, 27,  4, 15,  4,  5,  3]])"
            ]
          },
          "metadata": {
            "tags": []
          },
          "execution_count": 37
        }
      ]
    },
    {
      "cell_type": "markdown",
      "metadata": {
        "id": "Lg1Va8IuZP8C"
      },
      "source": [
        "## Архитектура RNN"
      ]
    },
    {
      "cell_type": "code",
      "metadata": {
        "id": "uPd3oyRKXPGG"
      },
      "source": [
        "class TextGenerationNetwork(torch.nn.Module):\n",
        "    def __init__(self, vocab_size, embedding_dim, hidden_dim):\n",
        "        super(TextGenerationNetwork, self).__init__()\n",
        "        self.embedding = torch.nn.Embedding(vocab_size, embedding_dim)\n",
        "        self.rnn = torch.nn.RNN(embedding_dim, hidden_dim, batch_first=True)\n",
        "        self.dense = torch.nn.Linear(hidden_dim, vocab_size)\n",
        "\n",
        "    def forward(self, x, train=True, state=None):\n",
        "        with torch.set_grad_enabled(train):\n",
        "            out = self.embedding(x)\n",
        "            out, state = self.rnn(out)\n",
        "            out = self.dense(out)\n",
        "            out = out.squeeze(0)\n",
        "        return out, state"
      ],
      "execution_count": 48,
      "outputs": []
    },
    {
      "cell_type": "code",
      "metadata": {
        "id": "oeux-as7wrLY"
      },
      "source": [
        "sent_as_tensors = [torch.as_tensor(np.array([[CHAR_TO_INDEX[char] + 1]]),\n",
        "                                   dtype=torch.long)\n",
        "                   for char in ['h', 'e', 'l', 'l', 'o']]"
      ],
      "execution_count": 49,
      "outputs": []
    },
    {
      "cell_type": "code",
      "metadata": {
        "id": "d5OaVf1raadU"
      },
      "source": [
        "# я решила добавить ограничение на длину сгенерированного предложения\n",
        "def generate_sentence(model):\n",
        "    sent = 'hello'\n",
        "    state = None\n",
        "    for char in sent_as_tensors:\n",
        "        out, state = model.forward(char, train=False, state=state)\n",
        "    id = np.argmax(out.numpy().flatten())\n",
        "    while id != 0 and len(sent) < MAX_LEN:\n",
        "        if id == 27:\n",
        "            sent += ' '\n",
        "        else:\n",
        "            sent += ascii_lowercase[id - 1]\n",
        "        out, state = model.forward(torch.as_tensor(np.array([[id]]),\n",
        "                                                   dtype=torch.long),\n",
        "                                   train=False)\n",
        "        id = np.argmax(out.numpy().flatten())\n",
        "    return sent"
      ],
      "execution_count": 50,
      "outputs": []
    },
    {
      "cell_type": "markdown",
      "metadata": {
        "id": "Y5_vmLTdl2Hf"
      },
      "source": [
        "## Обучение и генерация предложений на каждой эпохе"
      ]
    },
    {
      "cell_type": "code",
      "metadata": {
        "id": "RQ_inou1lvFc"
      },
      "source": [
        "vocab_size = 28\n",
        "embedding_dim = 28\n",
        "hidden_dim = 128"
      ],
      "execution_count": 51,
      "outputs": []
    },
    {
      "cell_type": "code",
      "metadata": {
        "id": "ROYs9a_JmdbY"
      },
      "source": [
        "model = TextGenerationNetwork(vocab_size, embedding_dim, hidden_dim)"
      ],
      "execution_count": 52,
      "outputs": []
    },
    {
      "cell_type": "code",
      "metadata": {
        "id": "cQmo4De7misj"
      },
      "source": [
        "criterion = torch.nn.CrossEntropyLoss()\n",
        "optimizer = torch.optim.SGD(model.parameters(), lr=0.05)\n",
        "batch_size = 100\n",
        "n_epochs = 100"
      ],
      "execution_count": 53,
      "outputs": []
    },
    {
      "cell_type": "code",
      "metadata": {
        "colab": {
          "base_uri": "https://localhost:8080/",
          "height": 1000,
          "referenced_widgets": [
            "78dffb85ba404c8c884ce8252f2afe35",
            "f844f3c4fcec4f1ca6f7952e8ee8142f",
            "fbcef80bf1af45fe9834aac0ec6d7c6f",
            "fcc4c292195c484eb2fe54f5f0a1cee4",
            "8425ad82b8d945d98beac6431a7a0566",
            "beb06a29721f4fddbc2e5b907b91993b",
            "490d73782ae3440884811743f28342e4",
            "a8082085aada4bc5afeee9d7d763d557"
          ]
        },
        "id": "rg7BO2eum0Sm",
        "outputId": "975a4b81-1847-41a1-e96d-e89246b829fc"
      },
      "source": [
        "train_losses = []\n",
        "\n",
        "for epoch in tqdm(range(1, n_epochs + 1)):\n",
        "    start = time.time()\n",
        "    train_loss = 0.0\n",
        "    for i in range(int(np.ceil(len(X_train) / batch_size))):\n",
        "        batch = X[i * batch_size: (i + 1) * batch_size]\n",
        "        X_batch = batch[:, :-1]\n",
        "        y_batch = batch[:, 1:].flatten()\n",
        "        optimizer.zero_grad()\n",
        "        y_pred, _ = model.forward(X_batch)\n",
        "        loss = criterion(y_pred.view(-1, 28), y_batch)\n",
        "        train_loss += loss.item()\n",
        "        loss.backward()\n",
        "        optimizer.step()\n",
        "    train_losses.append(train_loss)\n",
        "    sec = time.time() - start\n",
        "    print(f'Epoch: {epoch}, time: {sec:.1f}s, train loss: {train_loss:.3f}')\n",
        "    print(generate_sentence(model) + '\\n')"
      ],
      "execution_count": 54,
      "outputs": [
        {
          "output_type": "display_data",
          "data": {
            "application/vnd.jupyter.widget-view+json": {
              "model_id": "78dffb85ba404c8c884ce8252f2afe35",
              "version_minor": 0,
              "version_major": 2
            },
            "text/plain": [
              "HBox(children=(FloatProgress(value=0.0), HTML(value='')))"
            ]
          },
          "metadata": {
            "tags": []
          }
        },
        {
          "output_type": "stream",
          "text": [
            "Epoch: 1, time: 0.5s, train loss: 29.926\n",
            "hello\n",
            "\n",
            "Epoch: 2, time: 0.5s, train loss: 23.903\n",
            "hello w w w w w w w w w w w w w w w w w w w w w w \n",
            "\n",
            "Epoch: 3, time: 0.5s, train loss: 22.953\n",
            "hello w w w w w w w w w w w w w w w w w w w w w w \n",
            "\n",
            "Epoch: 4, time: 0.5s, train loss: 22.193\n",
            "hello t t t t t t t t t t t t t t t t t t t t t t \n",
            "\n",
            "Epoch: 5, time: 0.5s, train loss: 21.528\n",
            "hello t t t t t t t t t t t t t t t t t t t t t t \n",
            "\n",
            "Epoch: 6, time: 0.5s, train loss: 21.033\n",
            "hello t t t t t t t t t t t t t t t t t t t t t t \n",
            "\n",
            "Epoch: 7, time: 0.5s, train loss: 20.661\n",
            "hello t t t t t t t t t t t t t t t t t t t t t t \n",
            "\n",
            "Epoch: 8, time: 0.5s, train loss: 20.360\n",
            "hello t t t t t t t t t t t t t t t t t t t t t t \n",
            "\n",
            "Epoch: 9, time: 0.5s, train loss: 20.114\n",
            "hello t t t t t t t t t t t t t t t t t t t t t t \n",
            "\n",
            "Epoch: 10, time: 0.5s, train loss: 19.910\n",
            "hello t t t t t t t t t t t t t t t t t t t t t t \n",
            "\n",
            "Epoch: 11, time: 0.5s, train loss: 19.734\n",
            "hello t t t t t t t t t t t t t t t t t t t t t t \n",
            "\n",
            "Epoch: 12, time: 0.5s, train loss: 19.577\n",
            "hello t t t t t t t t t t t t t t t t t t t t t t \n",
            "\n",
            "Epoch: 13, time: 0.5s, train loss: 19.434\n",
            "hello t t t t t t t t t t t t t t t t t t t t t t \n",
            "\n",
            "Epoch: 14, time: 0.5s, train loss: 19.304\n",
            "hellou t t t t t t t t t t t t t t t t t t t t t t\n",
            "\n",
            "Epoch: 15, time: 0.5s, train loss: 19.184\n",
            "hellou t t t t t t t t t t t t t t t t t t t t t t\n",
            "\n",
            "Epoch: 16, time: 0.5s, train loss: 19.074\n",
            "hellou t t t t t t t t t t t t t t t t t t t t t t\n",
            "\n",
            "Epoch: 17, time: 0.5s, train loss: 18.971\n",
            "hellou t t t t t t t t t t t t t t t t t t t t t t\n",
            "\n",
            "Epoch: 18, time: 0.5s, train loss: 18.877\n",
            "hellou in in in in in in in in in in in in in in i\n",
            "\n",
            "Epoch: 19, time: 0.5s, train loss: 18.789\n",
            "hellou in in in in in in in in in in in in in in i\n",
            "\n",
            "Epoch: 20, time: 0.5s, train loss: 18.707\n",
            "hellou we we we we we we we we we we we we we we w\n",
            "\n",
            "Epoch: 21, time: 0.5s, train loss: 18.630\n",
            "hellou we we we we we we we we we we we we we we w\n",
            "\n",
            "Epoch: 22, time: 0.5s, train loss: 18.557\n",
            "hellou ba ba ba ba ba ba ba ba ba ba ba ba ba ba b\n",
            "\n",
            "Epoch: 23, time: 0.5s, train loss: 18.489\n",
            "hellou ba ba ba ba ba ba ba ba ba ba ba ba ba ba b\n",
            "\n",
            "Epoch: 24, time: 0.5s, train loss: 18.425\n",
            "hellou ba ba ba ba ba ba ba ba ba ba ba ba ba ba b\n",
            "\n",
            "Epoch: 25, time: 0.5s, train loss: 18.363\n",
            "hellou ba ba ba ba ba ba ba ba ba ba ba ba ba ba b\n",
            "\n",
            "Epoch: 26, time: 0.5s, train loss: 18.304\n",
            "hellou ba ba ba ba ba ba ba ba ba ba ba ba ba ba b\n",
            "\n",
            "Epoch: 27, time: 0.5s, train loss: 18.248\n",
            "hellou ba ba ba ba ba ba ba ba ba ba ba ba ba ba b\n",
            "\n",
            "Epoch: 28, time: 0.5s, train loss: 18.195\n",
            "hellou ba ba ba ba ba ba ba ba ba ba ba ba ba ba b\n",
            "\n",
            "Epoch: 29, time: 0.5s, train loss: 18.143\n",
            "hellou banou banou banou banou banou banou banou b\n",
            "\n",
            "Epoch: 30, time: 0.5s, train loss: 18.094\n",
            "hellou banou banou banou banou banou banou banou b\n",
            "\n",
            "Epoch: 31, time: 0.5s, train loss: 18.047\n",
            "hellou banou banou banou banou banou banou banou b\n",
            "\n",
            "Epoch: 32, time: 0.5s, train loss: 18.001\n",
            "helloure bare bare bare bare bare bare bare bare b\n",
            "\n",
            "Epoch: 33, time: 0.5s, train loss: 17.956\n",
            "helloure bare bare bare bare bare bare bare bare b\n",
            "\n",
            "Epoch: 34, time: 0.5s, train loss: 17.913\n",
            "helloure bare bare bare bare bare bare bare bare b\n",
            "\n",
            "Epoch: 35, time: 0.5s, train loss: 17.871\n",
            "helloure bare bare bare bare bare bare bare bare b\n",
            "\n",
            "Epoch: 36, time: 0.5s, train loss: 17.831\n",
            "helloure bare bare bare bare bare bare bare bare b\n",
            "\n",
            "Epoch: 37, time: 0.5s, train loss: 17.791\n",
            "helloure banoure banoure banoure banoure banoure b\n",
            "\n",
            "Epoch: 38, time: 0.5s, train loss: 17.753\n",
            "helloure banoure banoure banoure banoure banoure b\n",
            "\n",
            "Epoch: 39, time: 0.5s, train loss: 17.716\n",
            "helloure banoure banoure banoure banoure banoure b\n",
            "\n",
            "Epoch: 40, time: 0.5s, train loss: 17.680\n",
            "helloure banoure banoure banoure banoure banoure b\n",
            "\n",
            "Epoch: 41, time: 0.5s, train loss: 17.645\n",
            "helloure banoure banoure banoure banoure banoure b\n",
            "\n",
            "Epoch: 42, time: 0.5s, train loss: 17.611\n",
            "helloure banoure banoure banoure banoure banoure b\n",
            "\n",
            "Epoch: 43, time: 0.5s, train loss: 17.577\n",
            "helloure banoure banoure banoure banoure banoure b\n",
            "\n",
            "Epoch: 44, time: 0.5s, train loss: 17.545\n",
            "helloure banoure banoure banoure banoure banoure b\n",
            "\n",
            "Epoch: 45, time: 0.5s, train loss: 17.513\n",
            "helloure banoure banoure banoure banoure banoure b\n",
            "\n",
            "Epoch: 46, time: 0.5s, train loss: 17.482\n",
            "helloure banoure banoure banoure banoure banoure b\n",
            "\n",
            "Epoch: 47, time: 0.5s, train loss: 17.451\n",
            "helloure banoure banoure banoure banoure banoure b\n",
            "\n",
            "Epoch: 48, time: 0.5s, train loss: 17.421\n",
            "helloure banoure banoure banoure banoure banoure b\n",
            "\n",
            "Epoch: 49, time: 0.5s, train loss: 17.392\n",
            "helloure banoure banoure banoure banoure banoure b\n",
            "\n",
            "Epoch: 50, time: 0.5s, train loss: 17.363\n",
            "helloure banoure banoure banoure banoure banoure b\n",
            "\n",
            "Epoch: 51, time: 0.5s, train loss: 17.336\n",
            "helloure banoure banoure banoure banoure banoure b\n",
            "\n",
            "Epoch: 52, time: 0.5s, train loss: 17.308\n",
            "helloure banoure banoure banoure banoure banoure b\n",
            "\n",
            "Epoch: 53, time: 0.5s, train loss: 17.281\n",
            "helloure banoure banoure banoure banoure banoure b\n",
            "\n",
            "Epoch: 54, time: 0.5s, train loss: 17.255\n",
            "helloure banoure banoure banoure banoure banoure b\n",
            "\n",
            "Epoch: 55, time: 0.5s, train loss: 17.229\n",
            "helloure banoure banoure banoure banoure banoure b\n",
            "\n",
            "Epoch: 56, time: 0.5s, train loss: 17.204\n",
            "helloure banoure banoure banoure banoure banoure b\n",
            "\n",
            "Epoch: 57, time: 0.5s, train loss: 17.179\n",
            "helloure banoure banoure banoure banoure banoure b\n",
            "\n",
            "Epoch: 58, time: 0.5s, train loss: 17.154\n",
            "helloure banoure banoure banoure banoure banoure b\n",
            "\n",
            "Epoch: 59, time: 0.5s, train loss: 17.130\n",
            "helloure banoure banoure banoure banoure banoure b\n",
            "\n",
            "Epoch: 60, time: 0.5s, train loss: 17.107\n",
            "helloure banoure banoure banoure banoure banoure b\n",
            "\n",
            "Epoch: 61, time: 0.5s, train loss: 17.084\n",
            "helloure banoure banoure banoure banoure banoure b\n",
            "\n",
            "Epoch: 62, time: 0.5s, train loss: 17.061\n",
            "helloure banoure banoure banoure banoure banoure b\n",
            "\n",
            "Epoch: 63, time: 0.5s, train loss: 17.038\n",
            "helloure banoure banoure banoure banoure banoure b\n",
            "\n",
            "Epoch: 64, time: 0.5s, train loss: 17.016\n",
            "helloure banoure banoure banoure banoure banoure b\n",
            "\n",
            "Epoch: 65, time: 0.5s, train loss: 16.994\n",
            "helloure banoure banoure banoure banoure banoure b\n",
            "\n",
            "Epoch: 66, time: 0.5s, train loss: 16.973\n",
            "helloure banoure banoure banoure banoure banoure b\n",
            "\n",
            "Epoch: 67, time: 0.5s, train loss: 16.952\n",
            "helloure banoure banoure banoure banoure banoure b\n",
            "\n",
            "Epoch: 68, time: 0.5s, train loss: 16.931\n",
            "helloure banoure banoure banoure banoure banoure b\n",
            "\n",
            "Epoch: 69, time: 0.5s, train loss: 16.911\n",
            "helloure banoure banoure banoure banoure banoure b\n",
            "\n",
            "Epoch: 70, time: 0.5s, train loss: 16.891\n",
            "helloure banoure banoure banoure banoure banoure b\n",
            "\n",
            "Epoch: 71, time: 0.5s, train loss: 16.871\n",
            "helloure banoure banoure banoure banoure banoure b\n",
            "\n",
            "Epoch: 72, time: 0.5s, train loss: 16.851\n",
            "helloure banoure banoure banoure banoure banoure b\n",
            "\n",
            "Epoch: 73, time: 0.5s, train loss: 16.832\n",
            "helloure banoure banoure banoure banoure banoure b\n",
            "\n",
            "Epoch: 74, time: 0.5s, train loss: 16.813\n",
            "helloure banoure banoure banoure banoure banoure b\n",
            "\n",
            "Epoch: 75, time: 0.5s, train loss: 16.795\n",
            "helloure banoure banoure banoure banoure banoure b\n",
            "\n",
            "Epoch: 76, time: 0.5s, train loss: 16.776\n",
            "helloure banoure banoure banoure banoure banoure b\n",
            "\n",
            "Epoch: 77, time: 0.5s, train loss: 16.758\n",
            "helloure banoure banoure banoure banoure banoure b\n",
            "\n",
            "Epoch: 78, time: 0.5s, train loss: 16.740\n",
            "helloure banoure banoure banoure banoure banoure b\n",
            "\n",
            "Epoch: 79, time: 0.5s, train loss: 16.722\n",
            "helloure banoure banoure banoure banoure banoure b\n",
            "\n",
            "Epoch: 80, time: 0.5s, train loss: 16.705\n",
            "helloure banoure banoure banoure banoure banoure b\n",
            "\n",
            "Epoch: 81, time: 0.6s, train loss: 16.688\n",
            "helloure banoure banoure banoure banoure banoure b\n",
            "\n",
            "Epoch: 82, time: 0.5s, train loss: 16.671\n",
            "helloure banoure banoure banoure banoure banoure b\n",
            "\n",
            "Epoch: 83, time: 0.5s, train loss: 16.654\n",
            "helloure banoure banoure banoure banoure banoure b\n",
            "\n",
            "Epoch: 84, time: 0.5s, train loss: 16.637\n",
            "helloure banoure banoure banoure banoure banoure b\n",
            "\n",
            "Epoch: 85, time: 0.5s, train loss: 16.621\n",
            "helloure banoure banoure banoure banoure banoure b\n",
            "\n",
            "Epoch: 86, time: 0.5s, train loss: 16.605\n",
            "helloure banoure banoure banoure banoure banoure b\n",
            "\n",
            "Epoch: 87, time: 0.6s, train loss: 16.589\n",
            "helloure banoure banoure banoure banoure banoure b\n",
            "\n",
            "Epoch: 88, time: 0.5s, train loss: 16.573\n",
            "helloure banoure banoure banoure banoure banoure b\n",
            "\n",
            "Epoch: 89, time: 0.5s, train loss: 16.557\n",
            "helloure banoure banoure banoure banoure banoure b\n",
            "\n",
            "Epoch: 90, time: 0.5s, train loss: 16.541\n",
            "helloure banoure banoure banoure banoure banoure b\n",
            "\n",
            "Epoch: 91, time: 0.5s, train loss: 16.526\n",
            "helloure banoure banoure banoure banoure banoure b\n",
            "\n",
            "Epoch: 92, time: 0.5s, train loss: 16.511\n",
            "helloure banoure banoure banoure banoure banoure b\n",
            "\n",
            "Epoch: 93, time: 0.5s, train loss: 16.496\n",
            "helloure banoure banoure banoure banoure banoure b\n",
            "\n",
            "Epoch: 94, time: 0.5s, train loss: 16.481\n",
            "helloure banoure banoure banoure banoure banoure b\n",
            "\n",
            "Epoch: 95, time: 0.5s, train loss: 16.466\n",
            "helloure banoure banoure banoure banoure banoure b\n",
            "\n",
            "Epoch: 96, time: 0.5s, train loss: 16.452\n",
            "helloure banoure banoure banoure banoure banoure b\n",
            "\n",
            "Epoch: 97, time: 0.5s, train loss: 16.437\n",
            "helloure banoure banoure banoure banoure banoure b\n",
            "\n",
            "Epoch: 98, time: 0.5s, train loss: 16.423\n",
            "helloure banoure banoure banoure banoure banoure b\n",
            "\n",
            "Epoch: 99, time: 0.5s, train loss: 16.409\n",
            "helloure banoure banoure banoure banoure banoure b\n",
            "\n",
            "Epoch: 100, time: 0.5s, train loss: 16.395\n",
            "helloure banoure banoure banoure banoure banoure b\n",
            "\n",
            "\n"
          ],
          "name": "stdout"
        }
      ]
    },
    {
      "cell_type": "markdown",
      "metadata": {
        "id": "qo19jJBk4_AG"
      },
      "source": [
        "Фигню какую-то генерирует, и loss слишком большой (но хотя бы падает!). Что-то я делаю не так. <br>\n",
        "Построим график лоссов."
      ]
    },
    {
      "cell_type": "code",
      "metadata": {
        "id": "5h32Jmr2ngEu",
        "colab": {
          "base_uri": "https://localhost:8080/",
          "height": 742
        },
        "outputId": "76657a77-3054-4601-bfaa-616fde5bf063"
      },
      "source": [
        "plt.figure(figsize=(14, 12))\n",
        "plt.plot(train_losses)\n",
        "plt.grid()\n",
        "plt.title('Training process', fontsize='xx-large')\n",
        "plt.xlabel('Epoch', fontsize='xx-large')\n",
        "plt.ylabel('Loss function', fontsize='xx-large')\n",
        "plt.show()"
      ],
      "execution_count": 55,
      "outputs": [
        {
          "output_type": "display_data",
          "data": {
            "image/png": "[encoded data removed]",
            "text/plain": [
              "<Figure size 1008x864 with 1 Axes>"
            ]
          },
          "metadata": {
            "tags": [],
            "needs_background": "light"
          }
        }
      ]
    }
  ]
}