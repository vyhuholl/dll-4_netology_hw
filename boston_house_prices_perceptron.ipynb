{
  "nbformat": 4,
  "nbformat_minor": 0,
  "metadata": {
    "colab": {
      "name": "boston_house_prices_perceptron.ipynb",
      "provenance": [],
      "collapsed_sections": []
    },
    "kernelspec": {
      "name": "python3",
      "display_name": "Python 3"
    },
    "accelerator": "GPU"
  },
  "cells": [
    {
      "cell_type": "markdown",
      "metadata": {
        "id": "nRDOWkr131Qo"
      },
      "source": [
        "# Линейная регрессия на torch для boston house price"
      ]
    },
    {
      "cell_type": "code",
      "metadata": {
        "id": "rtBaWGruzDo3"
      },
      "source": [
        "# загружаем данные\n",
        "\n",
        "!pip3 install -U -q kaggle\n",
        "!mkdir -p ~/.kaggle"
      ],
      "execution_count": 1,
      "outputs": []
    },
    {
      "cell_type": "code",
      "metadata": {
        "id": "nF4dgyEy1b02"
      },
      "source": [
        "from google.colab import files\n",
        "from IPython.display import clear_output\n",
        "files.upload()\n",
        "clear_output()"
      ],
      "execution_count": 2,
      "outputs": []
    },
    {
      "cell_type": "code",
      "metadata": {
        "id": "S8KgHTdmA-sw"
      },
      "source": [
        "!pip install pycodestyle pycodestyle_magic\n",
        "!pip install flake8\n",
        "clear_output()"
      ],
      "execution_count": 3,
      "outputs": []
    },
    {
      "cell_type": "code",
      "metadata": {
        "id": "Cym2ACMGBBOj"
      },
      "source": [
        "%load_ext pycodestyle_magic"
      ],
      "execution_count": 4,
      "outputs": []
    },
    {
      "cell_type": "code",
      "metadata": {
        "id": "ELbu6E4w1ig1"
      },
      "source": [
        "!chmod 600 kaggle.json"
      ],
      "execution_count": 5,
      "outputs": []
    },
    {
      "cell_type": "code",
      "metadata": {
        "id": "mrLMLn6-1mYq"
      },
      "source": [
        "!cp kaggle.json ~/.kaggle/"
      ],
      "execution_count": 6,
      "outputs": []
    },
    {
      "cell_type": "code",
      "metadata": {
        "colab": {
          "base_uri": "https://localhost:8080/"
        },
        "id": "-vrC8K7Q2-xA",
        "outputId": "c7f81060-93f6-4e69-817e-232128d9dbbb"
      },
      "source": [
        "!kaggle datasets download -d vikrishnan/boston-house-prices"
      ],
      "execution_count": 7,
      "outputs": [
        {
          "output_type": "stream",
          "text": [
            "Downloading boston-house-prices.zip to /content\n",
            "\r  0% 0.00/12.8k [00:00<?, ?B/s]\n",
            "\r100% 12.8k/12.8k [00:00<00:00, 23.3MB/s]\n"
          ],
          "name": "stdout"
        }
      ]
    },
    {
      "cell_type": "code",
      "metadata": {
        "colab": {
          "base_uri": "https://localhost:8080/"
        },
        "id": "PuFGDzRW2W-O",
        "outputId": "26ea9142-2de8-4a8a-8a50-26bf93f74ddb"
      },
      "source": [
        "!unzip /content/boston-house-prices.zip"
      ],
      "execution_count": 8,
      "outputs": [
        {
          "output_type": "stream",
          "text": [
            "Archive:  /content/boston-house-prices.zip\n",
            "  inflating: housing.csv             \n"
          ],
          "name": "stdout"
        }
      ]
    },
    {
      "cell_type": "code",
      "metadata": {
        "id": "M0QZaqbL3UiH"
      },
      "source": [
        "import pandas as pd\n",
        "import numpy as np\n",
        "import torch\n",
        "import matplotlib.pyplot as plt\n",
        "from tqdm import tqdm\n",
        "from sklearn.model_selection import train_test_split\n",
        "from torch.utils.data import TensorDataset, DataLoader\n",
        "\n",
        "%matplotlib inline"
      ],
      "execution_count": 9,
      "outputs": []
    },
    {
      "cell_type": "markdown",
      "metadata": {
        "id": "pK5R4MA35SBX"
      },
      "source": [
        "Названия и описания переменных из описания датасета: \n",
        "*   CRIM per capita crime rate by town ZN proportion of residential land zoned for lots over 25,000 sq.ft.\n",
        "*   INDUS proportion of non-retail business acres per town\n",
        "*   CHAS Charles River dummy variable (= 1 if tract bounds river; 0 otherwise)\n",
        "*   NOX nitric oxides concentration (parts per 10 million)\n",
        "*   RM average number of rooms per dwelling\n",
        "*   AGE proportion of owner-occupied units built prior to 1940\n",
        "*   DIS weighted distances to five Boston employment centres\n",
        "*   RAD index of accessibility to radial highways\n",
        "*   TAX full-value property-tax rate per $10,000\n",
        "\n",
        "*   PTRATIO pupil-teacher ratio by town\n",
        "*   B 1000(Bk - 0.63)^2 where Bk is the proportion of blacks by town\n",
        "*   LSTAT % lower status of the population\n",
        "*   **MEDV Median value of owner-occupied homes in $1000's**"
      ]
    },
    {
      "cell_type": "code",
      "metadata": {
        "id": "_4_QJvIx49nA"
      },
      "source": [
        "names = ['CRIM', 'ZN', 'INDUS', 'CHAS', 'NOX', 'RM', 'ACE',\n",
        "         'DIS', 'RAD', 'TAX', 'PTRATIO', 'B', 'LSTAT', 'MEDV']"
      ],
      "execution_count": 10,
      "outputs": []
    },
    {
      "cell_type": "code",
      "metadata": {
        "id": "Z0ZoHIdU7Mhj"
      },
      "source": [
        "df = pd.read_csv('housing.csv', header=None, names=names, dtype='float64',\n",
        "                 delim_whitespace=True)"
      ],
      "execution_count": 11,
      "outputs": []
    },
    {
      "cell_type": "code",
      "metadata": {
        "colab": {
          "base_uri": "https://localhost:8080/",
          "height": 204
        },
        "id": "Wx0BNjKD8Sr1",
        "outputId": "cb0ace35-4a81-40ef-a0ec-8915254d456b"
      },
      "source": [
        "df.head()"
      ],
      "execution_count": 12,
      "outputs": [
        {
          "output_type": "execute_result",
          "data": {
            "text/html": [
              "<div>\n",
              "<style scoped>\n",
              "    .dataframe tbody tr th:only-of-type {\n",
              "        vertical-align: middle;\n",
              "    }\n",
              "\n",
              "    .dataframe tbody tr th {\n",
              "        vertical-align: top;\n",
              "    }\n",
              "\n",
              "    .dataframe thead th {\n",
              "        text-align: right;\n",
              "    }\n",
              "</style>\n",
              "<table border=\"1\" class=\"dataframe\">\n",
              "  <thead>\n",
              "    <tr style=\"text-align: right;\">\n",
              "      <th></th>\n",
              "      <th>CRIM</th>\n",
              "      <th>ZN</th>\n",
              "      <th>INDUS</th>\n",
              "      <th>CHAS</th>\n",
              "      <th>NOX</th>\n",
              "      <th>RM</th>\n",
              "      <th>ACE</th>\n",
              "      <th>DIS</th>\n",
              "      <th>RAD</th>\n",
              "      <th>TAX</th>\n",
              "      <th>PTRATIO</th>\n",
              "      <th>B</th>\n",
              "      <th>LSTAT</th>\n",
              "      <th>MEDV</th>\n",
              "    </tr>\n",
              "  </thead>\n",
              "  <tbody>\n",
              "    <tr>\n",
              "      <th>0</th>\n",
              "      <td>0.00632</td>\n",
              "      <td>18.0</td>\n",
              "      <td>2.31</td>\n",
              "      <td>0.0</td>\n",
              "      <td>0.538</td>\n",
              "      <td>6.575</td>\n",
              "      <td>65.2</td>\n",
              "      <td>4.0900</td>\n",
              "      <td>1.0</td>\n",
              "      <td>296.0</td>\n",
              "      <td>15.3</td>\n",
              "      <td>396.90</td>\n",
              "      <td>4.98</td>\n",
              "      <td>24.0</td>\n",
              "    </tr>\n",
              "    <tr>\n",
              "      <th>1</th>\n",
              "      <td>0.02731</td>\n",
              "      <td>0.0</td>\n",
              "      <td>7.07</td>\n",
              "      <td>0.0</td>\n",
              "      <td>0.469</td>\n",
              "      <td>6.421</td>\n",
              "      <td>78.9</td>\n",
              "      <td>4.9671</td>\n",
              "      <td>2.0</td>\n",
              "      <td>242.0</td>\n",
              "      <td>17.8</td>\n",
              "      <td>396.90</td>\n",
              "      <td>9.14</td>\n",
              "      <td>21.6</td>\n",
              "    </tr>\n",
              "    <tr>\n",
              "      <th>2</th>\n",
              "      <td>0.02729</td>\n",
              "      <td>0.0</td>\n",
              "      <td>7.07</td>\n",
              "      <td>0.0</td>\n",
              "      <td>0.469</td>\n",
              "      <td>7.185</td>\n",
              "      <td>61.1</td>\n",
              "      <td>4.9671</td>\n",
              "      <td>2.0</td>\n",
              "      <td>242.0</td>\n",
              "      <td>17.8</td>\n",
              "      <td>392.83</td>\n",
              "      <td>4.03</td>\n",
              "      <td>34.7</td>\n",
              "    </tr>\n",
              "    <tr>\n",
              "      <th>3</th>\n",
              "      <td>0.03237</td>\n",
              "      <td>0.0</td>\n",
              "      <td>2.18</td>\n",
              "      <td>0.0</td>\n",
              "      <td>0.458</td>\n",
              "      <td>6.998</td>\n",
              "      <td>45.8</td>\n",
              "      <td>6.0622</td>\n",
              "      <td>3.0</td>\n",
              "      <td>222.0</td>\n",
              "      <td>18.7</td>\n",
              "      <td>394.63</td>\n",
              "      <td>2.94</td>\n",
              "      <td>33.4</td>\n",
              "    </tr>\n",
              "    <tr>\n",
              "      <th>4</th>\n",
              "      <td>0.06905</td>\n",
              "      <td>0.0</td>\n",
              "      <td>2.18</td>\n",
              "      <td>0.0</td>\n",
              "      <td>0.458</td>\n",
              "      <td>7.147</td>\n",
              "      <td>54.2</td>\n",
              "      <td>6.0622</td>\n",
              "      <td>3.0</td>\n",
              "      <td>222.0</td>\n",
              "      <td>18.7</td>\n",
              "      <td>396.90</td>\n",
              "      <td>5.33</td>\n",
              "      <td>36.2</td>\n",
              "    </tr>\n",
              "  </tbody>\n",
              "</table>\n",
              "</div>"
            ],
            "text/plain": [
              "      CRIM    ZN  INDUS  CHAS    NOX  ...    TAX  PTRATIO       B  LSTAT  MEDV\n",
              "0  0.00632  18.0   2.31   0.0  0.538  ...  296.0     15.3  396.90   4.98  24.0\n",
              "1  0.02731   0.0   7.07   0.0  0.469  ...  242.0     17.8  396.90   9.14  21.6\n",
              "2  0.02729   0.0   7.07   0.0  0.469  ...  242.0     17.8  392.83   4.03  34.7\n",
              "3  0.03237   0.0   2.18   0.0  0.458  ...  222.0     18.7  394.63   2.94  33.4\n",
              "4  0.06905   0.0   2.18   0.0  0.458  ...  222.0     18.7  396.90   5.33  36.2\n",
              "\n",
              "[5 rows x 14 columns]"
            ]
          },
          "metadata": {
            "tags": []
          },
          "execution_count": 12
        }
      ]
    },
    {
      "cell_type": "code",
      "metadata": {
        "id": "wszL1o7_xKS1"
      },
      "source": [
        "# нормализуем данные\n",
        "\n",
        "df[df.columns[:-1]] = df[df.columns[:-1]].apply(\n",
        "    lambda x: (x - x.mean()) / x.std()\n",
        ")"
      ],
      "execution_count": 13,
      "outputs": []
    },
    {
      "cell_type": "code",
      "metadata": {
        "colab": {
          "base_uri": "https://localhost:8080/",
          "height": 204
        },
        "id": "XdePJa45xXtv",
        "outputId": "a92d22fc-d542-45de-e5e8-28ccb2778866"
      },
      "source": [
        "df.head()"
      ],
      "execution_count": 14,
      "outputs": [
        {
          "output_type": "execute_result",
          "data": {
            "text/html": [
              "<div>\n",
              "<style scoped>\n",
              "    .dataframe tbody tr th:only-of-type {\n",
              "        vertical-align: middle;\n",
              "    }\n",
              "\n",
              "    .dataframe tbody tr th {\n",
              "        vertical-align: top;\n",
              "    }\n",
              "\n",
              "    .dataframe thead th {\n",
              "        text-align: right;\n",
              "    }\n",
              "</style>\n",
              "<table border=\"1\" class=\"dataframe\">\n",
              "  <thead>\n",
              "    <tr style=\"text-align: right;\">\n",
              "      <th></th>\n",
              "      <th>CRIM</th>\n",
              "      <th>ZN</th>\n",
              "      <th>INDUS</th>\n",
              "      <th>CHAS</th>\n",
              "      <th>NOX</th>\n",
              "      <th>RM</th>\n",
              "      <th>ACE</th>\n",
              "      <th>DIS</th>\n",
              "      <th>RAD</th>\n",
              "      <th>TAX</th>\n",
              "      <th>PTRATIO</th>\n",
              "      <th>B</th>\n",
              "      <th>LSTAT</th>\n",
              "      <th>MEDV</th>\n",
              "    </tr>\n",
              "  </thead>\n",
              "  <tbody>\n",
              "    <tr>\n",
              "      <th>0</th>\n",
              "      <td>-0.419367</td>\n",
              "      <td>0.284548</td>\n",
              "      <td>-1.286636</td>\n",
              "      <td>-0.272329</td>\n",
              "      <td>-0.144075</td>\n",
              "      <td>0.413263</td>\n",
              "      <td>-0.119895</td>\n",
              "      <td>0.140075</td>\n",
              "      <td>-0.981871</td>\n",
              "      <td>-0.665949</td>\n",
              "      <td>-1.457558</td>\n",
              "      <td>0.440616</td>\n",
              "      <td>-1.074499</td>\n",
              "      <td>24.0</td>\n",
              "    </tr>\n",
              "    <tr>\n",
              "      <th>1</th>\n",
              "      <td>-0.416927</td>\n",
              "      <td>-0.487240</td>\n",
              "      <td>-0.592794</td>\n",
              "      <td>-0.272329</td>\n",
              "      <td>-0.739530</td>\n",
              "      <td>0.194082</td>\n",
              "      <td>0.366803</td>\n",
              "      <td>0.556609</td>\n",
              "      <td>-0.867024</td>\n",
              "      <td>-0.986353</td>\n",
              "      <td>-0.302794</td>\n",
              "      <td>0.440616</td>\n",
              "      <td>-0.491953</td>\n",
              "      <td>21.6</td>\n",
              "    </tr>\n",
              "    <tr>\n",
              "      <th>2</th>\n",
              "      <td>-0.416929</td>\n",
              "      <td>-0.487240</td>\n",
              "      <td>-0.592794</td>\n",
              "      <td>-0.272329</td>\n",
              "      <td>-0.739530</td>\n",
              "      <td>1.281446</td>\n",
              "      <td>-0.265549</td>\n",
              "      <td>0.556609</td>\n",
              "      <td>-0.867024</td>\n",
              "      <td>-0.986353</td>\n",
              "      <td>-0.302794</td>\n",
              "      <td>0.396035</td>\n",
              "      <td>-1.207532</td>\n",
              "      <td>34.7</td>\n",
              "    </tr>\n",
              "    <tr>\n",
              "      <th>3</th>\n",
              "      <td>-0.416338</td>\n",
              "      <td>-0.487240</td>\n",
              "      <td>-1.305586</td>\n",
              "      <td>-0.272329</td>\n",
              "      <td>-0.834458</td>\n",
              "      <td>1.015298</td>\n",
              "      <td>-0.809088</td>\n",
              "      <td>1.076671</td>\n",
              "      <td>-0.752178</td>\n",
              "      <td>-1.105022</td>\n",
              "      <td>0.112920</td>\n",
              "      <td>0.415751</td>\n",
              "      <td>-1.360171</td>\n",
              "      <td>33.4</td>\n",
              "    </tr>\n",
              "    <tr>\n",
              "      <th>4</th>\n",
              "      <td>-0.412074</td>\n",
              "      <td>-0.487240</td>\n",
              "      <td>-1.305586</td>\n",
              "      <td>-0.272329</td>\n",
              "      <td>-0.834458</td>\n",
              "      <td>1.227362</td>\n",
              "      <td>-0.510674</td>\n",
              "      <td>1.076671</td>\n",
              "      <td>-0.752178</td>\n",
              "      <td>-1.105022</td>\n",
              "      <td>0.112920</td>\n",
              "      <td>0.440616</td>\n",
              "      <td>-1.025487</td>\n",
              "      <td>36.2</td>\n",
              "    </tr>\n",
              "  </tbody>\n",
              "</table>\n",
              "</div>"
            ],
            "text/plain": [
              "       CRIM        ZN     INDUS      CHAS  ...   PTRATIO         B     LSTAT  MEDV\n",
              "0 -0.419367  0.284548 -1.286636 -0.272329  ... -1.457558  0.440616 -1.074499  24.0\n",
              "1 -0.416927 -0.487240 -0.592794 -0.272329  ... -0.302794  0.440616 -0.491953  21.6\n",
              "2 -0.416929 -0.487240 -0.592794 -0.272329  ... -0.302794  0.396035 -1.207532  34.7\n",
              "3 -0.416338 -0.487240 -1.305586 -0.272329  ...  0.112920  0.415751 -1.360171  33.4\n",
              "4 -0.412074 -0.487240 -1.305586 -0.272329  ...  0.112920  0.440616 -1.025487  36.2\n",
              "\n",
              "[5 rows x 14 columns]"
            ]
          },
          "metadata": {
            "tags": []
          },
          "execution_count": 14
        }
      ]
    },
    {
      "cell_type": "code",
      "metadata": {
        "id": "4jsMCmaAxjNz"
      },
      "source": [
        "# преобразуем X и y в numpy-формат\n",
        "\n",
        "X = df.drop('MEDV', axis=1).to_numpy()\n",
        "Y = df['MEDV'].to_numpy()"
      ],
      "execution_count": 15,
      "outputs": []
    },
    {
      "cell_type": "code",
      "metadata": {
        "id": "snYaIeF2AuYi"
      },
      "source": [
        "# разобьём датасет на обучающий и тестовый для оценки качества\n",
        "\n",
        "X_train, X_test, y_train, y_test = train_test_split(X, Y, random_state=42)"
      ],
      "execution_count": 16,
      "outputs": []
    },
    {
      "cell_type": "code",
      "metadata": {
        "colab": {
          "base_uri": "https://localhost:8080/"
        },
        "id": "Q2nhzujIEBe5",
        "outputId": "72956ced-6e07-43f3-8d60-5e88d1397e03"
      },
      "source": [
        "X_train.shape"
      ],
      "execution_count": 17,
      "outputs": [
        {
          "output_type": "execute_result",
          "data": {
            "text/plain": [
              "(379, 13)"
            ]
          },
          "metadata": {
            "tags": []
          },
          "execution_count": 17
        }
      ]
    },
    {
      "cell_type": "code",
      "metadata": {
        "colab": {
          "base_uri": "https://localhost:8080/"
        },
        "id": "XjbCwH9BEttQ",
        "outputId": "8f71b718-07c9-4b30-d62d-42bb87f90732"
      },
      "source": [
        "X_test.shape"
      ],
      "execution_count": 18,
      "outputs": [
        {
          "output_type": "execute_result",
          "data": {
            "text/plain": [
              "(127, 13)"
            ]
          },
          "metadata": {
            "tags": []
          },
          "execution_count": 18
        }
      ]
    },
    {
      "cell_type": "code",
      "metadata": {
        "colab": {
          "base_uri": "https://localhost:8080/"
        },
        "id": "awJ-X8ZYyVz3",
        "outputId": "6c6afc82-78fa-4366-ee86-930b216811ff"
      },
      "source": [
        "y_train.shape"
      ],
      "execution_count": 19,
      "outputs": [
        {
          "output_type": "execute_result",
          "data": {
            "text/plain": [
              "(379,)"
            ]
          },
          "metadata": {
            "tags": []
          },
          "execution_count": 19
        }
      ]
    },
    {
      "cell_type": "code",
      "metadata": {
        "colab": {
          "base_uri": "https://localhost:8080/"
        },
        "id": "qteIjaHlyaf2",
        "outputId": "7b42973e-2e71-4d9c-fd2e-fc465f216eb9"
      },
      "source": [
        "y_test.shape"
      ],
      "execution_count": 20,
      "outputs": [
        {
          "output_type": "execute_result",
          "data": {
            "text/plain": [
              "(127,)"
            ]
          },
          "metadata": {
            "tags": []
          },
          "execution_count": 20
        }
      ]
    },
    {
      "cell_type": "code",
      "metadata": {
        "id": "1ALzV2cHhZUW"
      },
      "source": [
        "# преобразуем выборки в тензоры\n",
        "\n",
        "X_train = torch.tensor(X_train, dtype=torch.float)\n",
        "X_test = torch.tensor(X_test, dtype=torch.float)\n",
        "y_train = torch.tensor(y_train, dtype=torch.float).view(-1, 1)\n",
        "y_test = torch.tensor(y_test, dtype=torch.float).view(-1, 1)"
      ],
      "execution_count": 21,
      "outputs": []
    },
    {
      "cell_type": "code",
      "metadata": {
        "id": "7eBIz-jfE1-Y"
      },
      "source": [
        "# обернём выборки в TensorDataset и DataLoader-ы\n",
        "# размер батча лучше выбрать 16, а не 8, не только потому, что 16=2^4,\n",
        "# но и потому, что так обучающая и тестовая выборки (379 и 127 образцов)\n",
        "# ровнее разбиваются на батчи\n",
        "\n",
        "train_dataset = TensorDataset(X_train, y_train)\n",
        "test_dataset = TensorDataset(X_test, y_test)\n",
        "\n",
        "train_loader = DataLoader(train_dataset, batch_size=16, shuffle=True)\n",
        "test_loader = DataLoader(test_dataset, batch_size=16, shuffle=False)"
      ],
      "execution_count": 22,
      "outputs": []
    },
    {
      "cell_type": "code",
      "metadata": {
        "id": "RyIN2ccDHgU9"
      },
      "source": [
        "model = torch.nn.Sequential(torch.nn.Linear(13, 1))"
      ],
      "execution_count": 23,
      "outputs": []
    },
    {
      "cell_type": "code",
      "metadata": {
        "colab": {
          "base_uri": "https://localhost:8080/"
        },
        "id": "2ZVUJnf9mmrn",
        "outputId": "e11d3793-2f01-449c-923d-8221d6696f05"
      },
      "source": [
        "# инициализуем случайные нормированные через std=0.1 веса и нулевые bias\n",
        "\n",
        "torch.nn.init.normal_(model[0].weight, mean=0, std=0.1)\n",
        "torch.nn.init.constant_(model[0].bias, val=0)"
      ],
      "execution_count": 24,
      "outputs": [
        {
          "output_type": "execute_result",
          "data": {
            "text/plain": [
              "Parameter containing:\n",
              "tensor([0.], requires_grad=True)"
            ]
          },
          "metadata": {
            "tags": []
          },
          "execution_count": 24
        }
      ]
    },
    {
      "cell_type": "code",
      "metadata": {
        "id": "i1z-48sgSDeF"
      },
      "source": [
        "trainer = torch.optim.SGD(model.parameters(), lr=0.05)"
      ],
      "execution_count": 25,
      "outputs": []
    },
    {
      "cell_type": "code",
      "metadata": {
        "id": "LZLEXeYqTEAz"
      },
      "source": [
        "loss = torch.nn.MSELoss(reduction='mean')"
      ],
      "execution_count": 26,
      "outputs": []
    },
    {
      "cell_type": "code",
      "metadata": {
        "colab": {
          "base_uri": "https://localhost:8080/"
        },
        "id": "uQvLS1eGSEzi",
        "outputId": "4ef39f41-a2c1-4e09-86e8-e5a595e066f1"
      },
      "source": [
        "# сохраним все значения функции потерь\n",
        "# и построим график лоссов после завершения обучения\n",
        "\n",
        "num_epochs = 100\n",
        "losses = []\n",
        "\n",
        "for epoch in tqdm(range(1, num_epochs + 1)):\n",
        "    for x, y in train_loader:\n",
        "        output = model(x)\n",
        "        curr_loss = loss(output, y)\n",
        "        losses.append(curr_loss.item())\n",
        "        trainer.zero_grad()\n",
        "        curr_loss.backward()\n",
        "        trainer.step()"
      ],
      "execution_count": 27,
      "outputs": [
        {
          "output_type": "stream",
          "text": [
            "100%|██████████| 100/100 [00:01<00:00, 89.48it/s]\n"
          ],
          "name": "stderr"
        }
      ]
    },
    {
      "cell_type": "code",
      "metadata": {
        "colab": {
          "base_uri": "https://localhost:8080/",
          "height": 742
        },
        "id": "Vb9fzy4b22lJ",
        "outputId": "7ab4cb8e-0f74-4a0a-ba9b-41e8179263d2"
      },
      "source": [
        "plt.figure(figsize=(14, 12))\n",
        "plt.plot(losses)\n",
        "plt.grid()\n",
        "plt.title('Training process', fontsize='xx-large')\n",
        "plt.xlabel('Epoch', fontsize='xx-large')\n",
        "plt.ylabel('Loss function', fontsize='xx-large')\n",
        "plt.show()"
      ],
      "execution_count": 28,
      "outputs": [
        {
          "output_type": "display_data",
          "data": {
            "image/png": "[encoded data removed]",
            "text/plain": [
              "<Figure size 1008x864 with 1 Axes>"
            ]
          },
          "metadata": {
            "tags": [],
            "needs_background": "light"
          }
        }
      ]
    },
    {
      "cell_type": "markdown",
      "metadata": {
        "id": "TFIbePlhAsJB"
      },
      "source": [
        "Посчитаем loss для обучающей и для тестовой выборки по завершении обучения."
      ]
    },
    {
      "cell_type": "code",
      "metadata": {
        "colab": {
          "base_uri": "https://localhost:8080/"
        },
        "id": "8upYltmuA44G",
        "outputId": "d68bf904-9277-48e3-8851-1a450b55d06f"
      },
      "source": [
        "losses[-1]"
      ],
      "execution_count": 29,
      "outputs": [
        {
          "output_type": "execute_result",
          "data": {
            "text/plain": [
              "15.36187744140625"
            ]
          },
          "metadata": {
            "tags": []
          },
          "execution_count": 29
        }
      ]
    },
    {
      "cell_type": "code",
      "metadata": {
        "colab": {
          "base_uri": "https://localhost:8080/"
        },
        "id": "Vko7IOPRAiV3",
        "outputId": "2c07d540-1959-40e6-d790-792653f01a80"
      },
      "source": [
        "loss(model(X_test), y_test).item()"
      ],
      "execution_count": 30,
      "outputs": [
        {
          "output_type": "execute_result",
          "data": {
            "text/plain": [
              "23.3535213470459"
            ]
          },
          "metadata": {
            "tags": []
          },
          "execution_count": 30
        }
      ]
    },
    {
      "cell_type": "markdown",
      "metadata": {
        "id": "KcR2Qh68eoCP"
      },
      "source": [
        "Loss нормальный."
      ]
    },
    {
      "cell_type": "markdown",
      "metadata": {
        "id": "0KM2XDrU4Fu7"
      },
      "source": [
        "# Наивный байесовский классификатор для MNIST"
      ]
    },
    {
      "cell_type": "markdown",
      "metadata": {
        "id": "8GFn5keKIDSa"
      },
      "source": [
        "## Демонстрация \"чёрно-белого\" датасета MNIST"
      ]
    },
    {
      "cell_type": "code",
      "metadata": {
        "id": "dnmdtgWn4P5Z"
      },
      "source": [
        "import torchvision\n",
        "from scipy.special import logsumexp\n",
        "from sklearn.naive_bayes import GaussianNB\n",
        "from sklearn.metrics import accuracy_score\n",
        "from sklearn.exceptions import NotFittedError"
      ],
      "execution_count": 31,
      "outputs": []
    },
    {
      "cell_type": "code",
      "metadata": {
        "id": "aiPyXv06APus"
      },
      "source": [
        "def transform(data):\n",
        "    data = torch.tensor(data.getdata(), dtype=torch.float32)\n",
        "    return torch.floor(data / 128.).squeeze(axis=-1)"
      ],
      "execution_count": 32,
      "outputs": []
    },
    {
      "cell_type": "code",
      "metadata": {
        "id": "iN16skc5Bjs_"
      },
      "source": [
        "mnist_train = torchvision.datasets.MNIST('.', train=True, transform=transform,\n",
        "                                         download=True)\n",
        "mnist_test = torchvision.datasets.MNIST('.', train=False, transform=transform,\n",
        "                                         download=True)\n",
        "clear_output()"
      ],
      "execution_count": 33,
      "outputs": []
    },
    {
      "cell_type": "code",
      "metadata": {
        "colab": {
          "base_uri": "https://localhost:8080/"
        },
        "id": "v1HbTXnbBobB",
        "outputId": "072a9ec3-9f88-41f7-d8d4-216df41fcd4d"
      },
      "source": [
        "mnist_train[0]"
      ],
      "execution_count": 34,
      "outputs": [
        {
          "output_type": "execute_result",
          "data": {
            "text/plain": [
              "(tensor([0., 0., 0., 0., 0., 0., 0., 0., 0., 0., 0., 0., 0., 0., 0., 0., 0., 0.,\n",
              "         0., 0., 0., 0., 0., 0., 0., 0., 0., 0., 0., 0., 0., 0., 0., 0., 0., 0.,\n",
              "         0., 0., 0., 0., 0., 0., 0., 0., 0., 0., 0., 0., 0., 0., 0., 0., 0., 0.,\n",
              "         0., 0., 0., 0., 0., 0., 0., 0., 0., 0., 0., 0., 0., 0., 0., 0., 0., 0.,\n",
              "         0., 0., 0., 0., 0., 0., 0., 0., 0., 0., 0., 0., 0., 0., 0., 0., 0., 0.,\n",
              "         0., 0., 0., 0., 0., 0., 0., 0., 0., 0., 0., 0., 0., 0., 0., 0., 0., 0.,\n",
              "         0., 0., 0., 0., 0., 0., 0., 0., 0., 0., 0., 0., 0., 0., 0., 0., 0., 0.,\n",
              "         0., 0., 0., 0., 0., 0., 0., 0., 0., 0., 0., 0., 0., 0., 0., 0., 0., 0.,\n",
              "         0., 0., 0., 0., 0., 0., 0., 0., 0., 0., 0., 0., 0., 1., 1., 0., 1., 1.,\n",
              "         1., 0., 0., 0., 0., 0., 0., 0., 0., 0., 0., 0., 0., 0., 0., 0., 0., 1.,\n",
              "         1., 1., 1., 1., 1., 1., 1., 1., 1., 1., 1., 0., 0., 0., 0., 0., 0., 0.,\n",
              "         0., 0., 0., 0., 0., 0., 1., 1., 1., 1., 1., 1., 1., 1., 1., 1., 0., 0.,\n",
              "         0., 0., 0., 0., 0., 0., 0., 0., 0., 0., 0., 0., 0., 0., 0., 0., 1., 1.,\n",
              "         1., 1., 1., 1., 1., 1., 1., 1., 0., 0., 0., 0., 0., 0., 0., 0., 0., 0.,\n",
              "         0., 0., 0., 0., 0., 0., 0., 0., 0., 1., 0., 1., 1., 1., 0., 0., 0., 1.,\n",
              "         0., 0., 0., 0., 0., 0., 0., 0., 0., 0., 0., 0., 0., 0., 0., 0., 0., 0.,\n",
              "         0., 0., 0., 1., 1., 0., 0., 0., 0., 0., 0., 0., 0., 0., 0., 0., 0., 0.,\n",
              "         0., 0., 0., 0., 0., 0., 0., 0., 0., 0., 0., 0., 0., 1., 1., 1., 0., 0.,\n",
              "         0., 0., 0., 0., 0., 0., 0., 0., 0., 0., 0., 0., 0., 0., 0., 0., 0., 0.,\n",
              "         0., 0., 0., 0., 0., 0., 1., 1., 0., 0., 0., 0., 0., 0., 0., 0., 0., 0.,\n",
              "         0., 0., 0., 0., 0., 0., 0., 0., 0., 0., 0., 0., 0., 0., 0., 0., 0., 1.,\n",
              "         1., 1., 0., 0., 0., 0., 0., 0., 0., 0., 0., 0., 0., 0., 0., 0., 0., 0.,\n",
              "         0., 0., 0., 0., 0., 0., 0., 0., 0., 0., 1., 1., 1., 0., 0., 0., 0., 0.,\n",
              "         0., 0., 0., 0., 0., 0., 0., 0., 0., 0., 0., 0., 0., 0., 0., 0., 0., 0.,\n",
              "         0., 0., 0., 1., 1., 1., 1., 0., 0., 0., 0., 0., 0., 0., 0., 0., 0., 0.,\n",
              "         0., 0., 0., 0., 0., 0., 0., 0., 0., 0., 0., 0., 0., 0., 0., 1., 1., 1.,\n",
              "         0., 0., 0., 0., 0., 0., 0., 0., 0., 0., 0., 0., 0., 0., 0., 0., 0., 0.,\n",
              "         0., 0., 0., 0., 0., 0., 0., 1., 1., 1., 0., 0., 0., 0., 0., 0., 0., 0.,\n",
              "         0., 0., 0., 0., 0., 0., 0., 0., 0., 0., 0., 0., 0., 0., 0., 1., 1., 1.,\n",
              "         1., 1., 0., 0., 0., 0., 0., 0., 0., 0., 0., 0., 0., 0., 0., 0., 0., 0.,\n",
              "         0., 0., 0., 0., 0., 1., 1., 1., 1., 1., 1., 1., 0., 0., 0., 0., 0., 0.,\n",
              "         0., 0., 0., 0., 0., 0., 0., 0., 0., 0., 0., 0., 0., 0., 1., 1., 1., 1.,\n",
              "         1., 1., 0., 0., 0., 0., 0., 0., 0., 0., 0., 0., 0., 0., 0., 0., 0., 0.,\n",
              "         0., 0., 0., 0., 1., 1., 1., 1., 1., 1., 0., 0., 0., 0., 0., 0., 0., 0.,\n",
              "         0., 0., 0., 0., 0., 0., 0., 0., 0., 0., 0., 1., 1., 1., 1., 1., 1., 1.,\n",
              "         0., 0., 0., 0., 0., 0., 0., 0., 0., 0., 0., 0., 0., 0., 0., 0., 0., 0.,\n",
              "         0., 1., 1., 1., 1., 1., 1., 1., 1., 0., 0., 0., 0., 0., 0., 0., 0., 0.,\n",
              "         0., 0., 0., 0., 0., 0., 0., 0., 0., 0., 1., 1., 1., 1., 1., 1., 1., 0.,\n",
              "         0., 0., 0., 0., 0., 0., 0., 0., 0., 0., 0., 0., 0., 0., 0., 0., 0., 0.,\n",
              "         0., 0., 0., 0., 0., 0., 0., 0., 0., 0., 0., 0., 0., 0., 0., 0., 0., 0.,\n",
              "         0., 0., 0., 0., 0., 0., 0., 0., 0., 0., 0., 0., 0., 0., 0., 0., 0., 0.,\n",
              "         0., 0., 0., 0., 0., 0., 0., 0., 0., 0., 0., 0., 0., 0., 0., 0., 0., 0.,\n",
              "         0., 0., 0., 0., 0., 0., 0., 0., 0., 0., 0., 0., 0., 0., 0., 0., 0., 0.,\n",
              "         0., 0., 0., 0., 0., 0., 0., 0., 0., 0.]), 5)"
            ]
          },
          "metadata": {
            "tags": []
          },
          "execution_count": 34
        }
      ]
    },
    {
      "cell_type": "code",
      "metadata": {
        "colab": {
          "base_uri": "https://localhost:8080/"
        },
        "id": "38DE8FCJBuwK",
        "outputId": "efee7618-c44c-4aa1-9452-d666c0354544"
      },
      "source": [
        "mnist_train[0][0].shape"
      ],
      "execution_count": 35,
      "outputs": [
        {
          "output_type": "execute_result",
          "data": {
            "text/plain": [
              "torch.Size([784])"
            ]
          },
          "metadata": {
            "tags": []
          },
          "execution_count": 35
        }
      ]
    },
    {
      "cell_type": "code",
      "metadata": {
        "colab": {
          "base_uri": "https://localhost:8080/",
          "height": 333
        },
        "id": "le70Y9GDBx8g",
        "outputId": "30a603f9-428d-4a77-c889-2ce80a85b8d1"
      },
      "source": [
        "plt.imshow(mnist_train[0][0].reshape(28, 28), cmap='gray', vmin=0, vmax=1)"
      ],
      "execution_count": 36,
      "outputs": [
        {
          "output_type": "stream",
          "text": [
            "\n",
            "\n",
            "\n"
          ],
          "name": "stdout"
        },
        {
          "output_type": "execute_result",
          "data": {
            "text/plain": [
              "<matplotlib.image.AxesImage at 0x7fd72b245518>"
            ]
          },
          "metadata": {
            "tags": []
          },
          "execution_count": 36
        },
        {
          "output_type": "display_data",
          "data": {
            "image/png": "[encoded data removed]",
            "text/plain": [
              "<Figure size 432x288 with 1 Axes>"
            ]
          },
          "metadata": {
            "tags": [],
            "needs_background": "light"
          }
        }
      ]
    },
    {
      "cell_type": "markdown",
      "metadata": {
        "id": "BqA3kRSh_S6Q"
      },
      "source": [
        "## Своя реализация наивного байесовского классификатора\n",
        "Не поняла, почему в задании требуется для классов использовать цифры 1 и 2, когда в самом датасете MNIST используются 0 и 1. В моей реализации классификатор использует метки классов, найденные в датасете (как и все sklearn-овские наивные байесовские классификаторы, в т. ч., GaussianNB, по образцу которого я реализовывала) – т. е., в данном случае, 0 и 1.<br>\n",
        "По условию, мой классификатор работает только с двумя классами, в отличие от классификатора sklearn. Кроме того, классификатор из sklearn может дообучаться на новых данных, а мой при каждых новых данных обучается заново.<br>\n",
        "Аргументы \"priors\", и \"sample_weight\" я не стала реализовывать, т. к., это оказалось слишком сложным. Аналогично вместо методов fit() и partial_fit() реализован только fit() (поэтому на больших массивах данных мой классификатор работает значительно медленнее sklearn-овского). Также не реализовывала метод score, т. к., он предназначен для мультиклассовой классификации, а у нас бинарная.<br>"
      ]
    },
    {
      "cell_type": "code",
      "metadata": {
        "id": "6zUwTyLNEa4k"
      },
      "source": [
        "class NaiveBayesClassifier():\n",
        "    def __init__(self, var_smoothing=1e-9):\n",
        "        # инициализируем вероятности классов\n",
        "        # для необученного классификатора как None\n",
        "        self.class_prior_ = None\n",
        "        self.var_smoothing = var_smoothing\n",
        "\n",
        "    def __repr__(self):\n",
        "        return f'NaiveBayesClassifier(var_smoothing={self.var_smoothing})'\n",
        "\n",
        "    def fit(self, X, y):\n",
        "        X, y = np.array(X), np.array(y)\n",
        "        if X.size == 0:\n",
        "            raise ValueError('No samples are provided!')\n",
        "        if X.shape[1] == 0:\n",
        "            raise ValueError('No features are provided!')\n",
        "        if y.size == 0:\n",
        "            raise ValueError('No classes are provided!')\n",
        "        self.class_prior_ = None\n",
        "        self.classes_, self.class_count_ = np.unique(y, return_counts=True)\n",
        "        if self.classes_.size > 2:\n",
        "            raise ValueError('No more than 2 classes are allowed!')\n",
        "        self.features_ = X.shape[1]\n",
        "        self.epsilon_ = self.var_smoothing * np.var(X, axis=0).max()\n",
        "        features_by_classes = np.array([X[y == class_]\n",
        "                                        for class_ in self.classes_])\n",
        "        # считаем среднее и дисперсию каждого признака по классам\n",
        "        self.sigma_ = np.var(features_by_classes, axis=1) + self.epsilon_\n",
        "        self.theta_ = np.mean(features_by_classes, axis=1)\n",
        "        self.class_prior_ = self.class_count_ / self.class_count_.sum()\n",
        "        return self\n",
        "\n",
        "    def get_params(self):\n",
        "        # возвращает значение параметра var_smoothing\n",
        "        return {'var_smoothing': self.var_smoothing}\n",
        "\n",
        "    def predict(self, X):\n",
        "        # предсказывает всем объектам в тестовой выборке\n",
        "        # самый частотный класс из обучающей выборки\n",
        "        if self.class_prior_ is None:\n",
        "            raise NotFittedError(\n",
        "                'This NaiveBayesClassifier instance is not fitted yet.'\n",
        "                )\n",
        "        X = np.array(X)\n",
        "        if X.size == 0:\n",
        "            raise ValueError('No samples are provided!')\n",
        "        if X.shape[1] != self.features_:\n",
        "            raise ValueError('Inconstistent number of features!')\n",
        "        return np.full(X.shape[0], self.classes_[np.argmax(self.class_count_)])\n",
        "\n",
        "    def predict_log_proba(self, X):\n",
        "        # предсказывает всем объектам в тестовой выборке\n",
        "        # логарифм вероятности принадлежности к каждому из двух классов\n",
        "        if self.class_prior_ is None:\n",
        "            raise NotFittedError(\n",
        "                'This NaiveBayesClassifier instance is not fitted yet.'\n",
        "                )\n",
        "        X = np.array(X)\n",
        "        if X.size == 0:\n",
        "            raise ValueError('No samples are provided!')\n",
        "        if X.shape[1] != self.features_:\n",
        "            raise ValueError('Inconstistent number of features!')\n",
        "        log_likelihoods = []\n",
        "        for i in range(np.size(self.classes_)):\n",
        "            prior = np.log(self.class_prior_[i])\n",
        "            minus = - 0.5 * np.sum(np.log(2. * np.pi * self.sigma_[i, :]))\n",
        "            minus -= 0.5 * np.sum(((X - self.theta_[i, :]) ** 2) /\n",
        "                                  (self.sigma_[i, :]), 1)\n",
        "            log_likelihoods.append(prior + minus)\n",
        "        log_likelihoods = np.array(log_likelihoods).T\n",
        "        log_prob_x = logsumexp(log_likelihoods, axis=1)\n",
        "        return log_likelihoods - np.atleast_2d(log_prob_x).T\n",
        "\n",
        "    def predict_proba(self, X):\n",
        "        # предсказывает всем объектам в тестовой выборке\n",
        "        # вероятность принадлежности к каждому из двух классов\n",
        "        return np.exp(self.predict_log_proba(X))\n",
        "\n",
        "    def set_params(self, **params):\n",
        "        # присваивает заданные значения заданным параметрам\n",
        "        for param, value in params.items():\n",
        "            if param != 'var_smoothing':\n",
        "                raise ValueError(f'Invalid param {param}!')\n",
        "            setattr(self, param, value)\n",
        "        return self"
      ],
      "execution_count": 57,
      "outputs": []
    },
    {
      "cell_type": "markdown",
      "metadata": {
        "id": "lFSBwhet7G8u"
      },
      "source": [
        "## Проверка\n",
        "Для начала сравним работу этой реализации классификатора и классификатора sklearn на простейшем наборе данных ([из документации sklearn](https://scikit-learn.org/stable/modules/generated/sklearn.naive_bayes.GaussianNB.html))."
      ]
    },
    {
      "cell_type": "code",
      "metadata": {
        "id": "MRL23DDBLFCs"
      },
      "source": [
        "X = np.array([[-1, -1], [-2, -1], [-3, -2], [1, 1], [2, 1], [3, 2]])\n",
        "Y = np.array([1, 1, 1, 2, 2, 2])"
      ],
      "execution_count": 58,
      "outputs": []
    },
    {
      "cell_type": "code",
      "metadata": {
        "id": "os5yM47qLKPr"
      },
      "source": [
        "clf_sklearn = GaussianNB()\n",
        "clf_custom = NaiveBayesClassifier()"
      ],
      "execution_count": 59,
      "outputs": []
    },
    {
      "cell_type": "code",
      "metadata": {
        "colab": {
          "base_uri": "https://localhost:8080/"
        },
        "id": "Z2d_-Q29cfY6",
        "outputId": "3fb4e0d2-a5bb-4d3b-8fe3-c79ffe03f01c"
      },
      "source": [
        "clf_sklearn.get_params()"
      ],
      "execution_count": 60,
      "outputs": [
        {
          "output_type": "execute_result",
          "data": {
            "text/plain": [
              "{'priors': None, 'var_smoothing': 1e-09}"
            ]
          },
          "metadata": {
            "tags": []
          },
          "execution_count": 60
        }
      ]
    },
    {
      "cell_type": "code",
      "metadata": {
        "colab": {
          "base_uri": "https://localhost:8080/"
        },
        "id": "6rxJRgcMcjil",
        "outputId": "8f8c5735-cc7a-4bba-c1f6-d6b2cbf287d0"
      },
      "source": [
        "clf_custom.get_params()"
      ],
      "execution_count": 61,
      "outputs": [
        {
          "output_type": "execute_result",
          "data": {
            "text/plain": [
              "{'var_smoothing': 1e-09}"
            ]
          },
          "metadata": {
            "tags": []
          },
          "execution_count": 61
        }
      ]
    },
    {
      "cell_type": "code",
      "metadata": {
        "colab": {
          "base_uri": "https://localhost:8080/"
        },
        "id": "swWmdb3Tevk_",
        "outputId": "d5db4a03-52e0-467d-9359-cb632ceff5d0"
      },
      "source": [
        "clf_sklearn.set_params(**{'var_smoothing': 1.0})"
      ],
      "execution_count": 62,
      "outputs": [
        {
          "output_type": "execute_result",
          "data": {
            "text/plain": [
              "GaussianNB(priors=None, var_smoothing=1.0)"
            ]
          },
          "metadata": {
            "tags": []
          },
          "execution_count": 62
        }
      ]
    },
    {
      "cell_type": "code",
      "metadata": {
        "colab": {
          "base_uri": "https://localhost:8080/"
        },
        "id": "_22DoW14e7Is",
        "outputId": "385d34e7-4c63-4247-aead-dabbee33ef0b"
      },
      "source": [
        "clf_custom.set_params(var_smoothing=1.0)"
      ],
      "execution_count": 63,
      "outputs": [
        {
          "output_type": "execute_result",
          "data": {
            "text/plain": [
              "NaiveBayesClassifier(var_smoothing=1.0)"
            ]
          },
          "metadata": {
            "tags": []
          },
          "execution_count": 63
        }
      ]
    },
    {
      "cell_type": "code",
      "metadata": {
        "colab": {
          "base_uri": "https://localhost:8080/",
          "height": 300
        },
        "id": "MwXNdyYcfXED",
        "outputId": "bd8a6bf1-5714-4694-966e-b3d87872b47f"
      },
      "source": [
        "clf_sklearn.set_params(foo='bar')"
      ],
      "execution_count": 64,
      "outputs": [
        {
          "output_type": "error",
          "ename": "ValueError",
          "evalue": "ignored",
          "traceback": [
            "\u001b[0;31m---------------------------------------------------------------------------\u001b[0m",
            "\u001b[0;31mValueError\u001b[0m                                Traceback (most recent call last)",
            "\u001b[0;32m<ipython-input-64-79f98022dd46>\u001b[0m in \u001b[0;36m<module>\u001b[0;34m()\u001b[0m\n\u001b[0;32m----> 1\u001b[0;31m \u001b[0mclf_sklearn\u001b[0m\u001b[0;34m.\u001b[0m\u001b[0mset_params\u001b[0m\u001b[0;34m(\u001b[0m\u001b[0mfoo\u001b[0m\u001b[0;34m=\u001b[0m\u001b[0;34m'bar'\u001b[0m\u001b[0;34m)\u001b[0m\u001b[0;34m\u001b[0m\u001b[0;34m\u001b[0m\u001b[0m\n\u001b[0m",
            "\u001b[0;32m/usr/local/lib/python3.6/dist-packages/sklearn/base.py\u001b[0m in \u001b[0;36mset_params\u001b[0;34m(self, **params)\u001b[0m\n\u001b[1;32m    234\u001b[0m                                  \u001b[0;34m'Check the list of available parameters '\u001b[0m\u001b[0;34m\u001b[0m\u001b[0;34m\u001b[0m\u001b[0m\n\u001b[1;32m    235\u001b[0m                                  \u001b[0;34m'with `estimator.get_params().keys()`.'\u001b[0m \u001b[0;34m%\u001b[0m\u001b[0;34m\u001b[0m\u001b[0;34m\u001b[0m\u001b[0m\n\u001b[0;32m--> 236\u001b[0;31m                                  (key, self))\n\u001b[0m\u001b[1;32m    237\u001b[0m \u001b[0;34m\u001b[0m\u001b[0m\n\u001b[1;32m    238\u001b[0m             \u001b[0;32mif\u001b[0m \u001b[0mdelim\u001b[0m\u001b[0;34m:\u001b[0m\u001b[0;34m\u001b[0m\u001b[0;34m\u001b[0m\u001b[0m\n",
            "\u001b[0;31mValueError\u001b[0m: Invalid parameter foo for estimator GaussianNB(priors=None, var_smoothing=1.0). Check the list of available parameters with `estimator.get_params().keys()`."
          ]
        }
      ]
    },
    {
      "cell_type": "code",
      "metadata": {
        "colab": {
          "base_uri": "https://localhost:8080/",
          "height": 283
        },
        "id": "9MGCctkXfdJm",
        "outputId": "efb07dfc-0fed-47f4-df37-331c6819acfb"
      },
      "source": [
        "clf_custom.set_params(**{'bar': 'foo'})"
      ],
      "execution_count": 65,
      "outputs": [
        {
          "output_type": "error",
          "ename": "ValueError",
          "evalue": "ignored",
          "traceback": [
            "\u001b[0;31m---------------------------------------------------------------------------\u001b[0m",
            "\u001b[0;31mValueError\u001b[0m                                Traceback (most recent call last)",
            "\u001b[0;32m<ipython-input-65-353b4755b7d2>\u001b[0m in \u001b[0;36m<module>\u001b[0;34m()\u001b[0m\n\u001b[0;32m----> 1\u001b[0;31m \u001b[0mclf_custom\u001b[0m\u001b[0;34m.\u001b[0m\u001b[0mset_params\u001b[0m\u001b[0;34m(\u001b[0m\u001b[0;34m**\u001b[0m\u001b[0;34m{\u001b[0m\u001b[0;34m'bar'\u001b[0m\u001b[0;34m:\u001b[0m \u001b[0;34m'foo'\u001b[0m\u001b[0;34m}\u001b[0m\u001b[0;34m)\u001b[0m\u001b[0;34m\u001b[0m\u001b[0;34m\u001b[0m\u001b[0m\n\u001b[0m",
            "\u001b[0;32m<ipython-input-57-f6e79b9279c1>\u001b[0m in \u001b[0;36mset_params\u001b[0;34m(self, **params)\u001b[0m\n\u001b[1;32m     89\u001b[0m         \u001b[0;32mfor\u001b[0m \u001b[0mparam\u001b[0m\u001b[0;34m,\u001b[0m \u001b[0mvalue\u001b[0m \u001b[0;32min\u001b[0m \u001b[0mparams\u001b[0m\u001b[0;34m.\u001b[0m\u001b[0mitems\u001b[0m\u001b[0;34m(\u001b[0m\u001b[0;34m)\u001b[0m\u001b[0;34m:\u001b[0m\u001b[0;34m\u001b[0m\u001b[0;34m\u001b[0m\u001b[0m\n\u001b[1;32m     90\u001b[0m             \u001b[0;32mif\u001b[0m \u001b[0mparam\u001b[0m \u001b[0;34m!=\u001b[0m \u001b[0;34m'var_smoothing'\u001b[0m\u001b[0;34m:\u001b[0m\u001b[0;34m\u001b[0m\u001b[0;34m\u001b[0m\u001b[0m\n\u001b[0;32m---> 91\u001b[0;31m                 \u001b[0;32mraise\u001b[0m \u001b[0mValueError\u001b[0m\u001b[0;34m(\u001b[0m\u001b[0;34mf'Invalid param {param}!'\u001b[0m\u001b[0;34m)\u001b[0m\u001b[0;34m\u001b[0m\u001b[0;34m\u001b[0m\u001b[0m\n\u001b[0m\u001b[1;32m     92\u001b[0m             \u001b[0msetattr\u001b[0m\u001b[0;34m(\u001b[0m\u001b[0mself\u001b[0m\u001b[0;34m,\u001b[0m \u001b[0mparam\u001b[0m\u001b[0;34m,\u001b[0m \u001b[0mvalue\u001b[0m\u001b[0;34m)\u001b[0m\u001b[0;34m\u001b[0m\u001b[0;34m\u001b[0m\u001b[0m\n\u001b[1;32m     93\u001b[0m         \u001b[0;32mreturn\u001b[0m \u001b[0mself\u001b[0m\u001b[0;34m\u001b[0m\u001b[0;34m\u001b[0m\u001b[0m\n",
            "\u001b[0;31mValueError\u001b[0m: Invalid param bar!"
          ]
        }
      ]
    },
    {
      "cell_type": "code",
      "metadata": {
        "colab": {
          "base_uri": "https://localhost:8080/"
        },
        "id": "VUmX6Kd8fxln",
        "outputId": "a5f9b571-5f77-4b95-9357-d2e1c093a4e5"
      },
      "source": [
        "clf_sklearn.set_params(var_smoothing=1e-09)"
      ],
      "execution_count": 66,
      "outputs": [
        {
          "output_type": "execute_result",
          "data": {
            "text/plain": [
              "GaussianNB(priors=None, var_smoothing=1e-09)"
            ]
          },
          "metadata": {
            "tags": []
          },
          "execution_count": 66
        }
      ]
    },
    {
      "cell_type": "code",
      "metadata": {
        "colab": {
          "base_uri": "https://localhost:8080/"
        },
        "id": "w3t9Rfogfs7k",
        "outputId": "b457ef9a-5ef1-49f3-ff6e-5a56254e5ecb"
      },
      "source": [
        "clf_custom.set_params(var_smoothing=1e-09)"
      ],
      "execution_count": 67,
      "outputs": [
        {
          "output_type": "execute_result",
          "data": {
            "text/plain": [
              "NaiveBayesClassifier(var_smoothing=1e-09)"
            ]
          },
          "metadata": {
            "tags": []
          },
          "execution_count": 67
        }
      ]
    },
    {
      "cell_type": "code",
      "metadata": {
        "colab": {
          "base_uri": "https://localhost:8080/"
        },
        "id": "v1BSlm29LXxL",
        "outputId": "6e55b025-1ba9-45de-bae6-5eb5492e6b99"
      },
      "source": [
        "clf_sklearn.fit(X, Y)"
      ],
      "execution_count": 68,
      "outputs": [
        {
          "output_type": "execute_result",
          "data": {
            "text/plain": [
              "GaussianNB(priors=None, var_smoothing=1e-09)"
            ]
          },
          "metadata": {
            "tags": []
          },
          "execution_count": 68
        }
      ]
    },
    {
      "cell_type": "code",
      "metadata": {
        "colab": {
          "base_uri": "https://localhost:8080/"
        },
        "id": "dOdUQRZfLfu6",
        "outputId": "131c70ef-e7c0-4ff9-8ca2-84208fd30947"
      },
      "source": [
        "clf_custom.fit(X, Y)"
      ],
      "execution_count": 69,
      "outputs": [
        {
          "output_type": "execute_result",
          "data": {
            "text/plain": [
              "NaiveBayesClassifier(var_smoothing=1e-09)"
            ]
          },
          "metadata": {
            "tags": []
          },
          "execution_count": 69
        }
      ]
    },
    {
      "cell_type": "code",
      "metadata": {
        "colab": {
          "base_uri": "https://localhost:8080/"
        },
        "id": "07gnHLw8YkH9",
        "outputId": "d60e905d-2fa5-42dc-c40e-19cdf1e65b58"
      },
      "source": [
        "clf_sklearn.predict([[-0.8, -1]])"
      ],
      "execution_count": 70,
      "outputs": [
        {
          "output_type": "execute_result",
          "data": {
            "text/plain": [
              "array([1])"
            ]
          },
          "metadata": {
            "tags": []
          },
          "execution_count": 70
        }
      ]
    },
    {
      "cell_type": "code",
      "metadata": {
        "colab": {
          "base_uri": "https://localhost:8080/"
        },
        "id": "HYkUM8RzYpAY",
        "outputId": "ca38f0e0-b876-45c6-f4e4-0000f636e728"
      },
      "source": [
        "clf_custom.predict([[-0.8, -1]])"
      ],
      "execution_count": 71,
      "outputs": [
        {
          "output_type": "execute_result",
          "data": {
            "text/plain": [
              "array([1])"
            ]
          },
          "metadata": {
            "tags": []
          },
          "execution_count": 71
        }
      ]
    },
    {
      "cell_type": "markdown",
      "metadata": {
        "id": "0uFWljSocT-r"
      },
      "source": [
        "Пока всё правильно и предсказуемо. Посмотрим, будут ли различия в predict_proba и predict_log_proba."
      ]
    },
    {
      "cell_type": "code",
      "metadata": {
        "id": "2uxaIWpmf9LQ"
      },
      "source": [
        "clf_sklearn = GaussianNB()\n",
        "clf_custom = NaiveBayesClassifier()"
      ],
      "execution_count": 72,
      "outputs": []
    },
    {
      "cell_type": "code",
      "metadata": {
        "colab": {
          "base_uri": "https://localhost:8080/"
        },
        "id": "Kc0dlQRGgNsz",
        "outputId": "54ba059f-22f7-4b1d-e7ca-e2ddda62dac7"
      },
      "source": [
        "clf_sklearn.fit(X, Y)"
      ],
      "execution_count": 73,
      "outputs": [
        {
          "output_type": "execute_result",
          "data": {
            "text/plain": [
              "GaussianNB(priors=None, var_smoothing=1e-09)"
            ]
          },
          "metadata": {
            "tags": []
          },
          "execution_count": 73
        }
      ]
    },
    {
      "cell_type": "code",
      "metadata": {
        "colab": {
          "base_uri": "https://localhost:8080/"
        },
        "id": "jqJZEj_vgPjs",
        "outputId": "3e878468-3d17-4a98-a38c-7e9720b0d4b2"
      },
      "source": [
        "clf_custom.fit(X, Y)"
      ],
      "execution_count": 74,
      "outputs": [
        {
          "output_type": "execute_result",
          "data": {
            "text/plain": [
              "NaiveBayesClassifier(var_smoothing=1e-09)"
            ]
          },
          "metadata": {
            "tags": []
          },
          "execution_count": 74
        }
      ]
    },
    {
      "cell_type": "code",
      "metadata": {
        "colab": {
          "base_uri": "https://localhost:8080/"
        },
        "id": "J_XV1ASwgUX3",
        "outputId": "5f750459-c8f8-496e-cd2a-44c5738f0978"
      },
      "source": [
        "clf_sklearn.predict_proba([[-0.8, -1]])"
      ],
      "execution_count": 75,
      "outputs": [
        {
          "output_type": "execute_result",
          "data": {
            "text/plain": [
              "array([[9.99999949e-01, 5.05653254e-08]])"
            ]
          },
          "metadata": {
            "tags": []
          },
          "execution_count": 75
        }
      ]
    },
    {
      "cell_type": "code",
      "metadata": {
        "colab": {
          "base_uri": "https://localhost:8080/"
        },
        "id": "tzkkXkJajNpS",
        "outputId": "d153e81b-d024-4442-e571-c671afd9a2de"
      },
      "source": [
        "clf_custom.predict_proba([[-0.8, -1]])"
      ],
      "execution_count": 76,
      "outputs": [
        {
          "output_type": "execute_result",
          "data": {
            "text/plain": [
              "array([[9.99999949e-01, 5.05653254e-08]])"
            ]
          },
          "metadata": {
            "tags": []
          },
          "execution_count": 76
        }
      ]
    },
    {
      "cell_type": "code",
      "metadata": {
        "colab": {
          "base_uri": "https://localhost:8080/"
        },
        "id": "i054qO5-pVaT",
        "outputId": "bde8f0e0-b0ff-48f8-9067-3ac83dd4fc48"
      },
      "source": [
        "clf_sklearn.predict_log_proba([[-0.8, -1]])"
      ],
      "execution_count": 77,
      "outputs": [
        {
          "output_type": "execute_result",
          "data": {
            "text/plain": [
              "array([[-5.05653266e-08, -1.67999998e+01]])"
            ]
          },
          "metadata": {
            "tags": []
          },
          "execution_count": 77
        }
      ]
    },
    {
      "cell_type": "code",
      "metadata": {
        "colab": {
          "base_uri": "https://localhost:8080/"
        },
        "id": "Ly1_S_NQpYsD",
        "outputId": "b2dee4fb-c61b-4ba8-e625-dde4984dfeed"
      },
      "source": [
        "clf_custom.predict_log_proba([[-0.8, -1]])"
      ],
      "execution_count": 78,
      "outputs": [
        {
          "output_type": "execute_result",
          "data": {
            "text/plain": [
              "array([[-5.05653266e-08, -1.67999998e+01]])"
            ]
          },
          "metadata": {
            "tags": []
          },
          "execution_count": 78
        }
      ]
    },
    {
      "cell_type": "markdown",
      "metadata": {
        "id": "h4NZieslouj5"
      },
      "source": [
        "Всё идентично! Теперь проверим, насколько хорошо мой классификатор будет справляться с данными MNIST."
      ]
    },
    {
      "cell_type": "markdown",
      "metadata": {
        "id": "mnZSykFo7JFJ"
      },
      "source": [
        "## Проверка на MNIST"
      ]
    },
    {
      "cell_type": "code",
      "metadata": {
        "id": "JGfh60ZP7Ids"
      },
      "source": [
        ""
      ],
      "execution_count": null,
      "outputs": []
    }
  ]
}