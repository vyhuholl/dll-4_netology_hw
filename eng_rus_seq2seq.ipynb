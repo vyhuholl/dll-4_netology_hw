{
  "nbformat": 4,
  "nbformat_minor": 0,
  "metadata": {
    "colab": {
      "name": "eng-rus_seq2seq.ipynb",
      "provenance": [],
      "collapsed_sections": []
    },
    "kernelspec": {
      "name": "python3",
      "display_name": "Python 3"
    },
    "accelerator": "GPU",
    "widgets": {
      "application/vnd.jupyter.widget-state+json": {
        "1d757df3fade40f6af32e3975ba2586e": {
          "model_module": "@jupyter-widgets/controls",
          "model_name": "HBoxModel",
          "state": {
            "_view_name": "HBoxView",
            "_dom_classes": [],
            "_model_name": "HBoxModel",
            "_view_module": "@jupyter-widgets/controls",
            "_model_module_version": "1.5.0",
            "_view_count": null,
            "_view_module_version": "1.5.0",
            "box_style": "",
            "layout": "IPY_MODEL_06adeace9c474e6eaed9f6481f40e101",
            "_model_module": "@jupyter-widgets/controls",
            "children": [
              "IPY_MODEL_bb29cd737e674a09b20c609ba25b64f4",
              "IPY_MODEL_60f32a3154c34228842d34e0faf0e3e1"
            ]
          }
        },
        "06adeace9c474e6eaed9f6481f40e101": {
          "model_module": "@jupyter-widgets/base",
          "model_name": "LayoutModel",
          "state": {
            "_view_name": "LayoutView",
            "grid_template_rows": null,
            "right": null,
            "justify_content": null,
            "_view_module": "@jupyter-widgets/base",
            "overflow": null,
            "_model_module_version": "1.2.0",
            "_view_count": null,
            "flex_flow": null,
            "width": null,
            "min_width": null,
            "border": null,
            "align_items": null,
            "bottom": null,
            "_model_module": "@jupyter-widgets/base",
            "top": null,
            "grid_column": null,
            "overflow_y": null,
            "overflow_x": null,
            "grid_auto_flow": null,
            "grid_area": null,
            "grid_template_columns": null,
            "flex": null,
            "_model_name": "LayoutModel",
            "justify_items": null,
            "grid_row": null,
            "max_height": null,
            "align_content": null,
            "visibility": null,
            "align_self": null,
            "height": null,
            "min_height": null,
            "padding": null,
            "grid_auto_rows": null,
            "grid_gap": null,
            "max_width": null,
            "order": null,
            "_view_module_version": "1.2.0",
            "grid_template_areas": null,
            "object_position": null,
            "object_fit": null,
            "grid_auto_columns": null,
            "margin": null,
            "display": null,
            "left": null
          }
        },
        "bb29cd737e674a09b20c609ba25b64f4": {
          "model_module": "@jupyter-widgets/controls",
          "model_name": "FloatProgressModel",
          "state": {
            "_view_name": "ProgressView",
            "style": "IPY_MODEL_5c986890dcf6466b98809ad39e67cb95",
            "_dom_classes": [],
            "description": "100%",
            "_model_name": "FloatProgressModel",
            "bar_style": "success",
            "max": 75000,
            "_view_module": "@jupyter-widgets/controls",
            "_model_module_version": "1.5.0",
            "value": 75000,
            "_view_count": null,
            "_view_module_version": "1.5.0",
            "orientation": "horizontal",
            "min": 0,
            "description_tooltip": null,
            "_model_module": "@jupyter-widgets/controls",
            "layout": "IPY_MODEL_6bf4dca8962f423192390168205480fa"
          }
        },
        "60f32a3154c34228842d34e0faf0e3e1": {
          "model_module": "@jupyter-widgets/controls",
          "model_name": "HTMLModel",
          "state": {
            "_view_name": "HTMLView",
            "style": "IPY_MODEL_a21e2890bc1d4fc7a2c9330b525d411f",
            "_dom_classes": [],
            "description": "",
            "_model_name": "HTMLModel",
            "placeholder": "​",
            "_view_module": "@jupyter-widgets/controls",
            "_model_module_version": "1.5.0",
            "value": " 75000/75000 [55:53&lt;00:00, 22.37it/s]",
            "_view_count": null,
            "_view_module_version": "1.5.0",
            "description_tooltip": null,
            "_model_module": "@jupyter-widgets/controls",
            "layout": "IPY_MODEL_13d4090f201d41c4bc8b4165f0e5e9f1"
          }
        },
        "5c986890dcf6466b98809ad39e67cb95": {
          "model_module": "@jupyter-widgets/controls",
          "model_name": "ProgressStyleModel",
          "state": {
            "_view_name": "StyleView",
            "_model_name": "ProgressStyleModel",
            "description_width": "initial",
            "_view_module": "@jupyter-widgets/base",
            "_model_module_version": "1.5.0",
            "_view_count": null,
            "_view_module_version": "1.2.0",
            "bar_color": null,
            "_model_module": "@jupyter-widgets/controls"
          }
        },
        "6bf4dca8962f423192390168205480fa": {
          "model_module": "@jupyter-widgets/base",
          "model_name": "LayoutModel",
          "state": {
            "_view_name": "LayoutView",
            "grid_template_rows": null,
            "right": null,
            "justify_content": null,
            "_view_module": "@jupyter-widgets/base",
            "overflow": null,
            "_model_module_version": "1.2.0",
            "_view_count": null,
            "flex_flow": null,
            "width": null,
            "min_width": null,
            "border": null,
            "align_items": null,
            "bottom": null,
            "_model_module": "@jupyter-widgets/base",
            "top": null,
            "grid_column": null,
            "overflow_y": null,
            "overflow_x": null,
            "grid_auto_flow": null,
            "grid_area": null,
            "grid_template_columns": null,
            "flex": null,
            "_model_name": "LayoutModel",
            "justify_items": null,
            "grid_row": null,
            "max_height": null,
            "align_content": null,
            "visibility": null,
            "align_self": null,
            "height": null,
            "min_height": null,
            "padding": null,
            "grid_auto_rows": null,
            "grid_gap": null,
            "max_width": null,
            "order": null,
            "_view_module_version": "1.2.0",
            "grid_template_areas": null,
            "object_position": null,
            "object_fit": null,
            "grid_auto_columns": null,
            "margin": null,
            "display": null,
            "left": null
          }
        },
        "a21e2890bc1d4fc7a2c9330b525d411f": {
          "model_module": "@jupyter-widgets/controls",
          "model_name": "DescriptionStyleModel",
          "state": {
            "_view_name": "StyleView",
            "_model_name": "DescriptionStyleModel",
            "description_width": "",
            "_view_module": "@jupyter-widgets/base",
            "_model_module_version": "1.5.0",
            "_view_count": null,
            "_view_module_version": "1.2.0",
            "_model_module": "@jupyter-widgets/controls"
          }
        },
        "13d4090f201d41c4bc8b4165f0e5e9f1": {
          "model_module": "@jupyter-widgets/base",
          "model_name": "LayoutModel",
          "state": {
            "_view_name": "LayoutView",
            "grid_template_rows": null,
            "right": null,
            "justify_content": null,
            "_view_module": "@jupyter-widgets/base",
            "overflow": null,
            "_model_module_version": "1.2.0",
            "_view_count": null,
            "flex_flow": null,
            "width": null,
            "min_width": null,
            "border": null,
            "align_items": null,
            "bottom": null,
            "_model_module": "@jupyter-widgets/base",
            "top": null,
            "grid_column": null,
            "overflow_y": null,
            "overflow_x": null,
            "grid_auto_flow": null,
            "grid_area": null,
            "grid_template_columns": null,
            "flex": null,
            "_model_name": "LayoutModel",
            "justify_items": null,
            "grid_row": null,
            "max_height": null,
            "align_content": null,
            "visibility": null,
            "align_self": null,
            "height": null,
            "min_height": null,
            "padding": null,
            "grid_auto_rows": null,
            "grid_gap": null,
            "max_width": null,
            "order": null,
            "_view_module_version": "1.2.0",
            "grid_template_areas": null,
            "object_position": null,
            "object_fit": null,
            "grid_auto_columns": null,
            "margin": null,
            "display": null,
            "left": null
          }
        },
        "705ef34a6fdf4eebb20a5077c860c555": {
          "model_module": "@jupyter-widgets/controls",
          "model_name": "HBoxModel",
          "state": {
            "_view_name": "HBoxView",
            "_dom_classes": [],
            "_model_name": "HBoxModel",
            "_view_module": "@jupyter-widgets/controls",
            "_model_module_version": "1.5.0",
            "_view_count": null,
            "_view_module_version": "1.5.0",
            "box_style": "",
            "layout": "IPY_MODEL_aae48a6350684a23ae156356c2ea67ba",
            "_model_module": "@jupyter-widgets/controls",
            "children": [
              "IPY_MODEL_70f1051aa868424098b7224a5bbf3298",
              "IPY_MODEL_47816e34afe44eaea92017a04743cdb6"
            ]
          }
        },
        "aae48a6350684a23ae156356c2ea67ba": {
          "model_module": "@jupyter-widgets/base",
          "model_name": "LayoutModel",
          "state": {
            "_view_name": "LayoutView",
            "grid_template_rows": null,
            "right": null,
            "justify_content": null,
            "_view_module": "@jupyter-widgets/base",
            "overflow": null,
            "_model_module_version": "1.2.0",
            "_view_count": null,
            "flex_flow": null,
            "width": null,
            "min_width": null,
            "border": null,
            "align_items": null,
            "bottom": null,
            "_model_module": "@jupyter-widgets/base",
            "top": null,
            "grid_column": null,
            "overflow_y": null,
            "overflow_x": null,
            "grid_auto_flow": null,
            "grid_area": null,
            "grid_template_columns": null,
            "flex": null,
            "_model_name": "LayoutModel",
            "justify_items": null,
            "grid_row": null,
            "max_height": null,
            "align_content": null,
            "visibility": null,
            "align_self": null,
            "height": null,
            "min_height": null,
            "padding": null,
            "grid_auto_rows": null,
            "grid_gap": null,
            "max_width": null,
            "order": null,
            "_view_module_version": "1.2.0",
            "grid_template_areas": null,
            "object_position": null,
            "object_fit": null,
            "grid_auto_columns": null,
            "margin": null,
            "display": null,
            "left": null
          }
        },
        "70f1051aa868424098b7224a5bbf3298": {
          "model_module": "@jupyter-widgets/controls",
          "model_name": "FloatProgressModel",
          "state": {
            "_view_name": "ProgressView",
            "style": "IPY_MODEL_c1c31e4fdee04f109410bc9d72fad384",
            "_dom_classes": [],
            "description": "100%",
            "_model_name": "FloatProgressModel",
            "bar_style": "success",
            "max": 75000,
            "_view_module": "@jupyter-widgets/controls",
            "_model_module_version": "1.5.0",
            "value": 75000,
            "_view_count": null,
            "_view_module_version": "1.5.0",
            "orientation": "horizontal",
            "min": 0,
            "description_tooltip": null,
            "_model_module": "@jupyter-widgets/controls",
            "layout": "IPY_MODEL_831af5f8e2574484afbd0d10aedf299d"
          }
        },
        "47816e34afe44eaea92017a04743cdb6": {
          "model_module": "@jupyter-widgets/controls",
          "model_name": "HTMLModel",
          "state": {
            "_view_name": "HTMLView",
            "style": "IPY_MODEL_bf42eec548774910962e5d592e4fab6b",
            "_dom_classes": [],
            "description": "",
            "_model_name": "HTMLModel",
            "placeholder": "​",
            "_view_module": "@jupyter-widgets/controls",
            "_model_module_version": "1.5.0",
            "value": " 75000/75000 [1:29:22&lt;00:00, 13.99it/s]",
            "_view_count": null,
            "_view_module_version": "1.5.0",
            "description_tooltip": null,
            "_model_module": "@jupyter-widgets/controls",
            "layout": "IPY_MODEL_a869988f77ab47b4ac2c7e72e56310f2"
          }
        },
        "c1c31e4fdee04f109410bc9d72fad384": {
          "model_module": "@jupyter-widgets/controls",
          "model_name": "ProgressStyleModel",
          "state": {
            "_view_name": "StyleView",
            "_model_name": "ProgressStyleModel",
            "description_width": "initial",
            "_view_module": "@jupyter-widgets/base",
            "_model_module_version": "1.5.0",
            "_view_count": null,
            "_view_module_version": "1.2.0",
            "bar_color": null,
            "_model_module": "@jupyter-widgets/controls"
          }
        },
        "831af5f8e2574484afbd0d10aedf299d": {
          "model_module": "@jupyter-widgets/base",
          "model_name": "LayoutModel",
          "state": {
            "_view_name": "LayoutView",
            "grid_template_rows": null,
            "right": null,
            "justify_content": null,
            "_view_module": "@jupyter-widgets/base",
            "overflow": null,
            "_model_module_version": "1.2.0",
            "_view_count": null,
            "flex_flow": null,
            "width": null,
            "min_width": null,
            "border": null,
            "align_items": null,
            "bottom": null,
            "_model_module": "@jupyter-widgets/base",
            "top": null,
            "grid_column": null,
            "overflow_y": null,
            "overflow_x": null,
            "grid_auto_flow": null,
            "grid_area": null,
            "grid_template_columns": null,
            "flex": null,
            "_model_name": "LayoutModel",
            "justify_items": null,
            "grid_row": null,
            "max_height": null,
            "align_content": null,
            "visibility": null,
            "align_self": null,
            "height": null,
            "min_height": null,
            "padding": null,
            "grid_auto_rows": null,
            "grid_gap": null,
            "max_width": null,
            "order": null,
            "_view_module_version": "1.2.0",
            "grid_template_areas": null,
            "object_position": null,
            "object_fit": null,
            "grid_auto_columns": null,
            "margin": null,
            "display": null,
            "left": null
          }
        },
        "bf42eec548774910962e5d592e4fab6b": {
          "model_module": "@jupyter-widgets/controls",
          "model_name": "DescriptionStyleModel",
          "state": {
            "_view_name": "StyleView",
            "_model_name": "DescriptionStyleModel",
            "description_width": "",
            "_view_module": "@jupyter-widgets/base",
            "_model_module_version": "1.5.0",
            "_view_count": null,
            "_view_module_version": "1.2.0",
            "_model_module": "@jupyter-widgets/controls"
          }
        },
        "a869988f77ab47b4ac2c7e72e56310f2": {
          "model_module": "@jupyter-widgets/base",
          "model_name": "LayoutModel",
          "state": {
            "_view_name": "LayoutView",
            "grid_template_rows": null,
            "right": null,
            "justify_content": null,
            "_view_module": "@jupyter-widgets/base",
            "overflow": null,
            "_model_module_version": "1.2.0",
            "_view_count": null,
            "flex_flow": null,
            "width": null,
            "min_width": null,
            "border": null,
            "align_items": null,
            "bottom": null,
            "_model_module": "@jupyter-widgets/base",
            "top": null,
            "grid_column": null,
            "overflow_y": null,
            "overflow_x": null,
            "grid_auto_flow": null,
            "grid_area": null,
            "grid_template_columns": null,
            "flex": null,
            "_model_name": "LayoutModel",
            "justify_items": null,
            "grid_row": null,
            "max_height": null,
            "align_content": null,
            "visibility": null,
            "align_self": null,
            "height": null,
            "min_height": null,
            "padding": null,
            "grid_auto_rows": null,
            "grid_gap": null,
            "max_width": null,
            "order": null,
            "_view_module_version": "1.2.0",
            "grid_template_areas": null,
            "object_position": null,
            "object_fit": null,
            "grid_auto_columns": null,
            "margin": null,
            "display": null,
            "left": null
          }
        },
        "108eb10c56f54eb0a061925aebc91618": {
          "model_module": "@jupyter-widgets/controls",
          "model_name": "HBoxModel",
          "state": {
            "_view_name": "HBoxView",
            "_dom_classes": [],
            "_model_name": "HBoxModel",
            "_view_module": "@jupyter-widgets/controls",
            "_model_module_version": "1.5.0",
            "_view_count": null,
            "_view_module_version": "1.5.0",
            "box_style": "",
            "layout": "IPY_MODEL_b9031303565f43a6b8eebc00556c680c",
            "_model_module": "@jupyter-widgets/controls",
            "children": [
              "IPY_MODEL_09b26e758ce945a3a6161bdcfdb5e3fe",
              "IPY_MODEL_5f6bf150412d4a7ca1319336979fd31f"
            ]
          }
        },
        "b9031303565f43a6b8eebc00556c680c": {
          "model_module": "@jupyter-widgets/base",
          "model_name": "LayoutModel",
          "state": {
            "_view_name": "LayoutView",
            "grid_template_rows": null,
            "right": null,
            "justify_content": null,
            "_view_module": "@jupyter-widgets/base",
            "overflow": null,
            "_model_module_version": "1.2.0",
            "_view_count": null,
            "flex_flow": null,
            "width": null,
            "min_width": null,
            "border": null,
            "align_items": null,
            "bottom": null,
            "_model_module": "@jupyter-widgets/base",
            "top": null,
            "grid_column": null,
            "overflow_y": null,
            "overflow_x": null,
            "grid_auto_flow": null,
            "grid_area": null,
            "grid_template_columns": null,
            "flex": null,
            "_model_name": "LayoutModel",
            "justify_items": null,
            "grid_row": null,
            "max_height": null,
            "align_content": null,
            "visibility": null,
            "align_self": null,
            "height": null,
            "min_height": null,
            "padding": null,
            "grid_auto_rows": null,
            "grid_gap": null,
            "max_width": null,
            "order": null,
            "_view_module_version": "1.2.0",
            "grid_template_areas": null,
            "object_position": null,
            "object_fit": null,
            "grid_auto_columns": null,
            "margin": null,
            "display": null,
            "left": null
          }
        },
        "09b26e758ce945a3a6161bdcfdb5e3fe": {
          "model_module": "@jupyter-widgets/controls",
          "model_name": "FloatProgressModel",
          "state": {
            "_view_name": "ProgressView",
            "style": "IPY_MODEL_d53c0fed4993460996f08656226523e8",
            "_dom_classes": [],
            "description": "100%",
            "_model_name": "FloatProgressModel",
            "bar_style": "success",
            "max": 75000,
            "_view_module": "@jupyter-widgets/controls",
            "_model_module_version": "1.5.0",
            "value": 75000,
            "_view_count": null,
            "_view_module_version": "1.5.0",
            "orientation": "horizontal",
            "min": 0,
            "description_tooltip": null,
            "_model_module": "@jupyter-widgets/controls",
            "layout": "IPY_MODEL_bebc0ba26de846b4b8b8c63a2160c066"
          }
        },
        "5f6bf150412d4a7ca1319336979fd31f": {
          "model_module": "@jupyter-widgets/controls",
          "model_name": "HTMLModel",
          "state": {
            "_view_name": "HTMLView",
            "style": "IPY_MODEL_213d9259fbb7478dbd4f182ec9e5e8e9",
            "_dom_classes": [],
            "description": "",
            "_model_name": "HTMLModel",
            "placeholder": "​",
            "_view_module": "@jupyter-widgets/controls",
            "_model_module_version": "1.5.0",
            "value": " 75000/75000 [1:09:38&lt;00:00, 17.95it/s]",
            "_view_count": null,
            "_view_module_version": "1.5.0",
            "description_tooltip": null,
            "_model_module": "@jupyter-widgets/controls",
            "layout": "IPY_MODEL_144f191aedc54d35841e71ea736beb2d"
          }
        },
        "d53c0fed4993460996f08656226523e8": {
          "model_module": "@jupyter-widgets/controls",
          "model_name": "ProgressStyleModel",
          "state": {
            "_view_name": "StyleView",
            "_model_name": "ProgressStyleModel",
            "description_width": "initial",
            "_view_module": "@jupyter-widgets/base",
            "_model_module_version": "1.5.0",
            "_view_count": null,
            "_view_module_version": "1.2.0",
            "bar_color": null,
            "_model_module": "@jupyter-widgets/controls"
          }
        },
        "bebc0ba26de846b4b8b8c63a2160c066": {
          "model_module": "@jupyter-widgets/base",
          "model_name": "LayoutModel",
          "state": {
            "_view_name": "LayoutView",
            "grid_template_rows": null,
            "right": null,
            "justify_content": null,
            "_view_module": "@jupyter-widgets/base",
            "overflow": null,
            "_model_module_version": "1.2.0",
            "_view_count": null,
            "flex_flow": null,
            "width": null,
            "min_width": null,
            "border": null,
            "align_items": null,
            "bottom": null,
            "_model_module": "@jupyter-widgets/base",
            "top": null,
            "grid_column": null,
            "overflow_y": null,
            "overflow_x": null,
            "grid_auto_flow": null,
            "grid_area": null,
            "grid_template_columns": null,
            "flex": null,
            "_model_name": "LayoutModel",
            "justify_items": null,
            "grid_row": null,
            "max_height": null,
            "align_content": null,
            "visibility": null,
            "align_self": null,
            "height": null,
            "min_height": null,
            "padding": null,
            "grid_auto_rows": null,
            "grid_gap": null,
            "max_width": null,
            "order": null,
            "_view_module_version": "1.2.0",
            "grid_template_areas": null,
            "object_position": null,
            "object_fit": null,
            "grid_auto_columns": null,
            "margin": null,
            "display": null,
            "left": null
          }
        },
        "213d9259fbb7478dbd4f182ec9e5e8e9": {
          "model_module": "@jupyter-widgets/controls",
          "model_name": "DescriptionStyleModel",
          "state": {
            "_view_name": "StyleView",
            "_model_name": "DescriptionStyleModel",
            "description_width": "",
            "_view_module": "@jupyter-widgets/base",
            "_model_module_version": "1.5.0",
            "_view_count": null,
            "_view_module_version": "1.2.0",
            "_model_module": "@jupyter-widgets/controls"
          }
        },
        "144f191aedc54d35841e71ea736beb2d": {
          "model_module": "@jupyter-widgets/base",
          "model_name": "LayoutModel",
          "state": {
            "_view_name": "LayoutView",
            "grid_template_rows": null,
            "right": null,
            "justify_content": null,
            "_view_module": "@jupyter-widgets/base",
            "overflow": null,
            "_model_module_version": "1.2.0",
            "_view_count": null,
            "flex_flow": null,
            "width": null,
            "min_width": null,
            "border": null,
            "align_items": null,
            "bottom": null,
            "_model_module": "@jupyter-widgets/base",
            "top": null,
            "grid_column": null,
            "overflow_y": null,
            "overflow_x": null,
            "grid_auto_flow": null,
            "grid_area": null,
            "grid_template_columns": null,
            "flex": null,
            "_model_name": "LayoutModel",
            "justify_items": null,
            "grid_row": null,
            "max_height": null,
            "align_content": null,
            "visibility": null,
            "align_self": null,
            "height": null,
            "min_height": null,
            "padding": null,
            "grid_auto_rows": null,
            "grid_gap": null,
            "max_width": null,
            "order": null,
            "_view_module_version": "1.2.0",
            "grid_template_areas": null,
            "object_position": null,
            "object_fit": null,
            "grid_auto_columns": null,
            "margin": null,
            "display": null,
            "left": null
          }
        }
      }
    }
  },
  "cells": [
    {
      "cell_type": "code",
      "metadata": {
        "id": "ERVUpOKzB8zy"
      },
      "source": [
        "from IPython.display import clear_output"
      ],
      "execution_count": null,
      "outputs": []
    },
    {
      "cell_type": "code",
      "metadata": {
        "id": "IW0yNoELCoMh"
      },
      "source": [
        "!pip install pycodestyle pycodestyle_magic\n",
        "!pip install flake8\n",
        "clear_output()"
      ],
      "execution_count": null,
      "outputs": []
    },
    {
      "cell_type": "code",
      "metadata": {
        "id": "H1r_fo7eCp55"
      },
      "source": [
        "%load_ext pycodestyle_magic"
      ],
      "execution_count": null,
      "outputs": []
    },
    {
      "cell_type": "code",
      "metadata": {
        "id": "uaiPPOUMDs91"
      },
      "source": [
        "import re\n",
        "import pandas as pd\n",
        "import numpy as np\n",
        "import matplotlib.pyplot as plt\n",
        "import matplotlib.ticker as ticker\n",
        "import torch\n",
        "import torch.nn as nn\n",
        "import torch.nn.functional as F\n",
        "from torch import optim\n",
        "from tqdm.notebook import tqdm\n",
        "from string import ascii_lowercase\n",
        "from datetime import datetime, timedelta\n",
        "\n",
        "%matplotlib inline"
      ],
      "execution_count": null,
      "outputs": []
    },
    {
      "cell_type": "code",
      "metadata": {
        "id": "WLFu9aC8EF_q"
      },
      "source": [
        "device = torch.device('cuda' if torch.cuda.is_available() else 'cpu')"
      ],
      "execution_count": null,
      "outputs": []
    },
    {
      "cell_type": "code",
      "metadata": {
        "id": "hZxRKG1rEljc"
      },
      "source": [
        "plt.switch_backend('agg')"
      ],
      "execution_count": null,
      "outputs": []
    },
    {
      "cell_type": "markdown",
      "metadata": {
        "id": "I0XG3H2jFLbL"
      },
      "source": [
        "# Data preparation"
      ]
    },
    {
      "cell_type": "code",
      "metadata": {
        "id": "RD5daZycFJxF"
      },
      "source": [
        "df = pd.read_csv('rus.txt', sep='\\t', header=None).drop(2, axis=1)"
      ],
      "execution_count": null,
      "outputs": []
    },
    {
      "cell_type": "code",
      "metadata": {
        "colab": {
          "base_uri": "https://localhost:8080/",
          "height": 514
        },
        "id": "GhKWIGLfFXeM",
        "outputId": "fa51cf1b-38f7-449a-ff05-1b24bd88f821"
      },
      "source": [
        "df.head(15)"
      ],
      "execution_count": null,
      "outputs": [
        {
          "output_type": "execute_result",
          "data": {
            "text/html": [
              "<div>\n",
              "<style scoped>\n",
              "    .dataframe tbody tr th:only-of-type {\n",
              "        vertical-align: middle;\n",
              "    }\n",
              "\n",
              "    .dataframe tbody tr th {\n",
              "        vertical-align: top;\n",
              "    }\n",
              "\n",
              "    .dataframe thead th {\n",
              "        text-align: right;\n",
              "    }\n",
              "</style>\n",
              "<table border=\"1\" class=\"dataframe\">\n",
              "  <thead>\n",
              "    <tr style=\"text-align: right;\">\n",
              "      <th></th>\n",
              "      <th>0</th>\n",
              "      <th>1</th>\n",
              "    </tr>\n",
              "  </thead>\n",
              "  <tbody>\n",
              "    <tr>\n",
              "      <th>0</th>\n",
              "      <td>Go.</td>\n",
              "      <td>Марш!</td>\n",
              "    </tr>\n",
              "    <tr>\n",
              "      <th>1</th>\n",
              "      <td>Go.</td>\n",
              "      <td>Иди.</td>\n",
              "    </tr>\n",
              "    <tr>\n",
              "      <th>2</th>\n",
              "      <td>Go.</td>\n",
              "      <td>Идите.</td>\n",
              "    </tr>\n",
              "    <tr>\n",
              "      <th>3</th>\n",
              "      <td>Hi.</td>\n",
              "      <td>Здравствуйте.</td>\n",
              "    </tr>\n",
              "    <tr>\n",
              "      <th>4</th>\n",
              "      <td>Hi.</td>\n",
              "      <td>Привет!</td>\n",
              "    </tr>\n",
              "    <tr>\n",
              "      <th>5</th>\n",
              "      <td>Hi.</td>\n",
              "      <td>Хай.</td>\n",
              "    </tr>\n",
              "    <tr>\n",
              "      <th>6</th>\n",
              "      <td>Hi.</td>\n",
              "      <td>Здрасте.</td>\n",
              "    </tr>\n",
              "    <tr>\n",
              "      <th>7</th>\n",
              "      <td>Hi.</td>\n",
              "      <td>Здоро́во!</td>\n",
              "    </tr>\n",
              "    <tr>\n",
              "      <th>8</th>\n",
              "      <td>Run!</td>\n",
              "      <td>Беги!</td>\n",
              "    </tr>\n",
              "    <tr>\n",
              "      <th>9</th>\n",
              "      <td>Run!</td>\n",
              "      <td>Бегите!</td>\n",
              "    </tr>\n",
              "    <tr>\n",
              "      <th>10</th>\n",
              "      <td>Run.</td>\n",
              "      <td>Беги!</td>\n",
              "    </tr>\n",
              "    <tr>\n",
              "      <th>11</th>\n",
              "      <td>Run.</td>\n",
              "      <td>Бегите!</td>\n",
              "    </tr>\n",
              "    <tr>\n",
              "      <th>12</th>\n",
              "      <td>Who?</td>\n",
              "      <td>Кто?</td>\n",
              "    </tr>\n",
              "    <tr>\n",
              "      <th>13</th>\n",
              "      <td>Wow!</td>\n",
              "      <td>Вот это да!</td>\n",
              "    </tr>\n",
              "    <tr>\n",
              "      <th>14</th>\n",
              "      <td>Wow!</td>\n",
              "      <td>Круто!</td>\n",
              "    </tr>\n",
              "  </tbody>\n",
              "</table>\n",
              "</div>"
            ],
            "text/plain": [
              "       0              1\n",
              "0    Go.          Марш!\n",
              "1    Go.           Иди.\n",
              "2    Go.         Идите.\n",
              "3    Hi.  Здравствуйте.\n",
              "4    Hi.        Привет!\n",
              "5    Hi.           Хай.\n",
              "6    Hi.       Здрасте.\n",
              "7    Hi.      Здоро́во!\n",
              "8   Run!          Беги!\n",
              "9   Run!        Бегите!\n",
              "10  Run.          Беги!\n",
              "11  Run.        Бегите!\n",
              "12  Who?           Кто?\n",
              "13  Wow!    Вот это да!\n",
              "14  Wow!         Круто!"
            ]
          },
          "metadata": {
            "tags": []
          },
          "execution_count": 9
        }
      ]
    },
    {
      "cell_type": "code",
      "metadata": {
        "colab": {
          "base_uri": "https://localhost:8080/"
        },
        "id": "UMQlElEsFY6H",
        "outputId": "9d468ebb-f5e2-4d8b-869b-67391ae05fe0"
      },
      "source": [
        "df.info()"
      ],
      "execution_count": null,
      "outputs": [
        {
          "output_type": "stream",
          "text": [
            "<class 'pandas.core.frame.DataFrame'>\n",
            "RangeIndex: 414010 entries, 0 to 414009\n",
            "Data columns (total 2 columns):\n",
            " #   Column  Non-Null Count   Dtype \n",
            "---  ------  --------------   ----- \n",
            " 0   0       414010 non-null  object\n",
            " 1   1       414010 non-null  object\n",
            "dtypes: object(2)\n",
            "memory usage: 6.3+ MB\n"
          ],
          "name": "stdout"
        }
      ]
    },
    {
      "cell_type": "code",
      "metadata": {
        "id": "ydws9n47Q71y"
      },
      "source": [
        "!rm *.txt"
      ],
      "execution_count": null,
      "outputs": []
    },
    {
      "cell_type": "code",
      "metadata": {
        "id": "TdXwiQP_GVGi"
      },
      "source": [
        "df[0] = df[0].apply(lambda x: re.sub(r'[^a-zа-яё ]+', '', x.lower()))\n",
        "df[1] = df[1].apply(lambda x: re.sub(r'[^a-zа-яё ]+', '', x.lower()))\n",
        "df[0] = df[0].apply(lambda x: re.sub(r'\\s\\s+', ' ', x))\n",
        "df[1] = df[1].apply(lambda x: re.sub(r'\\s\\s+', ' ', x))\n",
        "\n",
        "# по-хорошему ещё надо бы лемматизацию сделать, но ладно, здесь не те данные"
      ],
      "execution_count": null,
      "outputs": []
    },
    {
      "cell_type": "code",
      "metadata": {
        "colab": {
          "base_uri": "https://localhost:8080/",
          "height": 514
        },
        "id": "Utd_91dvW_UO",
        "outputId": "09552558-a039-4eab-e6d6-384f53cdbf6a"
      },
      "source": [
        "df.sample(n=15)"
      ],
      "execution_count": null,
      "outputs": [
        {
          "output_type": "execute_result",
          "data": {
            "text/html": [
              "<div>\n",
              "<style scoped>\n",
              "    .dataframe tbody tr th:only-of-type {\n",
              "        vertical-align: middle;\n",
              "    }\n",
              "\n",
              "    .dataframe tbody tr th {\n",
              "        vertical-align: top;\n",
              "    }\n",
              "\n",
              "    .dataframe thead th {\n",
              "        text-align: right;\n",
              "    }\n",
              "</style>\n",
              "<table border=\"1\" class=\"dataframe\">\n",
              "  <thead>\n",
              "    <tr style=\"text-align: right;\">\n",
              "      <th></th>\n",
              "      <th>0</th>\n",
              "      <th>1</th>\n",
              "    </tr>\n",
              "  </thead>\n",
              "  <tbody>\n",
              "    <tr>\n",
              "      <th>401122</th>\n",
              "      <td>the prince fell in love with a woodcutters dau...</td>\n",
              "      <td>принц влюбился в дочь лесоруба</td>\n",
              "    </tr>\n",
              "    <tr>\n",
              "      <th>344036</th>\n",
              "      <td>oranges are graded by size and quality</td>\n",
              "      <td>апельсины сортируют по величине и по качеству</td>\n",
              "    </tr>\n",
              "    <tr>\n",
              "      <th>156451</th>\n",
              "      <td>all of my things are gone</td>\n",
              "      <td>все мои вещи пропали</td>\n",
              "    </tr>\n",
              "    <tr>\n",
              "      <th>216748</th>\n",
              "      <td>never keep food in your tent</td>\n",
              "      <td>никогда не храните пищу в палатке</td>\n",
              "    </tr>\n",
              "    <tr>\n",
              "      <th>174865</th>\n",
              "      <td>do you want some more cake</td>\n",
              "      <td>хочешь ещё торта</td>\n",
              "    </tr>\n",
              "    <tr>\n",
              "      <th>237193</th>\n",
              "      <td>tom needs to be there tonight</td>\n",
              "      <td>тому нужно там вечером быть</td>\n",
              "    </tr>\n",
              "    <tr>\n",
              "      <th>15723</th>\n",
              "      <td>i speak french</td>\n",
              "      <td>я владею французским языком</td>\n",
              "    </tr>\n",
              "    <tr>\n",
              "      <th>323101</th>\n",
              "      <td>i dont see tom as much as i used to</td>\n",
              "      <td>я тома не так часто вижу как раньше</td>\n",
              "    </tr>\n",
              "    <tr>\n",
              "      <th>284268</th>\n",
              "      <td>tom i dont want to talk to you</td>\n",
              "      <td>том я не хочу с тобой разговаривать</td>\n",
              "    </tr>\n",
              "    <tr>\n",
              "      <th>218801</th>\n",
              "      <td>this watch needs to be fixed</td>\n",
              "      <td>эти часы нужно починить</td>\n",
              "    </tr>\n",
              "    <tr>\n",
              "      <th>350738</th>\n",
              "      <td>im sorry could you repeat that please</td>\n",
              "      <td>извините вы не могли бы повторить</td>\n",
              "    </tr>\n",
              "    <tr>\n",
              "      <th>159174</th>\n",
              "      <td>how did you find my house</td>\n",
              "      <td>как вы нашли мой дом</td>\n",
              "    </tr>\n",
              "    <tr>\n",
              "      <th>12292</th>\n",
              "      <td>the girls won</td>\n",
              "      <td>девочки победили</td>\n",
              "    </tr>\n",
              "    <tr>\n",
              "      <th>203693</th>\n",
              "      <td>tom learned a lot from mary</td>\n",
              "      <td>том многому научился у мэри</td>\n",
              "    </tr>\n",
              "    <tr>\n",
              "      <th>172818</th>\n",
              "      <td>you have a way with women</td>\n",
              "      <td>ты знаешь как обращаться с женщинами</td>\n",
              "    </tr>\n",
              "  </tbody>\n",
              "</table>\n",
              "</div>"
            ],
            "text/plain": [
              "                                                        0                                              1\n",
              "401122  the prince fell in love with a woodcutters dau...                 принц влюбился в дочь лесоруба\n",
              "344036             oranges are graded by size and quality  апельсины сортируют по величине и по качеству\n",
              "156451                          all of my things are gone                           все мои вещи пропали\n",
              "216748                       never keep food in your tent              никогда не храните пищу в палатке\n",
              "174865                         do you want some more cake                               хочешь ещё торта\n",
              "237193                      tom needs to be there tonight                    тому нужно там вечером быть\n",
              "15723                                      i speak french                    я владею французским языком\n",
              "323101                i dont see tom as much as i used to            я тома не так часто вижу как раньше\n",
              "284268                     tom i dont want to talk to you            том я не хочу с тобой разговаривать\n",
              "218801                       this watch needs to be fixed                        эти часы нужно починить\n",
              "350738              im sorry could you repeat that please              извините вы не могли бы повторить\n",
              "159174                          how did you find my house                           как вы нашли мой дом\n",
              "12292                                       the girls won                               девочки победили\n",
              "203693                        tom learned a lot from mary                    том многому научился у мэри\n",
              "172818                          you have a way with women           ты знаешь как обращаться с женщинами"
            ]
          },
          "metadata": {
            "tags": []
          },
          "execution_count": 13
        }
      ]
    },
    {
      "cell_type": "markdown",
      "metadata": {
        "id": "bk3YLX8RK1Ja"
      },
      "source": [
        "Максимальную длину будем выбирать исходя из средней длины фразы (в символах, делить на слова при таких коротких фразах нет особого смысла)."
      ]
    },
    {
      "cell_type": "code",
      "metadata": {
        "colab": {
          "base_uri": "https://localhost:8080/"
        },
        "id": "aryYePv-KKZd",
        "outputId": "4ce0cd5f-b681-40fa-a756-07c1ef5d4254"
      },
      "source": [
        "np.mean([len(x) for x in df[0]] + [len(x) for x in df[1]])"
      ],
      "execution_count": null,
      "outputs": [
        {
          "output_type": "execute_result",
          "data": {
            "text/plain": [
              "28.36894760996111"
            ]
          },
          "metadata": {
            "tags": []
          },
          "execution_count": 14
        }
      ]
    },
    {
      "cell_type": "code",
      "metadata": {
        "id": "oWz7zaE7Wppa"
      },
      "source": [
        "# не забудем про символы начала и конца строки\n",
        "\n",
        "MAX_LEN = 28"
      ],
      "execution_count": null,
      "outputs": []
    },
    {
      "cell_type": "code",
      "metadata": {
        "id": "B5ZTqDaMYens"
      },
      "source": [
        "pairs = list(zip(df[0].tolist(), df[1].tolist()))"
      ],
      "execution_count": null,
      "outputs": []
    },
    {
      "cell_type": "code",
      "metadata": {
        "colab": {
          "base_uri": "https://localhost:8080/"
        },
        "id": "wM0ggvIMYx9g",
        "outputId": "94a6c9f7-ff4a-425e-fd39-ae3b4fb2da03"
      },
      "source": [
        "pairs[np.random.randint(414011)]"
      ],
      "execution_count": null,
      "outputs": [
        {
          "output_type": "execute_result",
          "data": {
            "text/plain": [
              "('im trying to rid myself of this bad habit',\n",
              " 'я пытаюсь избавиться от этой плохой привычки')"
            ]
          },
          "metadata": {
            "tags": []
          },
          "execution_count": 17
        }
      ]
    },
    {
      "cell_type": "code",
      "metadata": {
        "id": "fRieWeeWR77c"
      },
      "source": [
        "del df"
      ],
      "execution_count": null,
      "outputs": []
    },
    {
      "cell_type": "code",
      "metadata": {
        "id": "L4G_gxy4PUzh"
      },
      "source": [
        "english_lowercase = ['SOS', 'EOS', ' '] + list(ascii_lowercase)"
      ],
      "execution_count": null,
      "outputs": []
    },
    {
      "cell_type": "code",
      "metadata": {
        "colab": {
          "base_uri": "https://localhost:8080/"
        },
        "id": "QahwQoWTLNG-",
        "outputId": "67b70ee2-0421-4168-b542-0ee516606c87"
      },
      "source": [
        "print(english_lowercase)"
      ],
      "execution_count": null,
      "outputs": [
        {
          "output_type": "stream",
          "text": [
            "['SOS', 'EOS', ' ', 'a', 'b', 'c', 'd', 'e', 'f', 'g', 'h', 'i', 'j', 'k', 'l', 'm', 'n', 'o', 'p', 'q', 'r', 's', 't', 'u', 'v', 'w', 'x', 'y', 'z']\n"
          ],
          "name": "stdout"
        }
      ]
    },
    {
      "cell_type": "code",
      "metadata": {
        "id": "NGOCH3e4O_xX"
      },
      "source": [
        "# в предложениях на русском встречается латиница, например, в слове 'ipad'\n",
        "\n",
        "russian_lowercase = ['SOS', 'EOS', ' '] + list(\n",
        "    'абвгдеёжзийклмнопрстуфхцчшщьыъэюя') + list(ascii_lowercase)"
      ],
      "execution_count": null,
      "outputs": []
    },
    {
      "cell_type": "code",
      "metadata": {
        "colab": {
          "base_uri": "https://localhost:8080/"
        },
        "id": "99Tl_Zi2PIYr",
        "outputId": "cf39cbef-9c29-428f-bf66-0f99722ab5c8"
      },
      "source": [
        "print(russian_lowercase)"
      ],
      "execution_count": null,
      "outputs": [
        {
          "output_type": "stream",
          "text": [
            "['SOS', 'EOS', ' ', 'а', 'б', 'в', 'г', 'д', 'е', 'ё', 'ж', 'з', 'и', 'й', 'к', 'л', 'м', 'н', 'о', 'п', 'р', 'с', 'т', 'у', 'ф', 'х', 'ц', 'ч', 'ш', 'щ', 'ь', 'ы', 'ъ', 'э', 'ю', 'я', 'a', 'b', 'c', 'd', 'e', 'f', 'g', 'h', 'i', 'j', 'k', 'l', 'm', 'n', 'o', 'p', 'q', 'r', 's', 't', 'u', 'v', 'w', 'x', 'y', 'z']\n"
          ],
          "name": "stdout"
        }
      ]
    },
    {
      "cell_type": "code",
      "metadata": {
        "id": "a4o3EZZaT6ix"
      },
      "source": [
        "eng_to_idx = {elem: i for i, elem in enumerate(english_lowercase)}\n",
        "rus_to_idx = {elem: i for i, elem in enumerate(russian_lowercase)}"
      ],
      "execution_count": null,
      "outputs": []
    },
    {
      "cell_type": "code",
      "metadata": {
        "id": "GmZi6c-DV3ZQ"
      },
      "source": [
        "def tensors_from_pair(pair):\n",
        "    eng_idx = [0] + [eng_to_idx[letter] for letter in pair[0][:MAX_LEN]] + [1]\n",
        "    rus_idx = [0] + [rus_to_idx[letter] for letter in pair[1][:MAX_LEN]] + [1]\n",
        "    eng_tensor = torch.tensor(eng_idx, dtype=torch.long,\n",
        "                              device=device).view(-1, 1)\n",
        "    rus_tensor = torch.tensor(rus_idx, dtype=torch.long,\n",
        "                              device=device).view(-1, 1)\n",
        "    return (eng_tensor, rus_tensor)"
      ],
      "execution_count": null,
      "outputs": []
    },
    {
      "cell_type": "markdown",
      "metadata": {
        "id": "tATVfx8vaTEF"
      },
      "source": [
        "# Encoder\n",
        "Добавим параметры 'rnn_type' и 'rnn_n', чтобы не переписывать несколько раз один и тот же код."
      ]
    },
    {
      "cell_type": "code",
      "metadata": {
        "id": "RReCQKTRaCuc"
      },
      "source": [
        "class EncoderRNN(nn.Module):\n",
        "    def __init__(self, input_size, hidden_size, rnn_type='gru', rnn_n=1):\n",
        "        super(EncoderRNN, self).__init__()\n",
        "        self.hidden_size = hidden_size\n",
        "        self.rnn_n = rnn_n\n",
        "\n",
        "        self.embedding = nn.Embedding(input_size, hidden_size)\n",
        "        if rnn_type == 'gru':\n",
        "            self.rnn = nn.GRU(hidden_size, hidden_size)\n",
        "        elif rnn_type == 'lstm':\n",
        "            self.rnn = nn.LSTM(hidden_size, hidden_size)\n",
        "        if self.rnn_n == 2:\n",
        "            if rnn_type == 'gru':\n",
        "                self.rnn_2 = nn.GRU(hidden_size, hidden_size)\n",
        "            elif rnn_type == 'lstm':\n",
        "                self.rnn_2 = nn.LSTM(hidden_size, hidden_size)\n",
        "\n",
        "    def forward(self, input, hidden):\n",
        "        output = self.embedding(input).view(1, 1, -1)\n",
        "        output, hidden = self.rnn(output, hidden)\n",
        "        if self.rnn_n == 2:\n",
        "            output, hidden = self.rnn_2(output, hidden)\n",
        "        return output, hidden\n",
        "\n",
        "    def initHidden(self):\n",
        "        if isinstance(self.rnn, nn.LSTM):\n",
        "            return (torch.zeros(1, 1, self.hidden_size, device=device),\n",
        "                    torch.zeros(1, 1, self.hidden_size, device=device))\n",
        "        return torch.zeros(1, 1, self.hidden_size, device=device)"
      ],
      "execution_count": null,
      "outputs": []
    },
    {
      "cell_type": "markdown",
      "metadata": {
        "id": "p5l3Bs7jfE7C"
      },
      "source": [
        "# Decoder\n",
        "Аналогично добавляем параметры `rnn_type` и `rnn_n`."
      ]
    },
    {
      "cell_type": "code",
      "metadata": {
        "id": "CmYTnSX-e77j"
      },
      "source": [
        "class DecoderRNN(nn.Module):\n",
        "    def __init__(self, hidden_size, output_size, rnn_type='gru', rnn_n=1):\n",
        "        super(DecoderRNN, self).__init__()\n",
        "        self.hidden_size = hidden_size\n",
        "        self.rnn_n = rnn_n\n",
        "\n",
        "        self.embedding = nn.Embedding(output_size, hidden_size)\n",
        "        if rnn_type == 'gru':\n",
        "            self.rnn = nn.GRU(hidden_size, hidden_size)\n",
        "        elif rnn_type == 'lstm':\n",
        "            self.rnn = nn.LSTM(hidden_size, hidden_size)\n",
        "        if self.rnn_n == 2:\n",
        "            if rnn_type == 'gru':\n",
        "                self.rnn_2 = nn.GRU(hidden_size, hidden_size)\n",
        "            elif rnn_type == 'lstm':\n",
        "                self.rnn_2 = nn.LSTM(hidden_size, hidden_size)\n",
        "        self.out = nn.Linear(hidden_size, output_size)\n",
        "        self.softmax = nn.LogSoftmax(dim=1)\n",
        "\n",
        "    def forward(self, input, hidden):\n",
        "        output = self.embedding(input).view(1, 1, -1)\n",
        "        output = F.relu(output)\n",
        "        output, hidden = self.rnn(output, hidden)\n",
        "        if self.rnn_n == 2:\n",
        "            output, hidden = self.rnn_2(output, hidden)\n",
        "        output = self.softmax(self.out(output[0]))\n",
        "        return output, hidden\n",
        "\n",
        "    def initHidden(self):\n",
        "        if isinstance(self.rnn, nn.LSTM):\n",
        "            return (torch.zeros(1, 1, self.hidden_size, device=device),\n",
        "                    torch.zeros(1, 1, self.hidden_size, device=device))\n",
        "        return torch.zeros(1, 1, self.hidden_size, device=device)"
      ],
      "execution_count": null,
      "outputs": []
    },
    {
      "cell_type": "markdown",
      "metadata": {
        "id": "waSbZ1F7gXBz"
      },
      "source": [
        "# Функции для обучения и оценки качества"
      ]
    },
    {
      "cell_type": "code",
      "metadata": {
        "id": "QPnV9BYygEae"
      },
      "source": [
        "teacher_forcing_ratio = 0.5"
      ],
      "execution_count": null,
      "outputs": []
    },
    {
      "cell_type": "markdown",
      "metadata": {
        "id": "uR8gyjdzp-9n"
      },
      "source": [
        "Уберём кусок с `use_teaching_forcing` в один цикл вместо двух."
      ]
    },
    {
      "cell_type": "code",
      "metadata": {
        "id": "jGcb9p5vhfh2"
      },
      "source": [
        "def train(input_tensor, target_tensor, encoder, decoder,\n",
        "          encoder_optimizer, decoder_optimizer, criterion, max_len=MAX_LEN):\n",
        "    encoder_hidden = encoder.initHidden()\n",
        "\n",
        "    encoder_optimizer.zero_grad()\n",
        "    decoder_optimizer.zero_grad()\n",
        "\n",
        "    encoder_outputs = torch.zeros(max_len + 2, encoder.hidden_size,\n",
        "                                  device=device)\n",
        "    loss = 0\n",
        "\n",
        "    for i in range(input_tensor.size(0)):\n",
        "        encoder_output, encoder_hidden = encoder(input_tensor[i],\n",
        "                                                 encoder_hidden)\n",
        "        encoder_outputs[i] = encoder_output[0, 0]\n",
        "\n",
        "    decoder_input = torch.tensor([[0]], device=device)\n",
        "    decoder_hidden = encoder_hidden\n",
        "\n",
        "    if np.random.random() < teacher_forcing_ratio:\n",
        "        use_teacher_forcing = True\n",
        "    else:\n",
        "        use_teacher_forcing = False\n",
        "\n",
        "    for i in range(target_tensor.size(0)):\n",
        "        decoder_output, decoder_hidden = decoder(decoder_input, decoder_hidden)\n",
        "        loss += criterion(decoder_output, target_tensor[i])\n",
        "        if use_teacher_forcing:\n",
        "            # teacher forcing: feed the target as the next input\n",
        "            decoder_input = target_tensor[i]\n",
        "        else:\n",
        "            # use its own predictions as the next input\n",
        "            topv, topi = decoder_output.topk(1)\n",
        "            decoder_input = topi.squeeze().detach()\n",
        "            if decoder_input.item() == 1:\n",
        "                break\n",
        "\n",
        "    loss.backward()\n",
        "\n",
        "    encoder_optimizer.step()\n",
        "    decoder_optimizer.step()\n",
        "\n",
        "    return loss.item() / target_tensor.size(0)"
      ],
      "execution_count": null,
      "outputs": []
    },
    {
      "cell_type": "markdown",
      "metadata": {
        "id": "SfH_nTurs0jB"
      },
      "source": [
        "Я убрала все мелкие вспомогательные функции (имхо, ненужное усложнение) в функцию `train_epochs`."
      ]
    },
    {
      "cell_type": "code",
      "metadata": {
        "id": "0ZouPMoqqers"
      },
      "source": [
        "def train_epochs(encoder, decoder, n_epochs=75000, learning_rate=0.01):\n",
        "    start = datetime.now()\n",
        "    plot_losses = []\n",
        "    print_loss = 0  # reset every 5000 epochs\n",
        "    plot_loss = 0  # reset every 100 epochs\n",
        "\n",
        "    encoder_optimizer = optim.SGD(encoder.parameters(), lr=learning_rate)\n",
        "    decoder_optimizer = optim.SGD(decoder.parameters(), lr=learning_rate)\n",
        "    training_pairs = [tensors_from_pair(pairs[np.random.randint(414011)])\n",
        "                      for epoch in range(n_epochs)]\n",
        "    criterion = nn.NLLLoss()\n",
        "\n",
        "    for epoch in tqdm(range(n_epochs)):\n",
        "        training_pair = training_pairs[epoch]\n",
        "        input_tensor = training_pair[0]\n",
        "        target_tensor = training_pair[1]\n",
        "\n",
        "        loss = train(input_tensor, target_tensor, encoder, decoder,\n",
        "                     encoder_optimizer, decoder_optimizer, criterion)\n",
        "        print_loss += loss\n",
        "        plot_loss += loss\n",
        "\n",
        "        if (epoch + 1) % 5000 == 0:\n",
        "            print_loss /= 5000\n",
        "            delta = datetime.now() - start\n",
        "            stats = f'''\n",
        "            Epoch {epoch + 1} ({(epoch + 1) * 100 / n_epochs:.1f}%)\n",
        "            Time: {delta.seconds // 60}m {delta.seconds % 60}s\n",
        "            Loss: {print_loss:.4f}\n",
        "            '''\n",
        "            print(stats)\n",
        "            print_loss = 0\n",
        "\n",
        "        if (epoch + 1) % 100 == 0:\n",
        "            plot_loss /= 100\n",
        "            plot_losses.append(plot_loss)\n",
        "            plot_loss = 0\n",
        "\n",
        "    plt.figure(figsize=(14, 12))\n",
        "    fig, ax = plt.subplots()\n",
        "    loc = ticker.MultipleLocator(base=0.2)\n",
        "    ax.yaxis.set_major_locator(loc)\n",
        "    plt.plot(plot_losses)\n",
        "    plt.show()"
      ],
      "execution_count": null,
      "outputs": []
    },
    {
      "cell_type": "code",
      "metadata": {
        "id": "i06DgJmHyGis"
      },
      "source": [
        "def evaluate(encoder, decoder, sent, max_len=MAX_LEN):\n",
        "    with torch.no_grad():\n",
        "        idx = [0] + [eng_to_idx[letter] for letter in sent[:max_len]] + [1]\n",
        "        input_tensor = torch.tensor(idx, dtype=torch.long,\n",
        "                                    device=device).view(-1, 1)\n",
        "        encoder_hidden = encoder.initHidden()\n",
        "        encoder_outputs = torch.zeros(max_len + 2, encoder.hidden_size,\n",
        "                                      device=device)\n",
        "\n",
        "        for i in range(input_tensor.size()[0]):\n",
        "            encoder_output, encoder_hidden = encoder(input_tensor[i],\n",
        "                                                     encoder_hidden)\n",
        "            encoder_outputs[i] += encoder_output[0, 0]\n",
        "\n",
        "        decoder_input = torch.tensor([[0]], device=device)\n",
        "        decoder_hidden = encoder_hidden\n",
        "        decoded_letters = ''\n",
        "\n",
        "        for i in range(max_len):\n",
        "            decoder_output, decoder_hidden = decoder(decoder_input,\n",
        "                                                     decoder_hidden)\n",
        "            topv, topi = decoder_output.data.topk(1)\n",
        "            if topi.item() == 1:\n",
        "                break\n",
        "            else:\n",
        "                decoded_letters += russian_lowercase[topi.item()]\n",
        "            decoder_input = topi.squeeze().detach()\n",
        "\n",
        "        return decoded_letters"
      ],
      "execution_count": null,
      "outputs": []
    },
    {
      "cell_type": "code",
      "metadata": {
        "id": "2BLRdItJy8Th"
      },
      "source": [
        "def evaluate_random(encoder, decoder, n=10):\n",
        "    for i in range(n):\n",
        "        pair = pairs[np.random.randint(414011)]\n",
        "        res = f'''\n",
        "        Eng:  {pair[0]}\n",
        "        Rus:  {pair[1]}\n",
        "        Pred: {evaluate(encoder, decoder, pair[0])[3:]}\n",
        "        '''\n",
        "        # SOS в начале нам не нужен\n",
        "        print(res)"
      ],
      "execution_count": null,
      "outputs": []
    },
    {
      "cell_type": "markdown",
      "metadata": {
        "id": "Q5NS7ZvB1TAI"
      },
      "source": [
        "# Обучение\n",
        "## GRU с одним рекуррентным слоем"
      ]
    },
    {
      "cell_type": "code",
      "metadata": {
        "id": "xnEMNpBq552q"
      },
      "source": [
        "hidden_size = 256"
      ],
      "execution_count": null,
      "outputs": []
    },
    {
      "cell_type": "code",
      "metadata": {
        "id": "XyP1rosM1QHK"
      },
      "source": [
        "encoder = EncoderRNN(len(english_lowercase), hidden_size).to(device)\n",
        "decoder = DecoderRNN(hidden_size, len(russian_lowercase)).to(device)"
      ],
      "execution_count": null,
      "outputs": []
    },
    {
      "cell_type": "code",
      "metadata": {
        "colab": {
          "base_uri": "https://localhost:8080/",
          "height": 1000,
          "referenced_widgets": [
            "1d757df3fade40f6af32e3975ba2586e",
            "06adeace9c474e6eaed9f6481f40e101",
            "bb29cd737e674a09b20c609ba25b64f4",
            "60f32a3154c34228842d34e0faf0e3e1",
            "5c986890dcf6466b98809ad39e67cb95",
            "6bf4dca8962f423192390168205480fa",
            "a21e2890bc1d4fc7a2c9330b525d411f",
            "13d4090f201d41c4bc8b4165f0e5e9f1"
          ]
        },
        "id": "PNyX87bT51Zh",
        "outputId": "3df08345-d451-4ba4-bd3b-eff003955f68"
      },
      "source": [
        "train_epochs(encoder, decoder)"
      ],
      "execution_count": null,
      "outputs": [
        {
          "output_type": "display_data",
          "data": {
            "application/vnd.jupyter.widget-view+json": {
              "model_id": "1d757df3fade40f6af32e3975ba2586e",
              "version_minor": 0,
              "version_major": 2
            },
            "text/plain": [
              "HBox(children=(FloatProgress(value=0.0, max=75000.0), HTML(value='')))"
            ]
          },
          "metadata": {
            "tags": []
          }
        },
        {
          "output_type": "stream",
          "text": [
            "\n",
            "            Epoch 5000 (6.7%)\n",
            "            Time: 3m 48s\n",
            "            Loss: 2.5566\n",
            "            \n",
            "\n",
            "            Epoch 10000 (13.3%)\n",
            "            Time: 7m 31s\n",
            "            Loss: 2.3997\n",
            "            \n",
            "\n",
            "            Epoch 15000 (20.0%)\n",
            "            Time: 11m 12s\n",
            "            Loss: 2.3262\n",
            "            \n",
            "\n",
            "            Epoch 20000 (26.7%)\n",
            "            Time: 14m 52s\n",
            "            Loss: 2.2594\n",
            "            \n",
            "\n",
            "            Epoch 25000 (33.3%)\n",
            "            Time: 18m 32s\n",
            "            Loss: 2.2369\n",
            "            \n",
            "\n",
            "            Epoch 30000 (40.0%)\n",
            "            Time: 22m 15s\n",
            "            Loss: 2.2119\n",
            "            \n",
            "\n",
            "            Epoch 35000 (46.7%)\n",
            "            Time: 25m 56s\n",
            "            Loss: 2.1656\n",
            "            \n",
            "\n",
            "            Epoch 40000 (53.3%)\n",
            "            Time: 29m 38s\n",
            "            Loss: 2.1301\n",
            "            \n",
            "\n",
            "            Epoch 45000 (60.0%)\n",
            "            Time: 33m 18s\n",
            "            Loss: 2.1213\n",
            "            \n",
            "\n",
            "            Epoch 50000 (66.7%)\n",
            "            Time: 36m 58s\n",
            "            Loss: 2.0822\n",
            "            \n",
            "\n",
            "            Epoch 55000 (73.3%)\n",
            "            Time: 40m 39s\n",
            "            Loss: 2.0808\n",
            "            \n",
            "\n",
            "            Epoch 60000 (80.0%)\n",
            "            Time: 44m 23s\n",
            "            Loss: 2.0636\n",
            "            \n",
            "\n",
            "            Epoch 65000 (86.7%)\n",
            "            Time: 48m 4s\n",
            "            Loss: 2.0473\n",
            "            \n",
            "\n",
            "            Epoch 70000 (93.3%)\n",
            "            Time: 51m 44s\n",
            "            Loss: 2.0288\n",
            "            \n",
            "\n",
            "            Epoch 75000 (100.0%)\n",
            "            Time: 55m 26s\n",
            "            Loss: 2.0378\n",
            "            \n",
            "\n"
          ],
          "name": "stdout"
        }
      ]
    },
    {
      "cell_type": "markdown",
      "metadata": {
        "id": "qU-ARFyxjTzZ"
      },
      "source": [
        "Финальный loss – 2.0378. Посмотрим на генерацию предложений."
      ]
    },
    {
      "cell_type": "code",
      "metadata": {
        "colab": {
          "base_uri": "https://localhost:8080/"
        },
        "id": "Sq8hl0QajHnk",
        "outputId": "11cbe2c7-8e2c-4d78-b7d2-2d55113e353b"
      },
      "source": [
        "evaluate_random(encoder, decoder)"
      ],
      "execution_count": null,
      "outputs": [
        {
          "output_type": "stream",
          "text": [
            "\n",
            "        Eng:  drink some tea\n",
            "        Rus:  выпей чаю\n",
            "        Pred: перед о    о\n",
            "        \n",
            "\n",
            "        Eng:  wherever you go ill follow\n",
            "        Rus:  куда бы ты ни пошёл я пойду следом\n",
            "        Pred: где ты вышел получает\n",
            "        \n",
            "\n",
            "        Eng:  id like to play tennis\n",
            "        Rus:  я хотел бы играть в теннис\n",
            "        Pred: я хотел бы от то         \n",
            "        \n",
            "\n",
            "        Eng:  this book was printed in england\n",
            "        Rus:  эту книгу напечатали в англии\n",
            "        Pred: это был                 \n",
            "        \n",
            "\n",
            "        Eng:  tom can answer\n",
            "        Rus:  том может ответить\n",
            "        Pred: том может по тто от \n",
            "        \n",
            "\n",
            "        Eng:  this dictionary has about entries\n",
            "        Rus:  в этом словаре примерно статей\n",
            "        Pred: это оте                  \n",
            "        \n",
            "\n",
            "        Eng:  we cant trust tom\n",
            "        Rus:  мы не можем доверять тому\n",
            "        Pred: мы не можем по тоото тот \n",
            "        \n",
            "\n",
            "        Eng:  ill call you when im ready\n",
            "        Rus:  я позвоню вам когда буду готова\n",
            "        Pred: я могу тебе  т          \n",
            "        \n",
            "\n",
            "        Eng:  i canceled the order\n",
            "        Rus:  я отменила заказ\n",
            "        Pred: мне нужно по тто  т \n",
            "        \n",
            "\n",
            "        Eng:  tom pretended not to look\n",
            "        Rus:  том делал вид что не смотрит\n",
            "        Pred: том не пон              \n",
            "        \n"
          ],
          "name": "stdout"
        }
      ]
    },
    {
      "cell_type": "markdown",
      "metadata": {
        "id": "BxaF08RqkWb4"
      },
      "source": [
        "Ну, предсказания даже на что-то похожи!\n",
        "## GRU с двумя рекуррентными слоями"
      ]
    },
    {
      "cell_type": "code",
      "metadata": {
        "id": "AYHNKcrwjkTb"
      },
      "source": [
        "encoder = EncoderRNN(len(english_lowercase), hidden_size, rnn_n=2).to(device)\n",
        "decoder = DecoderRNN(hidden_size, len(russian_lowercase), rnn_n=2).to(device)"
      ],
      "execution_count": null,
      "outputs": []
    },
    {
      "cell_type": "code",
      "metadata": {
        "colab": {
          "base_uri": "https://localhost:8080/",
          "height": 1000,
          "referenced_widgets": [
            "705ef34a6fdf4eebb20a5077c860c555",
            "aae48a6350684a23ae156356c2ea67ba",
            "70f1051aa868424098b7224a5bbf3298",
            "47816e34afe44eaea92017a04743cdb6",
            "c1c31e4fdee04f109410bc9d72fad384",
            "831af5f8e2574484afbd0d10aedf299d",
            "bf42eec548774910962e5d592e4fab6b",
            "a869988f77ab47b4ac2c7e72e56310f2"
          ]
        },
        "id": "Y7ZEGXEYk-Bm",
        "outputId": "ee8049ca-38be-4671-c5f4-f358c01a68d9"
      },
      "source": [
        "train_epochs(encoder, decoder)"
      ],
      "execution_count": null,
      "outputs": [
        {
          "output_type": "display_data",
          "data": {
            "application/vnd.jupyter.widget-view+json": {
              "model_id": "705ef34a6fdf4eebb20a5077c860c555",
              "version_minor": 0,
              "version_major": 2
            },
            "text/plain": [
              "HBox(children=(FloatProgress(value=0.0, max=75000.0), HTML(value='')))"
            ]
          },
          "metadata": {
            "tags": []
          }
        },
        {
          "output_type": "stream",
          "text": [
            "\n",
            "            Epoch 5000 (6.7%)\n",
            "            Time: 5m 57s\n",
            "            Loss: 2.5335\n",
            "            \n",
            "\n",
            "            Epoch 10000 (13.3%)\n",
            "            Time: 11m 53s\n",
            "            Loss: 2.3725\n",
            "            \n",
            "\n",
            "            Epoch 15000 (20.0%)\n",
            "            Time: 17m 51s\n",
            "            Loss: 2.3109\n",
            "            \n",
            "\n",
            "            Epoch 20000 (26.7%)\n",
            "            Time: 23m 45s\n",
            "            Loss: 2.2585\n",
            "            \n",
            "\n",
            "            Epoch 25000 (33.3%)\n",
            "            Time: 29m 42s\n",
            "            Loss: 2.2422\n",
            "            \n",
            "\n",
            "            Epoch 30000 (40.0%)\n",
            "            Time: 35m 39s\n",
            "            Loss: 2.2372\n",
            "            \n",
            "\n",
            "            Epoch 35000 (46.7%)\n",
            "            Time: 41m 38s\n",
            "            Loss: 2.2261\n",
            "            \n",
            "\n",
            "            Epoch 40000 (53.3%)\n",
            "            Time: 47m 34s\n",
            "            Loss: 2.2062\n",
            "            \n",
            "\n",
            "            Epoch 45000 (60.0%)\n",
            "            Time: 53m 33s\n",
            "            Loss: 2.2031\n",
            "            \n",
            "\n",
            "            Epoch 50000 (66.7%)\n",
            "            Time: 59m 33s\n",
            "            Loss: 2.1752\n",
            "            \n",
            "\n",
            "            Epoch 55000 (73.3%)\n",
            "            Time: 65m 28s\n",
            "            Loss: 2.1801\n",
            "            \n",
            "\n",
            "            Epoch 60000 (80.0%)\n",
            "            Time: 71m 24s\n",
            "            Loss: 2.1759\n",
            "            \n",
            "\n",
            "            Epoch 65000 (86.7%)\n",
            "            Time: 77m 24s\n",
            "            Loss: 2.1780\n",
            "            \n",
            "\n",
            "            Epoch 70000 (93.3%)\n",
            "            Time: 83m 26s\n",
            "            Loss: 2.1679\n",
            "            \n",
            "\n",
            "            Epoch 75000 (100.0%)\n",
            "            Time: 89m 27s\n",
            "            Loss: 2.1504\n",
            "            \n",
            "\n"
          ],
          "name": "stdout"
        }
      ]
    },
    {
      "cell_type": "markdown",
      "metadata": {
        "id": "eE0RV5Ff6vvq"
      },
      "source": [
        "От добавления ещё одного рекуррентного слоя лосс не только не улучшился, а даже наоборот (финальный лосс – 2.1504). :( Посмотрим на сгенерированные предложения."
      ]
    },
    {
      "cell_type": "code",
      "metadata": {
        "colab": {
          "base_uri": "https://localhost:8080/"
        },
        "id": "fAMoZQqPlEDX",
        "outputId": "fd3de16b-b914-43e0-9f37-b15479590526"
      },
      "source": [
        "evaluate_random(encoder, decoder)"
      ],
      "execution_count": null,
      "outputs": [
        {
          "output_type": "stream",
          "text": [
            "\n",
            "        Eng:  a stranger spoke to me\n",
            "        Rus:  со мной заговорил незнакомец\n",
            "        Pred: кото то               \n",
            "        \n",
            "\n",
            "        Eng:  theyre both dead\n",
            "        Rus:  они оба умерли\n",
            "        Pred: они отере               \n",
            "        \n",
            "\n",
            "        Eng:  i cant see who tom is talking to\n",
            "        Rus:  я не вижу с кем говорит том\n",
            "        Pred: я не                       \n",
            "        \n",
            "\n",
            "        Eng:  were you scared\n",
            "        Rus:  вы испугались\n",
            "        Pred: ты не            \n",
            "        \n",
            "\n",
            "        Eng:  what makes us special\n",
            "        Rus:  что делает нас особенными\n",
            "        Pred: ты  ео                  \n",
            "        \n",
            "\n",
            "        Eng:  he was beside himself with joy\n",
            "        Rus:  он был вне себя от радости\n",
            "        Pred: они отец н                 \n",
            "        \n",
            "\n",
            "        Eng:  this is your big chance\n",
            "        Rus:  это ваш шанс каких больше не будет\n",
            "        Pred: это нашине с      \n",
            "        \n",
            "\n",
            "        Eng:  did you notify tom\n",
            "        Rus:  ты уведомил тома\n",
            "        Pred: ты  ое            \n",
            "        \n",
            "\n",
            "        Eng:  are you alive in there\n",
            "        Rus:  ты там жив\n",
            "        Pred: ты не               \n",
            "        \n",
            "\n",
            "        Eng:  have you found what you want\n",
            "        Rus:  ты нашёл то что хочешь\n",
            "        Pred: ты  ео                    \n",
            "        \n"
          ],
          "name": "stdout"
        }
      ]
    },
    {
      "cell_type": "markdown",
      "metadata": {
        "id": "p5PT6toz7Gzc"
      },
      "source": [
        "Сгенерированные предложения тоже хуже. Посмотрим, что даст LSTM с одним рекуррентным слоем.\n",
        "## LSTM c одним рекуррентным слоем"
      ]
    },
    {
      "cell_type": "code",
      "metadata": {
        "id": "iiLpGPXn7xfN"
      },
      "source": [
        "encoder = EncoderRNN(\n",
        "    len(english_lowercase), hidden_size, rnn_type='lstm').to(device)\n",
        "decoder = DecoderRNN(\n",
        "    hidden_size, len(russian_lowercase), rnn_type='lstm').to(device)"
      ],
      "execution_count": null,
      "outputs": []
    },
    {
      "cell_type": "code",
      "metadata": {
        "colab": {
          "base_uri": "https://localhost:8080/",
          "height": 1000,
          "referenced_widgets": [
            "108eb10c56f54eb0a061925aebc91618",
            "b9031303565f43a6b8eebc00556c680c",
            "09b26e758ce945a3a6161bdcfdb5e3fe",
            "5f6bf150412d4a7ca1319336979fd31f",
            "d53c0fed4993460996f08656226523e8",
            "bebc0ba26de846b4b8b8c63a2160c066",
            "213d9259fbb7478dbd4f182ec9e5e8e9",
            "144f191aedc54d35841e71ea736beb2d"
          ]
        },
        "id": "_hAb4_iv7xfP",
        "outputId": "d5facbef-3dc2-4076-c7e6-e7305f67a64d"
      },
      "source": [
        "train_epochs(encoder, decoder)"
      ],
      "execution_count": null,
      "outputs": [
        {
          "output_type": "display_data",
          "data": {
            "application/vnd.jupyter.widget-view+json": {
              "model_id": "108eb10c56f54eb0a061925aebc91618",
              "version_minor": 0,
              "version_major": 2
            },
            "text/plain": [
              "HBox(children=(FloatProgress(value=0.0, max=75000.0), HTML(value='')))"
            ]
          },
          "metadata": {
            "tags": []
          }
        },
        {
          "output_type": "stream",
          "text": [
            "\n",
            "            Epoch 5000 (6.7%)\n",
            "            Time: 4m 2s\n",
            "            Loss: 2.5078\n",
            "            \n",
            "\n",
            "            Epoch 10000 (13.3%)\n",
            "            Time: 8m 1s\n",
            "            Loss: 2.3721\n",
            "            \n",
            "\n",
            "            Epoch 15000 (20.0%)\n",
            "            Time: 11m 58s\n",
            "            Loss: 2.3341\n",
            "            \n",
            "\n",
            "            Epoch 20000 (26.7%)\n",
            "            Time: 15m 57s\n",
            "            Loss: 2.3031\n",
            "            \n",
            "\n",
            "            Epoch 25000 (33.3%)\n",
            "            Time: 19m 57s\n",
            "            Loss: 2.2486\n",
            "            \n",
            "\n",
            "            Epoch 30000 (40.0%)\n",
            "            Time: 23m 55s\n",
            "            Loss: 2.2347\n",
            "            \n",
            "\n",
            "            Epoch 35000 (46.7%)\n",
            "            Time: 27m 52s\n",
            "            Loss: 2.1913\n",
            "            \n",
            "\n",
            "            Epoch 40000 (53.3%)\n",
            "            Time: 31m 49s\n",
            "            Loss: 2.1657\n",
            "            \n",
            "\n",
            "            Epoch 45000 (60.0%)\n",
            "            Time: 35m 45s\n",
            "            Loss: 2.1597\n",
            "            \n",
            "\n",
            "            Epoch 50000 (66.7%)\n",
            "            Time: 39m 48s\n",
            "            Loss: 2.1322\n",
            "            \n",
            "\n",
            "            Epoch 55000 (73.3%)\n",
            "            Time: 43m 46s\n",
            "            Loss: 2.1335\n",
            "            \n",
            "\n",
            "            Epoch 60000 (80.0%)\n",
            "            Time: 47m 46s\n",
            "            Loss: 2.0961\n",
            "            \n",
            "\n",
            "            Epoch 65000 (86.7%)\n",
            "            Time: 51m 44s\n",
            "            Loss: 2.0855\n",
            "            \n",
            "\n",
            "            Epoch 70000 (93.3%)\n",
            "            Time: 55m 41s\n",
            "            Loss: 2.0747\n",
            "            \n",
            "\n",
            "            Epoch 75000 (100.0%)\n",
            "            Time: 59m 41s\n",
            "            Loss: 2.0566\n",
            "            \n",
            "\n"
          ],
          "name": "stdout"
        }
      ]
    },
    {
      "cell_type": "markdown",
      "metadata": {
        "id": "eFUbNWhlStYg"
      },
      "source": [
        "Финальный лосс чуть выше, чем у GRU (2.0566). Посмотрим на генерацию предложений."
      ]
    },
    {
      "cell_type": "code",
      "metadata": {
        "colab": {
          "base_uri": "https://localhost:8080/"
        },
        "id": "UJHtqpOT8CXY",
        "outputId": "aaaf46ca-3e82-4e64-bf20-d96e03caa9ba"
      },
      "source": [
        "evaluate_random(encoder, decoder)"
      ],
      "execution_count": null,
      "outputs": [
        {
          "output_type": "stream",
          "text": [
            "\n",
            "        Eng:  i dont know what tom was doing\n",
            "        Rus:  я не знаю чем том занимался\n",
            "        Pred: я не знаю что тто          \n",
            "        \n",
            "\n",
            "        Eng:  there are millions of stars in the universe\n",
            "        Rus:  во вселенной миллионы звезд\n",
            "        Pred: давайте на                 \n",
            "        \n",
            "\n",
            "        Eng:  can you break a five dollar bill\n",
            "        Rus:  ты пять долларов не разменяешь\n",
            "        Pred: мы не                      \n",
            "        \n",
            "\n",
            "        Eng:  it happened three years later that is in \n",
            "        Rus:  это произошло три года спустя то есть в году\n",
            "        Pred: это были последним со      \n",
            "        \n",
            "\n",
            "        Eng:  please speak a little slower\n",
            "        Rus:  говори немного помедленнее пожалуйста\n",
            "        Pred: послен                     \n",
            "        \n",
            "\n",
            "        Eng:  tom is in the warehouse\n",
            "        Rus:  том на складе\n",
            "        Pred: том пол                \n",
            "        \n",
            "\n",
            "        Eng:  we deserve better\n",
            "        Rus:  мы заслуживаем лучшего\n",
            "        Pred: мы не            \n",
            "        \n",
            "\n",
            "        Eng:  its not far from the hotel\n",
            "        Rus:  это недалеко от отеля\n",
            "        Pred: это не                    \n",
            "        \n",
            "\n",
            "        Eng:  i hear everything youre saying\n",
            "        Rus:  я слышу всё что вы говорите\n",
            "        Pred: я поедел                   \n",
            "        \n",
            "\n",
            "        Eng:  i dont want to get married\n",
            "        Rus:  я не хочу жениться\n",
            "        Pred: я не хочу чтобы ты        \n",
            "        \n"
          ],
          "name": "stdout"
        }
      ]
    },
    {
      "cell_type": "markdown",
      "metadata": {
        "id": "FEp1pIiYTA7g"
      },
      "source": [
        "Примерно на том же уровне, что и у GRU."
      ]
    }
  ]
}